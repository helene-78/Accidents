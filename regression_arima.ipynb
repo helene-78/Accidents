{
  "nbformat": 4,
  "nbformat_minor": 0,
  "metadata": {
    "colab": {
      "name": "regression_arima.ipynb",
      "provenance": [],
      "collapsed_sections": [],
      "authorship_tag": "ABX9TyNryeLS6c4o2/+uFlpJsKWo",
      "include_colab_link": true
    },
    "kernelspec": {
      "name": "python3",
      "display_name": "Python 3"
    },
    "language_info": {
      "name": "python"
    }
  },
  "cells": [
    {
      "cell_type": "markdown",
      "metadata": {
        "id": "view-in-github",
        "colab_type": "text"
      },
      "source": [
        "<a href=\"https://colab.research.google.com/github/helene-78/Accidents/blob/main/regression_arima.ipynb\" target=\"_parent\"><img src=\"https://colab.research.google.com/assets/colab-badge.svg\" alt=\"Open In Colab\"/></a>"
      ]
    },
    {
      "cell_type": "code",
      "source": [
        "import pandas as pd\n",
        "import numpy as np\n",
        "from imblearn.over_sampling import SMOTE # Pour avoir 50 % de 0 et 50 % de 1 dans la colonne presence_accident\n",
        "from sklearn.linear_model import LogisticRegression # Regression logistique\n",
        "from sklearn import metrics\n",
        "from sklearn.model_selection import RepeatedKFold #KFold répété, pour \n",
        "from sklearn.model_selection import train_test_split\n",
        "import seaborn as sns"
      ],
      "metadata": {
        "id": "8-ZUrywWMjZH"
      },
      "execution_count": 48,
      "outputs": []
    },
    {
      "cell_type": "markdown",
      "source": [
        "**Importation du dataframe df_utiles traité dans prep_df_utiles.ipynb**"
      ],
      "metadata": {
        "id": "e5phrpM9SL0O"
      }
    },
    {
      "cell_type": "code",
      "source": [
        "from google.colab import files\n",
        "uploaded = files.upload()"
      ],
      "metadata": {
        "colab": {
          "resources": {
            "http://localhost:8080/nbextensions/google.colab/files.js": {
              "data": "Ly8gQ29weXJpZ2h0IDIwMTcgR29vZ2xlIExMQwovLwovLyBMaWNlbnNlZCB1bmRlciB0aGUgQXBhY2hlIExpY2Vuc2UsIFZlcnNpb24gMi4wICh0aGUgIkxpY2Vuc2UiKTsKLy8geW91IG1heSBub3QgdXNlIHRoaXMgZmlsZSBleGNlcHQgaW4gY29tcGxpYW5jZSB3aXRoIHRoZSBMaWNlbnNlLgovLyBZb3UgbWF5IG9idGFpbiBhIGNvcHkgb2YgdGhlIExpY2Vuc2UgYXQKLy8KLy8gICAgICBodHRwOi8vd3d3LmFwYWNoZS5vcmcvbGljZW5zZXMvTElDRU5TRS0yLjAKLy8KLy8gVW5sZXNzIHJlcXVpcmVkIGJ5IGFwcGxpY2FibGUgbGF3IG9yIGFncmVlZCB0byBpbiB3cml0aW5nLCBzb2Z0d2FyZQovLyBkaXN0cmlidXRlZCB1bmRlciB0aGUgTGljZW5zZSBpcyBkaXN0cmlidXRlZCBvbiBhbiAiQVMgSVMiIEJBU0lTLAovLyBXSVRIT1VUIFdBUlJBTlRJRVMgT1IgQ09ORElUSU9OUyBPRiBBTlkgS0lORCwgZWl0aGVyIGV4cHJlc3Mgb3IgaW1wbGllZC4KLy8gU2VlIHRoZSBMaWNlbnNlIGZvciB0aGUgc3BlY2lmaWMgbGFuZ3VhZ2UgZ292ZXJuaW5nIHBlcm1pc3Npb25zIGFuZAovLyBsaW1pdGF0aW9ucyB1bmRlciB0aGUgTGljZW5zZS4KCi8qKgogKiBAZmlsZW92ZXJ2aWV3IEhlbHBlcnMgZm9yIGdvb2dsZS5jb2xhYiBQeXRob24gbW9kdWxlLgogKi8KKGZ1bmN0aW9uKHNjb3BlKSB7CmZ1bmN0aW9uIHNwYW4odGV4dCwgc3R5bGVBdHRyaWJ1dGVzID0ge30pIHsKICBjb25zdCBlbGVtZW50ID0gZG9jdW1lbnQuY3JlYXRlRWxlbWVudCgnc3BhbicpOwogIGVsZW1lbnQudGV4dENvbnRlbnQgPSB0ZXh0OwogIGZvciAoY29uc3Qga2V5IG9mIE9iamVjdC5rZXlzKHN0eWxlQXR0cmlidXRlcykpIHsKICAgIGVsZW1lbnQuc3R5bGVba2V5XSA9IHN0eWxlQXR0cmlidXRlc1trZXldOwogIH0KICByZXR1cm4gZWxlbWVudDsKfQoKLy8gTWF4IG51bWJlciBvZiBieXRlcyB3aGljaCB3aWxsIGJlIHVwbG9hZGVkIGF0IGEgdGltZS4KY29uc3QgTUFYX1BBWUxPQURfU0laRSA9IDEwMCAqIDEwMjQ7CgpmdW5jdGlvbiBfdXBsb2FkRmlsZXMoaW5wdXRJZCwgb3V0cHV0SWQpIHsKICBjb25zdCBzdGVwcyA9IHVwbG9hZEZpbGVzU3RlcChpbnB1dElkLCBvdXRwdXRJZCk7CiAgY29uc3Qgb3V0cHV0RWxlbWVudCA9IGRvY3VtZW50LmdldEVsZW1lbnRCeUlkKG91dHB1dElkKTsKICAvLyBDYWNoZSBzdGVwcyBvbiB0aGUgb3V0cHV0RWxlbWVudCB0byBtYWtlIGl0IGF2YWlsYWJsZSBmb3IgdGhlIG5leHQgY2FsbAogIC8vIHRvIHVwbG9hZEZpbGVzQ29udGludWUgZnJvbSBQeXRob24uCiAgb3V0cHV0RWxlbWVudC5zdGVwcyA9IHN0ZXBzOwoKICByZXR1cm4gX3VwbG9hZEZpbGVzQ29udGludWUob3V0cHV0SWQpOwp9CgovLyBUaGlzIGlzIHJvdWdobHkgYW4gYXN5bmMgZ2VuZXJhdG9yIChub3Qgc3VwcG9ydGVkIGluIHRoZSBicm93c2VyIHlldCksCi8vIHdoZXJlIHRoZXJlIGFyZSBtdWx0aXBsZSBhc3luY2hyb25vdXMgc3RlcHMgYW5kIHRoZSBQeXRob24gc2lkZSBpcyBnb2luZwovLyB0byBwb2xsIGZvciBjb21wbGV0aW9uIG9mIGVhY2ggc3RlcC4KLy8gVGhpcyB1c2VzIGEgUHJvbWlzZSB0byBibG9jayB0aGUgcHl0aG9uIHNpZGUgb24gY29tcGxldGlvbiBvZiBlYWNoIHN0ZXAsCi8vIHRoZW4gcGFzc2VzIHRoZSByZXN1bHQgb2YgdGhlIHByZXZpb3VzIHN0ZXAgYXMgdGhlIGlucHV0IHRvIHRoZSBuZXh0IHN0ZXAuCmZ1bmN0aW9uIF91cGxvYWRGaWxlc0NvbnRpbnVlKG91dHB1dElkKSB7CiAgY29uc3Qgb3V0cHV0RWxlbWVudCA9IGRvY3VtZW50LmdldEVsZW1lbnRCeUlkKG91dHB1dElkKTsKICBjb25zdCBzdGVwcyA9IG91dHB1dEVsZW1lbnQuc3RlcHM7CgogIGNvbnN0IG5leHQgPSBzdGVwcy5uZXh0KG91dHB1dEVsZW1lbnQubGFzdFByb21pc2VWYWx1ZSk7CiAgcmV0dXJuIFByb21pc2UucmVzb2x2ZShuZXh0LnZhbHVlLnByb21pc2UpLnRoZW4oKHZhbHVlKSA9PiB7CiAgICAvLyBDYWNoZSB0aGUgbGFzdCBwcm9taXNlIHZhbHVlIHRvIG1ha2UgaXQgYXZhaWxhYmxlIHRvIHRoZSBuZXh0CiAgICAvLyBzdGVwIG9mIHRoZSBnZW5lcmF0b3IuCiAgICBvdXRwdXRFbGVtZW50Lmxhc3RQcm9taXNlVmFsdWUgPSB2YWx1ZTsKICAgIHJldHVybiBuZXh0LnZhbHVlLnJlc3BvbnNlOwogIH0pOwp9CgovKioKICogR2VuZXJhdG9yIGZ1bmN0aW9uIHdoaWNoIGlzIGNhbGxlZCBiZXR3ZWVuIGVhY2ggYXN5bmMgc3RlcCBvZiB0aGUgdXBsb2FkCiAqIHByb2Nlc3MuCiAqIEBwYXJhbSB7c3RyaW5nfSBpbnB1dElkIEVsZW1lbnQgSUQgb2YgdGhlIGlucHV0IGZpbGUgcGlja2VyIGVsZW1lbnQuCiAqIEBwYXJhbSB7c3RyaW5nfSBvdXRwdXRJZCBFbGVtZW50IElEIG9mIHRoZSBvdXRwdXQgZGlzcGxheS4KICogQHJldHVybiB7IUl0ZXJhYmxlPCFPYmplY3Q+fSBJdGVyYWJsZSBvZiBuZXh0IHN0ZXBzLgogKi8KZnVuY3Rpb24qIHVwbG9hZEZpbGVzU3RlcChpbnB1dElkLCBvdXRwdXRJZCkgewogIGNvbnN0IGlucHV0RWxlbWVudCA9IGRvY3VtZW50LmdldEVsZW1lbnRCeUlkKGlucHV0SWQpOwogIGlucHV0RWxlbWVudC5kaXNhYmxlZCA9IGZhbHNlOwoKICBjb25zdCBvdXRwdXRFbGVtZW50ID0gZG9jdW1lbnQuZ2V0RWxlbWVudEJ5SWQob3V0cHV0SWQpOwogIG91dHB1dEVsZW1lbnQuaW5uZXJIVE1MID0gJyc7CgogIGNvbnN0IHBpY2tlZFByb21pc2UgPSBuZXcgUHJvbWlzZSgocmVzb2x2ZSkgPT4gewogICAgaW5wdXRFbGVtZW50LmFkZEV2ZW50TGlzdGVuZXIoJ2NoYW5nZScsIChlKSA9PiB7CiAgICAgIHJlc29sdmUoZS50YXJnZXQuZmlsZXMpOwogICAgfSk7CiAgfSk7CgogIGNvbnN0IGNhbmNlbCA9IGRvY3VtZW50LmNyZWF0ZUVsZW1lbnQoJ2J1dHRvbicpOwogIGlucHV0RWxlbWVudC5wYXJlbnRFbGVtZW50LmFwcGVuZENoaWxkKGNhbmNlbCk7CiAgY2FuY2VsLnRleHRDb250ZW50ID0gJ0NhbmNlbCB1cGxvYWQnOwogIGNvbnN0IGNhbmNlbFByb21pc2UgPSBuZXcgUHJvbWlzZSgocmVzb2x2ZSkgPT4gewogICAgY2FuY2VsLm9uY2xpY2sgPSAoKSA9PiB7CiAgICAgIHJlc29sdmUobnVsbCk7CiAgICB9OwogIH0pOwoKICAvLyBXYWl0IGZvciB0aGUgdXNlciB0byBwaWNrIHRoZSBmaWxlcy4KICBjb25zdCBmaWxlcyA9IHlpZWxkIHsKICAgIHByb21pc2U6IFByb21pc2UucmFjZShbcGlja2VkUHJvbWlzZSwgY2FuY2VsUHJvbWlzZV0pLAogICAgcmVzcG9uc2U6IHsKICAgICAgYWN0aW9uOiAnc3RhcnRpbmcnLAogICAgfQogIH07CgogIGNhbmNlbC5yZW1vdmUoKTsKCiAgLy8gRGlzYWJsZSB0aGUgaW5wdXQgZWxlbWVudCBzaW5jZSBmdXJ0aGVyIHBpY2tzIGFyZSBub3QgYWxsb3dlZC4KICBpbnB1dEVsZW1lbnQuZGlzYWJsZWQgPSB0cnVlOwoKICBpZiAoIWZpbGVzKSB7CiAgICByZXR1cm4gewogICAgICByZXNwb25zZTogewogICAgICAgIGFjdGlvbjogJ2NvbXBsZXRlJywKICAgICAgfQogICAgfTsKICB9CgogIGZvciAoY29uc3QgZmlsZSBvZiBmaWxlcykgewogICAgY29uc3QgbGkgPSBkb2N1bWVudC5jcmVhdGVFbGVtZW50KCdsaScpOwogICAgbGkuYXBwZW5kKHNwYW4oZmlsZS5uYW1lLCB7Zm9udFdlaWdodDogJ2JvbGQnfSkpOwogICAgbGkuYXBwZW5kKHNwYW4oCiAgICAgICAgYCgke2ZpbGUudHlwZSB8fCAnbi9hJ30pIC0gJHtmaWxlLnNpemV9IGJ5dGVzLCBgICsKICAgICAgICBgbGFzdCBtb2RpZmllZDogJHsKICAgICAgICAgICAgZmlsZS5sYXN0TW9kaWZpZWREYXRlID8gZmlsZS5sYXN0TW9kaWZpZWREYXRlLnRvTG9jYWxlRGF0ZVN0cmluZygpIDoKICAgICAgICAgICAgICAgICAgICAgICAgICAgICAgICAgICAgJ24vYSd9IC0gYCkpOwogICAgY29uc3QgcGVyY2VudCA9IHNwYW4oJzAlIGRvbmUnKTsKICAgIGxpLmFwcGVuZENoaWxkKHBlcmNlbnQpOwoKICAgIG91dHB1dEVsZW1lbnQuYXBwZW5kQ2hpbGQobGkpOwoKICAgIGNvbnN0IGZpbGVEYXRhUHJvbWlzZSA9IG5ldyBQcm9taXNlKChyZXNvbHZlKSA9PiB7CiAgICAgIGNvbnN0IHJlYWRlciA9IG5ldyBGaWxlUmVhZGVyKCk7CiAgICAgIHJlYWRlci5vbmxvYWQgPSAoZSkgPT4gewogICAgICAgIHJlc29sdmUoZS50YXJnZXQucmVzdWx0KTsKICAgICAgfTsKICAgICAgcmVhZGVyLnJlYWRBc0FycmF5QnVmZmVyKGZpbGUpOwogICAgfSk7CiAgICAvLyBXYWl0IGZvciB0aGUgZGF0YSB0byBiZSByZWFkeS4KICAgIGxldCBmaWxlRGF0YSA9IHlpZWxkIHsKICAgICAgcHJvbWlzZTogZmlsZURhdGFQcm9taXNlLAogICAgICByZXNwb25zZTogewogICAgICAgIGFjdGlvbjogJ2NvbnRpbnVlJywKICAgICAgfQogICAgfTsKCiAgICAvLyBVc2UgYSBjaHVua2VkIHNlbmRpbmcgdG8gYXZvaWQgbWVzc2FnZSBzaXplIGxpbWl0cy4gU2VlIGIvNjIxMTU2NjAuCiAgICBsZXQgcG9zaXRpb24gPSAwOwogICAgZG8gewogICAgICBjb25zdCBsZW5ndGggPSBNYXRoLm1pbihmaWxlRGF0YS5ieXRlTGVuZ3RoIC0gcG9zaXRpb24sIE1BWF9QQVlMT0FEX1NJWkUpOwogICAgICBjb25zdCBjaHVuayA9IG5ldyBVaW50OEFycmF5KGZpbGVEYXRhLCBwb3NpdGlvbiwgbGVuZ3RoKTsKICAgICAgcG9zaXRpb24gKz0gbGVuZ3RoOwoKICAgICAgY29uc3QgYmFzZTY0ID0gYnRvYShTdHJpbmcuZnJvbUNoYXJDb2RlLmFwcGx5KG51bGwsIGNodW5rKSk7CiAgICAgIHlpZWxkIHsKICAgICAgICByZXNwb25zZTogewogICAgICAgICAgYWN0aW9uOiAnYXBwZW5kJywKICAgICAgICAgIGZpbGU6IGZpbGUubmFtZSwKICAgICAgICAgIGRhdGE6IGJhc2U2NCwKICAgICAgICB9LAogICAgICB9OwoKICAgICAgbGV0IHBlcmNlbnREb25lID0gZmlsZURhdGEuYnl0ZUxlbmd0aCA9PT0gMCA/CiAgICAgICAgICAxMDAgOgogICAgICAgICAgTWF0aC5yb3VuZCgocG9zaXRpb24gLyBmaWxlRGF0YS5ieXRlTGVuZ3RoKSAqIDEwMCk7CiAgICAgIHBlcmNlbnQudGV4dENvbnRlbnQgPSBgJHtwZXJjZW50RG9uZX0lIGRvbmVgOwoKICAgIH0gd2hpbGUgKHBvc2l0aW9uIDwgZmlsZURhdGEuYnl0ZUxlbmd0aCk7CiAgfQoKICAvLyBBbGwgZG9uZS4KICB5aWVsZCB7CiAgICByZXNwb25zZTogewogICAgICBhY3Rpb246ICdjb21wbGV0ZScsCiAgICB9CiAgfTsKfQoKc2NvcGUuZ29vZ2xlID0gc2NvcGUuZ29vZ2xlIHx8IHt9OwpzY29wZS5nb29nbGUuY29sYWIgPSBzY29wZS5nb29nbGUuY29sYWIgfHwge307CnNjb3BlLmdvb2dsZS5jb2xhYi5fZmlsZXMgPSB7CiAgX3VwbG9hZEZpbGVzLAogIF91cGxvYWRGaWxlc0NvbnRpbnVlLAp9Owp9KShzZWxmKTsK",
              "ok": true,
              "headers": [
                [
                  "content-type",
                  "application/javascript"
                ]
              ],
              "status": 200,
              "status_text": ""
            }
          },
          "base_uri": "https://localhost:8080/",
          "height": 73
        },
        "id": "DakmTKTbSLGp",
        "outputId": "04341cd7-cda2-4535-b15e-7eec3911195a"
      },
      "execution_count": 1,
      "outputs": [
        {
          "output_type": "display_data",
          "data": {
            "text/html": [
              "\n",
              "     <input type=\"file\" id=\"files-faaef306-2be0-4022-8f4f-d0322a67d0d8\" name=\"files[]\" multiple disabled\n",
              "        style=\"border:none\" />\n",
              "     <output id=\"result-faaef306-2be0-4022-8f4f-d0322a67d0d8\">\n",
              "      Upload widget is only available when the cell has been executed in the\n",
              "      current browser session. Please rerun this cell to enable.\n",
              "      </output>\n",
              "      <script src=\"/nbextensions/google.colab/files.js\"></script> "
            ],
            "text/plain": [
              "<IPython.core.display.HTML object>"
            ]
          },
          "metadata": {}
        },
        {
          "output_type": "stream",
          "name": "stdout",
          "text": [
            "Saving df_utiles.csv to df_utiles.csv\n"
          ]
        }
      ]
    },
    {
      "cell_type": "code",
      "source": [
        "import io\n",
        "df_utiles = pd.read_csv(io.BytesIO(uploaded['df_utiles.csv']))"
      ],
      "metadata": {
        "id": "GpmsJOB1UVKz"
      },
      "execution_count": 126,
      "outputs": []
    },
    {
      "cell_type": "markdown",
      "source": [
        "**Traitement du csv df_utiles**"
      ],
      "metadata": {
        "id": "htnr-Kt2UjUi"
      }
    },
    {
      "cell_type": "code",
      "source": [
        "for i in df_utiles.index:\n",
        "    if df_utiles[\"grav\"][i] == 2:\n",
        "        df_utiles[\"presence_deces\"][i] = 1\n",
        "df_utiles"
      ],
      "metadata": {
        "colab": {
          "base_uri": "https://localhost:8080/",
          "height": 548
        },
        "id": "_YSDdqXrUmqy",
        "outputId": "3f8cecc2-6551-41f2-8499-ebc52001028f"
      },
      "execution_count": 127,
      "outputs": [
        {
          "output_type": "stream",
          "name": "stderr",
          "text": [
            "/usr/local/lib/python3.7/dist-packages/ipykernel_launcher.py:3: SettingWithCopyWarning: \n",
            "A value is trying to be set on a copy of a slice from a DataFrame\n",
            "\n",
            "See the caveats in the documentation: https://pandas.pydata.org/pandas-docs/stable/user_guide/indexing.html#returning-a-view-versus-a-copy\n",
            "  This is separate from the ipykernel package so we can avoid doing imports until\n"
          ]
        },
        {
          "output_type": "execute_result",
          "data": {
            "text/html": [
              "<div>\n",
              "<style scoped>\n",
              "    .dataframe tbody tr th:only-of-type {\n",
              "        vertical-align: middle;\n",
              "    }\n",
              "\n",
              "    .dataframe tbody tr th {\n",
              "        vertical-align: top;\n",
              "    }\n",
              "\n",
              "    .dataframe thead th {\n",
              "        text-align: right;\n",
              "    }\n",
              "</style>\n",
              "<table border=\"1\" class=\"dataframe\">\n",
              "  <thead>\n",
              "    <tr style=\"text-align: right;\">\n",
              "      <th></th>\n",
              "      <th>Unnamed: 0</th>\n",
              "      <th>jour</th>\n",
              "      <th>mois</th>\n",
              "      <th>an</th>\n",
              "      <th>hrmn</th>\n",
              "      <th>lum</th>\n",
              "      <th>dep</th>\n",
              "      <th>agg</th>\n",
              "      <th>int</th>\n",
              "      <th>atm</th>\n",
              "      <th>col</th>\n",
              "      <th>lat</th>\n",
              "      <th>long</th>\n",
              "      <th>place</th>\n",
              "      <th>catu</th>\n",
              "      <th>grav</th>\n",
              "      <th>sexe</th>\n",
              "      <th>an_nais</th>\n",
              "      <th>trajet</th>\n",
              "      <th>secu1</th>\n",
              "      <th>secu2</th>\n",
              "      <th>secu3</th>\n",
              "      <th>locp</th>\n",
              "      <th>actp</th>\n",
              "      <th>etatp</th>\n",
              "      <th>catr</th>\n",
              "      <th>circ</th>\n",
              "      <th>nbv</th>\n",
              "      <th>vosp</th>\n",
              "      <th>prof</th>\n",
              "      <th>pr</th>\n",
              "      <th>pr1</th>\n",
              "      <th>plan</th>\n",
              "      <th>surf</th>\n",
              "      <th>infra</th>\n",
              "      <th>situ</th>\n",
              "      <th>vma</th>\n",
              "      <th>senc</th>\n",
              "      <th>catv</th>\n",
              "      <th>obs</th>\n",
              "      <th>obsm</th>\n",
              "      <th>choc</th>\n",
              "      <th>manv</th>\n",
              "      <th>motor</th>\n",
              "      <th>presence_deces</th>\n",
              "    </tr>\n",
              "  </thead>\n",
              "  <tbody>\n",
              "    <tr>\n",
              "      <th>0</th>\n",
              "      <td>0</td>\n",
              "      <td>30</td>\n",
              "      <td>11</td>\n",
              "      <td>2019</td>\n",
              "      <td>60</td>\n",
              "      <td>4</td>\n",
              "      <td>93</td>\n",
              "      <td>1</td>\n",
              "      <td>1</td>\n",
              "      <td>1</td>\n",
              "      <td>2</td>\n",
              "      <td>48,8962100</td>\n",
              "      <td>2,4701200</td>\n",
              "      <td>2</td>\n",
              "      <td>2</td>\n",
              "      <td>4</td>\n",
              "      <td>2</td>\n",
              "      <td>2002</td>\n",
              "      <td>0</td>\n",
              "      <td>1</td>\n",
              "      <td>0</td>\n",
              "      <td>-1</td>\n",
              "      <td>-1</td>\n",
              "      <td>-1</td>\n",
              "      <td>-1</td>\n",
              "      <td>1</td>\n",
              "      <td>3</td>\n",
              "      <td>10</td>\n",
              "      <td>0</td>\n",
              "      <td>1</td>\n",
              "      <td>6</td>\n",
              "      <td>900</td>\n",
              "      <td>2</td>\n",
              "      <td>1</td>\n",
              "      <td>2</td>\n",
              "      <td>1</td>\n",
              "      <td>70</td>\n",
              "      <td>2</td>\n",
              "      <td>7</td>\n",
              "      <td>0</td>\n",
              "      <td>2</td>\n",
              "      <td>5</td>\n",
              "      <td>23</td>\n",
              "      <td>1</td>\n",
              "      <td>0</td>\n",
              "    </tr>\n",
              "    <tr>\n",
              "      <th>1</th>\n",
              "      <td>1</td>\n",
              "      <td>30</td>\n",
              "      <td>11</td>\n",
              "      <td>2019</td>\n",
              "      <td>60</td>\n",
              "      <td>4</td>\n",
              "      <td>93</td>\n",
              "      <td>1</td>\n",
              "      <td>1</td>\n",
              "      <td>1</td>\n",
              "      <td>2</td>\n",
              "      <td>48,8962100</td>\n",
              "      <td>2,4701200</td>\n",
              "      <td>1</td>\n",
              "      <td>1</td>\n",
              "      <td>4</td>\n",
              "      <td>2</td>\n",
              "      <td>1993</td>\n",
              "      <td>5</td>\n",
              "      <td>1</td>\n",
              "      <td>0</td>\n",
              "      <td>-1</td>\n",
              "      <td>-1</td>\n",
              "      <td>-1</td>\n",
              "      <td>-1</td>\n",
              "      <td>1</td>\n",
              "      <td>3</td>\n",
              "      <td>10</td>\n",
              "      <td>0</td>\n",
              "      <td>1</td>\n",
              "      <td>6</td>\n",
              "      <td>900</td>\n",
              "      <td>2</td>\n",
              "      <td>1</td>\n",
              "      <td>2</td>\n",
              "      <td>1</td>\n",
              "      <td>70</td>\n",
              "      <td>2</td>\n",
              "      <td>7</td>\n",
              "      <td>0</td>\n",
              "      <td>2</td>\n",
              "      <td>5</td>\n",
              "      <td>23</td>\n",
              "      <td>1</td>\n",
              "      <td>0</td>\n",
              "    </tr>\n",
              "    <tr>\n",
              "      <th>2</th>\n",
              "      <td>2</td>\n",
              "      <td>30</td>\n",
              "      <td>11</td>\n",
              "      <td>2019</td>\n",
              "      <td>60</td>\n",
              "      <td>4</td>\n",
              "      <td>93</td>\n",
              "      <td>1</td>\n",
              "      <td>1</td>\n",
              "      <td>1</td>\n",
              "      <td>2</td>\n",
              "      <td>48,8962100</td>\n",
              "      <td>2,4701200</td>\n",
              "      <td>1</td>\n",
              "      <td>1</td>\n",
              "      <td>1</td>\n",
              "      <td>1</td>\n",
              "      <td>1959</td>\n",
              "      <td>0</td>\n",
              "      <td>1</td>\n",
              "      <td>0</td>\n",
              "      <td>-1</td>\n",
              "      <td>-1</td>\n",
              "      <td>-1</td>\n",
              "      <td>-1</td>\n",
              "      <td>1</td>\n",
              "      <td>3</td>\n",
              "      <td>10</td>\n",
              "      <td>0</td>\n",
              "      <td>1</td>\n",
              "      <td>6</td>\n",
              "      <td>900</td>\n",
              "      <td>2</td>\n",
              "      <td>1</td>\n",
              "      <td>2</td>\n",
              "      <td>1</td>\n",
              "      <td>70</td>\n",
              "      <td>2</td>\n",
              "      <td>17</td>\n",
              "      <td>1</td>\n",
              "      <td>0</td>\n",
              "      <td>3</td>\n",
              "      <td>11</td>\n",
              "      <td>1</td>\n",
              "      <td>0</td>\n",
              "    </tr>\n",
              "    <tr>\n",
              "      <th>3</th>\n",
              "      <td>3</td>\n",
              "      <td>30</td>\n",
              "      <td>11</td>\n",
              "      <td>2019</td>\n",
              "      <td>120</td>\n",
              "      <td>3</td>\n",
              "      <td>93</td>\n",
              "      <td>1</td>\n",
              "      <td>1</td>\n",
              "      <td>1</td>\n",
              "      <td>6</td>\n",
              "      <td>48,9307000</td>\n",
              "      <td>2,3688000</td>\n",
              "      <td>1</td>\n",
              "      <td>1</td>\n",
              "      <td>4</td>\n",
              "      <td>2</td>\n",
              "      <td>1994</td>\n",
              "      <td>0</td>\n",
              "      <td>1</td>\n",
              "      <td>0</td>\n",
              "      <td>-1</td>\n",
              "      <td>-1</td>\n",
              "      <td>-1</td>\n",
              "      <td>-1</td>\n",
              "      <td>1</td>\n",
              "      <td>1</td>\n",
              "      <td>2</td>\n",
              "      <td>0</td>\n",
              "      <td>4</td>\n",
              "      <td>3</td>\n",
              "      <td>845</td>\n",
              "      <td>2</td>\n",
              "      <td>1</td>\n",
              "      <td>0</td>\n",
              "      <td>1</td>\n",
              "      <td>70</td>\n",
              "      <td>1</td>\n",
              "      <td>7</td>\n",
              "      <td>4</td>\n",
              "      <td>0</td>\n",
              "      <td>1</td>\n",
              "      <td>0</td>\n",
              "      <td>1</td>\n",
              "      <td>0</td>\n",
              "    </tr>\n",
              "    <tr>\n",
              "      <th>4</th>\n",
              "      <td>4</td>\n",
              "      <td>28</td>\n",
              "      <td>11</td>\n",
              "      <td>2019</td>\n",
              "      <td>900</td>\n",
              "      <td>1</td>\n",
              "      <td>92</td>\n",
              "      <td>1</td>\n",
              "      <td>1</td>\n",
              "      <td>1</td>\n",
              "      <td>4</td>\n",
              "      <td>48,9358718</td>\n",
              "      <td>2,3191744</td>\n",
              "      <td>1</td>\n",
              "      <td>1</td>\n",
              "      <td>1</td>\n",
              "      <td>1</td>\n",
              "      <td>1996</td>\n",
              "      <td>0</td>\n",
              "      <td>1</td>\n",
              "      <td>0</td>\n",
              "      <td>-1</td>\n",
              "      <td>-1</td>\n",
              "      <td>0</td>\n",
              "      <td>-1</td>\n",
              "      <td>1</td>\n",
              "      <td>3</td>\n",
              "      <td>8</td>\n",
              "      <td>0</td>\n",
              "      <td>1</td>\n",
              "      <td>10</td>\n",
              "      <td>500</td>\n",
              "      <td>3</td>\n",
              "      <td>1</td>\n",
              "      <td>0</td>\n",
              "      <td>1</td>\n",
              "      <td>90</td>\n",
              "      <td>1</td>\n",
              "      <td>7</td>\n",
              "      <td>0</td>\n",
              "      <td>2</td>\n",
              "      <td>1</td>\n",
              "      <td>2</td>\n",
              "      <td>1</td>\n",
              "      <td>0</td>\n",
              "    </tr>\n",
              "    <tr>\n",
              "      <th>...</th>\n",
              "      <td>...</td>\n",
              "      <td>...</td>\n",
              "      <td>...</td>\n",
              "      <td>...</td>\n",
              "      <td>...</td>\n",
              "      <td>...</td>\n",
              "      <td>...</td>\n",
              "      <td>...</td>\n",
              "      <td>...</td>\n",
              "      <td>...</td>\n",
              "      <td>...</td>\n",
              "      <td>...</td>\n",
              "      <td>...</td>\n",
              "      <td>...</td>\n",
              "      <td>...</td>\n",
              "      <td>...</td>\n",
              "      <td>...</td>\n",
              "      <td>...</td>\n",
              "      <td>...</td>\n",
              "      <td>...</td>\n",
              "      <td>...</td>\n",
              "      <td>...</td>\n",
              "      <td>...</td>\n",
              "      <td>...</td>\n",
              "      <td>...</td>\n",
              "      <td>...</td>\n",
              "      <td>...</td>\n",
              "      <td>...</td>\n",
              "      <td>...</td>\n",
              "      <td>...</td>\n",
              "      <td>...</td>\n",
              "      <td>...</td>\n",
              "      <td>...</td>\n",
              "      <td>...</td>\n",
              "      <td>...</td>\n",
              "      <td>...</td>\n",
              "      <td>...</td>\n",
              "      <td>...</td>\n",
              "      <td>...</td>\n",
              "      <td>...</td>\n",
              "      <td>...</td>\n",
              "      <td>...</td>\n",
              "      <td>...</td>\n",
              "      <td>...</td>\n",
              "      <td>...</td>\n",
              "    </tr>\n",
              "    <tr>\n",
              "      <th>132972</th>\n",
              "      <td>132972</td>\n",
              "      <td>27</td>\n",
              "      <td>11</td>\n",
              "      <td>2019</td>\n",
              "      <td>420</td>\n",
              "      <td>1</td>\n",
              "      <td>67</td>\n",
              "      <td>1</td>\n",
              "      <td>1</td>\n",
              "      <td>8</td>\n",
              "      <td>4</td>\n",
              "      <td>48,5769000</td>\n",
              "      <td>7,7269000</td>\n",
              "      <td>1</td>\n",
              "      <td>1</td>\n",
              "      <td>4</td>\n",
              "      <td>2</td>\n",
              "      <td>1988</td>\n",
              "      <td>1</td>\n",
              "      <td>1</td>\n",
              "      <td>0</td>\n",
              "      <td>-1</td>\n",
              "      <td>-1</td>\n",
              "      <td>-1</td>\n",
              "      <td>-1</td>\n",
              "      <td>1</td>\n",
              "      <td>1</td>\n",
              "      <td>2</td>\n",
              "      <td>0</td>\n",
              "      <td>1</td>\n",
              "      <td>303</td>\n",
              "      <td>282</td>\n",
              "      <td>1</td>\n",
              "      <td>2</td>\n",
              "      <td>0</td>\n",
              "      <td>1</td>\n",
              "      <td>90</td>\n",
              "      <td>1</td>\n",
              "      <td>7</td>\n",
              "      <td>0</td>\n",
              "      <td>2</td>\n",
              "      <td>1</td>\n",
              "      <td>2</td>\n",
              "      <td>1</td>\n",
              "      <td>0</td>\n",
              "    </tr>\n",
              "    <tr>\n",
              "      <th>132973</th>\n",
              "      <td>132973</td>\n",
              "      <td>30</td>\n",
              "      <td>11</td>\n",
              "      <td>2019</td>\n",
              "      <td>120</td>\n",
              "      <td>4</td>\n",
              "      <td>94</td>\n",
              "      <td>1</td>\n",
              "      <td>1</td>\n",
              "      <td>1</td>\n",
              "      <td>6</td>\n",
              "      <td>48,7717000</td>\n",
              "      <td>2,3457600</td>\n",
              "      <td>1</td>\n",
              "      <td>1</td>\n",
              "      <td>4</td>\n",
              "      <td>1</td>\n",
              "      <td>1998</td>\n",
              "      <td>9</td>\n",
              "      <td>1</td>\n",
              "      <td>0</td>\n",
              "      <td>-1</td>\n",
              "      <td>-1</td>\n",
              "      <td>-1</td>\n",
              "      <td>-1</td>\n",
              "      <td>1</td>\n",
              "      <td>3</td>\n",
              "      <td>3</td>\n",
              "      <td>0</td>\n",
              "      <td>1</td>\n",
              "      <td>5</td>\n",
              "      <td>199</td>\n",
              "      <td>1</td>\n",
              "      <td>1</td>\n",
              "      <td>0</td>\n",
              "      <td>1</td>\n",
              "      <td>90</td>\n",
              "      <td>2</td>\n",
              "      <td>7</td>\n",
              "      <td>3</td>\n",
              "      <td>0</td>\n",
              "      <td>1</td>\n",
              "      <td>21</td>\n",
              "      <td>0</td>\n",
              "      <td>0</td>\n",
              "    </tr>\n",
              "    <tr>\n",
              "      <th>132974</th>\n",
              "      <td>132974</td>\n",
              "      <td>30</td>\n",
              "      <td>11</td>\n",
              "      <td>2019</td>\n",
              "      <td>900</td>\n",
              "      <td>1</td>\n",
              "      <td>78</td>\n",
              "      <td>1</td>\n",
              "      <td>1</td>\n",
              "      <td>1</td>\n",
              "      <td>7</td>\n",
              "      <td>48,7772890</td>\n",
              "      <td>2,2237590</td>\n",
              "      <td>1</td>\n",
              "      <td>1</td>\n",
              "      <td>3</td>\n",
              "      <td>1</td>\n",
              "      <td>1979</td>\n",
              "      <td>0</td>\n",
              "      <td>2</td>\n",
              "      <td>0</td>\n",
              "      <td>-1</td>\n",
              "      <td>-1</td>\n",
              "      <td>-1</td>\n",
              "      <td>-1</td>\n",
              "      <td>1</td>\n",
              "      <td>1</td>\n",
              "      <td>1</td>\n",
              "      <td>0</td>\n",
              "      <td>1</td>\n",
              "      <td>59</td>\n",
              "      <td>99</td>\n",
              "      <td>3</td>\n",
              "      <td>1</td>\n",
              "      <td>0</td>\n",
              "      <td>1</td>\n",
              "      <td>50</td>\n",
              "      <td>2</td>\n",
              "      <td>33</td>\n",
              "      <td>0</td>\n",
              "      <td>0</td>\n",
              "      <td>7</td>\n",
              "      <td>1</td>\n",
              "      <td>1</td>\n",
              "      <td>0</td>\n",
              "    </tr>\n",
              "    <tr>\n",
              "      <th>132975</th>\n",
              "      <td>132975</td>\n",
              "      <td>29</td>\n",
              "      <td>11</td>\n",
              "      <td>2019</td>\n",
              "      <td>1200</td>\n",
              "      <td>3</td>\n",
              "      <td>92</td>\n",
              "      <td>1</td>\n",
              "      <td>1</td>\n",
              "      <td>1</td>\n",
              "      <td>2</td>\n",
              "      <td>48,8351236</td>\n",
              "      <td>2,1751101</td>\n",
              "      <td>1</td>\n",
              "      <td>1</td>\n",
              "      <td>4</td>\n",
              "      <td>1</td>\n",
              "      <td>1974</td>\n",
              "      <td>0</td>\n",
              "      <td>1</td>\n",
              "      <td>0</td>\n",
              "      <td>-1</td>\n",
              "      <td>-1</td>\n",
              "      <td>0</td>\n",
              "      <td>-1</td>\n",
              "      <td>1</td>\n",
              "      <td>1</td>\n",
              "      <td>3</td>\n",
              "      <td>0</td>\n",
              "      <td>1</td>\n",
              "      <td>6</td>\n",
              "      <td>699</td>\n",
              "      <td>1</td>\n",
              "      <td>1</td>\n",
              "      <td>0</td>\n",
              "      <td>2</td>\n",
              "      <td>110</td>\n",
              "      <td>1</td>\n",
              "      <td>10</td>\n",
              "      <td>0</td>\n",
              "      <td>2</td>\n",
              "      <td>4</td>\n",
              "      <td>0</td>\n",
              "      <td>2</td>\n",
              "      <td>0</td>\n",
              "    </tr>\n",
              "    <tr>\n",
              "      <th>132976</th>\n",
              "      <td>132976</td>\n",
              "      <td>29</td>\n",
              "      <td>11</td>\n",
              "      <td>2019</td>\n",
              "      <td>1200</td>\n",
              "      <td>3</td>\n",
              "      <td>92</td>\n",
              "      <td>1</td>\n",
              "      <td>1</td>\n",
              "      <td>1</td>\n",
              "      <td>2</td>\n",
              "      <td>48,8351236</td>\n",
              "      <td>2,1751101</td>\n",
              "      <td>1</td>\n",
              "      <td>1</td>\n",
              "      <td>1</td>\n",
              "      <td>1</td>\n",
              "      <td>1971</td>\n",
              "      <td>0</td>\n",
              "      <td>1</td>\n",
              "      <td>-1</td>\n",
              "      <td>-1</td>\n",
              "      <td>0</td>\n",
              "      <td>0</td>\n",
              "      <td>-1</td>\n",
              "      <td>1</td>\n",
              "      <td>1</td>\n",
              "      <td>3</td>\n",
              "      <td>0</td>\n",
              "      <td>1</td>\n",
              "      <td>6</td>\n",
              "      <td>699</td>\n",
              "      <td>1</td>\n",
              "      <td>1</td>\n",
              "      <td>0</td>\n",
              "      <td>2</td>\n",
              "      <td>110</td>\n",
              "      <td>1</td>\n",
              "      <td>10</td>\n",
              "      <td>0</td>\n",
              "      <td>2</td>\n",
              "      <td>1</td>\n",
              "      <td>0</td>\n",
              "      <td>1</td>\n",
              "      <td>0</td>\n",
              "    </tr>\n",
              "  </tbody>\n",
              "</table>\n",
              "<p>132977 rows × 45 columns</p>\n",
              "</div>"
            ],
            "text/plain": [
              "        Unnamed: 0  jour  mois    an  ...  choc  manv  motor  presence_deces\n",
              "0                0    30    11  2019  ...     5    23      1               0\n",
              "1                1    30    11  2019  ...     5    23      1               0\n",
              "2                2    30    11  2019  ...     3    11      1               0\n",
              "3                3    30    11  2019  ...     1     0      1               0\n",
              "4                4    28    11  2019  ...     1     2      1               0\n",
              "...            ...   ...   ...   ...  ...   ...   ...    ...             ...\n",
              "132972      132972    27    11  2019  ...     1     2      1               0\n",
              "132973      132973    30    11  2019  ...     1    21      0               0\n",
              "132974      132974    30    11  2019  ...     7     1      1               0\n",
              "132975      132975    29    11  2019  ...     4     0      2               0\n",
              "132976      132976    29    11  2019  ...     1     0      1               0\n",
              "\n",
              "[132977 rows x 45 columns]"
            ]
          },
          "metadata": {},
          "execution_count": 127
        }
      ]
    },
    {
      "cell_type": "code",
      "source": [
        "df_utiles.columns"
      ],
      "metadata": {
        "colab": {
          "base_uri": "https://localhost:8080/"
        },
        "id": "5ZkoK0wWVyQj",
        "outputId": "b134f55f-14f3-4dbf-9bd9-047f7759268c"
      },
      "execution_count": 17,
      "outputs": [
        {
          "output_type": "execute_result",
          "data": {
            "text/plain": [
              "Index(['Unnamed: 0', 'jour', 'mois', 'an', 'hrmn', 'lum', 'dep', 'agg', 'int',\n",
              "       'atm', 'col', 'lat', 'long', 'place', 'catu', 'grav', 'sexe', 'an_nais',\n",
              "       'trajet', 'secu1', 'secu2', 'secu3', 'locp', 'actp', 'etatp', 'catr',\n",
              "       'circ', 'nbv', 'vosp', 'prof', 'pr', 'pr1', 'plan', 'surf', 'infra',\n",
              "       'situ', 'vma', 'senc', 'catv', 'obs', 'obsm', 'choc', 'manv', 'motor',\n",
              "       'presence_deces'],\n",
              "      dtype='object')"
            ]
          },
          "metadata": {},
          "execution_count": 17
        }
      ]
    },
    {
      "cell_type": "markdown",
      "source": [
        "**Analyse statistique des données de df_utiles.csv**"
      ],
      "metadata": {
        "id": "JoAxBCR2xwEq"
      }
    },
    {
      "cell_type": "code",
      "source": [
        "corr = df_utiles.drop(['an', 'presence_deces'], axis=1).corr()\n",
        "f, ax = plt.subplots(figsize=(11, 9))\n",
        "cmap = sns.diverging_palette(230, 20, as_cmap=True)\n",
        "sns.heatmap(corr, cmap=cmap, vmax=.3, center=0, square=True, linewidths=.5, cbar_kws={\"shrink\": .5})"
      ],
      "metadata": {
        "colab": {
          "base_uri": "https://localhost:8080/",
          "height": 605
        },
        "id": "Wt_opqQix0Pm",
        "outputId": "532a6261-a325-405c-fa4c-8679b6c5cb1d"
      },
      "execution_count": 51,
      "outputs": [
        {
          "output_type": "execute_result",
          "data": {
            "text/plain": [
              "<matplotlib.axes._subplots.AxesSubplot at 0x7fd0eececc90>"
            ]
          },
          "metadata": {},
          "execution_count": 51
        },
        {
          "output_type": "display_data",
          "data": {
            "image/png": "[encoded data removed]",
            "text/plain": [
              "<Figure size 792x648 with 2 Axes>"
            ]
          },
          "metadata": {
            "needs_background": "light"
          }
        }
      ]
    },
    {
      "cell_type": "markdown",
      "source": [
        "**Avant les prédictions : fonction qui calcule la distance de Haversine entre deux points de coordonnées géographiques connues (lat, long) -> permet de déterminer les accidents ayant eu lieu dans un rayon de X km autour du lieu choisi**"
      ],
      "metadata": {
        "id": "wpGdOx_FNOXN"
      }
    },
    {
      "cell_type": "markdown",
      "source": [
        "**Prédictions à l'aide d'une régression logistique**"
      ],
      "metadata": {
        "id": "TQls3nSQNmNA"
      }
    },
    {
      "cell_type": "code",
      "source": [
        "from math import radians, cos, sin, asin, sqrt\n",
        "\n",
        "coord = [2.16201, 48.708941] # Gif-sur-Yvette\n",
        "\n",
        "def haversine(lon2, lat2):\n",
        "    \"\"\"\n",
        "    Calculate the great circle distance in kilometers between two points \n",
        "    on the earth (specified in decimal degrees)\n",
        "    \"\"\"\n",
        "    # convert decimal degrees to radians \n",
        "    coord[0], coord[1], lon2, lat2 = map(radians, [coord[0], coord[1], lon2, lat2])\n",
        "\n",
        "    # haversine formula \n",
        "    dlon = lon2 - coord[0] \n",
        "    dlat = lat2 - coord[1] \n",
        "    a = sin(dlat/2)**2 + cos(coord[1]) * cos(lat2) * sin(dlon/2)**2\n",
        "    c = 2 * asin(sqrt(a))\n",
        "    r = 6371 # Radius of earth in kilometers. Use 3956 for miles. Determines return value units.\n",
        "    return c * r\n",
        "  \n",
        "haversine(2.168658, 48.766828)"
      ],
      "metadata": {
        "colab": {
          "base_uri": "https://localhost:8080/"
        },
        "id": "XUXSmez9Nj8P",
        "outputId": "7cddafa8-5ae2-41a2-8e82-1bce36143bbf"
      },
      "execution_count": 115,
      "outputs": [
        {
          "output_type": "execute_result",
          "data": {
            "text/plain": [
              "6.455176865644524"
            ]
          },
          "metadata": {},
          "execution_count": 115
        }
      ]
    },
    {
      "cell_type": "code",
      "source": [
        "#df_utiles['lat'] = df_utiles['lat'].str.replace(',', '.').astype(float)\n",
        "#df_utiles['long'] = df_utiles['long'].str.replace(',', '.').astype(float)\n",
        "#df_regr_utiles = df_utiles.drop(['Unnamed: 0', 'gigajour', 'colonne_soustraction', 'jour', 'an', 'mois', 'pr', 'pr1'], axis=1)\n",
        "df_regr_utiles = df_regr_utiles.dropna(axis=1)\n",
        "\n",
        "# Récupération des accidents dans le rayon choisi\n",
        "\n",
        "df_rayon = []\n",
        "for i in df_regr_utiles.index:\n",
        "  if haversine(df_regr_utiles[\"long\"][i], df_regr_utiles[\"lat\"][i]) <= 1:\n",
        "    df_rayon.append(df_regr_utiles.iloc[i])\n",
        "\n",
        "print(df_rayon[7])\n",
        "\n",
        "X = df_regr_utiles.drop(['presence_deces'], axis=1).iloc[:, :38]\n",
        "y = df_regr_utiles.iloc[:, 38] #colonne \"presence_deces\"\n",
        "y = y.astype(int)\n",
        "os = SMOTE(random_state=0) #Initialisation de SMOTE, pour avoir 50 % de 0 et 50 % de 1 dans y (sans modifier la distribution de l'échantillon d'accidents)\n",
        "cv = RepeatedKFold(n_splits=3, n_repeats=3, random_state=1) #K-Fold répété, augmente la précision de l'algo de ~10 %\n",
        "for train_index, test_index in cv.split(X):\n",
        "    X_train, X_test = X.iloc[train_index], X.iloc[test_index]\n",
        "    y_train, y_test = y.iloc[train_index], y.iloc[test_index]\n",
        "#X_train, X_test, y_train, y_test = train_test_split(X, y, test_size=0.3, random_state=0)\n",
        "X_train,y_train=os.fit_resample(X_train, y_train) #On applique OS initialisé plus tôt\n",
        "#X_train = pd.DataFrame(data=X_train)\n",
        "#y_train= pd.DataFrame(data=y_train)\n",
        "logreg = LogisticRegression(solver='lbfgs') # Initialisation de la régression logistique\n",
        "logreg.fit(X_train, y_train) # Fitting sur l'ensemble de train\n",
        "y_pred = logreg.predict(X_test) # Prédictions\n",
        "print(y_pred)\n",
        "print(logreg.coef_)\n",
        "print('Précision de la classification par régression logistique : ',logreg.score(X_test, y_test)*100,\"%\")\n",
        "from sklearn.metrics import confusion_matrix\n",
        "cm = confusion_matrix(y_test, y_pred)\n",
        "print(cm)"
      ],
      "metadata": {
        "colab": {
          "base_uri": "https://localhost:8080/"
        },
        "id": "25BuqSTcNj4g",
        "outputId": "96f641d6-fc9d-484a-efe0-3d96457705d2"
      },
      "execution_count": 138,
      "outputs": [
        {
          "output_type": "stream",
          "name": "stdout",
          "text": [
            "hrmn                    420.0\n",
            "lum                       3.0\n",
            "dep                      67.0\n",
            "agg                       1.0\n",
            "int                       1.0\n",
            "atm                       1.0\n",
            "col                       1.0\n",
            "lat               482878800.0\n",
            "long               74575800.0\n",
            "place                     1.0\n",
            "catu                      1.0\n",
            "grav                      1.0\n",
            "sexe                      1.0\n",
            "an_nais                1973.0\n",
            "trajet                    4.0\n",
            "secu1                     1.0\n",
            "secu2                     8.0\n",
            "secu3                    -1.0\n",
            "locp                      0.0\n",
            "actp                      0.0\n",
            "etatp                    -1.0\n",
            "catr                      3.0\n",
            "circ                      2.0\n",
            "nbv                       3.0\n",
            "vosp                      0.0\n",
            "prof                      2.0\n",
            "plan                      1.0\n",
            "surf                      1.0\n",
            "infra                     2.0\n",
            "situ                      1.0\n",
            "vma                      80.0\n",
            "senc                      3.0\n",
            "catv                     10.0\n",
            "obs                       0.0\n",
            "obsm                      2.0\n",
            "choc                      1.0\n",
            "manv                     15.0\n",
            "motor                     1.0\n",
            "presence_deces            0.0\n",
            "nbre_j                  328.0\n",
            "Name: 8182, dtype: float64\n",
            "[0 0 0 ... 0 0 0]\n",
            "[[-1.45385376e-15 -5.96960730e-18  6.79197577e-16 -2.34143574e-17\n",
            "  -3.05437694e-17  3.77467045e-18  2.97534689e-17 -7.33930029e-11\n",
            "  -1.25681045e-10  2.76961061e-17 -3.51156786e-18 -2.69883345e-17\n",
            "  -1.28688770e-17  3.03938500e-15  1.24182169e-17 -3.46664679e-18\n",
            "  -5.00881414e-17  7.61812100e-18  2.40769278e-17  2.75749852e-17\n",
            "   6.40217680e-18 -1.90224980e-17  4.77298182e-18 -1.70949767e-17\n",
            "  -4.11379378e-18 -2.93162836e-18  2.28469914e-18 -3.45442830e-18\n",
            "  -1.14560056e-17  2.62737059e-17  5.63081426e-16 -1.41922322e-17\n",
            "   8.57702700e-17  9.03757619e-17 -4.31928056e-17 -3.18066092e-17\n",
            "  -2.54403281e-17 -2.66269021e-19]]\n",
            "Précision de la classification par régression logistique :  94.99379582628313 %\n",
            "[[42055  1074]\n",
            " [ 1145    51]]\n"
          ]
        }
      ]
    },
    {
      "cell_type": "markdown",
      "source": [
        "**Test ARIMA pour anticiper nbre accidents**"
      ],
      "metadata": {
        "id": "zdzSAkdxOhPx"
      }
    },
    {
      "cell_type": "code",
      "source": [
        "pip install statsmodels"
      ],
      "metadata": {
        "colab": {
          "base_uri": "https://localhost:8080/"
        },
        "id": "vwk0OEZcWQZy",
        "outputId": "2576afc4-9634-439e-914c-16656f2e2481"
      },
      "execution_count": 25,
      "outputs": [
        {
          "output_type": "stream",
          "name": "stdout",
          "text": [
            "Requirement already satisfied: statsmodels in /usr/local/lib/python3.7/dist-packages (0.10.2)\n",
            "Requirement already satisfied: pandas>=0.19 in /usr/local/lib/python3.7/dist-packages (from statsmodels) (1.1.5)\n",
            "Requirement already satisfied: patsy>=0.4.0 in /usr/local/lib/python3.7/dist-packages (from statsmodels) (0.5.2)\n",
            "Requirement already satisfied: scipy>=0.18 in /usr/local/lib/python3.7/dist-packages (from statsmodels) (1.4.1)\n",
            "Requirement already satisfied: numpy>=1.11 in /usr/local/lib/python3.7/dist-packages (from statsmodels) (1.19.5)\n",
            "Requirement already satisfied: pytz>=2017.2 in /usr/local/lib/python3.7/dist-packages (from pandas>=0.19->statsmodels) (2018.9)\n",
            "Requirement already satisfied: python-dateutil>=2.7.3 in /usr/local/lib/python3.7/dist-packages (from pandas>=0.19->statsmodels) (2.8.2)\n",
            "Requirement already satisfied: six in /usr/local/lib/python3.7/dist-packages (from patsy>=0.4.0->statsmodels) (1.15.0)\n"
          ]
        }
      ]
    },
    {
      "cell_type": "code",
      "source": [
        "# ARIMA\n",
        "import matplotlib\n",
        "import matplotlib.pyplot as plt\n",
        "import matplotlib.dates as mdates\n",
        "from statsmodels.tsa.statespace.sarimax import SARIMAX"
      ],
      "metadata": {
        "id": "chyVVfATOlhV"
      },
      "execution_count": 29,
      "outputs": []
    },
    {
      "cell_type": "markdown",
      "source": [
        "**But : obtenir la colonne nbre_acc_j qui représente le nombre d'accidents par jour**"
      ],
      "metadata": {
        "id": "eRYIlFZxXxAn"
      }
    },
    {
      "cell_type": "code",
      "source": [
        "from datetime import date\n",
        "df_utiles = pd.read_csv('df_utiles.csv')\n",
        "# la colonne \"gigajour\" contient la date au format standard dd/mm/yyyy\n",
        "df_utiles[\"gigajour\"] = 0 # Initialisation de la colonne\n",
        "df_utiles[\"gigajour\"] = df_utiles[\"jour\"].astype(str)+'/'+df_utiles[\"mois\"].astype(str)+'/'+df_utiles[\"an\"].astype(str)\n",
        "df_utiles[\"gigajour\"] = pd.to_datetime(df_utiles[\"gigajour\"], format=\"%d/%m/%Y\")\n",
        "df_utiles[\"colonne_soustraction\"] = date(df_utiles[\"an\"].iloc[0], 1, 1) # Création d'une colonne remplie avec la date du 01/01/2019\n",
        "df_utiles[\"colonne_soustraction\"] = pd.to_datetime(df_utiles[\"colonne_soustraction\"])\n",
        "df_utiles[\"nbre_j\"] = df_utiles[\"gigajour\"] - df_utiles[\"colonne_soustraction\"] # Permet d'obtenir une colonne contenant, pour chaque accident,\n",
        "# Le nombre de jours écoulés depuis le 01/01/2019\n",
        "def datification(x):\n",
        "    return x.days\n",
        "df_utiles[\"nbre_j\"] = df_utiles[\"nbre_j\"].apply(datification)\n",
        "nbre_acc_j = df_utiles.groupby(['nbre_j']).agg('count').jour.values #Nbre d'accidents par jour\n",
        "print(nbre_acc_j)\n",
        "ts = pd.Series(nbre_acc_j, index=pd.date_range(\"1/1/2019\", periods=365))\n",
        "print(ts)\n",
        "plt.plot([i for i in range(365)], nbre_acc_j)"
      ],
      "metadata": {
        "colab": {
          "base_uri": "https://localhost:8080/",
          "height": 855
        },
        "id": "zaUxXbT0OpAA",
        "outputId": "11cfb892-12bf-4239-c32f-5e43d5b647c3"
      },
      "execution_count": 31,
      "outputs": [
        {
          "output_type": "stream",
          "name": "stdout",
          "text": [
            "[263 239 255 298 287 206 288 335 355 317 450 301 264 356 357 338 347 473\n",
            " 345 230 330 275 257 313 337 327 226 276 299 318 313 427 288 250 304 294\n",
            " 326 405 431 326 298 282 346 351 374 491 437 328 305 307 299 337 401 342\n",
            " 275 367 366 323 311 308 257 251 259 309 304 346 343 303 290 295 299 305\n",
            " 320 362 352 279 350 334 315 388 479 438 284 324 373 397 367 455 404 428\n",
            " 302 365 324 435 415 355 285 313 306 376 355 422 419 312 284 319 373 382\n",
            " 457 415 274 289 308 311 312 417 285 273 291 366 325 390 299 277 288 338\n",
            " 367 279 297 406 325 321 430 423 395 339 353 308 274 307 292 387 363 421\n",
            " 394 358 345 347 419 353 420 423 400 329 371 411 383 457 393 374 251 391\n",
            " 412 368 441 382 451 424 403 367 394 571 453 388 436 397 445 442 540 469\n",
            " 467 431 483 477 535 527 473 430 373 445 428 407 483 415 380 391 406 423\n",
            " 365 432 443 336 288 341 376 385 415 393 249 354 362 289 353 444 323 303\n",
            " 349 321 354 311 416 339 305 270 335 316 220 314 381 342 270 295 280 340\n",
            " 347 368 384 295 291 302 400 430 459 312 343 370 373 362 515 466 330 360\n",
            " 381 416 405 527 430 432 403 372 421 433 503 351 343 378 363 395 338 394\n",
            " 410 336 420 365 396 376 455 449 365 371 422 395 429 512 347 375 336 378\n",
            " 356 390 471 391 427 332 385 322 416 431 469 355 318 333 319 407 371 378\n",
            " 319 443 426 386 422 413 375 274 261 456 355 361 509 334 236 361 377 304\n",
            " 402 477 343 309 404 342 371 329 455 344 305 411 435 447 361 481 378 371\n",
            " 429 445 401 507 484 372 358 382 361 425 399 564 335 282 410 375 196 283\n",
            " 272 309 262 266 270]\n",
            "2019-01-01    263\n",
            "2019-01-02    239\n",
            "2019-01-03    255\n",
            "2019-01-04    298\n",
            "2019-01-05    287\n",
            "             ... \n",
            "2019-12-27    272\n",
            "2019-12-28    309\n",
            "2019-12-29    262\n",
            "2019-12-30    266\n",
            "2019-12-31    270\n",
            "Freq: D, Length: 365, dtype: int64\n"
          ]
        },
        {
          "output_type": "execute_result",
          "data": {
            "text/plain": [
              "[<matplotlib.lines.Line2D at 0x7fd0fb0edfd0>]"
            ]
          },
          "metadata": {},
          "execution_count": 31
        },
        {
          "output_type": "display_data",
          "data": {
            "image/png": "[encoded data removed]",
            "text/plain": [
              "<Figure size 432x288 with 1 Axes>"
            ]
          },
          "metadata": {
            "needs_background": "light"
          }
        }
      ]
    },
    {
      "cell_type": "markdown",
      "source": [
        "**SARIMAX : prédire nbre d'accidents en s'appuyant sur les données déjà enregistrées**"
      ],
      "metadata": {
        "id": "bltALNZJX70n"
      }
    },
    {
      "cell_type": "markdown",
      "source": [
        "**Graphe d'autocorrélation**"
      ],
      "metadata": {
        "id": "qGSOF5ZeY4hn"
      }
    },
    {
      "cell_type": "code",
      "source": [
        "from statsmodels.graphics.tsaplots import plot_acf\n",
        "\n",
        "# Subtract the rolling mean\n",
        "nbre_acc_j_dataframe = pd.DataFrame(nbre_acc_j)\n",
        "nbre_acc_rolling = nbre_acc_j_dataframe - nbre_acc_j_dataframe.rolling(15).mean()\n",
        "\n",
        "# Drop the NaN values\n",
        "nbre_acc_rolling = nbre_acc_rolling.dropna()\n",
        "\n",
        "# Create figure and subplots\n",
        "fig, ax1 = plt.subplots()\n",
        "\n",
        "# Plot the ACF\n",
        "plot_acf(nbre_acc_rolling, lags=25, zero=False, ax=ax1);"
      ],
      "metadata": {
        "colab": {
          "base_uri": "https://localhost:8080/",
          "height": 281
        },
        "id": "RcBVMkcAX7Z8",
        "outputId": "6366f251-4b29-4389-ae0f-a62bbc64c3d3"
      },
      "execution_count": 35,
      "outputs": [
        {
          "output_type": "display_data",
          "data": {
            "image/png": "[encoded data removed]",
            "text/plain": [
              "<Figure size 432x288 with 1 Axes>"
            ]
          },
          "metadata": {
            "needs_background": "light"
          }
        }
      ]
    },
    {
      "cell_type": "markdown",
      "source": [
        "Conclusion : la composante saisonale a pour période 7 (abscisse du max sur le plot ci-dessus)"
      ],
      "metadata": {
        "id": "nPePWfiJZCXp"
      }
    },
    {
      "cell_type": "code",
      "source": [
        "from statsmodels.tsa.statespace.sarimax import SARIMAX\n",
        "\n",
        "# Create a SARIMAX model\n",
        "model = SARIMAX(nbre_acc_j, order=(31, 0, 0), seasonal_order=(1, 1, 0, 7)) # Le 7 correspond à la période déterminée ci-dessus\n",
        "\n",
        "# Fit the model\n",
        "results = model.fit()\n",
        "\n",
        "# Print the results summary\n",
        "results.summary()"
      ],
      "metadata": {
        "colab": {
          "base_uri": "https://localhost:8080/",
          "height": 1000
        },
        "id": "x3sRVwcrZSuh",
        "outputId": "67ed0764-cc55-4bfd-e749-b35c3c84fe32"
      },
      "execution_count": 46,
      "outputs": [
        {
          "output_type": "stream",
          "name": "stderr",
          "text": [
            "/usr/local/lib/python3.7/dist-packages/statsmodels/base/model.py:512: ConvergenceWarning: Maximum Likelihood optimization failed to converge. Check mle_retvals\n",
            "  \"Check mle_retvals\", ConvergenceWarning)\n"
          ]
        },
        {
          "output_type": "execute_result",
          "data": {
            "text/html": [
              "<table class=\"simpletable\">\n",
              "<caption>Statespace Model Results</caption>\n",
              "<tr>\n",
              "  <th>Dep. Variable:</th>                  <td>y</td>               <th>  No. Observations:  </th>    <td>365</td>   \n",
              "</tr>\n",
              "<tr>\n",
              "  <th>Model:</th>           <td>SARIMAX(31, 0, 0)x(1, 1, 0, 7)</td> <th>  Log Likelihood     </th> <td>-1883.040</td>\n",
              "</tr>\n",
              "<tr>\n",
              "  <th>Date:</th>                   <td>Sun, 12 Dec 2021</td>        <th>  AIC                </th> <td>3832.080</td> \n",
              "</tr>\n",
              "<tr>\n",
              "  <th>Time:</th>                       <td>13:08:32</td>            <th>  BIC                </th> <td>3960.138</td> \n",
              "</tr>\n",
              "<tr>\n",
              "  <th>Sample:</th>                         <td>0</td>               <th>  HQIC               </th> <td>3883.009</td> \n",
              "</tr>\n",
              "<tr>\n",
              "  <th></th>                             <td> - 365</td>             <th>                     </th>     <td> </td>    \n",
              "</tr>\n",
              "<tr>\n",
              "  <th>Covariance Type:</th>               <td>opg</td>              <th>                     </th>     <td> </td>    \n",
              "</tr>\n",
              "</table>\n",
              "<table class=\"simpletable\">\n",
              "<tr>\n",
              "     <td></td>        <th>coef</th>     <th>std err</th>      <th>z</th>      <th>P>|z|</th>  <th>[0.025</th>    <th>0.975]</th>  \n",
              "</tr>\n",
              "<tr>\n",
              "  <th>ar.L1</th>   <td>    0.3079</td> <td>    0.061</td> <td>    5.041</td> <td> 0.000</td> <td>    0.188</td> <td>    0.428</td>\n",
              "</tr>\n",
              "<tr>\n",
              "  <th>ar.L2</th>   <td>    0.1580</td> <td>    0.061</td> <td>    2.602</td> <td> 0.009</td> <td>    0.039</td> <td>    0.277</td>\n",
              "</tr>\n",
              "<tr>\n",
              "  <th>ar.L3</th>   <td>    0.0551</td> <td>    0.059</td> <td>    0.938</td> <td> 0.348</td> <td>   -0.060</td> <td>    0.170</td>\n",
              "</tr>\n",
              "<tr>\n",
              "  <th>ar.L4</th>   <td>    0.0804</td> <td>    0.065</td> <td>    1.246</td> <td> 0.213</td> <td>   -0.046</td> <td>    0.207</td>\n",
              "</tr>\n",
              "<tr>\n",
              "  <th>ar.L5</th>   <td>    0.0384</td> <td>    0.061</td> <td>    0.626</td> <td> 0.531</td> <td>   -0.082</td> <td>    0.158</td>\n",
              "</tr>\n",
              "<tr>\n",
              "  <th>ar.L6</th>   <td>    0.1137</td> <td>    0.058</td> <td>    1.973</td> <td> 0.048</td> <td>    0.001</td> <td>    0.227</td>\n",
              "</tr>\n",
              "<tr>\n",
              "  <th>ar.L7</th>   <td>   -0.1288</td> <td>    0.156</td> <td>   -0.827</td> <td> 0.408</td> <td>   -0.434</td> <td>    0.176</td>\n",
              "</tr>\n",
              "<tr>\n",
              "  <th>ar.L8</th>   <td>    0.1168</td> <td>    0.075</td> <td>    1.565</td> <td> 0.118</td> <td>   -0.030</td> <td>    0.263</td>\n",
              "</tr>\n",
              "<tr>\n",
              "  <th>ar.L9</th>   <td>    0.1346</td> <td>    0.067</td> <td>    2.006</td> <td> 0.045</td> <td>    0.003</td> <td>    0.266</td>\n",
              "</tr>\n",
              "<tr>\n",
              "  <th>ar.L10</th>  <td>   -0.0770</td> <td>    0.067</td> <td>   -1.154</td> <td> 0.249</td> <td>   -0.208</td> <td>    0.054</td>\n",
              "</tr>\n",
              "<tr>\n",
              "  <th>ar.L11</th>  <td>    0.0168</td> <td>    0.063</td> <td>    0.266</td> <td> 0.790</td> <td>   -0.107</td> <td>    0.140</td>\n",
              "</tr>\n",
              "<tr>\n",
              "  <th>ar.L12</th>  <td>    0.0248</td> <td>    0.064</td> <td>    0.390</td> <td> 0.697</td> <td>   -0.100</td> <td>    0.149</td>\n",
              "</tr>\n",
              "<tr>\n",
              "  <th>ar.L13</th>  <td>    0.0738</td> <td>    0.062</td> <td>    1.186</td> <td> 0.236</td> <td>   -0.048</td> <td>    0.196</td>\n",
              "</tr>\n",
              "<tr>\n",
              "  <th>ar.L14</th>  <td>   -0.5718</td> <td>    0.102</td> <td>   -5.605</td> <td> 0.000</td> <td>   -0.772</td> <td>   -0.372</td>\n",
              "</tr>\n",
              "<tr>\n",
              "  <th>ar.L15</th>  <td>    0.1087</td> <td>    0.073</td> <td>    1.484</td> <td> 0.138</td> <td>   -0.035</td> <td>    0.252</td>\n",
              "</tr>\n",
              "<tr>\n",
              "  <th>ar.L16</th>  <td>    0.0923</td> <td>    0.077</td> <td>    1.202</td> <td> 0.229</td> <td>   -0.058</td> <td>    0.243</td>\n",
              "</tr>\n",
              "<tr>\n",
              "  <th>ar.L17</th>  <td>   -0.0508</td> <td>    0.076</td> <td>   -0.669</td> <td> 0.503</td> <td>   -0.200</td> <td>    0.098</td>\n",
              "</tr>\n",
              "<tr>\n",
              "  <th>ar.L18</th>  <td>    0.0321</td> <td>    0.067</td> <td>    0.481</td> <td> 0.631</td> <td>   -0.099</td> <td>    0.163</td>\n",
              "</tr>\n",
              "<tr>\n",
              "  <th>ar.L19</th>  <td>   -0.0185</td> <td>    0.065</td> <td>   -0.284</td> <td> 0.777</td> <td>   -0.147</td> <td>    0.109</td>\n",
              "</tr>\n",
              "<tr>\n",
              "  <th>ar.L20</th>  <td>    0.1601</td> <td>    0.060</td> <td>    2.675</td> <td> 0.007</td> <td>    0.043</td> <td>    0.277</td>\n",
              "</tr>\n",
              "<tr>\n",
              "  <th>ar.L21</th>  <td>   -0.1893</td> <td>    0.112</td> <td>   -1.684</td> <td> 0.092</td> <td>   -0.410</td> <td>    0.031</td>\n",
              "</tr>\n",
              "<tr>\n",
              "  <th>ar.L22</th>  <td>   -0.0548</td> <td>    0.069</td> <td>   -0.796</td> <td> 0.426</td> <td>   -0.190</td> <td>    0.080</td>\n",
              "</tr>\n",
              "<tr>\n",
              "  <th>ar.L23</th>  <td>    0.0993</td> <td>    0.070</td> <td>    1.410</td> <td> 0.159</td> <td>   -0.039</td> <td>    0.237</td>\n",
              "</tr>\n",
              "<tr>\n",
              "  <th>ar.L24</th>  <td>   -0.0321</td> <td>    0.069</td> <td>   -0.466</td> <td> 0.641</td> <td>   -0.167</td> <td>    0.103</td>\n",
              "</tr>\n",
              "<tr>\n",
              "  <th>ar.L25</th>  <td>    0.0675</td> <td>    0.062</td> <td>    1.092</td> <td> 0.275</td> <td>   -0.054</td> <td>    0.189</td>\n",
              "</tr>\n",
              "<tr>\n",
              "  <th>ar.L26</th>  <td>    0.0741</td> <td>    0.064</td> <td>    1.150</td> <td> 0.250</td> <td>   -0.052</td> <td>    0.201</td>\n",
              "</tr>\n",
              "<tr>\n",
              "  <th>ar.L27</th>  <td>    0.0359</td> <td>    0.070</td> <td>    0.513</td> <td> 0.608</td> <td>   -0.101</td> <td>    0.173</td>\n",
              "</tr>\n",
              "<tr>\n",
              "  <th>ar.L28</th>  <td>   -0.1951</td> <td>    0.081</td> <td>   -2.421</td> <td> 0.015</td> <td>   -0.353</td> <td>   -0.037</td>\n",
              "</tr>\n",
              "<tr>\n",
              "  <th>ar.L29</th>  <td>    0.0099</td> <td>    0.072</td> <td>    0.138</td> <td> 0.891</td> <td>   -0.131</td> <td>    0.151</td>\n",
              "</tr>\n",
              "<tr>\n",
              "  <th>ar.L30</th>  <td>    0.1232</td> <td>    0.069</td> <td>    1.791</td> <td> 0.073</td> <td>   -0.012</td> <td>    0.258</td>\n",
              "</tr>\n",
              "<tr>\n",
              "  <th>ar.L31</th>  <td>   -0.1206</td> <td>    0.063</td> <td>   -1.921</td> <td> 0.055</td> <td>   -0.244</td> <td>    0.002</td>\n",
              "</tr>\n",
              "<tr>\n",
              "  <th>ar.S.L7</th> <td>   -0.5701</td> <td>    0.153</td> <td>   -3.718</td> <td> 0.000</td> <td>   -0.871</td> <td>   -0.270</td>\n",
              "</tr>\n",
              "<tr>\n",
              "  <th>sigma2</th>  <td> 2121.9601</td> <td>  162.579</td> <td>   13.052</td> <td> 0.000</td> <td> 1803.311</td> <td> 2440.610</td>\n",
              "</tr>\n",
              "</table>\n",
              "<table class=\"simpletable\">\n",
              "<tr>\n",
              "  <th>Ljung-Box (Q):</th>          <td>20.10</td> <th>  Jarque-Bera (JB):  </th> <td>12.86</td>\n",
              "</tr>\n",
              "<tr>\n",
              "  <th>Prob(Q):</th>                <td>1.00</td>  <th>  Prob(JB):          </th> <td>0.00</td> \n",
              "</tr>\n",
              "<tr>\n",
              "  <th>Heteroskedasticity (H):</th> <td>1.46</td>  <th>  Skew:              </th> <td>-0.29</td>\n",
              "</tr>\n",
              "<tr>\n",
              "  <th>Prob(H) (two-sided):</th>    <td>0.04</td>  <th>  Kurtosis:          </th> <td>3.73</td> \n",
              "</tr>\n",
              "</table><br/><br/>Warnings:<br/>[1] Covariance matrix calculated using the outer product of gradients (complex-step)."
            ],
            "text/plain": [
              "<class 'statsmodels.iolib.summary.Summary'>\n",
              "\"\"\"\n",
              "                                 Statespace Model Results                                 \n",
              "==========================================================================================\n",
              "Dep. Variable:                                  y   No. Observations:                  365\n",
              "Model:             SARIMAX(31, 0, 0)x(1, 1, 0, 7)   Log Likelihood               -1883.040\n",
              "Date:                            Sun, 12 Dec 2021   AIC                           3832.080\n",
              "Time:                                    13:08:32   BIC                           3960.138\n",
              "Sample:                                         0   HQIC                          3883.009\n",
              "                                            - 365                                         \n",
              "Covariance Type:                              opg                                         \n",
              "==============================================================================\n",
              "                 coef    std err          z      P>|z|      [0.025      0.975]\n",
              "------------------------------------------------------------------------------\n",
              "ar.L1          0.3079      0.061      5.041      0.000       0.188       0.428\n",
              "ar.L2          0.1580      0.061      2.602      0.009       0.039       0.277\n",
              "ar.L3          0.0551      0.059      0.938      0.348      -0.060       0.170\n",
              "ar.L4          0.0804      0.065      1.246      0.213      -0.046       0.207\n",
              "ar.L5          0.0384      0.061      0.626      0.531      -0.082       0.158\n",
              "ar.L6          0.1137      0.058      1.973      0.048       0.001       0.227\n",
              "ar.L7         -0.1288      0.156     -0.827      0.408      -0.434       0.176\n",
              "ar.L8          0.1168      0.075      1.565      0.118      -0.030       0.263\n",
              "ar.L9          0.1346      0.067      2.006      0.045       0.003       0.266\n",
              "ar.L10        -0.0770      0.067     -1.154      0.249      -0.208       0.054\n",
              "ar.L11         0.0168      0.063      0.266      0.790      -0.107       0.140\n",
              "ar.L12         0.0248      0.064      0.390      0.697      -0.100       0.149\n",
              "ar.L13         0.0738      0.062      1.186      0.236      -0.048       0.196\n",
              "ar.L14        -0.5718      0.102     -5.605      0.000      -0.772      -0.372\n",
              "ar.L15         0.1087      0.073      1.484      0.138      -0.035       0.252\n",
              "ar.L16         0.0923      0.077      1.202      0.229      -0.058       0.243\n",
              "ar.L17        -0.0508      0.076     -0.669      0.503      -0.200       0.098\n",
              "ar.L18         0.0321      0.067      0.481      0.631      -0.099       0.163\n",
              "ar.L19        -0.0185      0.065     -0.284      0.777      -0.147       0.109\n",
              "ar.L20         0.1601      0.060      2.675      0.007       0.043       0.277\n",
              "ar.L21        -0.1893      0.112     -1.684      0.092      -0.410       0.031\n",
              "ar.L22        -0.0548      0.069     -0.796      0.426      -0.190       0.080\n",
              "ar.L23         0.0993      0.070      1.410      0.159      -0.039       0.237\n",
              "ar.L24        -0.0321      0.069     -0.466      0.641      -0.167       0.103\n",
              "ar.L25         0.0675      0.062      1.092      0.275      -0.054       0.189\n",
              "ar.L26         0.0741      0.064      1.150      0.250      -0.052       0.201\n",
              "ar.L27         0.0359      0.070      0.513      0.608      -0.101       0.173\n",
              "ar.L28        -0.1951      0.081     -2.421      0.015      -0.353      -0.037\n",
              "ar.L29         0.0099      0.072      0.138      0.891      -0.131       0.151\n",
              "ar.L30         0.1232      0.069      1.791      0.073      -0.012       0.258\n",
              "ar.L31        -0.1206      0.063     -1.921      0.055      -0.244       0.002\n",
              "ar.S.L7       -0.5701      0.153     -3.718      0.000      -0.871      -0.270\n",
              "sigma2      2121.9601    162.579     13.052      0.000    1803.311    2440.610\n",
              "===================================================================================\n",
              "Ljung-Box (Q):                       20.10   Jarque-Bera (JB):                12.86\n",
              "Prob(Q):                              1.00   Prob(JB):                         0.00\n",
              "Heteroskedasticity (H):               1.46   Skew:                            -0.29\n",
              "Prob(H) (two-sided):                  0.04   Kurtosis:                         3.73\n",
              "===================================================================================\n",
              "\n",
              "Warnings:\n",
              "[1] Covariance matrix calculated using the outer product of gradients (complex-step).\n",
              "\"\"\""
            ]
          },
          "metadata": {},
          "execution_count": 46
        }
      ]
    },
    {
      "cell_type": "code",
      "source": [
        "results_pred = results.get_forecast(31)\n",
        "results_mean = results_pred.predicted_mean\n",
        "plt.plot([i for i in range(365,396)], results_mean, label='SARIMA sur 31 jours')\n",
        "plt.plot(nbre_acc_j_dataframe, label='Valeurs réelles')\n",
        "plt.legend()"
      ],
      "metadata": {
        "colab": {
          "base_uri": "https://localhost:8080/",
          "height": 283
        },
        "id": "kz1FboMAvQri",
        "outputId": "82c38d35-ebed-43c4-b65f-ab650219544c"
      },
      "execution_count": 47,
      "outputs": [
        {
          "output_type": "execute_result",
          "data": {
            "text/plain": [
              "<matplotlib.legend.Legend at 0x7fd0ef860990>"
            ]
          },
          "metadata": {},
          "execution_count": 47
        },
        {
          "output_type": "display_data",
          "data": {
            "image/png": "[encoded data removed]",
            "text/plain": [
              "<Figure size 432x288 with 1 Axes>"
            ]
          },
          "metadata": {
            "needs_background": "light"
          }
        }
      ]
    }
  ]
}