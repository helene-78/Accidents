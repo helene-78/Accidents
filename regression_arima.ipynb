{
 "cells": [
  {
   "cell_type": "code",
   "execution_count": 1,
   "metadata": {
    "id": "8-ZUrywWMjZH"
   },
   "outputs": [],
   "source": [
    "import pandas as pd\n",
    "import numpy as np\n",
    "from imblearn.over_sampling import SMOTE # Pour avoir 50 % de 0 et 50 % de 1 dans la colonne presence_accident\n",
    "from sklearn.linear_model import LogisticRegression # Regression logistique\n",
    "from sklearn import metrics\n",
    "from sklearn.model_selection import RepeatedKFold #KFold répété, pour mieux entraîner le modèle\n",
    "from sklearn.model_selection import train_test_split\n",
    "import seaborn as sns #Tableau des corrélations\n",
    "import matplotlib.pyplot as plt \n",
    "import plotly.express as px # Pour faire des graphes dans l'interface Dash"
   ]
  },
  {
   "cell_type": "markdown",
   "metadata": {
    "id": "e5phrpM9SL0O"
   },
   "source": [
    "**Importation du dataframe df_utiles traité dans prep_df_utiles.ipynb**"
   ]
  },
  {
   "cell_type": "code",
   "execution_count": 2,
   "metadata": {
    "id": "GpmsJOB1UVKz"
   },
   "outputs": [],
   "source": [
    "df_utiles = pd.read_csv(\"df_utiles.csv\")"
   ]
  },
  {
   "cell_type": "code",
   "execution_count": 3,
   "metadata": {},
   "outputs": [],
   "source": [
    "df_utiles['lat'] = df_utiles['lat'].str.replace(',', '.').astype(float)\n",
    "df_utiles['long'] = df_utiles['long'].str.replace(',', '.').astype(float)\n",
    "\n",
    "# Pour avoir les coordonnées GPS en float, sinon plotly.express (px) ne peut pas les afficher sur la carte de France"
   ]
  },
  {
   "cell_type": "code",
   "execution_count": 4,
   "metadata": {
    "colab": {
     "base_uri": "https://localhost:8080/"
    },
    "id": "5ZkoK0wWVyQj",
    "outputId": "b134f55f-14f3-4dbf-9bd9-047f7759268c"
   },
   "outputs": [
    {
     "data": {
      "text/plain": [
       "Index(['Unnamed: 0', 'jour', 'mois', 'an', 'hrmn', 'lum', 'dep', 'agg', 'int',\n",
       "       'atm', 'col', 'lat', 'long', 'place', 'catu', 'grav', 'sexe', 'an_nais',\n",
       "       'trajet', 'secu1', 'secu2', 'secu3', 'locp', 'actp', 'etatp', 'catr',\n",
       "       'circ', 'nbv', 'vosp', 'prof', 'pr', 'pr1', 'plan', 'surf', 'infra',\n",
       "       'situ', 'vma', 'senc', 'catv', 'obs', 'obsm', 'choc', 'manv', 'motor'],\n",
       "      dtype='object')"
      ]
     },
     "execution_count": 4,
     "metadata": {},
     "output_type": "execute_result"
    }
   ],
   "source": [
    "df_utiles.columns # Liste des colonnes"
   ]
  },
  {
   "cell_type": "code",
   "execution_count": 5,
   "metadata": {},
   "outputs": [],
   "source": [
    "# On recode catv pour regrouper les véhicules en catégories:\n",
    "# 1 : véhicules légers (VL, VU)\n",
    "# 2 : Sans permis (< 125 cm3)\n",
    "# 3 : Poids lourds\n",
    "# 4 : transports en commun\n",
    "# 5 : > 125 cm3\n",
    "\n",
    "def func(x):\n",
    "    if x in [7,10]:\n",
    "        x=1; \n",
    "    elif (x in [1, 2, 3, 30, 31, 32, 50, 60, 80, 99, 35, 41, 42]):\n",
    "        x=2; \n",
    "    elif (x in [13, 14, 15, 16, 17, 20, 21]) :\n",
    "        x=3 \n",
    "    elif (x in  [37, 38, 39, 40])  :\n",
    "        x= 4 \n",
    "    elif (x in [33, 34, 36, 43]) : #voir dans la description si on peut mettre un else à la place\n",
    "        x= 5 \n",
    "    return x\n",
    "\n",
    "        \n",
    "df_utiles['catv'] = df_utiles['catv'].apply(func)\n"
   ]
  },
  {
   "cell_type": "markdown",
   "metadata": {
    "id": "JoAxBCR2xwEq"
   },
   "source": [
    "**Analyse statistique des données de df_utiles.csv : matrice des corrélations (en commentaire car fait planter Jupyter)**"
   ]
  },
  {
   "cell_type": "code",
   "execution_count": 6,
   "metadata": {
    "colab": {
     "base_uri": "https://localhost:8080/",
     "height": 605
    },
    "id": "Wt_opqQix0Pm",
    "outputId": "09800f70-8d3f-4513-deab-14aeaa8a9856"
   },
   "outputs": [],
   "source": [
    "#corr = df_utiles.drop(['an', 'presence_deces'], axis=1).corr()\n",
    "#f, ax = plt.subplots(figsize=(11, 9))\n",
    "#cmap = sns.diverging_palette(230, 20, as_cmap=True)\n",
    "#sns.heatmap(corr, cmap=cmap, vmax=.3, center=0, square=True, linewidths=.5, cbar_kws={\"shrink\": .5})"
   ]
  },
  {
   "cell_type": "markdown",
   "metadata": {
    "id": "zdzSAkdxOhPx"
   },
   "source": [
    "**Test ARIMA pour anticiper nbre accidents**"
   ]
  },
  {
   "cell_type": "code",
   "execution_count": 7,
   "metadata": {
    "colab": {
     "base_uri": "https://localhost:8080/"
    },
    "id": "vwk0OEZcWQZy",
    "outputId": "2576afc4-9634-439e-914c-16656f2e2481"
   },
   "outputs": [
    {
     "name": "stdout",
     "output_type": "stream",
     "text": [
      "Note: you may need to restart the kernel to use updated packages.\n"
     ]
    },
    {
     "name": "stderr",
     "output_type": "stream",
     "text": [
      "ERROR: Invalid requirement: '#statsmodels,'\n"
     ]
    }
   ],
   "source": [
    "pip install statsmodels #statsmodels, pour utiliser le module de séries temp SARIMAX"
   ]
  },
  {
   "cell_type": "code",
   "execution_count": 8,
   "metadata": {
    "id": "chyVVfATOlhV"
   },
   "outputs": [],
   "source": [
    "# ARIMA\n",
    "import matplotlib\n",
    "import matplotlib.pyplot as plt\n",
    "import matplotlib.dates as mdates\n",
    "from statsmodels.tsa.statespace.sarimax import SARIMAX # SARIMAX = modèle de séries temp"
   ]
  },
  {
   "cell_type": "markdown",
   "metadata": {
    "id": "eRYIlFZxXxAn"
   },
   "source": [
    "**But : obtenir la colonne nbre_acc_j qui représente le nombre d'accidents par jour**"
   ]
  },
  {
   "cell_type": "code",
   "execution_count": 9,
   "metadata": {
    "colab": {
     "base_uri": "https://localhost:8080/",
     "height": 855
    },
    "id": "zaUxXbT0OpAA",
    "outputId": "11cfb892-12bf-4239-c32f-5e43d5b647c3",
    "scrolled": true
   },
   "outputs": [],
   "source": [
    "from datetime import date\n",
    "df_utiles = pd.read_csv('df_utiles.csv')\n",
    "# la colonne \"jour_format_normal\" contient la date au format standard dd/mm/yyyy\n",
    "df_utiles[\"jour_format_normal\"] = 0 # Initialisation de la colonne\n",
    "df_utiles[\"jour_format_normal\"] = df_utiles[\"jour\"].astype(str)+'/'+df_utiles[\"mois\"].astype(str)+'/'+df_utiles[\"an\"].astype(str)\n",
    "df_utiles[\"jour_format_normal\"] = pd.to_datetime(df_utiles[\"jour_format_normal\"], format=\"%d/%m/%Y\")\n",
    "df_utiles[\"colonne_soustraction\"] = date(df_utiles[\"an\"].iloc[0], 1, 1) # Création d'une colonne remplie avec la date du 01/01/2019\n",
    "df_utiles[\"colonne_soustraction\"] = pd.to_datetime(df_utiles[\"colonne_soustraction\"]) #Pour transformer en objet date \n",
    "df_utiles[\"nbre_j\"] = df_utiles[\"jour_format_normal\"] - df_utiles[\"colonne_soustraction\"] # Permet d'obtenir une colonne contenant, pour chaque accident,\n",
    "# Le nombre de jours écoulés depuis le 01/01/2019\n",
    "\n",
    "def datification(x):\n",
    "    return x.days # Permet d'obtenir l'entier contenu par l'objet \"date\" de Python\n",
    "df_utiles[\"nbre_j\"] = df_utiles[\"nbre_j\"].apply(datification) #Maintenant nbre_j est une colonne d'entiers\n",
    "nbre_acc_j = df_utiles.groupby(['nbre_j']).agg('count').jour.values #Nbre d'accidents (ou de victimes d'accidents jsp) par jour\n",
    "ts = pd.Series(nbre_acc_j, index=pd.date_range(\"1/1/2019\", periods=365)) # Objet Series de pandas, pour faire des graphes"
   ]
  },
  {
   "cell_type": "markdown",
   "metadata": {
    "id": "bltALNZJX70n"
   },
   "source": [
    "**SARIMAX : prédire nbre d'accidents en s'appuyant sur les données déjà enregistrées**"
   ]
  },
  {
   "cell_type": "markdown",
   "metadata": {
    "id": "qGSOF5ZeY4hn"
   },
   "source": [
    "**Graphe d'autocorrélation (les deux dernières lignes de code font planter Jupyter donc sont en commentaire)**"
   ]
  },
  {
   "cell_type": "code",
   "execution_count": 10,
   "metadata": {
    "colab": {
     "base_uri": "https://localhost:8080/",
     "height": 281
    },
    "id": "RcBVMkcAX7Z8",
    "outputId": "6366f251-4b29-4389-ae0f-a62bbc64c3d3"
   },
   "outputs": [],
   "source": [
    "from statsmodels.graphics.tsaplots import plot_acf\n",
    "\n",
    "# Subtract the rolling mean\n",
    "nbre_acc_j_dataframe = pd.DataFrame(nbre_acc_j)\n",
    "nbre_acc_rolling = nbre_acc_j_dataframe - nbre_acc_j_dataframe.rolling(15).mean()\n",
    "\n",
    "# Drop the NaN values\n",
    "nbre_acc_rolling = nbre_acc_rolling.dropna()\n",
    "\n",
    "# Create figure and subplots\n",
    "#fig, ax1 = plt.subplots()\n",
    "\n",
    "# Plot the ACF\n",
    "#plot_acf(nbre_acc_rolling, lags=25, zero=False, ax=ax1);"
   ]
  },
  {
   "cell_type": "markdown",
   "metadata": {
    "id": "nPePWfiJZCXp"
   },
   "source": [
    "Conclusion : la composante saisonale a pour période 7 (abscisse du max sur le plot ci-dessus)"
   ]
  },
  {
   "cell_type": "code",
   "execution_count": 11,
   "metadata": {
    "colab": {
     "base_uri": "https://localhost:8080/",
     "height": 1000
    },
    "id": "x3sRVwcrZSuh",
    "outputId": "67ed0764-cc55-4bfd-e749-b35c3c84fe32"
   },
   "outputs": [
    {
     "data": {
      "text/html": [
       "<table class=\"simpletable\">\n",
       "<caption>SARIMAX Results</caption>\n",
       "<tr>\n",
       "  <th>Dep. Variable:</th>                 <td>y</td>               <th>  No. Observations:  </th>    <td>365</td>   \n",
       "</tr>\n",
       "<tr>\n",
       "  <th>Model:</th>           <td>SARIMAX(5, 0, 0)x(1, 1, 0, 7)</td> <th>  Log Likelihood     </th> <td>-1939.442</td>\n",
       "</tr>\n",
       "<tr>\n",
       "  <th>Date:</th>                  <td>Wed, 29 Dec 2021</td>        <th>  AIC                </th> <td>3892.884</td> \n",
       "</tr>\n",
       "<tr>\n",
       "  <th>Time:</th>                      <td>23:21:47</td>            <th>  BIC                </th> <td>3920.048</td> \n",
       "</tr>\n",
       "<tr>\n",
       "  <th>Sample:</th>                        <td>0</td>               <th>  HQIC               </th> <td>3903.687</td> \n",
       "</tr>\n",
       "<tr>\n",
       "  <th></th>                            <td> - 365</td>             <th>                     </th>     <td> </td>    \n",
       "</tr>\n",
       "<tr>\n",
       "  <th>Covariance Type:</th>              <td>opg</td>              <th>                     </th>     <td> </td>    \n",
       "</tr>\n",
       "</table>\n",
       "<table class=\"simpletable\">\n",
       "<tr>\n",
       "     <td></td>        <th>coef</th>     <th>std err</th>      <th>z</th>      <th>P>|z|</th>  <th>[0.025</th>    <th>0.975]</th>  \n",
       "</tr>\n",
       "<tr>\n",
       "  <th>ar.L1</th>   <td>    0.2613</td> <td>    0.052</td> <td>    5.074</td> <td> 0.000</td> <td>    0.160</td> <td>    0.362</td>\n",
       "</tr>\n",
       "<tr>\n",
       "  <th>ar.L2</th>   <td>    0.1273</td> <td>    0.057</td> <td>    2.221</td> <td> 0.026</td> <td>    0.015</td> <td>    0.240</td>\n",
       "</tr>\n",
       "<tr>\n",
       "  <th>ar.L3</th>   <td>    0.0942</td> <td>    0.055</td> <td>    1.725</td> <td> 0.085</td> <td>   -0.013</td> <td>    0.201</td>\n",
       "</tr>\n",
       "<tr>\n",
       "  <th>ar.L4</th>   <td>    0.0820</td> <td>    0.058</td> <td>    1.416</td> <td> 0.157</td> <td>   -0.031</td> <td>    0.195</td>\n",
       "</tr>\n",
       "<tr>\n",
       "  <th>ar.L5</th>   <td>    0.0144</td> <td>    0.056</td> <td>    0.256</td> <td> 0.798</td> <td>   -0.096</td> <td>    0.125</td>\n",
       "</tr>\n",
       "<tr>\n",
       "  <th>ar.S.L7</th> <td>   -0.3782</td> <td>    0.051</td> <td>   -7.450</td> <td> 0.000</td> <td>   -0.478</td> <td>   -0.279</td>\n",
       "</tr>\n",
       "<tr>\n",
       "  <th>sigma2</th>  <td> 2961.9204</td> <td>  210.258</td> <td>   14.087</td> <td> 0.000</td> <td> 2549.822</td> <td> 3374.019</td>\n",
       "</tr>\n",
       "</table>\n",
       "<table class=\"simpletable\">\n",
       "<tr>\n",
       "  <th>Ljung-Box (Q):</th>          <td>94.09</td> <th>  Jarque-Bera (JB):  </th> <td>4.15</td> \n",
       "</tr>\n",
       "<tr>\n",
       "  <th>Prob(Q):</th>                <td>0.00</td>  <th>  Prob(JB):          </th> <td>0.13</td> \n",
       "</tr>\n",
       "<tr>\n",
       "  <th>Heteroskedasticity (H):</th> <td>1.49</td>  <th>  Skew:              </th> <td>-0.13</td>\n",
       "</tr>\n",
       "<tr>\n",
       "  <th>Prob(H) (two-sided):</th>    <td>0.03</td>  <th>  Kurtosis:          </th> <td>3.46</td> \n",
       "</tr>\n",
       "</table><br/><br/>Warnings:<br/>[1] Covariance matrix calculated using the outer product of gradients (complex-step)."
      ],
      "text/plain": [
       "<class 'statsmodels.iolib.summary.Summary'>\n",
       "\"\"\"\n",
       "                                     SARIMAX Results                                     \n",
       "=========================================================================================\n",
       "Dep. Variable:                                 y   No. Observations:                  365\n",
       "Model:             SARIMAX(5, 0, 0)x(1, 1, 0, 7)   Log Likelihood               -1939.442\n",
       "Date:                           Wed, 29 Dec 2021   AIC                           3892.884\n",
       "Time:                                   23:21:47   BIC                           3920.048\n",
       "Sample:                                        0   HQIC                          3903.687\n",
       "                                           - 365                                         \n",
       "Covariance Type:                             opg                                         \n",
       "==============================================================================\n",
       "                 coef    std err          z      P>|z|      [0.025      0.975]\n",
       "------------------------------------------------------------------------------\n",
       "ar.L1          0.2613      0.052      5.074      0.000       0.160       0.362\n",
       "ar.L2          0.1273      0.057      2.221      0.026       0.015       0.240\n",
       "ar.L3          0.0942      0.055      1.725      0.085      -0.013       0.201\n",
       "ar.L4          0.0820      0.058      1.416      0.157      -0.031       0.195\n",
       "ar.L5          0.0144      0.056      0.256      0.798      -0.096       0.125\n",
       "ar.S.L7       -0.3782      0.051     -7.450      0.000      -0.478      -0.279\n",
       "sigma2      2961.9204    210.258     14.087      0.000    2549.822    3374.019\n",
       "===================================================================================\n",
       "Ljung-Box (Q):                       94.09   Jarque-Bera (JB):                 4.15\n",
       "Prob(Q):                              0.00   Prob(JB):                         0.13\n",
       "Heteroskedasticity (H):               1.49   Skew:                            -0.13\n",
       "Prob(H) (two-sided):                  0.03   Kurtosis:                         3.46\n",
       "===================================================================================\n",
       "\n",
       "Warnings:\n",
       "[1] Covariance matrix calculated using the outer product of gradients (complex-step).\n",
       "\"\"\""
      ]
     },
     "execution_count": 11,
     "metadata": {},
     "output_type": "execute_result"
    }
   ],
   "source": [
    "from statsmodels.tsa.statespace.sarimax import SARIMAX\n",
    "\n",
    "# Create a SARIMAX model\n",
    "model = SARIMAX(nbre_acc_j, order=(5, 0, 0), seasonal_order=(1, 1, 0, 7)) # Le 7 correspond à la période déterminée ci-dessus\n",
    "\n",
    "# Fit the model\n",
    "results = model.fit()\n",
    "\n",
    "# Print the results summary\n",
    "results.summary()"
   ]
  },
  {
   "cell_type": "code",
   "execution_count": 12,
   "metadata": {
    "colab": {
     "base_uri": "https://localhost:8080/",
     "height": 283
    },
    "id": "kz1FboMAvQri",
    "outputId": "82c38d35-ebed-43c4-b65f-ab650219544c"
   },
   "outputs": [
    {
     "name": "stdout",
     "output_type": "stream",
     "text": [
      "                     0\n",
      "2019-01-01  263.000000\n",
      "2019-01-02  239.000000\n",
      "2019-01-03  255.000000\n",
      "2019-01-04  298.000000\n",
      "2019-01-05  287.000000\n",
      "...                ...\n",
      "2020-01-27  288.707718\n",
      "2020-01-28  285.484090\n",
      "2020-01-29  209.327054\n",
      "2020-01-30  274.996645\n",
      "2020-01-31  317.725944\n",
      "\n",
      "[396 rows x 1 columns]\n"
     ]
    }
   ],
   "source": [
    "results_pred = results.get_forecast(31) #Utilise le modèle précédent afin de prédire 31 nouvelles valeurs (mois de janvier 2020)\n",
    "results_mean = results_pred.predicted_mean #Je ne sais pas trop\n",
    "results_mean = pd.DataFrame(results_mean) #En objet dataframe\n",
    "results_final = nbre_acc_j_dataframe.append(results_mean) #On adjoint les 31 prédictions aux valeurs réelles afin de tout afficher\n",
    "results_final = results_final.reset_index() #Après cette fusion de dataframe, l'index est cassé, on le réinitialise donc\n",
    "results_final = results_final.drop(\"index\", axis=1) #La commande précédent ajoute une colonne \"index\" inutile dans le DataFrame, on la supprime\n",
    "date_index = pd.date_range('1/1/2019', periods=396, freq='D') #Pour avoir les dates en abscisse (365 + 31 = 396 jours)\n",
    "results_final = results_final.set_index(date_index)\n",
    "print(results_final)"
   ]
  },
  {
   "cell_type": "markdown",
   "metadata": {},
   "source": [
    "# Récupération des frontières des régions françaises"
   ]
  },
  {
   "cell_type": "code",
   "execution_count": 13,
   "metadata": {
    "colab": {
     "base_uri": "https://localhost:8080/"
    },
    "id": "dRiu7jxHlbkk",
    "outputId": "3ea7d739-543f-4515-dddb-4bb4b5e38d70"
   },
   "outputs": [
    {
     "ename": "URLError",
     "evalue": "<urlopen error [SSL: CERTIFICATE_VERIFY_FAILED] certificate verify failed: certificate has expired (_ssl.c:1108)>",
     "output_type": "error",
     "traceback": [
      "\u001b[1;31m---------------------------------------------------------------------------\u001b[0m",
      "\u001b[1;31mSSLCertVerificationError\u001b[0m                  Traceback (most recent call last)",
      "\u001b[1;32mD:\\anaconda3\\lib\\urllib\\request.py\u001b[0m in \u001b[0;36mdo_open\u001b[1;34m(self, http_class, req, **http_conn_args)\u001b[0m\n\u001b[0;32m   1349\u001b[0m             \u001b[1;32mtry\u001b[0m\u001b[1;33m:\u001b[0m\u001b[1;33m\u001b[0m\u001b[1;33m\u001b[0m\u001b[0m\n\u001b[1;32m-> 1350\u001b[1;33m                 h.request(req.get_method(), req.selector, req.data, headers,\n\u001b[0m\u001b[0;32m   1351\u001b[0m                           encode_chunked=req.has_header('Transfer-encoding'))\n",
      "\u001b[1;32mD:\\anaconda3\\lib\\http\\client.py\u001b[0m in \u001b[0;36mrequest\u001b[1;34m(self, method, url, body, headers, encode_chunked)\u001b[0m\n\u001b[0;32m   1239\u001b[0m         \u001b[1;34m\"\"\"Send a complete request to the server.\"\"\"\u001b[0m\u001b[1;33m\u001b[0m\u001b[1;33m\u001b[0m\u001b[0m\n\u001b[1;32m-> 1240\u001b[1;33m         \u001b[0mself\u001b[0m\u001b[1;33m.\u001b[0m\u001b[0m_send_request\u001b[0m\u001b[1;33m(\u001b[0m\u001b[0mmethod\u001b[0m\u001b[1;33m,\u001b[0m \u001b[0murl\u001b[0m\u001b[1;33m,\u001b[0m \u001b[0mbody\u001b[0m\u001b[1;33m,\u001b[0m \u001b[0mheaders\u001b[0m\u001b[1;33m,\u001b[0m \u001b[0mencode_chunked\u001b[0m\u001b[1;33m)\u001b[0m\u001b[1;33m\u001b[0m\u001b[1;33m\u001b[0m\u001b[0m\n\u001b[0m\u001b[0;32m   1241\u001b[0m \u001b[1;33m\u001b[0m\u001b[0m\n",
      "\u001b[1;32mD:\\anaconda3\\lib\\http\\client.py\u001b[0m in \u001b[0;36m_send_request\u001b[1;34m(self, method, url, body, headers, encode_chunked)\u001b[0m\n\u001b[0;32m   1285\u001b[0m             \u001b[0mbody\u001b[0m \u001b[1;33m=\u001b[0m \u001b[0m_encode\u001b[0m\u001b[1;33m(\u001b[0m\u001b[0mbody\u001b[0m\u001b[1;33m,\u001b[0m \u001b[1;34m'body'\u001b[0m\u001b[1;33m)\u001b[0m\u001b[1;33m\u001b[0m\u001b[1;33m\u001b[0m\u001b[0m\n\u001b[1;32m-> 1286\u001b[1;33m         \u001b[0mself\u001b[0m\u001b[1;33m.\u001b[0m\u001b[0mendheaders\u001b[0m\u001b[1;33m(\u001b[0m\u001b[0mbody\u001b[0m\u001b[1;33m,\u001b[0m \u001b[0mencode_chunked\u001b[0m\u001b[1;33m=\u001b[0m\u001b[0mencode_chunked\u001b[0m\u001b[1;33m)\u001b[0m\u001b[1;33m\u001b[0m\u001b[1;33m\u001b[0m\u001b[0m\n\u001b[0m\u001b[0;32m   1287\u001b[0m \u001b[1;33m\u001b[0m\u001b[0m\n",
      "\u001b[1;32mD:\\anaconda3\\lib\\http\\client.py\u001b[0m in \u001b[0;36mendheaders\u001b[1;34m(self, message_body, encode_chunked)\u001b[0m\n\u001b[0;32m   1234\u001b[0m             \u001b[1;32mraise\u001b[0m \u001b[0mCannotSendHeader\u001b[0m\u001b[1;33m(\u001b[0m\u001b[1;33m)\u001b[0m\u001b[1;33m\u001b[0m\u001b[1;33m\u001b[0m\u001b[0m\n\u001b[1;32m-> 1235\u001b[1;33m         \u001b[0mself\u001b[0m\u001b[1;33m.\u001b[0m\u001b[0m_send_output\u001b[0m\u001b[1;33m(\u001b[0m\u001b[0mmessage_body\u001b[0m\u001b[1;33m,\u001b[0m \u001b[0mencode_chunked\u001b[0m\u001b[1;33m=\u001b[0m\u001b[0mencode_chunked\u001b[0m\u001b[1;33m)\u001b[0m\u001b[1;33m\u001b[0m\u001b[1;33m\u001b[0m\u001b[0m\n\u001b[0m\u001b[0;32m   1236\u001b[0m \u001b[1;33m\u001b[0m\u001b[0m\n",
      "\u001b[1;32mD:\\anaconda3\\lib\\http\\client.py\u001b[0m in \u001b[0;36m_send_output\u001b[1;34m(self, message_body, encode_chunked)\u001b[0m\n\u001b[0;32m   1005\u001b[0m         \u001b[1;32mdel\u001b[0m \u001b[0mself\u001b[0m\u001b[1;33m.\u001b[0m\u001b[0m_buffer\u001b[0m\u001b[1;33m[\u001b[0m\u001b[1;33m:\u001b[0m\u001b[1;33m]\u001b[0m\u001b[1;33m\u001b[0m\u001b[1;33m\u001b[0m\u001b[0m\n\u001b[1;32m-> 1006\u001b[1;33m         \u001b[0mself\u001b[0m\u001b[1;33m.\u001b[0m\u001b[0msend\u001b[0m\u001b[1;33m(\u001b[0m\u001b[0mmsg\u001b[0m\u001b[1;33m)\u001b[0m\u001b[1;33m\u001b[0m\u001b[1;33m\u001b[0m\u001b[0m\n\u001b[0m\u001b[0;32m   1007\u001b[0m \u001b[1;33m\u001b[0m\u001b[0m\n",
      "\u001b[1;32mD:\\anaconda3\\lib\\http\\client.py\u001b[0m in \u001b[0;36msend\u001b[1;34m(self, data)\u001b[0m\n\u001b[0;32m    945\u001b[0m             \u001b[1;32mif\u001b[0m \u001b[0mself\u001b[0m\u001b[1;33m.\u001b[0m\u001b[0mauto_open\u001b[0m\u001b[1;33m:\u001b[0m\u001b[1;33m\u001b[0m\u001b[1;33m\u001b[0m\u001b[0m\n\u001b[1;32m--> 946\u001b[1;33m                 \u001b[0mself\u001b[0m\u001b[1;33m.\u001b[0m\u001b[0mconnect\u001b[0m\u001b[1;33m(\u001b[0m\u001b[1;33m)\u001b[0m\u001b[1;33m\u001b[0m\u001b[1;33m\u001b[0m\u001b[0m\n\u001b[0m\u001b[0;32m    947\u001b[0m             \u001b[1;32melse\u001b[0m\u001b[1;33m:\u001b[0m\u001b[1;33m\u001b[0m\u001b[1;33m\u001b[0m\u001b[0m\n",
      "\u001b[1;32mD:\\anaconda3\\lib\\http\\client.py\u001b[0m in \u001b[0;36mconnect\u001b[1;34m(self)\u001b[0m\n\u001b[0;32m   1408\u001b[0m \u001b[1;33m\u001b[0m\u001b[0m\n\u001b[1;32m-> 1409\u001b[1;33m             self.sock = self._context.wrap_socket(self.sock,\n\u001b[0m\u001b[0;32m   1410\u001b[0m                                                   server_hostname=server_hostname)\n",
      "\u001b[1;32mD:\\anaconda3\\lib\\ssl.py\u001b[0m in \u001b[0;36mwrap_socket\u001b[1;34m(self, sock, server_side, do_handshake_on_connect, suppress_ragged_eofs, server_hostname, session)\u001b[0m\n\u001b[0;32m    499\u001b[0m         \u001b[1;31m# ctx._wrap_socket()\u001b[0m\u001b[1;33m\u001b[0m\u001b[1;33m\u001b[0m\u001b[1;33m\u001b[0m\u001b[0m\n\u001b[1;32m--> 500\u001b[1;33m         return self.sslsocket_class._create(\n\u001b[0m\u001b[0;32m    501\u001b[0m             \u001b[0msock\u001b[0m\u001b[1;33m=\u001b[0m\u001b[0msock\u001b[0m\u001b[1;33m,\u001b[0m\u001b[1;33m\u001b[0m\u001b[1;33m\u001b[0m\u001b[0m\n",
      "\u001b[1;32mD:\\anaconda3\\lib\\ssl.py\u001b[0m in \u001b[0;36m_create\u001b[1;34m(cls, sock, server_side, do_handshake_on_connect, suppress_ragged_eofs, server_hostname, context, session)\u001b[0m\n\u001b[0;32m   1039\u001b[0m                         \u001b[1;32mraise\u001b[0m \u001b[0mValueError\u001b[0m\u001b[1;33m(\u001b[0m\u001b[1;34m\"do_handshake_on_connect should not be specified for non-blocking sockets\"\u001b[0m\u001b[1;33m)\u001b[0m\u001b[1;33m\u001b[0m\u001b[1;33m\u001b[0m\u001b[0m\n\u001b[1;32m-> 1040\u001b[1;33m                     \u001b[0mself\u001b[0m\u001b[1;33m.\u001b[0m\u001b[0mdo_handshake\u001b[0m\u001b[1;33m(\u001b[0m\u001b[1;33m)\u001b[0m\u001b[1;33m\u001b[0m\u001b[1;33m\u001b[0m\u001b[0m\n\u001b[0m\u001b[0;32m   1041\u001b[0m             \u001b[1;32mexcept\u001b[0m \u001b[1;33m(\u001b[0m\u001b[0mOSError\u001b[0m\u001b[1;33m,\u001b[0m \u001b[0mValueError\u001b[0m\u001b[1;33m)\u001b[0m\u001b[1;33m:\u001b[0m\u001b[1;33m\u001b[0m\u001b[1;33m\u001b[0m\u001b[0m\n",
      "\u001b[1;32mD:\\anaconda3\\lib\\ssl.py\u001b[0m in \u001b[0;36mdo_handshake\u001b[1;34m(self, block)\u001b[0m\n\u001b[0;32m   1308\u001b[0m                 \u001b[0mself\u001b[0m\u001b[1;33m.\u001b[0m\u001b[0msettimeout\u001b[0m\u001b[1;33m(\u001b[0m\u001b[1;32mNone\u001b[0m\u001b[1;33m)\u001b[0m\u001b[1;33m\u001b[0m\u001b[1;33m\u001b[0m\u001b[0m\n\u001b[1;32m-> 1309\u001b[1;33m             \u001b[0mself\u001b[0m\u001b[1;33m.\u001b[0m\u001b[0m_sslobj\u001b[0m\u001b[1;33m.\u001b[0m\u001b[0mdo_handshake\u001b[0m\u001b[1;33m(\u001b[0m\u001b[1;33m)\u001b[0m\u001b[1;33m\u001b[0m\u001b[1;33m\u001b[0m\u001b[0m\n\u001b[0m\u001b[0;32m   1310\u001b[0m         \u001b[1;32mfinally\u001b[0m\u001b[1;33m:\u001b[0m\u001b[1;33m\u001b[0m\u001b[1;33m\u001b[0m\u001b[0m\n",
      "\u001b[1;31mSSLCertVerificationError\u001b[0m: [SSL: CERTIFICATE_VERIFY_FAILED] certificate verify failed: certificate has expired (_ssl.c:1108)",
      "\nDuring handling of the above exception, another exception occurred:\n",
      "\u001b[1;31mURLError\u001b[0m                                  Traceback (most recent call last)",
      "\u001b[1;32m<ipython-input-13-348b0d21c88b>\u001b[0m in \u001b[0;36m<module>\u001b[1;34m\u001b[0m\n\u001b[1;32m----> 1\u001b[1;33m \u001b[0mfr_regions\u001b[0m \u001b[1;33m=\u001b[0m \u001b[0mpd\u001b[0m\u001b[1;33m.\u001b[0m\u001b[0mread_json\u001b[0m\u001b[1;33m(\u001b[0m\u001b[1;34m'https://france-geojson.gregoiredavid.fr/repo/regions.geojson'\u001b[0m\u001b[1;33m)\u001b[0m\u001b[1;33m\u001b[0m\u001b[1;33m\u001b[0m\u001b[0m\n\u001b[0m\u001b[0;32m      2\u001b[0m \u001b[0mfr_regions\u001b[0m \u001b[1;33m=\u001b[0m \u001b[0mfr_regions\u001b[0m\u001b[1;33m.\u001b[0m\u001b[0mto_json\u001b[0m\u001b[1;33m(\u001b[0m\u001b[1;33m)\u001b[0m\u001b[1;33m\u001b[0m\u001b[1;33m\u001b[0m\u001b[0m\n\u001b[0;32m      3\u001b[0m \u001b[0mprint\u001b[0m\u001b[1;33m(\u001b[0m\u001b[0mdf_utiles\u001b[0m\u001b[1;33m)\u001b[0m \u001b[1;31m# Les frontières des régions françaises (en geojson) sont stockées dans fr_regions\u001b[0m\u001b[1;33m\u001b[0m\u001b[1;33m\u001b[0m\u001b[0m\n",
      "\u001b[1;32mD:\\anaconda3\\lib\\site-packages\\pandas\\util\\_decorators.py\u001b[0m in \u001b[0;36mwrapper\u001b[1;34m(*args, **kwargs)\u001b[0m\n\u001b[0;32m    212\u001b[0m                 \u001b[1;32melse\u001b[0m\u001b[1;33m:\u001b[0m\u001b[1;33m\u001b[0m\u001b[1;33m\u001b[0m\u001b[0m\n\u001b[0;32m    213\u001b[0m                     \u001b[0mkwargs\u001b[0m\u001b[1;33m[\u001b[0m\u001b[0mnew_arg_name\u001b[0m\u001b[1;33m]\u001b[0m \u001b[1;33m=\u001b[0m \u001b[0mnew_arg_value\u001b[0m\u001b[1;33m\u001b[0m\u001b[1;33m\u001b[0m\u001b[0m\n\u001b[1;32m--> 214\u001b[1;33m             \u001b[1;32mreturn\u001b[0m \u001b[0mfunc\u001b[0m\u001b[1;33m(\u001b[0m\u001b[1;33m*\u001b[0m\u001b[0margs\u001b[0m\u001b[1;33m,\u001b[0m \u001b[1;33m**\u001b[0m\u001b[0mkwargs\u001b[0m\u001b[1;33m)\u001b[0m\u001b[1;33m\u001b[0m\u001b[1;33m\u001b[0m\u001b[0m\n\u001b[0m\u001b[0;32m    215\u001b[0m \u001b[1;33m\u001b[0m\u001b[0m\n\u001b[0;32m    216\u001b[0m         \u001b[1;32mreturn\u001b[0m \u001b[0mcast\u001b[0m\u001b[1;33m(\u001b[0m\u001b[0mF\u001b[0m\u001b[1;33m,\u001b[0m \u001b[0mwrapper\u001b[0m\u001b[1;33m)\u001b[0m\u001b[1;33m\u001b[0m\u001b[1;33m\u001b[0m\u001b[0m\n",
      "\u001b[1;32mD:\\anaconda3\\lib\\site-packages\\pandas\\io\\json\\_json.py\u001b[0m in \u001b[0;36mread_json\u001b[1;34m(path_or_buf, orient, typ, dtype, convert_axes, convert_dates, keep_default_dates, numpy, precise_float, date_unit, encoding, lines, chunksize, compression)\u001b[0m\n\u001b[0;32m    582\u001b[0m \u001b[1;33m\u001b[0m\u001b[0m\n\u001b[0;32m    583\u001b[0m     \u001b[0mcompression\u001b[0m \u001b[1;33m=\u001b[0m \u001b[0minfer_compression\u001b[0m\u001b[1;33m(\u001b[0m\u001b[0mpath_or_buf\u001b[0m\u001b[1;33m,\u001b[0m \u001b[0mcompression\u001b[0m\u001b[1;33m)\u001b[0m\u001b[1;33m\u001b[0m\u001b[1;33m\u001b[0m\u001b[0m\n\u001b[1;32m--> 584\u001b[1;33m     filepath_or_buffer, _, compression, should_close = get_filepath_or_buffer(\n\u001b[0m\u001b[0;32m    585\u001b[0m         \u001b[0mpath_or_buf\u001b[0m\u001b[1;33m,\u001b[0m \u001b[0mencoding\u001b[0m\u001b[1;33m=\u001b[0m\u001b[0mencoding\u001b[0m\u001b[1;33m,\u001b[0m \u001b[0mcompression\u001b[0m\u001b[1;33m=\u001b[0m\u001b[0mcompression\u001b[0m\u001b[1;33m\u001b[0m\u001b[1;33m\u001b[0m\u001b[0m\n\u001b[0;32m    586\u001b[0m     )\n",
      "\u001b[1;32mD:\\anaconda3\\lib\\site-packages\\pandas\\io\\common.py\u001b[0m in \u001b[0;36mget_filepath_or_buffer\u001b[1;34m(filepath_or_buffer, encoding, compression, mode)\u001b[0m\n\u001b[0;32m    170\u001b[0m \u001b[1;33m\u001b[0m\u001b[0m\n\u001b[0;32m    171\u001b[0m     \u001b[1;32mif\u001b[0m \u001b[0misinstance\u001b[0m\u001b[1;33m(\u001b[0m\u001b[0mfilepath_or_buffer\u001b[0m\u001b[1;33m,\u001b[0m \u001b[0mstr\u001b[0m\u001b[1;33m)\u001b[0m \u001b[1;32mand\u001b[0m \u001b[0mis_url\u001b[0m\u001b[1;33m(\u001b[0m\u001b[0mfilepath_or_buffer\u001b[0m\u001b[1;33m)\u001b[0m\u001b[1;33m:\u001b[0m\u001b[1;33m\u001b[0m\u001b[1;33m\u001b[0m\u001b[0m\n\u001b[1;32m--> 172\u001b[1;33m         \u001b[0mreq\u001b[0m \u001b[1;33m=\u001b[0m \u001b[0murlopen\u001b[0m\u001b[1;33m(\u001b[0m\u001b[0mfilepath_or_buffer\u001b[0m\u001b[1;33m)\u001b[0m\u001b[1;33m\u001b[0m\u001b[1;33m\u001b[0m\u001b[0m\n\u001b[0m\u001b[0;32m    173\u001b[0m         \u001b[0mcontent_encoding\u001b[0m \u001b[1;33m=\u001b[0m \u001b[0mreq\u001b[0m\u001b[1;33m.\u001b[0m\u001b[0mheaders\u001b[0m\u001b[1;33m.\u001b[0m\u001b[0mget\u001b[0m\u001b[1;33m(\u001b[0m\u001b[1;34m\"Content-Encoding\"\u001b[0m\u001b[1;33m,\u001b[0m \u001b[1;32mNone\u001b[0m\u001b[1;33m)\u001b[0m\u001b[1;33m\u001b[0m\u001b[1;33m\u001b[0m\u001b[0m\n\u001b[0;32m    174\u001b[0m         \u001b[1;32mif\u001b[0m \u001b[0mcontent_encoding\u001b[0m \u001b[1;33m==\u001b[0m \u001b[1;34m\"gzip\"\u001b[0m\u001b[1;33m:\u001b[0m\u001b[1;33m\u001b[0m\u001b[1;33m\u001b[0m\u001b[0m\n",
      "\u001b[1;32mD:\\anaconda3\\lib\\site-packages\\pandas\\io\\common.py\u001b[0m in \u001b[0;36murlopen\u001b[1;34m(*args, **kwargs)\u001b[0m\n\u001b[0;32m    139\u001b[0m     \u001b[1;32mimport\u001b[0m \u001b[0murllib\u001b[0m\u001b[1;33m.\u001b[0m\u001b[0mrequest\u001b[0m\u001b[1;33m\u001b[0m\u001b[1;33m\u001b[0m\u001b[0m\n\u001b[0;32m    140\u001b[0m \u001b[1;33m\u001b[0m\u001b[0m\n\u001b[1;32m--> 141\u001b[1;33m     \u001b[1;32mreturn\u001b[0m \u001b[0murllib\u001b[0m\u001b[1;33m.\u001b[0m\u001b[0mrequest\u001b[0m\u001b[1;33m.\u001b[0m\u001b[0murlopen\u001b[0m\u001b[1;33m(\u001b[0m\u001b[1;33m*\u001b[0m\u001b[0margs\u001b[0m\u001b[1;33m,\u001b[0m \u001b[1;33m**\u001b[0m\u001b[0mkwargs\u001b[0m\u001b[1;33m)\u001b[0m\u001b[1;33m\u001b[0m\u001b[1;33m\u001b[0m\u001b[0m\n\u001b[0m\u001b[0;32m    142\u001b[0m \u001b[1;33m\u001b[0m\u001b[0m\n\u001b[0;32m    143\u001b[0m \u001b[1;33m\u001b[0m\u001b[0m\n",
      "\u001b[1;32mD:\\anaconda3\\lib\\urllib\\request.py\u001b[0m in \u001b[0;36murlopen\u001b[1;34m(url, data, timeout, cafile, capath, cadefault, context)\u001b[0m\n\u001b[0;32m    220\u001b[0m     \u001b[1;32melse\u001b[0m\u001b[1;33m:\u001b[0m\u001b[1;33m\u001b[0m\u001b[1;33m\u001b[0m\u001b[0m\n\u001b[0;32m    221\u001b[0m         \u001b[0mopener\u001b[0m \u001b[1;33m=\u001b[0m \u001b[0m_opener\u001b[0m\u001b[1;33m\u001b[0m\u001b[1;33m\u001b[0m\u001b[0m\n\u001b[1;32m--> 222\u001b[1;33m     \u001b[1;32mreturn\u001b[0m \u001b[0mopener\u001b[0m\u001b[1;33m.\u001b[0m\u001b[0mopen\u001b[0m\u001b[1;33m(\u001b[0m\u001b[0murl\u001b[0m\u001b[1;33m,\u001b[0m \u001b[0mdata\u001b[0m\u001b[1;33m,\u001b[0m \u001b[0mtimeout\u001b[0m\u001b[1;33m)\u001b[0m\u001b[1;33m\u001b[0m\u001b[1;33m\u001b[0m\u001b[0m\n\u001b[0m\u001b[0;32m    223\u001b[0m \u001b[1;33m\u001b[0m\u001b[0m\n\u001b[0;32m    224\u001b[0m \u001b[1;32mdef\u001b[0m \u001b[0minstall_opener\u001b[0m\u001b[1;33m(\u001b[0m\u001b[0mopener\u001b[0m\u001b[1;33m)\u001b[0m\u001b[1;33m:\u001b[0m\u001b[1;33m\u001b[0m\u001b[1;33m\u001b[0m\u001b[0m\n",
      "\u001b[1;32mD:\\anaconda3\\lib\\urllib\\request.py\u001b[0m in \u001b[0;36mopen\u001b[1;34m(self, fullurl, data, timeout)\u001b[0m\n\u001b[0;32m    523\u001b[0m \u001b[1;33m\u001b[0m\u001b[0m\n\u001b[0;32m    524\u001b[0m         \u001b[0msys\u001b[0m\u001b[1;33m.\u001b[0m\u001b[0maudit\u001b[0m\u001b[1;33m(\u001b[0m\u001b[1;34m'urllib.Request'\u001b[0m\u001b[1;33m,\u001b[0m \u001b[0mreq\u001b[0m\u001b[1;33m.\u001b[0m\u001b[0mfull_url\u001b[0m\u001b[1;33m,\u001b[0m \u001b[0mreq\u001b[0m\u001b[1;33m.\u001b[0m\u001b[0mdata\u001b[0m\u001b[1;33m,\u001b[0m \u001b[0mreq\u001b[0m\u001b[1;33m.\u001b[0m\u001b[0mheaders\u001b[0m\u001b[1;33m,\u001b[0m \u001b[0mreq\u001b[0m\u001b[1;33m.\u001b[0m\u001b[0mget_method\u001b[0m\u001b[1;33m(\u001b[0m\u001b[1;33m)\u001b[0m\u001b[1;33m)\u001b[0m\u001b[1;33m\u001b[0m\u001b[1;33m\u001b[0m\u001b[0m\n\u001b[1;32m--> 525\u001b[1;33m         \u001b[0mresponse\u001b[0m \u001b[1;33m=\u001b[0m \u001b[0mself\u001b[0m\u001b[1;33m.\u001b[0m\u001b[0m_open\u001b[0m\u001b[1;33m(\u001b[0m\u001b[0mreq\u001b[0m\u001b[1;33m,\u001b[0m \u001b[0mdata\u001b[0m\u001b[1;33m)\u001b[0m\u001b[1;33m\u001b[0m\u001b[1;33m\u001b[0m\u001b[0m\n\u001b[0m\u001b[0;32m    526\u001b[0m \u001b[1;33m\u001b[0m\u001b[0m\n\u001b[0;32m    527\u001b[0m         \u001b[1;31m# post-process response\u001b[0m\u001b[1;33m\u001b[0m\u001b[1;33m\u001b[0m\u001b[1;33m\u001b[0m\u001b[0m\n",
      "\u001b[1;32mD:\\anaconda3\\lib\\urllib\\request.py\u001b[0m in \u001b[0;36m_open\u001b[1;34m(self, req, data)\u001b[0m\n\u001b[0;32m    540\u001b[0m \u001b[1;33m\u001b[0m\u001b[0m\n\u001b[0;32m    541\u001b[0m         \u001b[0mprotocol\u001b[0m \u001b[1;33m=\u001b[0m \u001b[0mreq\u001b[0m\u001b[1;33m.\u001b[0m\u001b[0mtype\u001b[0m\u001b[1;33m\u001b[0m\u001b[1;33m\u001b[0m\u001b[0m\n\u001b[1;32m--> 542\u001b[1;33m         result = self._call_chain(self.handle_open, protocol, protocol +\n\u001b[0m\u001b[0;32m    543\u001b[0m                                   '_open', req)\n\u001b[0;32m    544\u001b[0m         \u001b[1;32mif\u001b[0m \u001b[0mresult\u001b[0m\u001b[1;33m:\u001b[0m\u001b[1;33m\u001b[0m\u001b[1;33m\u001b[0m\u001b[0m\n",
      "\u001b[1;32mD:\\anaconda3\\lib\\urllib\\request.py\u001b[0m in \u001b[0;36m_call_chain\u001b[1;34m(self, chain, kind, meth_name, *args)\u001b[0m\n\u001b[0;32m    500\u001b[0m         \u001b[1;32mfor\u001b[0m \u001b[0mhandler\u001b[0m \u001b[1;32min\u001b[0m \u001b[0mhandlers\u001b[0m\u001b[1;33m:\u001b[0m\u001b[1;33m\u001b[0m\u001b[1;33m\u001b[0m\u001b[0m\n\u001b[0;32m    501\u001b[0m             \u001b[0mfunc\u001b[0m \u001b[1;33m=\u001b[0m \u001b[0mgetattr\u001b[0m\u001b[1;33m(\u001b[0m\u001b[0mhandler\u001b[0m\u001b[1;33m,\u001b[0m \u001b[0mmeth_name\u001b[0m\u001b[1;33m)\u001b[0m\u001b[1;33m\u001b[0m\u001b[1;33m\u001b[0m\u001b[0m\n\u001b[1;32m--> 502\u001b[1;33m             \u001b[0mresult\u001b[0m \u001b[1;33m=\u001b[0m \u001b[0mfunc\u001b[0m\u001b[1;33m(\u001b[0m\u001b[1;33m*\u001b[0m\u001b[0margs\u001b[0m\u001b[1;33m)\u001b[0m\u001b[1;33m\u001b[0m\u001b[1;33m\u001b[0m\u001b[0m\n\u001b[0m\u001b[0;32m    503\u001b[0m             \u001b[1;32mif\u001b[0m \u001b[0mresult\u001b[0m \u001b[1;32mis\u001b[0m \u001b[1;32mnot\u001b[0m \u001b[1;32mNone\u001b[0m\u001b[1;33m:\u001b[0m\u001b[1;33m\u001b[0m\u001b[1;33m\u001b[0m\u001b[0m\n\u001b[0;32m    504\u001b[0m                 \u001b[1;32mreturn\u001b[0m \u001b[0mresult\u001b[0m\u001b[1;33m\u001b[0m\u001b[1;33m\u001b[0m\u001b[0m\n",
      "\u001b[1;32mD:\\anaconda3\\lib\\urllib\\request.py\u001b[0m in \u001b[0;36mhttps_open\u001b[1;34m(self, req)\u001b[0m\n\u001b[0;32m   1391\u001b[0m \u001b[1;33m\u001b[0m\u001b[0m\n\u001b[0;32m   1392\u001b[0m         \u001b[1;32mdef\u001b[0m \u001b[0mhttps_open\u001b[0m\u001b[1;33m(\u001b[0m\u001b[0mself\u001b[0m\u001b[1;33m,\u001b[0m \u001b[0mreq\u001b[0m\u001b[1;33m)\u001b[0m\u001b[1;33m:\u001b[0m\u001b[1;33m\u001b[0m\u001b[1;33m\u001b[0m\u001b[0m\n\u001b[1;32m-> 1393\u001b[1;33m             return self.do_open(http.client.HTTPSConnection, req,\n\u001b[0m\u001b[0;32m   1394\u001b[0m                 context=self._context, check_hostname=self._check_hostname)\n\u001b[0;32m   1395\u001b[0m \u001b[1;33m\u001b[0m\u001b[0m\n",
      "\u001b[1;32mD:\\anaconda3\\lib\\urllib\\request.py\u001b[0m in \u001b[0;36mdo_open\u001b[1;34m(self, http_class, req, **http_conn_args)\u001b[0m\n\u001b[0;32m   1351\u001b[0m                           encode_chunked=req.has_header('Transfer-encoding'))\n\u001b[0;32m   1352\u001b[0m             \u001b[1;32mexcept\u001b[0m \u001b[0mOSError\u001b[0m \u001b[1;32mas\u001b[0m \u001b[0merr\u001b[0m\u001b[1;33m:\u001b[0m \u001b[1;31m# timeout error\u001b[0m\u001b[1;33m\u001b[0m\u001b[1;33m\u001b[0m\u001b[0m\n\u001b[1;32m-> 1353\u001b[1;33m                 \u001b[1;32mraise\u001b[0m \u001b[0mURLError\u001b[0m\u001b[1;33m(\u001b[0m\u001b[0merr\u001b[0m\u001b[1;33m)\u001b[0m\u001b[1;33m\u001b[0m\u001b[1;33m\u001b[0m\u001b[0m\n\u001b[0m\u001b[0;32m   1354\u001b[0m             \u001b[0mr\u001b[0m \u001b[1;33m=\u001b[0m \u001b[0mh\u001b[0m\u001b[1;33m.\u001b[0m\u001b[0mgetresponse\u001b[0m\u001b[1;33m(\u001b[0m\u001b[1;33m)\u001b[0m\u001b[1;33m\u001b[0m\u001b[1;33m\u001b[0m\u001b[0m\n\u001b[0;32m   1355\u001b[0m         \u001b[1;32mexcept\u001b[0m\u001b[1;33m:\u001b[0m\u001b[1;33m\u001b[0m\u001b[1;33m\u001b[0m\u001b[0m\n",
      "\u001b[1;31mURLError\u001b[0m: <urlopen error [SSL: CERTIFICATE_VERIFY_FAILED] certificate verify failed: certificate has expired (_ssl.c:1108)>"
     ]
    }
   ],
   "source": [
    "fr_regions = pd.read_json('https://france-geojson.gregoiredavid.fr/repo/regions.geojson')\n",
    "fr_regions = fr_regions.to_json()\n",
    "print(df_utiles) # Les frontières des régions françaises (en geojson) sont stockées dans fr_regions"
   ]
  },
  {
   "cell_type": "code",
   "execution_count": null,
   "metadata": {},
   "outputs": [],
   "source": [
    "variables_utiles_regr = ['nbre_j', 'hrmn', 'lum', 'lat', 'long', 'agg', 'int', 'atm', 'col', 'catr', 'prof', 'plan', 'surf', 'infra', 'situ', 'catv', 'obs', 'obsm', 'choc', 'catu', 'sexe', 'grav', 'an_nais']\n",
    "variables_utiles_regr_sans_grav = ['nbre_j', 'hrmn', 'lum', 'lat', 'long', 'agg', 'int', 'atm', 'col', 'catr', 'prof', 'plan', 'surf', 'infra', 'situ', 'catv', 'obs', 'obsm', 'choc', 'catu', 'sexe', 'an_nais']\n",
    "from sklearn import model_selection # Pour utiliser RandomForestClassifier\n",
    "from sklearn.ensemble import RandomForestClassifier #\n",
    "from sklearn.model_selection import cross_val_score #Pour mesurer la précision de l'algo\n",
    "from sklearn.metrics import classification_report, confusion_matrix #\n",
    "from sklearn.utils import shuffle # Pour que le scoring \"roc_auc\" fonctionne\n",
    "from sklearn.preprocessing import label_binarize # Transformer y en variable catégorique\n",
    "from sklearn.metrics import accuracy_score\n",
    "\n",
    "from sklearn import preprocessing\n",
    "from sklearn.preprocessing import OneHotEncoder\n",
    "\n",
    "# A faire : vérifier que les données sont centrées-réduites\n",
    "# A faire : changer les différents paramètres pour tester\n",
    "\n",
    "df_rayon = []\n",
    "df_rayon = df_utiles[variables_utiles_regr] # On ne retient que les variables utiles\n",
    "df_rayon = pd.DataFrame(df_rayon)\n",
    "X = df_rayon[variables_utiles_regr_sans_grav] # Tout le dataframe sans la colonne \"grav\" qu'on cherche à prédire\n",
    "y = df_rayon.grav #colonne \"grav\"\n",
    "X, y = shuffle(X, y)\n",
    "X = pd.DataFrame(X)\n",
    "y = y.astype(int) #Pour s'assurer que y est une colonne d'int\n",
    "y = label_binarize(y, classes=[0, 1]) #Pour faire du one-hot encoding sur y\n",
    "y = pd.DataFrame(y)\n",
    "os = SMOTE(random_state=0) #Initialisation de SMOTE, pour avoir 50 % de 0 et 50 % de 1 dans y (sans modifier la distribution de l'échantillon d'accidents)\n",
    "cv = RepeatedKFold(n_splits=3, n_repeats=3, random_state=1) #K-Fold répété, augmente la précision de l'algo de ~10 %\n",
    "for train_index, test_index in cv.split(X): #On remplit X_train, X_test, Y_train et Y_test pour fitter et tester l'algo\n",
    "    X_train, X_test = X.iloc[train_index], X.iloc[test_index]\n",
    "    y_train, y_test = y.iloc[train_index], y.iloc[test_index]\n",
    "rfc = RandomForestClassifier() # On charge une instance de RandomForestClassifier\n",
    "rfc.fit(X_train,y_train) #On fit sur l'ensemble d'entraînement\n",
    "rfc_predict = rfc.predict(X_test) #On teste\n",
    "#rfc_cv_score = cross_val_score(rfc, X, y, cv=10, scoring='roc_auc') #On évalue le score\n",
    "cm = confusion_matrix(y_test.values.argmax(axis=1), rfc_predict.argmax(axis=1))\n",
    "precision = (cm[0][0] + cm[1][1])/(cm[0][0] + cm[1][1] + cm[0][1] + cm[1][0])\n",
    "precision2 = accuracy_score(y_test, rfc_predict) # Même chose que la variable precision\n",
    "\n",
    "def random_forest(pred):\n",
    "    return [precision2*100, rfc.predict(pred)]"
   ]
  },
  {
   "cell_type": "code",
   "execution_count": null,
   "metadata": {},
   "outputs": [],
   "source": [
    "variables_utiles_regr = ['nbre_j', 'hrmn', 'lum', 'lat', 'long', 'agg', 'int', 'atm', 'col', 'catr', 'prof', 'plan', 'surf', 'infra', 'situ', 'catv', 'obs', 'obsm', 'choc', 'catu', 'sexe', 'grav', 'an_nais']\n",
    "variables_utiles_regr_sans_grav = ['nbre_j', 'hrmn', 'lum', 'lat', 'long', 'agg', 'int', 'atm', 'col', 'catr', 'prof', 'plan', 'surf', 'infra', 'situ', 'catv', 'obs', 'obsm', 'choc', 'catu', 'sexe', 'an_nais']\n",
    "variables_utiles_cat = ['lum', 'agg', 'int', 'atm', 'col', 'catr', 'prof', 'plan', 'surf', 'infra', 'situ', 'catv', 'obs', 'obsm', 'choc', 'catu', 'sexe']\n",
    "variables_utiles_num = ['nbre_j', 'hrmn', 'lat', 'long', 'an_nais']\n",
    "from sklearn import preprocessing\n",
    "from sklearn.preprocessing import OneHotEncoder\n",
    "from sklearn.preprocessing import StandardScaler\n",
    "from keras.models import Sequential\n",
    "from keras.layers import Dense\n",
    "from keras.layers import Flatten\n",
    "import pickle # Pour sauvegarder le modèle de OneHotEncoding\n",
    "\n",
    "# A faire : vérifier que les données sont centrées-réduites\n",
    "# A faire : changer les différents paramètres pour tester\n",
    "    \n",
    "df_rayon = []\n",
    "df_rayon = df_utiles[variables_utiles_regr] # On ne retient que les variables utiles\n",
    "df_rayon = pd.DataFrame(df_rayon)\n",
    "enc = OneHotEncoder(handle_unknown='ignore') #OneHotEncoder pour les variables catégorielles\n",
    "\n",
    "for var in variables_utiles_cat: # On parcourt les variables utiles catégorielles\n",
    "    df_rayon[var] = enc.fit_transform(df_rayon[var].values.reshape(-1, 1)).todense()\n",
    "pickle.dump(enc, open('onehot.pickle', 'wb'))\n",
    "\n",
    "X = df_rayon[variables_utiles_regr_sans_grav] # Tout le dataframe sans la colonne \"grav\" qu'on cherche à prédire\n",
    "y = df_rayon.grav #colonne \"grav\"\n",
    "X, y = shuffle(X, y)\n",
    "X = pd.DataFrame(X)\n",
    "y = y.astype(int) #Pour s'assurer que y est une colonne d'int\n",
    "y = label_binarize(y, classes=[0, 1]) #Pour faire du one-hot encoding sur y\n",
    "y = pd.DataFrame(y)\n",
    "cv = RepeatedKFold(n_splits=3, n_repeats=3, random_state=1) #K-Fold répété, augmente la précision de l'algo de ~10 %\n",
    "for train_index, test_index in cv.split(X): #On remplit X_train, X_test, Y_train et Y_test pour fitter et tester l'algo\n",
    "    X_train, X_test = X.iloc[train_index], X.iloc[test_index]\n",
    "    y_train, y_test = y.iloc[train_index], y.iloc[test_index]\n",
    "model = Sequential()\n",
    "model.add(Dense(64, input_dim=22, activation='relu'))\n",
    "model.add(Dense(8, activation='relu'))\n",
    "model.add(Dense(1, activation='sigmoid'))\n",
    "model.add(Flatten())\n",
    "model.compile(loss='binary_crossentropy', optimizer='rmsprop', metrics=['accuracy'])\n",
    "model.fit(X_train, y_train, epochs=2, batch_size=10)\n",
    "_, accuracy = model.evaluate(X_test, y_test)\n",
    "print('Accuracy: %.2f' % (accuracy*100))\n",
    "\n",
    "def output_NN_Keras(output):\n",
    "    if output[0][0] > 0.5:\n",
    "        return 'Décès'\n",
    "    else:\n",
    "        return 'Survie'\n",
    "\n",
    "def NN_Keras(pred):\n",
    "    pred = np.asarray(pred).astype('float32')\n",
    "    pred = pd.DataFrame(np.reshape(pred, (1, -1)), columns=[['input_nbre_j', 'input_hrmn', 'input_lat', 'input_long', 'input_an_nais', 'lum', 'agg', 'int', 'atm', 'col', 'catr', 'prof', 'plan', 'surf', 'infra', 'situ', 'catv', 'obs', 'obsm', 'choc', 'catu', 'sexe']])\n",
    "    loaded_enc = pickle.load(open(\"onehot.pickle\", \"rb\"))\n",
    "    for var in variables_utiles_cat: # On parcourt les variables utiles catégorielles\n",
    "        pred[var] = loaded_enc.fit_transform(pred[var].values.reshape(-1, 1)).todense()\n",
    "    return [accuracy*100, output_NN_Keras(model.predict(pred))]"
   ]
  },
  {
   "cell_type": "markdown",
   "metadata": {},
   "source": [
    "# On obtient 80 % de précision avec un RandomForestClassifier"
   ]
  },
  {
   "cell_type": "code",
   "execution_count": null,
   "metadata": {
    "colab": {
     "base_uri": "https://localhost:8080/"
    },
    "id": "0Gy5nu_jrVIp",
    "outputId": "feccd22d-f4ae-4f6a-ef28-a762b1ebf4f2",
    "scrolled": true
   },
   "outputs": [],
   "source": [
    "## Dash app (https://dash.plot.ly/getting-started)\n",
    "\n",
    "import numpy as np\n",
    "\n",
    "import dash # Dash\n",
    "import dash_core_components as dcc # Pour utiliser dcc.Input (ce qui permet d'inclure les inputs dans le HTML)\n",
    "import dash_html_components as html # L'interface Dash est en HTML\n",
    "from dash.dependencies import Input, Output, State, MATCH, ALL # Pour les callbacks\n",
    "\n",
    "external_stylesheets = ['https://codepen.io/chriddyp/pen/bWLwgP.css'] # Feuille CSS externe, pour mettre en forme la dashboard\n",
    "\n",
    "app = dash.Dash(__name__, external_stylesheets=external_stylesheets)\n",
    "\n",
    "NUMBER_VAR = (\n",
    "    'nbre_j', 'hrmn', 'lat', 'long', 'an_nais'\n",
    ") # Liste des variables sur lesquelles on utilise l'algo\n",
    "\n",
    "app.layout = html.Div(children=[ #Toute l'app est une balise div, qui contient des balises H1, ..., H6 (pour les titres) et des balises Div pour tous les contenus interactifs\n",
    "    html.H1(children='Prédictions'),\n",
    "    html.Div([\n",
    "        dcc.Graph(id=\"Carte\",figure=px.scatter_geo(df_utiles.head(1000), lat=\"lat\", lon=\"long\", geojson=fr_regions))] # Carte affichant les accidents sur une carte de France\n",
    "    ,style={'columnCount': 1}), \n",
    "    html.Div([\n",
    "        dcc.Graph(id=\"Prédictions\",figure=px.line(results_final, labels={'x': 'jour', 'y': 'nombre d\\'accidentés'}))] #Prédictions SARIMAX\n",
    "    ,style={'columnCount': 1}), \n",
    "    html.Div(children='''\n",
    "        Remplir les variables\n",
    "    '''),\n",
    "            html.Div( # Cette balise Div permet d'afficher les inputs sur l'interface Dash, pour qu'on puisse les remplir\n",
    "    [\n",
    "        dcc.Input(\n",
    "            id=\"input_{}\".format(_), # On identifie chaque Input par un ID \"input_nomdelavariable\", utile pour les callbacks\n",
    "            type=\"number\",\n",
    "            placeholder=\"variable {}\".format(_),\n",
    "        )\n",
    "        for _ in NUMBER_VAR # On affiche les inputs pour les variables quantitatives (non catégorielles)\n",
    "    ]),\n",
    "            html.Div([\n",
    "    dcc.Dropdown(\n",
    "        id='lum',\n",
    "        options=[\n",
    "            {'label': 'Plein jour', 'value': '1'},\n",
    "            {'label': 'Crépuscule ou aube', 'value': '2'},\n",
    "            {'label': 'Nuit sans éclairage public', 'value': '3'},\n",
    "            {'label': 'Nuit avec éclairage public non allumé', 'value': '4'},\n",
    "            {'label': 'Nuit avec éclairage public allumé', 'value': '5'}\n",
    "        ],\n",
    "        placeholder=\"Conditions d'éclairage\"\n",
    "    )]),\n",
    "    \n",
    "            html.Div([\n",
    "    dcc.Dropdown(\n",
    "        id='catv',\n",
    "        options=[\n",
    "            {'label': 'Indéterminable/piéton', 'value': '0'},\n",
    "            {'label': 'Véhicule léger (voiture, utilitaire)', 'value': '1'},\n",
    "            {'label': 'Sans permis (< 125 cm3) (vélo, scooter, ...)', 'value': '2'},\n",
    "            {'label': 'Poids lourd', 'value': '3'},\n",
    "            {'label': 'Transport en commun', 'value': '4'},\n",
    "            {'label': '> 125 cm3 à 2/3 roues', 'value': '5'}\n",
    "        ],\n",
    "        placeholder=\"Type de véhicule de l'individu\"\n",
    "    )]),\n",
    "    \n",
    "    \n",
    "             html.Div([\n",
    "    dcc.Dropdown(\n",
    "        id='agg',\n",
    "        options=[\n",
    "            {'label': 'Hors agglomération', 'value': '1'},\n",
    "            {'label': 'En agglomération', 'value': '2'}\n",
    "        ],\n",
    "        placeholder=\"En agglo ou non\"\n",
    "    )]),\n",
    "             \n",
    "             html.Div([\n",
    "    dcc.Dropdown(\n",
    "        id='int',\n",
    "        options=[\n",
    "            {'label': 'Hors intersection', 'value': '1'},\n",
    "            {'label': 'Intersection en X', 'value': '2'},\n",
    "            {'label': 'Intersection en T', 'value': '3'},\n",
    "            {'label': 'Intersection en Y ', 'value': '4'},\n",
    "            {'label': 'Intersection à plus de 4 branches', 'value': '5'},\n",
    "            {'label': 'Giratoire', 'value': '6'},\n",
    "            {'label': 'Place ', 'value': '7'},\n",
    "            {'label': 'Passage à niveau ', 'value': '8'},\n",
    "            {'label': 'Autre intersection', 'value': '9'}\n",
    "        ],\n",
    "        placeholder=\"Type d'intersection\"\n",
    "    )]),\n",
    "             \n",
    "             html.Div([\n",
    "    dcc.Dropdown(\n",
    "        id='atm',\n",
    "        options=[\n",
    "            {'label': 'Non renseigné', 'value': '-1'},\n",
    "            {'label': 'Normale', 'value': '1'},\n",
    "            {'label': 'Pluie légère', 'value': '2'},\n",
    "            {'label': 'Pluie forte', 'value': '3'},\n",
    "            {'label': 'Neige - grêle', 'value': '4'},\n",
    "            {'label': 'Brouillard - fumée', 'value': '5'},\n",
    "            {'label': 'Vent fort - tempête', 'value' : '6'},\n",
    "            {'label': 'Temps éblouissant', 'value': '7'},\n",
    "            {'label': 'Temps couvert', 'value': '8'},\n",
    "            {'label': 'Autre', 'value': '9'}\n",
    "        ],\n",
    "        placeholder=\"Conditions météorologiques au moment de l'accident\"\n",
    "    )]),\n",
    "             \n",
    "             html.Div([\n",
    "    dcc.Dropdown(\n",
    "        id='col',\n",
    "        options=[\n",
    "            {'label': 'Non renseigné', 'value': '-1'},\n",
    "            {'label': 'Deux véhicules - frontale', 'value': '1'},\n",
    "            {'label': 'Deux véhicules – par l’arrière', 'value': '2'},\n",
    "            {'label': 'Deux véhicules – par le coté', 'value': '3'},\n",
    "            {'label': 'Trois véhicules et plus – en chaîne', 'value': '4'},\n",
    "            {'label': 'Trois véhicules et plus - collisions multiples', 'value': '5'},\n",
    "            {'label': ' Autre collision', 'value' : '6'},\n",
    "            {'label': 'Sans collision', 'value': '7'}\n",
    "        ],\n",
    "        placeholder=\"Type de collision\"\n",
    "    )]),\n",
    "             \n",
    "             html.Div([\n",
    "    dcc.Dropdown(\n",
    "        id='catr',\n",
    "        options=[\n",
    "            {'label': 'Autoroute', 'value': '1'},\n",
    "            {'label': 'Route nationale', 'value': '2'},\n",
    "            {'label': 'Route Départementale', 'value': '3'},\n",
    "            {'label': 'Voie Communales', 'value': '4'},\n",
    "            {'label': 'Hors réseau public', 'value': '5'},\n",
    "            {'label': 'Parc de stationnement ouvert à la circulation publique', 'value': '6'},\n",
    "            {'label': 'Routes de métropole urbaine', 'value': '7'},\n",
    "            {'label': 'autre', 'value': '9'}\n",
    "        ],\n",
    "        placeholder=\"Type de route\"\n",
    "    )]),\n",
    "             \n",
    "             html.Div([\n",
    "    dcc.Dropdown(\n",
    "        id='prof',\n",
    "        options=[\n",
    "            {'label': 'Non renseigné', 'value': '-1'},\n",
    "            {'label': 'Plat', 'value': '1'},\n",
    "            {'label': 'Pente', 'value': '2'},\n",
    "            {'label': 'Sommet de côte', 'value': '3'},\n",
    "            {'label': 'Bas de côte', 'value': '4'}\n",
    "        ],\n",
    "        placeholder=\"Profil (déclivité)\"\n",
    "    )]),\n",
    "             \n",
    "             html.Div([\n",
    "    dcc.Dropdown(\n",
    "        id='plan',\n",
    "        options=[\n",
    "            {'label': 'Non renseigné', 'value': '-1'},\n",
    "            {'label': 'Partie rectiligne', 'value': '1'},\n",
    "            {'label': 'En courbe à gauche', 'value': '2'},\n",
    "            {'label': 'En courbe à droite', 'value': '3'},\n",
    "            {'label': 'En S', 'value': '4'}\n",
    "        ],\n",
    "        placeholder=\"Tracé en plan\"\n",
    "    )]),\n",
    "             \n",
    "             html.Div([\n",
    "    dcc.Dropdown(\n",
    "        id='surf',\n",
    "        options=[\n",
    "            {'label': 'Non renseigné', 'value': '-1'},\n",
    "            {'label': 'Normale', 'value': '1'},\n",
    "            {'label': 'Mouillée', 'value': '2'},\n",
    "            {'label': 'Flaques', 'value': '3'},\n",
    "            {'label': 'Inondée', 'value': '4'},\n",
    "            {'label': 'Enneigée', 'value': '5'},\n",
    "            {'label': 'Boue', 'value' : '6'},\n",
    "            {'label': 'Verglacée', 'value': '7'},\n",
    "            {'label': 'Corps gras - huile', 'value': '8'},\n",
    "            {'label': 'Autre', 'value': '9'}\n",
    "        ],\n",
    "        placeholder=\"Surface de la chaussée\"\n",
    "    )]),\n",
    "             \n",
    "             html.Div([\n",
    "    dcc.Dropdown(\n",
    "        id='infra',\n",
    "        options=[\n",
    "            {'label': 'Non renseigné', 'value': '-1'},\n",
    "            {'label': 'Aucun', 'value': '0'},\n",
    "            {'label': 'Souterrain - tunnel', 'value': '1'},\n",
    "            {'label': 'Pont - autopont', 'value': '2'},\n",
    "            {'label': 'Bretelle d’échangeur ou de raccordement', 'value': '3'},\n",
    "            {'label': 'Voie ferrée', 'value': '4'},\n",
    "            {'label': 'Carrefour aménagé', 'value': '5'},\n",
    "            {'label': 'Zone piétonne', 'value' : '6'},\n",
    "            {'label': 'Zone de péage', 'value': '7'},\n",
    "            {'label': 'Chantier', 'value': '8'},\n",
    "            {'label': 'Autres', 'value': '9'}\n",
    "        ],\n",
    "        placeholder=\"Type d'infrastructures/aménagement\"\n",
    "    )]),\n",
    "             \n",
    "             html.Div([\n",
    "    dcc.Dropdown(\n",
    "        id='situ',\n",
    "        options=[\n",
    "            {'label': 'Non renseigné', 'value': '-1'},\n",
    "            {'label': 'Aucun', 'value': '0'},\n",
    "            {'label': 'Sur chaussée', 'value': '1'},\n",
    "            {'label': 'Sur bande d’arrêt d’urgence', 'value': '2'},\n",
    "            {'label': 'Sur accotement', 'value': '3'},\n",
    "            {'label': 'Sur trottoir', 'value': '4'},\n",
    "            {'label': 'Sur piste cyclable', 'value': '5'},\n",
    "            {'label': 'Sur autre voie spéciale', 'value' : '6'},\n",
    "            {'label': 'Autres', 'value': '8'}\n",
    "        ],\n",
    "        placeholder=\"Situation de l'accident\"\n",
    "    )]),\n",
    "             html.Div([\n",
    "    dcc.Dropdown(\n",
    "        id='obs',\n",
    "        options=[\n",
    "            {'label': 'Non renseigné', 'value': '-1'},\n",
    "            {'label': 'Sans objet', 'value': '0'},\n",
    "            {'label': 'Véhicule en stationnement', 'value': '1'},\n",
    "            {'label': 'Arbre', 'value': '2'},\n",
    "            {'label': 'Glissière métallique', 'value': '3'},\n",
    "            {'label': 'Glissière béton', 'value': '4'},\n",
    "            {'label': 'Autre glissière', 'value': '5'},\n",
    "            {'label': 'Bâtiment, mur, pile de pont', 'value' : '6'},\n",
    "            {'label': 'Support de signalisation verticale ou poste d’appel d’urgence', 'value': '7'},\n",
    "            {'label': 'Poteau', 'value': '8'},\n",
    "            {'label': 'Mobilier urbain', 'value': '9'},\n",
    "            {'label': 'Parapet', 'value': '10'},\n",
    "            {'label': 'Ilot, refuge, borne haute', 'value': '11'},\n",
    "            {'label': 'Bordure de trottoir', 'value': '12'},\n",
    "            {'label': 'Fossé, talus, paroi rocheuse', 'value': '13'},\n",
    "            {'label': 'Autre obstacle fixe sur chaussée', 'value': '14'},\n",
    "            {'label': 'Autre obstacle fixe sur trottoir ou accotement', 'value': '15'},\n",
    "            {'label': 'Sortie de chaussée sans obstacle', 'value': '16'},\n",
    "            {'label': 'Buse – tête d’aqueduc', 'value': '17'}\n",
    "        ],\n",
    "        placeholder=\"Obstacle fixe percuté\"\n",
    "    )]),\n",
    "             \n",
    "             html.Div([\n",
    "    dcc.Dropdown(\n",
    "        id='obsm',\n",
    "        options=[\n",
    "            {'label': 'Non renseigné', 'value': '-1'},\n",
    "            {'label': 'Aucun', 'value': '0'},\n",
    "            {'label': 'Piéton', 'value': '1'},\n",
    "            {'label': 'Véhicule', 'value': '2'},\n",
    "            {'label': 'Véhicule sur rail', 'value': '4'},\n",
    "            {'label': 'Animal domestique', 'value': '5'},\n",
    "            {'label': 'Animal sauvage', 'value' : '6'},\n",
    "            {'label': 'Autre', 'value': '9'}\n",
    "        ],\n",
    "        placeholder=\"Obstacle mobile percuté\"\n",
    "    )]),\n",
    "             \n",
    "             html.Div([\n",
    "    dcc.Dropdown(\n",
    "        id='choc',\n",
    "        options=[\n",
    "            {'label': 'Non renseigné', 'value': '-1'},\n",
    "            {'label': 'Aucun', 'value': '0'},\n",
    "            {'label': 'Avant', 'value': '1'},\n",
    "            {'label': 'Avant droit', 'value': '2'},\n",
    "            {'label': 'Avant gauche', 'value': '3'},\n",
    "            {'label': 'Arrière', 'value': '4'},\n",
    "            {'label': 'Arrière droit', 'value': '5'},\n",
    "            {'label': 'Arrière gauche', 'value' : '6'},\n",
    "            {'label': 'Côté droit', 'value': '7'},\n",
    "            {'label': 'Côté gauche', 'value': '8'},\n",
    "            {'label': 'Chocs multiples (tonneaux)', 'value': '9'}\n",
    "        ],\n",
    "        placeholder=\"Point de choc initial\"\n",
    "    )]),\n",
    "             \n",
    "             html.Div([\n",
    "    dcc.Dropdown(\n",
    "        id='catu',\n",
    "        options=[\n",
    "            {'label': 'Conducteur', 'value': '1'},\n",
    "            {'label': 'Passager', 'value': '2'},\n",
    "            {'label': 'Piéton', 'value': '3'}\n",
    "        ],\n",
    "        placeholder=\"L'individu est...\"\n",
    "    )]),\n",
    "             \n",
    "             html.Div([\n",
    "    dcc.Dropdown(\n",
    "        id='sexe',\n",
    "        options=[\n",
    "            {'label': 'Masculin', 'value': '1'},\n",
    "            {'label': 'Féminin', 'value': '2'}\n",
    "        ],\n",
    "        placeholder=\"Sexe de l'individu\"\n",
    "    )]),\n",
    "    html.Div(id=\"out-all-types\")\n",
    "])\n",
    "\n",
    "@app.callback(\n",
    "     Output(\"out-all-types\", \"children\"),\n",
    "     [Input(\"input_{}\".format(_), \"value\") for _ in NUMBER_VAR], # On lie les inputs affichés sur Dash et la fonction cb_render\n",
    "     Input(\"lum\", \"value\"),\n",
    "     Input(\"agg\", \"value\"),\n",
    "     Input(\"int\", \"value\"),\n",
    "     Input(\"atm\", \"value\"),\n",
    "     Input(\"col\", \"value\"),\n",
    "     Input(\"catr\", \"value\"),\n",
    "     Input(\"prof\", \"value\"),\n",
    "     Input(\"plan\", \"value\"),\n",
    "     Input(\"surf\", \"value\"),\n",
    "     Input(\"infra\", \"value\"),\n",
    "     Input(\"situ\", \"value\"),\n",
    "     Input(\"catv\", \"value\"),\n",
    "     Input(\"obs\", \"value\"),\n",
    "     Input(\"obsm\", \"value\"),\n",
    "     Input(\"choc\", \"value\"),\n",
    "     Input(\"catu\", \"value\"),\n",
    "     Input(\"sexe\", \"value\"),\n",
    ")\n",
    "def cb_render(*vals):\n",
    "    if not None in vals:\n",
    "        float_vals = []\n",
    "        for item in vals:\n",
    "            float_vals.append(float(item))\n",
    "        res = NN_Keras(vals)\n",
    "        return \"L'algorithme prédit : {}, avec une précision de {}\".format(res[1], res[0]) \n",
    "\n",
    "if __name__ == '__main__':\n",
    "    app.run_server(host='127.0.0.1', port='8050')"
   ]
  },
  {
   "cell_type": "code",
   "execution_count": null,
   "metadata": {},
   "outputs": [],
   "source": []
  },
  {
   "cell_type": "code",
   "execution_count": null,
   "metadata": {},
   "outputs": [],
   "source": []
  },
  {
   "cell_type": "code",
   "execution_count": null,
   "metadata": {},
   "outputs": [],
   "source": []
  },
  {
   "cell_type": "code",
   "execution_count": null,
   "metadata": {},
   "outputs": [],
   "source": []
  }
 ],
 "metadata": {
  "colab": {
   "collapsed_sections": [],
   "name": "regression_arima.ipynb",
   "provenance": []
  },
  "kernelspec": {
   "display_name": "Python 3",
   "language": "python",
   "name": "python3"
  },
  "language_info": {
   "codemirror_mode": {
    "name": "ipython",
    "version": 3
   },
   "file_extension": ".py",
   "mimetype": "text/x-python",
   "name": "python",
   "nbconvert_exporter": "python",
   "pygments_lexer": "ipython3",
   "version": "3.8.3"
  }
 },
 "nbformat": 4,
 "nbformat_minor": 4
}
