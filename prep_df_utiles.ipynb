{
 "cells": [
  {
   "cell_type": "markdown",
   "metadata": {
    "colab_type": "text",
    "id": "view-in-github"
   },
   "source": [
    "<a href=\"https://colab.research.google.com/github/helene-78/Accidents/blob/main/prep_df_utiles.ipynb\" target=\"_parent\"><img src=\"https://colab.research.google.com/assets/colab-badge.svg\" alt=\"Open In Colab\"/></a>"
   ]
  },
  {
   "cell_type": "code",
   "execution_count": 1,
   "metadata": {
    "id": "mdttbn7CRv7P"
   },
   "outputs": [],
   "source": [
    "import pandas as pd\n",
    "import numpy as np\n",
    "from imblearn.over_sampling import SMOTE # Pour avoir 50 % de 0 et 50 % de 1 dans la colonne presence_accident\n",
    "from sklearn.linear_model import LogisticRegression # Regression logistique\n",
    "from sklearn import metrics\n",
    "from sklearn.model_selection import RepeatedKFold #KFold répété, pour \n",
    "from sklearn.model_selection import train_test_split"
   ]
  },
  {
   "cell_type": "markdown",
   "metadata": {
    "id": "Bf-G2BD3R7TB"
   },
   "source": [
    "**Fusion des différents dataframes**"
   ]
  },
  {
   "cell_type": "code",
   "execution_count": 2,
   "metadata": {
    "id": "YVQKJ_9iR22-"
   },
   "outputs": [],
   "source": [
    "df_accidents = pd.read_csv('caracteristiques-2019.csv', sep=\";\")\n",
    "df_usagers = pd.read_csv('usagers-2019.csv', sep=\";\")\n",
    "df_lieux = pd.read_csv('lieux-2019.csv', sep=\";\")\n",
    "df_vehicules = pd.read_csv('vehicules-2019.csv', sep=\";\")\n",
    "df_test = df_accidents.merge(df_usagers.merge(df_lieux.merge(df_vehicules))) #dataframe à traiter"
   ]
  },
  {
   "cell_type": "markdown",
   "metadata": {
    "id": "CE2LNLkTR_Pm"
   },
   "source": [
    "**Pour supprimer les colonnes inutiles à l'analyse de données, supprimer les NaN et avoir une colonne heure au bon format**"
   ]
  },
  {
   "cell_type": "code",
   "execution_count": 3,
   "metadata": {
    "id": "1dnj8rLaR3_v"
   },
   "outputs": [
    {
     "data": {
      "text/plain": [
       "jour        int64\n",
       "mois        int64\n",
       "an          int64\n",
       "hrmn        int64\n",
       "lum         int64\n",
       "dep        object\n",
       "agg         int64\n",
       "int         int64\n",
       "atm         int64\n",
       "col         int64\n",
       "lat        object\n",
       "long       object\n",
       "place       int64\n",
       "catu        int64\n",
       "grav        int64\n",
       "sexe        int64\n",
       "an_nais     int64\n",
       "trajet      int64\n",
       "secu1       int64\n",
       "secu2       int64\n",
       "secu3       int64\n",
       "locp        int64\n",
       "actp       object\n",
       "etatp       int64\n",
       "catr        int64\n",
       "circ        int64\n",
       "nbv         int64\n",
       "vosp        int64\n",
       "prof        int64\n",
       "pr         object\n",
       "pr1        object\n",
       "plan        int64\n",
       "surf        int64\n",
       "infra       int64\n",
       "situ        int64\n",
       "vma         int64\n",
       "senc        int64\n",
       "catv        int64\n",
       "obs         int64\n",
       "obsm        int64\n",
       "choc        int64\n",
       "manv        int64\n",
       "motor       int64\n",
       "dtype: object"
      ]
     },
     "execution_count": 3,
     "metadata": {},
     "output_type": "execute_result"
    }
   ],
   "source": [
    "df_utiles = df_test.drop(axis=1, labels=['Num_Acc', 'com', 'adr', 'v1', 'id_vehicule', 'num_veh', 'lartpc', 'larrout', 'occutc', 'v2', 'voie'])\n",
    "df_utiles = df_utiles.dropna()\n",
    "df_utiles[\"hrmn\"] = pd.to_datetime(df_utiles[\"hrmn\"], format='%H:%S')\n",
    "df_utiles[\"hrmn\"] = df_utiles[\"hrmn\"].apply(lambda x: int(x.hour)*60 + int(x.minute))\n",
    "df_utiles.dtypes"
   ]
  },
  {
   "cell_type": "code",
   "execution_count": 4,
   "metadata": {},
   "outputs": [
    {
     "data": {
      "text/html": [
       "<div>\n",
       "<style scoped>\n",
       "    .dataframe tbody tr th:only-of-type {\n",
       "        vertical-align: middle;\n",
       "    }\n",
       "\n",
       "    .dataframe tbody tr th {\n",
       "        vertical-align: top;\n",
       "    }\n",
       "\n",
       "    .dataframe thead th {\n",
       "        text-align: right;\n",
       "    }\n",
       "</style>\n",
       "<table border=\"1\" class=\"dataframe\">\n",
       "  <thead>\n",
       "    <tr style=\"text-align: right;\">\n",
       "      <th></th>\n",
       "      <th>jour</th>\n",
       "      <th>mois</th>\n",
       "      <th>an</th>\n",
       "      <th>hrmn</th>\n",
       "      <th>lum</th>\n",
       "      <th>dep</th>\n",
       "      <th>agg</th>\n",
       "      <th>int</th>\n",
       "      <th>atm</th>\n",
       "      <th>col</th>\n",
       "      <th>...</th>\n",
       "      <th>infra</th>\n",
       "      <th>situ</th>\n",
       "      <th>vma</th>\n",
       "      <th>senc</th>\n",
       "      <th>catv</th>\n",
       "      <th>obs</th>\n",
       "      <th>obsm</th>\n",
       "      <th>choc</th>\n",
       "      <th>manv</th>\n",
       "      <th>motor</th>\n",
       "    </tr>\n",
       "  </thead>\n",
       "  <tbody>\n",
       "    <tr>\n",
       "      <th>0</th>\n",
       "      <td>30</td>\n",
       "      <td>11</td>\n",
       "      <td>2019</td>\n",
       "      <td>60</td>\n",
       "      <td>4</td>\n",
       "      <td>93</td>\n",
       "      <td>1</td>\n",
       "      <td>1</td>\n",
       "      <td>1</td>\n",
       "      <td>2</td>\n",
       "      <td>...</td>\n",
       "      <td>2</td>\n",
       "      <td>1</td>\n",
       "      <td>70</td>\n",
       "      <td>2</td>\n",
       "      <td>7</td>\n",
       "      <td>0</td>\n",
       "      <td>2</td>\n",
       "      <td>5</td>\n",
       "      <td>23</td>\n",
       "      <td>1</td>\n",
       "    </tr>\n",
       "    <tr>\n",
       "      <th>1</th>\n",
       "      <td>30</td>\n",
       "      <td>11</td>\n",
       "      <td>2019</td>\n",
       "      <td>60</td>\n",
       "      <td>4</td>\n",
       "      <td>93</td>\n",
       "      <td>1</td>\n",
       "      <td>1</td>\n",
       "      <td>1</td>\n",
       "      <td>2</td>\n",
       "      <td>...</td>\n",
       "      <td>2</td>\n",
       "      <td>1</td>\n",
       "      <td>70</td>\n",
       "      <td>2</td>\n",
       "      <td>7</td>\n",
       "      <td>0</td>\n",
       "      <td>2</td>\n",
       "      <td>5</td>\n",
       "      <td>23</td>\n",
       "      <td>1</td>\n",
       "    </tr>\n",
       "    <tr>\n",
       "      <th>2</th>\n",
       "      <td>30</td>\n",
       "      <td>11</td>\n",
       "      <td>2019</td>\n",
       "      <td>60</td>\n",
       "      <td>4</td>\n",
       "      <td>93</td>\n",
       "      <td>1</td>\n",
       "      <td>1</td>\n",
       "      <td>1</td>\n",
       "      <td>2</td>\n",
       "      <td>...</td>\n",
       "      <td>2</td>\n",
       "      <td>1</td>\n",
       "      <td>70</td>\n",
       "      <td>2</td>\n",
       "      <td>17</td>\n",
       "      <td>1</td>\n",
       "      <td>0</td>\n",
       "      <td>3</td>\n",
       "      <td>11</td>\n",
       "      <td>1</td>\n",
       "    </tr>\n",
       "    <tr>\n",
       "      <th>3</th>\n",
       "      <td>30</td>\n",
       "      <td>11</td>\n",
       "      <td>2019</td>\n",
       "      <td>120</td>\n",
       "      <td>3</td>\n",
       "      <td>93</td>\n",
       "      <td>1</td>\n",
       "      <td>1</td>\n",
       "      <td>1</td>\n",
       "      <td>6</td>\n",
       "      <td>...</td>\n",
       "      <td>0</td>\n",
       "      <td>1</td>\n",
       "      <td>70</td>\n",
       "      <td>1</td>\n",
       "      <td>7</td>\n",
       "      <td>4</td>\n",
       "      <td>0</td>\n",
       "      <td>1</td>\n",
       "      <td>0</td>\n",
       "      <td>1</td>\n",
       "    </tr>\n",
       "    <tr>\n",
       "      <th>4</th>\n",
       "      <td>28</td>\n",
       "      <td>11</td>\n",
       "      <td>2019</td>\n",
       "      <td>900</td>\n",
       "      <td>1</td>\n",
       "      <td>92</td>\n",
       "      <td>1</td>\n",
       "      <td>1</td>\n",
       "      <td>1</td>\n",
       "      <td>4</td>\n",
       "      <td>...</td>\n",
       "      <td>0</td>\n",
       "      <td>1</td>\n",
       "      <td>90</td>\n",
       "      <td>1</td>\n",
       "      <td>7</td>\n",
       "      <td>0</td>\n",
       "      <td>2</td>\n",
       "      <td>1</td>\n",
       "      <td>2</td>\n",
       "      <td>1</td>\n",
       "    </tr>\n",
       "  </tbody>\n",
       "</table>\n",
       "<p>5 rows × 43 columns</p>\n",
       "</div>"
      ],
      "text/plain": [
       "   jour  mois    an  hrmn  lum dep  agg  int  atm  col  ... infra situ  vma  \\\n",
       "0    30    11  2019    60    4  93    1    1    1    2  ...     2    1   70   \n",
       "1    30    11  2019    60    4  93    1    1    1    2  ...     2    1   70   \n",
       "2    30    11  2019    60    4  93    1    1    1    2  ...     2    1   70   \n",
       "3    30    11  2019   120    3  93    1    1    1    6  ...     0    1   70   \n",
       "4    28    11  2019   900    1  92    1    1    1    4  ...     0    1   90   \n",
       "\n",
       "   senc  catv  obs  obsm  choc  manv  motor  \n",
       "0     2     7    0     2     5    23      1  \n",
       "1     2     7    0     2     5    23      1  \n",
       "2     2    17    1     0     3    11      1  \n",
       "3     1     7    4     0     1     0      1  \n",
       "4     1     7    0     2     1     2      1  \n",
       "\n",
       "[5 rows x 43 columns]"
      ]
     },
     "execution_count": 4,
     "metadata": {},
     "output_type": "execute_result"
    }
   ],
   "source": [
    "df_utiles.head()"
   ]
  },
  {
   "cell_type": "markdown",
   "metadata": {
    "id": "VvrVxM9JSB_t"
   },
   "source": [
    "**Création et remplissage d'une colonne \"presence_deces\" qui vaut 1 en cas d'accident mortel, 0 sinon**"
   ]
  },
  {
   "cell_type": "code",
   "execution_count": 5,
   "metadata": {
    "id": "WzozzbOpR5QT"
   },
   "outputs": [],
   "source": [
    "df_utiles[\"hrmn\"] = df_utiles[\"hrmn\"].astype('int64')\n",
    "df_utiles[\"dep\"] = df_utiles[\"dep\"].replace([\"2B\"], \"999\") #On remplace les codes des départements de la Corse par des int\n",
    "df_utiles[\"dep\"] = df_utiles[\"dep\"].replace([\"2A\"], \"998\")\n",
    "df_utiles[\"actp\"] = df_utiles[\"actp\"].replace([\"A\"], \"14\") #On remplace les actions du piéton non encodées par des chiffres\n",
    "df_utiles[\"actp\"] = df_utiles[\"actp\"].replace([\"B\"], \"15\")\n",
    "df_utiles[\"dep\"] = df_utiles[\"dep\"].astype('int64')\n",
    "df_utiles[\"grav\"] = df_utiles[\"grav\"].apply(lambda x: int(x==2)) # On recode la colonne \"grav\" : tué = 1, blessé léger/hospitalisé/indemne = 0\n",
    "df_utiles.to_csv('df_utiles.csv')"
   ]
  }
 ],
 "metadata": {
  "colab": {
   "authorship_tag": "ABX9TyOEzWPzGteawS66avudYVmd",
   "collapsed_sections": [],
   "include_colab_link": true,
   "name": "prep_df_utiles.ipynb",
   "provenance": []
  },
  "kernelspec": {
   "display_name": "Python 3",
   "language": "python",
   "name": "python3"
  },
  "language_info": {
   "codemirror_mode": {
    "name": "ipython",
    "version": 3
   },
   "file_extension": ".py",
   "mimetype": "text/x-python",
   "name": "python",
   "nbconvert_exporter": "python",
   "pygments_lexer": "ipython3",
   "version": "3.8.3"
  }
 },
 "nbformat": 4,
 "nbformat_minor": 4
}
