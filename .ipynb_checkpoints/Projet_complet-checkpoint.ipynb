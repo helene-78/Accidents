{
 "cells": [
  {
   "cell_type": "markdown",
   "metadata": {},
   "source": [
    "## Projet de Python pour le data scientist (2021-2022)\n",
    "## \"Prédire la gravité des accidents corporels de la route\"\n",
    "### DUJARDIN Thomas, RONDEY Hélène, ROSUNEE Avichaï"
   ]
  },
  {
   "cell_type": "markdown",
   "metadata": {
    "colab_type": "text",
    "id": "view-in-github"
   },
   "source": [
    "<a href=\"https://colab.research.google.com/github/helene-78/Accidents/blob/main/prep_df_utiles.ipynb\" target=\"_parent\"><img src=\"https://colab.research.google.com/assets/colab-badge.svg\" alt=\"Open In Colab\"/></a>"
   ]
  },
  {
   "cell_type": "markdown",
   "metadata": {},
   "source": [
    "## Installation et chargement des modules"
   ]
  },
  {
   "cell_type": "code",
   "execution_count": 1,
   "metadata": {},
   "outputs": [],
   "source": [
    "#!pip install imblearn\n",
    "#!pip install plotly\n",
    "#!pip install haversine\n",
    "# !pip install statsmodels #statsmodels, pour utiliser le module de séries temp SARIMAX"
   ]
  },
  {
   "cell_type": "code",
   "execution_count": 2,
   "metadata": {
    "id": "mdttbn7CRv7P"
   },
   "outputs": [],
   "source": [
    "import pandas as pd\n",
    "import numpy as np\n",
    "import matplotlib\n",
    "import matplotlib.pyplot as plt \n",
    "import seaborn as sns #Tableau des corrélations\n",
    "from datetime import date\n",
    "\n",
    "\n",
    "from imblearn.over_sampling import SMOTE # Pour avoir 50 % de 0 et 50 % de 1 dans la colonne presence_accident\n",
    "from sklearn.linear_model import LogisticRegression # Regression logistique\n",
    "from sklearn import metrics\n",
    "from sklearn.model_selection import RepeatedKFold #KFold répété, pour mieux entraîner le modèle\n",
    "from sklearn.model_selection import train_test_split\n",
    "\n",
    "\n",
    "from sklearn import model_selection # Pour utiliser RandomForestClassifier\n",
    "from sklearn.ensemble import RandomForestClassifier #\n",
    "from sklearn.model_selection import cross_val_score #Pour mesurer la précision de l'algo\n",
    "from sklearn.metrics import classification_report, confusion_matrix #\n",
    "from sklearn.utils import shuffle # Pour que le scoring \"roc_auc\" fonctionne\n",
    "from sklearn.preprocessing import label_binarize # Transformer y en variable catégorique\n",
    "from sklearn.metrics import accuracy_score\n",
    "\n",
    "from sklearn import preprocessing\n",
    "from sklearn.preprocessing import OneHotEncoder\n",
    "\n",
    "\n",
    "# ARIMA\n",
    "import matplotlib.dates as mdates\n",
    "from statsmodels.tsa.statespace.sarimax import SARIMAX # SARIMAX = modèle de séries temp\n",
    "from statsmodels.graphics.tsaplots import plot_acf\n",
    "from statsmodels.tsa.arima.model import ARIMA\n",
    "\n",
    "import plotly.express as px # Pour faire des graphes dans l'interface Dash"
   ]
  },
  {
   "cell_type": "markdown",
   "metadata": {},
   "source": [
    "## Fusion des bases, sélection et reformatage des variables"
   ]
  },
  {
   "cell_type": "markdown",
   "metadata": {
    "id": "Bf-G2BD3R7TB"
   },
   "source": [
    "**Fusion des différents dataframes**"
   ]
  },
  {
   "cell_type": "code",
   "execution_count": 3,
   "metadata": {
    "id": "YVQKJ_9iR22-"
   },
   "outputs": [],
   "source": [
    "df_accidents = pd.read_csv('caracteristiques-2019.csv', sep=\";\")\n",
    "df_usagers = pd.read_csv('usagers-2019.csv', sep=\";\")\n",
    "df_lieux = pd.read_csv('lieux-2019.csv', sep=\";\")\n",
    "df_vehicules = pd.read_csv('vehicules-2019.csv', sep=\";\")\n",
    "df_test = df_accidents.merge(df_usagers.merge(df_lieux.merge(df_vehicules))) #dataframe à traiter"
   ]
  },
  {
   "cell_type": "markdown",
   "metadata": {
    "id": "CE2LNLkTR_Pm"
   },
   "source": [
    "**Pour supprimer les colonnes inutiles à l'analyse de données, supprimer les NaN et avoir une colonne heure au bon format**"
   ]
  },
  {
   "cell_type": "code",
   "execution_count": 4,
   "metadata": {
    "id": "1dnj8rLaR3_v"
   },
   "outputs": [],
   "source": [
    "df_utiles = df_test.drop(axis=1, labels=['Num_Acc', 'com', 'adr', 'v1', 'id_vehicule', 'num_veh', 'lartpc', 'larrout', 'occutc', 'v2', 'voie'])\n",
    "df_utiles = df_utiles.dropna()\n",
    "df_utiles[\"hrmn\"] = pd.to_datetime(df_utiles[\"hrmn\"], format='%H:%S')\n",
    "df_utiles[\"hrmn\"] = df_utiles[\"hrmn\"].apply(lambda x: int(x.hour)*60 + int(x.minute))\n"
   ]
  },
  {
   "cell_type": "markdown",
   "metadata": {
    "id": "VvrVxM9JSB_t"
   },
   "source": [
    "**Recodage de la colonne \"grav\", qui vaudra 1 en cas d'accident mortel, 0 sinon**"
   ]
  },
  {
   "cell_type": "code",
   "execution_count": 5,
   "metadata": {
    "id": "WzozzbOpR5QT"
   },
   "outputs": [],
   "source": [
    "df_utiles[\"hrmn\"] = df_utiles[\"hrmn\"].astype('int64')\n",
    "df_utiles[\"dep\"] = df_utiles[\"dep\"].replace([\"2B\"], \"999\") #On remplace les codes des départements de la Corse par des int\n",
    "df_utiles[\"dep\"] = df_utiles[\"dep\"].replace([\"2A\"], \"998\")\n",
    "df_utiles[\"actp\"] = df_utiles[\"actp\"].replace([\"A\"], \"14\") #On remplace les actions du piéton non encodées par des chiffres\n",
    "df_utiles[\"actp\"] = df_utiles[\"actp\"].replace([\"B\"], \"15\")\n",
    "df_utiles[\"dep\"] = df_utiles[\"dep\"].astype('int64')\n",
    "df_utiles[\"grav\"] = df_utiles[\"grav\"].apply(lambda x: int(x==2)) # On recode la colonne \"grav\" : tué = 1, blessé léger/hospitalisé/indemne = 0\n"
   ]
  },
  {
   "cell_type": "code",
   "execution_count": 6,
   "metadata": {},
   "outputs": [],
   "source": [
    "df_utiles['lat'] = df_utiles['lat'].str.replace(',', '.').astype(float)\n",
    "df_utiles['long'] = df_utiles['long'].str.replace(',', '.').astype(float)\n",
    "\n",
    "# Pour avoir les coordonnées GPS en float, sinon plotly.express (px) ne peut pas les afficher sur la carte de France"
   ]
  },
  {
   "cell_type": "code",
   "execution_count": 7,
   "metadata": {},
   "outputs": [],
   "source": [
    "# On recode catv pour regrouper les véhicules en catégories:\n",
    "# 1 : véhicules légers (VL, VU)\n",
    "# 2 : Sans permis (< 125 cm3)\n",
    "# 3 : Poids lourds\n",
    "# 4 : transports en commun\n",
    "# 5 : > 125 cm3\n",
    "\n",
    "def func(x):\n",
    "    if x in [7,10]:\n",
    "        x=1; \n",
    "    elif (x in [1, 2, 3, 30, 31, 32, 50, 60, 80, 99, 35, 41, 42]):\n",
    "        x=2; \n",
    "    elif (x in [13, 14, 15, 16, 17, 20, 21]) :\n",
    "        x=3 \n",
    "    elif (x in  [37, 38, 39, 40])  :\n",
    "        x= 4 \n",
    "    elif (x in [33, 34, 36, 43]) : #voir dans la description si on peut mettre un else à la place\n",
    "        x= 5 \n",
    "    return x\n",
    "\n",
    "        \n",
    "df_utiles['catv'] = df_utiles['catv'].apply(func)\n"
   ]
  },
  {
   "cell_type": "code",
   "execution_count": 8,
   "metadata": {},
   "outputs": [],
   "source": [
    "df_utiles.to_csv('df_utiles.csv')"
   ]
  },
  {
   "cell_type": "code",
   "execution_count": 9,
   "metadata": {},
   "outputs": [
    {
     "data": {
      "text/html": [
       "<div>\n",
       "<style scoped>\n",
       "    .dataframe tbody tr th:only-of-type {\n",
       "        vertical-align: middle;\n",
       "    }\n",
       "\n",
       "    .dataframe tbody tr th {\n",
       "        vertical-align: top;\n",
       "    }\n",
       "\n",
       "    .dataframe thead th {\n",
       "        text-align: right;\n",
       "    }\n",
       "</style>\n",
       "<table border=\"1\" class=\"dataframe\">\n",
       "  <thead>\n",
       "    <tr style=\"text-align: right;\">\n",
       "      <th></th>\n",
       "      <th>jour</th>\n",
       "      <th>mois</th>\n",
       "      <th>an</th>\n",
       "      <th>hrmn</th>\n",
       "      <th>lum</th>\n",
       "      <th>dep</th>\n",
       "      <th>agg</th>\n",
       "      <th>int</th>\n",
       "      <th>atm</th>\n",
       "      <th>col</th>\n",
       "      <th>...</th>\n",
       "      <th>infra</th>\n",
       "      <th>situ</th>\n",
       "      <th>vma</th>\n",
       "      <th>senc</th>\n",
       "      <th>catv</th>\n",
       "      <th>obs</th>\n",
       "      <th>obsm</th>\n",
       "      <th>choc</th>\n",
       "      <th>manv</th>\n",
       "      <th>motor</th>\n",
       "    </tr>\n",
       "  </thead>\n",
       "  <tbody>\n",
       "    <tr>\n",
       "      <th>0</th>\n",
       "      <td>30</td>\n",
       "      <td>11</td>\n",
       "      <td>2019</td>\n",
       "      <td>60</td>\n",
       "      <td>4</td>\n",
       "      <td>93</td>\n",
       "      <td>1</td>\n",
       "      <td>1</td>\n",
       "      <td>1</td>\n",
       "      <td>2</td>\n",
       "      <td>...</td>\n",
       "      <td>2</td>\n",
       "      <td>1</td>\n",
       "      <td>70</td>\n",
       "      <td>2</td>\n",
       "      <td>1</td>\n",
       "      <td>0</td>\n",
       "      <td>2</td>\n",
       "      <td>5</td>\n",
       "      <td>23</td>\n",
       "      <td>1</td>\n",
       "    </tr>\n",
       "    <tr>\n",
       "      <th>1</th>\n",
       "      <td>30</td>\n",
       "      <td>11</td>\n",
       "      <td>2019</td>\n",
       "      <td>60</td>\n",
       "      <td>4</td>\n",
       "      <td>93</td>\n",
       "      <td>1</td>\n",
       "      <td>1</td>\n",
       "      <td>1</td>\n",
       "      <td>2</td>\n",
       "      <td>...</td>\n",
       "      <td>2</td>\n",
       "      <td>1</td>\n",
       "      <td>70</td>\n",
       "      <td>2</td>\n",
       "      <td>1</td>\n",
       "      <td>0</td>\n",
       "      <td>2</td>\n",
       "      <td>5</td>\n",
       "      <td>23</td>\n",
       "      <td>1</td>\n",
       "    </tr>\n",
       "    <tr>\n",
       "      <th>2</th>\n",
       "      <td>30</td>\n",
       "      <td>11</td>\n",
       "      <td>2019</td>\n",
       "      <td>60</td>\n",
       "      <td>4</td>\n",
       "      <td>93</td>\n",
       "      <td>1</td>\n",
       "      <td>1</td>\n",
       "      <td>1</td>\n",
       "      <td>2</td>\n",
       "      <td>...</td>\n",
       "      <td>2</td>\n",
       "      <td>1</td>\n",
       "      <td>70</td>\n",
       "      <td>2</td>\n",
       "      <td>3</td>\n",
       "      <td>1</td>\n",
       "      <td>0</td>\n",
       "      <td>3</td>\n",
       "      <td>11</td>\n",
       "      <td>1</td>\n",
       "    </tr>\n",
       "    <tr>\n",
       "      <th>3</th>\n",
       "      <td>30</td>\n",
       "      <td>11</td>\n",
       "      <td>2019</td>\n",
       "      <td>120</td>\n",
       "      <td>3</td>\n",
       "      <td>93</td>\n",
       "      <td>1</td>\n",
       "      <td>1</td>\n",
       "      <td>1</td>\n",
       "      <td>6</td>\n",
       "      <td>...</td>\n",
       "      <td>0</td>\n",
       "      <td>1</td>\n",
       "      <td>70</td>\n",
       "      <td>1</td>\n",
       "      <td>1</td>\n",
       "      <td>4</td>\n",
       "      <td>0</td>\n",
       "      <td>1</td>\n",
       "      <td>0</td>\n",
       "      <td>1</td>\n",
       "    </tr>\n",
       "    <tr>\n",
       "      <th>4</th>\n",
       "      <td>28</td>\n",
       "      <td>11</td>\n",
       "      <td>2019</td>\n",
       "      <td>900</td>\n",
       "      <td>1</td>\n",
       "      <td>92</td>\n",
       "      <td>1</td>\n",
       "      <td>1</td>\n",
       "      <td>1</td>\n",
       "      <td>4</td>\n",
       "      <td>...</td>\n",
       "      <td>0</td>\n",
       "      <td>1</td>\n",
       "      <td>90</td>\n",
       "      <td>1</td>\n",
       "      <td>1</td>\n",
       "      <td>0</td>\n",
       "      <td>2</td>\n",
       "      <td>1</td>\n",
       "      <td>2</td>\n",
       "      <td>1</td>\n",
       "    </tr>\n",
       "  </tbody>\n",
       "</table>\n",
       "<p>5 rows × 43 columns</p>\n",
       "</div>"
      ],
      "text/plain": [
       "   jour  mois    an  hrmn  lum  dep  agg  int  atm  col  ...  infra  situ  \\\n",
       "0    30    11  2019    60    4   93    1    1    1    2  ...      2     1   \n",
       "1    30    11  2019    60    4   93    1    1    1    2  ...      2     1   \n",
       "2    30    11  2019    60    4   93    1    1    1    2  ...      2     1   \n",
       "3    30    11  2019   120    3   93    1    1    1    6  ...      0     1   \n",
       "4    28    11  2019   900    1   92    1    1    1    4  ...      0     1   \n",
       "\n",
       "   vma  senc  catv  obs  obsm  choc  manv  motor  \n",
       "0   70     2     1    0     2     5    23      1  \n",
       "1   70     2     1    0     2     5    23      1  \n",
       "2   70     2     3    1     0     3    11      1  \n",
       "3   70     1     1    4     0     1     0      1  \n",
       "4   90     1     1    0     2     1     2      1  \n",
       "\n",
       "[5 rows x 43 columns]"
      ]
     },
     "execution_count": 9,
     "metadata": {},
     "output_type": "execute_result"
    }
   ],
   "source": [
    "df_utiles.head()"
   ]
  },
  {
   "cell_type": "code",
   "execution_count": 10,
   "metadata": {},
   "outputs": [
    {
     "data": {
      "text/plain": [
       "jour         int64\n",
       "mois         int64\n",
       "an           int64\n",
       "hrmn         int64\n",
       "lum          int64\n",
       "dep          int64\n",
       "agg          int64\n",
       "int          int64\n",
       "atm          int64\n",
       "col          int64\n",
       "lat        float64\n",
       "long       float64\n",
       "place        int64\n",
       "catu         int64\n",
       "grav         int64\n",
       "sexe         int64\n",
       "an_nais      int64\n",
       "trajet       int64\n",
       "secu1        int64\n",
       "secu2        int64\n",
       "secu3        int64\n",
       "locp         int64\n",
       "actp        object\n",
       "etatp        int64\n",
       "catr         int64\n",
       "circ         int64\n",
       "nbv          int64\n",
       "vosp         int64\n",
       "prof         int64\n",
       "pr          object\n",
       "pr1         object\n",
       "plan         int64\n",
       "surf         int64\n",
       "infra        int64\n",
       "situ         int64\n",
       "vma          int64\n",
       "senc         int64\n",
       "catv         int64\n",
       "obs          int64\n",
       "obsm         int64\n",
       "choc         int64\n",
       "manv         int64\n",
       "motor        int64\n",
       "dtype: object"
      ]
     },
     "execution_count": 10,
     "metadata": {},
     "output_type": "execute_result"
    }
   ],
   "source": [
    "df_utiles.dtypes"
   ]
  },
  {
   "cell_type": "code",
   "execution_count": 11,
   "metadata": {},
   "outputs": [
    {
     "data": {
      "text/plain": [
       "Index(['jour', 'mois', 'an', 'hrmn', 'lum', 'dep', 'agg', 'int', 'atm', 'col',\n",
       "       'lat', 'long', 'place', 'catu', 'grav', 'sexe', 'an_nais', 'trajet',\n",
       "       'secu1', 'secu2', 'secu3', 'locp', 'actp', 'etatp', 'catr', 'circ',\n",
       "       'nbv', 'vosp', 'prof', 'pr', 'pr1', 'plan', 'surf', 'infra', 'situ',\n",
       "       'vma', 'senc', 'catv', 'obs', 'obsm', 'choc', 'manv', 'motor'],\n",
       "      dtype='object')"
      ]
     },
     "execution_count": 11,
     "metadata": {},
     "output_type": "execute_result"
    }
   ],
   "source": [
    "df_utiles.columns # Liste des colonnes"
   ]
  },
  {
   "cell_type": "markdown",
   "metadata": {},
   "source": [
    "## Partie descriptive"
   ]
  },
  {
   "cell_type": "markdown",
   "metadata": {
    "id": "JoAxBCR2xwEq"
   },
   "source": [
    "#### Analyse statistique des données de df_utiles.csv : matrice des corrélations "
   ]
  },
  {
   "cell_type": "code",
   "execution_count": 12,
   "metadata": {
    "colab": {
     "base_uri": "https://localhost:8080/",
     "height": 605
    },
    "id": "Wt_opqQix0Pm",
    "outputId": "09800f70-8d3f-4513-deab-14aeaa8a9856"
   },
   "outputs": [
    {
     "data": {
      "text/plain": [
       "<matplotlib.axes._subplots.AxesSubplot at 0x1bcd4646f40>"
      ]
     },
     "execution_count": 12,
     "metadata": {},
     "output_type": "execute_result"
    },
    {
     "data": {
      "image/png": "[encoded data removed]",
      "text/plain": [
       "<Figure size 792x648 with 2 Axes>"
      ]
     },
     "metadata": {
      "needs_background": "light"
     },
     "output_type": "display_data"
    }
   ],
   "source": [
    "corr = df_utiles.drop(['an', 'grav'], axis=1).corr()\n",
    "f, ax = plt.subplots(figsize=(11, 9))\n",
    "cmap = sns.diverging_palette(230, 20, as_cmap=True)\n",
    "sns.heatmap(corr, cmap=cmap, vmax=.3, center=0, square=True, linewidths=.5, cbar_kws={\"shrink\": .5})"
   ]
  },
  {
   "cell_type": "markdown",
   "metadata": {
    "id": "zdzSAkdxOhPx"
   },
   "source": [
    "**Test ARIMA pour anticiper nbre accidents**"
   ]
  },
  {
   "cell_type": "markdown",
   "metadata": {
    "id": "eRYIlFZxXxAn"
   },
   "source": [
    "**But : obtenir la colonne nbre_acc_j qui représente le nombre d'accidents par jour**"
   ]
  },
  {
   "cell_type": "code",
   "execution_count": 13,
   "metadata": {
    "colab": {
     "base_uri": "https://localhost:8080/",
     "height": 855
    },
    "id": "zaUxXbT0OpAA",
    "outputId": "11cfb892-12bf-4239-c32f-5e43d5b647c3",
    "scrolled": true
   },
   "outputs": [],
   "source": [
    "df_utiles = pd.read_csv('df_utiles.csv')\n",
    "# la colonne \"jour_format_normal\" contient la date au format standard dd/mm/yyyy\n",
    "df_utiles[\"jour_format_normal\"] = 0 # Initialisation de la colonne\n",
    "df_utiles[\"jour_format_normal\"] = df_utiles[\"jour\"].astype(str)+'/'+df_utiles[\"mois\"].astype(str)+'/'+df_utiles[\"an\"].astype(str)\n",
    "df_utiles[\"jour_format_normal\"] = pd.to_datetime(df_utiles[\"jour_format_normal\"], format=\"%d/%m/%Y\")\n",
    "df_utiles[\"colonne_soustraction\"] = date(df_utiles[\"an\"].iloc[0], 1, 1) # Création d'une colonne remplie avec la date du 01/01/2019\n",
    "df_utiles[\"colonne_soustraction\"] = pd.to_datetime(df_utiles[\"colonne_soustraction\"]) #Pour transformer en objet date \n",
    "df_utiles[\"nbre_j\"] = df_utiles[\"jour_format_normal\"] - df_utiles[\"colonne_soustraction\"] # Permet d'obtenir une colonne contenant, pour chaque accident,\n",
    "# Le nombre de jours écoulés depuis le 01/01/2019\n",
    "\n",
    "def datification(x):\n",
    "    return x.days # Permet d'obtenir l'entier contenu par l'objet \"date\" de Python\n",
    "df_utiles[\"nbre_j\"] = df_utiles[\"nbre_j\"].apply(datification) #Maintenant nbre_j est une colonne d'entiers\n",
    "nbre_acc_j = df_utiles.groupby(['nbre_j']).agg('count').jour.values #Nbre d'accidents (ou de victimes d'accidents jsp) par jour\n",
    "ts = pd.Series(nbre_acc_j, index=pd.date_range(\"1/1/2019\", periods=365)) # Objet Series de pandas, pour faire des graphes\n",
    "#ts.plot()"
   ]
  },
  {
   "cell_type": "markdown",
   "metadata": {
    "id": "qGSOF5ZeY4hn"
   },
   "source": [
    "#### Graphe d'autocorrélation  "
   ]
  },
  {
   "cell_type": "code",
   "execution_count": 14,
   "metadata": {
    "colab": {
     "base_uri": "https://localhost:8080/",
     "height": 281
    },
    "id": "RcBVMkcAX7Z8",
    "outputId": "6366f251-4b29-4389-ae0f-a62bbc64c3d3"
   },
   "outputs": [],
   "source": [
    "# Subtract the rolling mean\n",
    "nbre_acc_j_dataframe = pd.DataFrame(nbre_acc_j)\n",
    "nbre_acc_rolling = nbre_acc_j_dataframe - nbre_acc_j_dataframe.rolling(15).mean()\n",
    "\n",
    "# Drop the NaN values\n",
    "nbre_acc_rolling = nbre_acc_rolling.dropna()\n",
    "\n",
    "# Create figure and subplots\n",
    "#fig, ax1 = plt.subplots()\n",
    "\n",
    "# Plot the ACF\n",
    "#plot_acf(nbre_acc_rolling, lags=25, zero=False, ax=ax1);"
   ]
  },
  {
   "cell_type": "markdown",
   "metadata": {
    "id": "nPePWfiJZCXp"
   },
   "source": [
    "Conclusion : la composante saisonale a pour période 7 (abscisse du max sur le plot ci-dessus)"
   ]
  },
  {
   "cell_type": "markdown",
   "metadata": {
    "id": "bltALNZJX70n"
   },
   "source": [
    "**SARIMAX : prédire nbre d'accidents en s'appuyant sur les données déjà enregistrées**"
   ]
  },
  {
   "cell_type": "code",
   "execution_count": 15,
   "metadata": {
    "colab": {
     "base_uri": "https://localhost:8080/",
     "height": 1000
    },
    "id": "x3sRVwcrZSuh",
    "outputId": "67ed0764-cc55-4bfd-e749-b35c3c84fe32"
   },
   "outputs": [
    {
     "data": {
      "text/html": [
       "<table class=\"simpletable\">\n",
       "<caption>SARIMAX Results</caption>\n",
       "<tr>\n",
       "  <th>Dep. Variable:</th>                 <td>y</td>               <th>  No. Observations:  </th>    <td>365</td>   \n",
       "</tr>\n",
       "<tr>\n",
       "  <th>Model:</th>           <td>SARIMAX(5, 0, 0)x(1, 1, 0, 7)</td> <th>  Log Likelihood     </th> <td>-1939.442</td>\n",
       "</tr>\n",
       "<tr>\n",
       "  <th>Date:</th>                  <td>Sun, 02 Jan 2022</td>        <th>  AIC                </th> <td>3892.884</td> \n",
       "</tr>\n",
       "<tr>\n",
       "  <th>Time:</th>                      <td>20:56:42</td>            <th>  BIC                </th> <td>3920.048</td> \n",
       "</tr>\n",
       "<tr>\n",
       "  <th>Sample:</th>                        <td>0</td>               <th>  HQIC               </th> <td>3903.687</td> \n",
       "</tr>\n",
       "<tr>\n",
       "  <th></th>                            <td> - 365</td>             <th>                     </th>     <td> </td>    \n",
       "</tr>\n",
       "<tr>\n",
       "  <th>Covariance Type:</th>              <td>opg</td>              <th>                     </th>     <td> </td>    \n",
       "</tr>\n",
       "</table>\n",
       "<table class=\"simpletable\">\n",
       "<tr>\n",
       "     <td></td>        <th>coef</th>     <th>std err</th>      <th>z</th>      <th>P>|z|</th>  <th>[0.025</th>    <th>0.975]</th>  \n",
       "</tr>\n",
       "<tr>\n",
       "  <th>ar.L1</th>   <td>    0.2613</td> <td>    0.052</td> <td>    5.074</td> <td> 0.000</td> <td>    0.160</td> <td>    0.362</td>\n",
       "</tr>\n",
       "<tr>\n",
       "  <th>ar.L2</th>   <td>    0.1273</td> <td>    0.057</td> <td>    2.221</td> <td> 0.026</td> <td>    0.015</td> <td>    0.240</td>\n",
       "</tr>\n",
       "<tr>\n",
       "  <th>ar.L3</th>   <td>    0.0942</td> <td>    0.055</td> <td>    1.725</td> <td> 0.085</td> <td>   -0.013</td> <td>    0.201</td>\n",
       "</tr>\n",
       "<tr>\n",
       "  <th>ar.L4</th>   <td>    0.0820</td> <td>    0.058</td> <td>    1.416</td> <td> 0.157</td> <td>   -0.031</td> <td>    0.195</td>\n",
       "</tr>\n",
       "<tr>\n",
       "  <th>ar.L5</th>   <td>    0.0144</td> <td>    0.056</td> <td>    0.256</td> <td> 0.798</td> <td>   -0.096</td> <td>    0.125</td>\n",
       "</tr>\n",
       "<tr>\n",
       "  <th>ar.S.L7</th> <td>   -0.3782</td> <td>    0.051</td> <td>   -7.450</td> <td> 0.000</td> <td>   -0.478</td> <td>   -0.279</td>\n",
       "</tr>\n",
       "<tr>\n",
       "  <th>sigma2</th>  <td> 2961.9204</td> <td>  210.258</td> <td>   14.087</td> <td> 0.000</td> <td> 2549.822</td> <td> 3374.019</td>\n",
       "</tr>\n",
       "</table>\n",
       "<table class=\"simpletable\">\n",
       "<tr>\n",
       "  <th>Ljung-Box (Q):</th>          <td>94.09</td> <th>  Jarque-Bera (JB):  </th> <td>4.15</td> \n",
       "</tr>\n",
       "<tr>\n",
       "  <th>Prob(Q):</th>                <td>0.00</td>  <th>  Prob(JB):          </th> <td>0.13</td> \n",
       "</tr>\n",
       "<tr>\n",
       "  <th>Heteroskedasticity (H):</th> <td>1.49</td>  <th>  Skew:              </th> <td>-0.13</td>\n",
       "</tr>\n",
       "<tr>\n",
       "  <th>Prob(H) (two-sided):</th>    <td>0.03</td>  <th>  Kurtosis:          </th> <td>3.46</td> \n",
       "</tr>\n",
       "</table><br/><br/>Warnings:<br/>[1] Covariance matrix calculated using the outer product of gradients (complex-step)."
      ],
      "text/plain": [
       "<class 'statsmodels.iolib.summary.Summary'>\n",
       "\"\"\"\n",
       "                                     SARIMAX Results                                     \n",
       "=========================================================================================\n",
       "Dep. Variable:                                 y   No. Observations:                  365\n",
       "Model:             SARIMAX(5, 0, 0)x(1, 1, 0, 7)   Log Likelihood               -1939.442\n",
       "Date:                           Sun, 02 Jan 2022   AIC                           3892.884\n",
       "Time:                                   20:56:42   BIC                           3920.048\n",
       "Sample:                                        0   HQIC                          3903.687\n",
       "                                           - 365                                         \n",
       "Covariance Type:                             opg                                         \n",
       "==============================================================================\n",
       "                 coef    std err          z      P>|z|      [0.025      0.975]\n",
       "------------------------------------------------------------------------------\n",
       "ar.L1          0.2613      0.052      5.074      0.000       0.160       0.362\n",
       "ar.L2          0.1273      0.057      2.221      0.026       0.015       0.240\n",
       "ar.L3          0.0942      0.055      1.725      0.085      -0.013       0.201\n",
       "ar.L4          0.0820      0.058      1.416      0.157      -0.031       0.195\n",
       "ar.L5          0.0144      0.056      0.256      0.798      -0.096       0.125\n",
       "ar.S.L7       -0.3782      0.051     -7.450      0.000      -0.478      -0.279\n",
       "sigma2      2961.9204    210.258     14.087      0.000    2549.822    3374.019\n",
       "===================================================================================\n",
       "Ljung-Box (Q):                       94.09   Jarque-Bera (JB):                 4.15\n",
       "Prob(Q):                              0.00   Prob(JB):                         0.13\n",
       "Heteroskedasticity (H):               1.49   Skew:                            -0.13\n",
       "Prob(H) (two-sided):                  0.03   Kurtosis:                         3.46\n",
       "===================================================================================\n",
       "\n",
       "Warnings:\n",
       "[1] Covariance matrix calculated using the outer product of gradients (complex-step).\n",
       "\"\"\""
      ]
     },
     "execution_count": 15,
     "metadata": {},
     "output_type": "execute_result"
    }
   ],
   "source": [
    "# Create a SARIMAX model\n",
    "model = SARIMAX(nbre_acc_j, order=(5, 0, 0), seasonal_order=(1, 1, 0, 7)) # Le 7 correspond à la période déterminée ci-dessus\n",
    "\n",
    "# Fit the model\n",
    "results = model.fit()\n",
    "\n",
    "# Print the results summary\n",
    "results.summary()"
   ]
  },
  {
   "cell_type": "code",
   "execution_count": 16,
   "metadata": {
    "colab": {
     "base_uri": "https://localhost:8080/",
     "height": 283
    },
    "id": "kz1FboMAvQri",
    "outputId": "82c38d35-ebed-43c4-b65f-ab650219544c"
   },
   "outputs": [
    {
     "name": "stdout",
     "output_type": "stream",
     "text": [
      "                     0\n",
      "2019-01-01  263.000000\n",
      "2019-01-02  239.000000\n",
      "2019-01-03  255.000000\n",
      "2019-01-04  298.000000\n",
      "2019-01-05  287.000000\n",
      "...                ...\n",
      "2020-01-27  288.707718\n",
      "2020-01-28  285.484090\n",
      "2020-01-29  209.327054\n",
      "2020-01-30  274.996645\n",
      "2020-01-31  317.725944\n",
      "\n",
      "[396 rows x 1 columns]\n"
     ]
    }
   ],
   "source": [
    "results_pred = results.get_forecast(31) #Utilise le modèle précédent afin de prédire 31 nouvelles valeurs (mois de janvier 2020)\n",
    "results_mean = results_pred.predicted_mean #Je ne sais pas trop\n",
    "results_mean = pd.DataFrame(results_mean) #En objet dataframe\n",
    "results_final = nbre_acc_j_dataframe.append(results_mean) #On adjoint les 31 prédictions aux valeurs réelles afin de tout afficher\n",
    "results_final = results_final.reset_index() #Après cette fusion de dataframe, l'index est cassé, on le réinitialise donc\n",
    "results_final = results_final.drop(\"index\", axis=1) #La commande précédent ajoute une colonne \"index\" inutile dans le DataFrame, on la supprime\n",
    "date_index = pd.date_range('1/1/2019', periods=396, freq='D') #Pour avoir les dates en abscisse (365 + 31 = 396 jours)\n",
    "results_final = results_final.set_index(date_index)\n",
    "print(results_final)"
   ]
  },
  {
   "cell_type": "markdown",
   "metadata": {},
   "source": [
    "## Partie carte"
   ]
  },
  {
   "cell_type": "markdown",
   "metadata": {},
   "source": [
    "# Récupération des frontières des régions françaises"
   ]
  },
  {
   "cell_type": "code",
   "execution_count": 17,
   "metadata": {},
   "outputs": [],
   "source": [
    "#Au cas où la cellule suivante ne marche pas\n",
    "import ssl\n",
    "ssl._create_default_https_context = ssl._create_unverified_context"
   ]
  },
  {
   "cell_type": "code",
   "execution_count": 18,
   "metadata": {
    "colab": {
     "base_uri": "https://localhost:8080/"
    },
    "id": "dRiu7jxHlbkk",
    "outputId": "3ea7d739-543f-4515-dddb-4bb4b5e38d70"
   },
   "outputs": [],
   "source": [
    "fr_regions = pd.read_json('https://france-geojson.gregoiredavid.fr/repo/regions.geojson')\n",
    "fr_regions = fr_regions.to_json()\n",
    "\n",
    " # Les frontières des régions françaises (en geojson) sont stockées dans fr_regions"
   ]
  },
  {
   "cell_type": "markdown",
   "metadata": {},
   "source": [
    "## Partie prédiction"
   ]
  },
  {
   "cell_type": "code",
   "execution_count": null,
   "metadata": {},
   "outputs": [
    {
     "name": "stderr",
     "output_type": "stream",
     "text": [
      "<ipython-input-19-45d3c1dee8ca>:27: DataConversionWarning: A column-vector y was passed when a 1d array was expected. Please change the shape of y to (n_samples,), for example using ravel().\n",
      "  rfc.fit(X_train,y_train) #On fit sur l'ensemble d'entraînement\n",
      "D:\\anaconda3\\lib\\site-packages\\sklearn\\model_selection\\_validation.py:681: DataConversionWarning: A column-vector y was passed when a 1d array was expected. Please change the shape of y to (n_samples,), for example using ravel().\n",
      "  estimator.fit(X_train, y_train, **fit_params)\n",
      "D:\\anaconda3\\lib\\site-packages\\sklearn\\model_selection\\_validation.py:681: DataConversionWarning: A column-vector y was passed when a 1d array was expected. Please change the shape of y to (n_samples,), for example using ravel().\n",
      "  estimator.fit(X_train, y_train, **fit_params)\n",
      "D:\\anaconda3\\lib\\site-packages\\sklearn\\model_selection\\_validation.py:681: DataConversionWarning: A column-vector y was passed when a 1d array was expected. Please change the shape of y to (n_samples,), for example using ravel().\n",
      "  estimator.fit(X_train, y_train, **fit_params)\n"
     ]
    }
   ],
   "source": [
    "variables_utiles_regr = ['nbre_j', 'hrmn', 'lum', 'lat', 'long', 'agg', 'int', 'atm', 'col', 'catr', 'prof', 'plan', 'surf', 'infra', 'situ', 'catv', 'obs', 'obsm', 'choc', 'catu', 'sexe', 'grav', 'an_nais']\n",
    "variables_utiles_regr_sans_grav = ['nbre_j', 'hrmn', 'lum', 'lat', 'long', 'agg', 'int', 'atm', 'col', 'catr', 'prof', 'plan', 'surf', 'infra', 'situ', 'catv', 'obs', 'obsm', 'choc', 'catu', 'sexe', 'an_nais']\n",
    "\n",
    "\n",
    "# A faire : vérifier que les données sont centrées-réduites\n",
    "# A faire : changer les différents paramètres pour tester\n",
    "\n",
    "df_rayon = []\n",
    "df_rayon = df_utiles[variables_utiles_regr] # On ne retient que les variables utiles\n",
    "df_rayon = pd.DataFrame(df_rayon)\n",
    "\n",
    "X = df_rayon[variables_utiles_regr_sans_grav] # Tout le dataframe sans la colonne \"grav\" qu'on cherche à prédire\n",
    "y = df_rayon.grav #colonne \"grav\"\n",
    "X, y = shuffle(X, y)\n",
    "X = pd.DataFrame(X)\n",
    "\n",
    "y = y.astype(int) #Pour s'assurer que y est une colonne d'int\n",
    "y = label_binarize(y, classes=[0, 1]) #Pour faire du one-hot encoding sur y\n",
    "y = pd.DataFrame(y)\n",
    "\n",
    "os = SMOTE(random_state=0) #Initialisation de SMOTE, pour avoir 50 % de 0 et 50 % de 1 dans y (sans modifier la distribution de l'échantillon d'accidents)\n",
    "cv = RepeatedKFold(n_splits=3, n_repeats=3, random_state=1) #K-Fold répété, augmente la précision de l'algo de ~10 %\n",
    "for train_index, test_index in cv.split(X): #On remplit X_train, X_test, Y_train et Y_test pour fitter et tester l'algo\n",
    "    X_train, X_test = X.iloc[train_index], X.iloc[test_index]\n",
    "    y_train, y_test = y.iloc[train_index], y.iloc[test_index]\n",
    "rfc = RandomForestClassifier() # On charge une instance de RandomForestClassifier\n",
    "rfc.fit(X_train,y_train) #On fit sur l'ensemble d'entraînement\n",
    "rfc_predict = rfc.predict(X_test) #On teste\n",
    "rfc_cv_score = cross_val_score(rfc, X, y, cv=10, scoring='roc_auc') #On évalue le score\n",
    "cm = confusion_matrix(y_test.values.argmax(axis=1), rfc_predict.argmax(axis=1))\n",
    "precision = (cm[0][0] + cm[1][1])/(cm[0][0] + cm[1][1] + cm[0][1] + cm[1][0])\n",
    "precision2 = accuracy_score(y_test, rfc_predict) # Même chose que la variable precision\n",
    "\n",
    "def random_forest(pred):\n",
    "    return [precision2*100, rfc.predict(pred)]"
   ]
  },
  {
   "cell_type": "code",
   "execution_count": null,
   "metadata": {},
   "outputs": [],
   "source": [
    "variables_utiles_regr = ['nbre_j', 'hrmn', 'lum', 'lat', 'long', 'agg', 'int', 'atm', 'col', 'catr', 'prof', 'plan', 'surf', 'infra', 'situ', 'catv', 'obs', 'obsm', 'choc', 'catu', 'sexe', 'grav', 'an_nais']\n",
    "variables_utiles_regr_sans_grav = ['nbre_j', 'hrmn', 'lum', 'lat', 'long', 'agg', 'int', 'atm', 'col', 'catr', 'prof', 'plan', 'surf', 'infra', 'situ', 'catv', 'obs', 'obsm', 'choc', 'catu', 'sexe', 'an_nais']\n",
    "variables_utiles_cat = ['lum', 'agg', 'int', 'atm', 'col', 'catr', 'prof', 'plan', 'surf', 'infra', 'situ', 'catv', 'obs', 'obsm', 'choc', 'catu', 'sexe']\n",
    "variables_utiles_num = ['nbre_j', 'hrmn', 'lat', 'long', 'an_nais']\n",
    "from sklearn import preprocessing\n",
    "from sklearn.preprocessing import OneHotEncoder\n",
    "from sklearn.preprocessing import StandardScaler\n",
    "from imblearn.pipeline import Pipeline\n",
    "from imblearn.under_sampling import RandomUnderSampler\n",
    "from keras.models import Sequential\n",
    "from keras.layers import Dense\n",
    "from keras.layers import Flatten\n",
    "from keras.layers import Dropout\n",
    "import pickle # Pour sauvegarder le modèle de OneHotEncoding\n",
    "\n",
    "# A faire : vérifier que les données sont centrées-réduites\n",
    "# A faire : changer les différents paramètres pour tester\n",
    "    \n",
    "df_rayon = []\n",
    "df_rayon = df_utiles[variables_utiles_regr] # On ne retient que les variables utiles\n",
    "df_rayon = pd.DataFrame(df_rayon)\n",
    "enc = OneHotEncoder(handle_unknown='ignore') #OneHotEncoder pour les variables catégorielles\n",
    "ss = StandardScaler()\n",
    "\n",
    "for var in variables_utiles_cat: # On parcourt les variables utiles catégorielles\n",
    "    df_rayon[var] = enc.fit_transform(df_rayon[var].values.reshape(-1, 1)).todense()\n",
    "pickle.dump(enc, open('onehot.pickle', 'wb'))\n",
    "\n",
    "for var in variables_utiles_num:\n",
    "    df_rayon[var] = ss.fit_transform(df_rayon[var].values.reshape(-1, 1))\n",
    "pickle.dump(ss, open('standardscaler.pickle', 'wb'))\n",
    "\n",
    "X = df_rayon[variables_utiles_regr_sans_grav] # Tout le dataframe sans la colonne \"grav\" qu'on cherche à prédire\n",
    "y = df_rayon.grav #colonne \"grav\"\n",
    "X, y = shuffle(X, y)\n",
    "X = pd.DataFrame(X)\n",
    "y = y.astype(int) #Pour s'assurer que y est une colonne d'int\n",
    "y = label_binarize(y, classes=[0, 1]) #Pour faire du one-hot encoding sur y\n",
    "y = pd.DataFrame(y)\n",
    "\n",
    "cv = RepeatedKFold(n_splits=3, n_repeats=3, random_state=1) #K-Fold répété, augmente la précision de l'algo de ~10 %\n",
    "\n",
    "os = SMOTE(sampling_strategy=0.1) # Pour rééqulibrer l'échantillon (2,63 % d'accidents mortels)\n",
    "under = RandomUnderSampler(sampling_strategy=0.5)\n",
    "steps = [('o', os), ('u', under)]\n",
    "pipeline = Pipeline(steps=steps)\n",
    "# Appliquer la pipeline précédente aux données\n",
    "columns = X.columns\n",
    "X, y = pipeline.fit_resample(X, y)\n",
    "X = pd.DataFrame(data=X,columns=columns)\n",
    "y= pd.DataFrame(data=y)\n",
    "\n",
    "for train_index, test_index in cv.split(X): #On remplit X_train, X_test, Y_train et Y_test pour fitter et tester l'algo\n",
    "    X_train, X_test = X.iloc[train_index], X.iloc[test_index]\n",
    "    y_train, y_test = y.iloc[train_index], y.iloc[test_index]\n",
    "    \n",
    "# Réseaux de neurones\n",
    "    \n",
    "model = Sequential()\n",
    "model.add(Dense(256, input_dim=22, activation='relu'))\n",
    "model.add(Dropout(0.5))\n",
    "model.add(Dense(128, activation='relu'))\n",
    "model.add(Dropout(0.5))\n",
    "model.add(Dense(1, activation='sigmoid'))\n",
    "model.add(Flatten())\n",
    "model.compile(loss='binary_crossentropy', optimizer='rmsprop', metrics=['accuracy'])\n",
    "model.fit(X_train, y_train, epochs=5, batch_size=64)\n",
    "predictions = model.predict(X_test)\n",
    "_, accuracy = model.evaluate(X_test, y_test)\n",
    "print('Accuracy: %.2f' % (accuracy*100))\n",
    "\n",
    "def output_NN_Keras(output):\n",
    "    if output[0][0] > 0.5:\n",
    "        return 'Décès'\n",
    "    else:\n",
    "        return 'Survie'\n",
    "\n",
    "def NN_Keras(pred):\n",
    "    pred = np.asarray(pred).astype('float32')\n",
    "    pred = pd.DataFrame(np.reshape(pred, (1, -1)), columns=[['nbre_j', 'hrmn', 'lat', 'long', 'an_nais', 'lum', 'agg', 'int', 'atm', 'col', 'catr', 'prof', 'plan', 'surf', 'infra', 'situ', 'catv', 'obs', 'obsm', 'choc', 'catu', 'sexe']])\n",
    "    loaded_enc = pickle.load(open(\"onehot.pickle\", \"rb\"))\n",
    "    loaded_ss = pickle.load(open(\"standardscaler.pickle\", \"rb\"))\n",
    "    for var in variables_utiles_cat: # On parcourt les variables utiles catégorielles\n",
    "        pred[var] = loaded_enc.fit_transform(pred[var].values.reshape(-1, 1)).todense()\n",
    "    for var in variables_utiles_num: # On parcourt les variables utiles catégorielles\n",
    "        pred[var] = loaded_ss.fit_transform(pred[var].values.reshape(-1, 1))\n",
    "    return [accuracy*100, output_NN_Keras(model.predict(pred))]"
   ]
  },
  {
   "cell_type": "markdown",
   "metadata": {},
   "source": [
    "# On obtient 80 % de précision avec un RandomForestClassifier"
   ]
  },
  {
   "cell_type": "markdown",
   "metadata": {},
   "source": [
    "# Interface Dash"
   ]
  },
  {
   "cell_type": "code",
   "execution_count": null,
   "metadata": {},
   "outputs": [],
   "source": [
    "## Dash app (https://dash.plot.ly/getting-started)\n",
    "\n",
    "import dash # Dash\n",
    "import dash_core_components as dcc # Pour utiliser dcc.Input (ce qui permet d'inclure les inputs dans le HTML)\n",
    "import dash_html_components as html # L'interface Dash est en HTML\n",
    "from dash.dependencies import Input, Output, State, MATCH, ALL # Pour les callbacks\n",
    "\n",
    "external_stylesheets = ['https://codepen.io/chriddyp/pen/bWLwgP.css'] # Feuille CSS externe, pour mettre en forme la dashboard\n",
    "\n",
    "app = dash.Dash(__name__, external_stylesheets=external_stylesheets)\n",
    "\n",
    "NUMBER_VAR = (\n",
    "    'nbre_j', 'hrmn', 'lat', 'long', 'an_nais'\n",
    ") # Liste des variables sur lesquelles on utilise l'algo\n",
    "\n",
    "app.layout = html.Div(children=[ #Toute l'app est une balise div, qui contient des balises H1, ..., H6 (pour les titres) et des balises Div pour tous les contenus interactifs\n",
    "    html.H1(children='Prédictions'),\n",
    "    html.Div([\n",
    "        dcc.Graph(id=\"Carte\",figure=px.scatter_geo(df_utiles.head(1000), lat=\"lat\", lon=\"long\", geojson=fr_regions))] # Carte affichant les accidents sur une carte de France\n",
    "    ,style={'columnCount': 1}), \n",
    "    html.Div([\n",
    "        dcc.Graph(id=\"Prédictions\",figure=px.line(results_final, labels={'x': 'jour', 'y': 'nombre d\\'accidentés'}))] #Prédictions SARIMAX\n",
    "    ,style={'columnCount': 1}), \n",
    "    html.Div(children='''\n",
    "        Remplir les variables\n",
    "    '''),\n",
    "            html.Div( # Cette balise Div permet d'afficher les inputs sur l'interface Dash, pour qu'on puisse les remplir\n",
    "    [\n",
    "        dcc.Input(\n",
    "            id=\"input_{}\".format(_), # On identifie chaque Input par un ID \"input_nomdelavariable\", utile pour les callbacks\n",
    "            type=\"number\",\n",
    "            placeholder=\"variable {}\".format(_),\n",
    "        )\n",
    "        for _ in NUMBER_VAR # On affiche les inputs pour les variables quantitatives (non catégorielles)\n",
    "    ]),\n",
    "            html.Div([\n",
    "    dcc.Dropdown(\n",
    "        id='lum',\n",
    "        options=[\n",
    "            {'label': 'Plein jour', 'value': '1'},\n",
    "            {'label': 'Crépuscule ou aube', 'value': '2'},\n",
    "            {'label': 'Nuit sans éclairage public', 'value': '3'},\n",
    "            {'label': 'Nuit avec éclairage public non allumé', 'value': '4'},\n",
    "            {'label': 'Nuit avec éclairage public allumé', 'value': '5'}\n",
    "        ],\n",
    "        placeholder=\"Conditions d'éclairage\"\n",
    "    )]),\n",
    "    \n",
    "            html.Div([\n",
    "    dcc.Dropdown(\n",
    "        id='catv',\n",
    "        options=[\n",
    "            {'label': 'Indéterminable/piéton', 'value': '0'},\n",
    "            {'label': 'Véhicule léger (voiture, utilitaire)', 'value': '1'},\n",
    "            {'label': 'Sans permis (< 125 cm3) (vélo, scooter, ...)', 'value': '2'},\n",
    "            {'label': 'Poids lourd', 'value': '3'},\n",
    "            {'label': 'Transport en commun', 'value': '4'},\n",
    "            {'label': '> 125 cm3 à 2/3 roues', 'value': '5'}\n",
    "        ],\n",
    "        placeholder=\"Type de véhicule de l'individu\"\n",
    "    )]),\n",
    "    \n",
    "    \n",
    "             html.Div([\n",
    "    dcc.Dropdown(\n",
    "        id='agg',\n",
    "        options=[\n",
    "            {'label': 'Hors agglomération', 'value': '1'},\n",
    "            {'label': 'En agglomération', 'value': '2'}\n",
    "        ],\n",
    "        placeholder=\"En agglo ou non\"\n",
    "    )]),\n",
    "             \n",
    "             html.Div([\n",
    "    dcc.Dropdown(\n",
    "        id='int',\n",
    "        options=[\n",
    "            {'label': 'Hors intersection', 'value': '1'},\n",
    "            {'label': 'Intersection en X', 'value': '2'},\n",
    "            {'label': 'Intersection en T', 'value': '3'},\n",
    "            {'label': 'Intersection en Y ', 'value': '4'},\n",
    "            {'label': 'Intersection à plus de 4 branches', 'value': '5'},\n",
    "            {'label': 'Giratoire', 'value': '6'},\n",
    "            {'label': 'Place ', 'value': '7'},\n",
    "            {'label': 'Passage à niveau ', 'value': '8'},\n",
    "            {'label': 'Autre intersection', 'value': '9'}\n",
    "        ],\n",
    "        placeholder=\"Type d'intersection\"\n",
    "    )]),\n",
    "             \n",
    "             html.Div([\n",
    "    dcc.Dropdown(\n",
    "        id='atm',\n",
    "        options=[\n",
    "            {'label': 'Non renseigné', 'value': '-1'},\n",
    "            {'label': 'Normale', 'value': '1'},\n",
    "            {'label': 'Pluie légère', 'value': '2'},\n",
    "            {'label': 'Pluie forte', 'value': '3'},\n",
    "            {'label': 'Neige - grêle', 'value': '4'},\n",
    "            {'label': 'Brouillard - fumée', 'value': '5'},\n",
    "            {'label': 'Vent fort - tempête', 'value' : '6'},\n",
    "            {'label': 'Temps éblouissant', 'value': '7'},\n",
    "            {'label': 'Temps couvert', 'value': '8'},\n",
    "            {'label': 'Autre', 'value': '9'}\n",
    "        ],\n",
    "        placeholder=\"Conditions météorologiques au moment de l'accident\"\n",
    "    )]),\n",
    "             \n",
    "             html.Div([\n",
    "    dcc.Dropdown(\n",
    "        id='col',\n",
    "        options=[\n",
    "            {'label': 'Non renseigné', 'value': '-1'},\n",
    "            {'label': 'Deux véhicules - frontale', 'value': '1'},\n",
    "            {'label': 'Deux véhicules – par l’arrière', 'value': '2'},\n",
    "            {'label': 'Deux véhicules – par le coté', 'value': '3'},\n",
    "            {'label': 'Trois véhicules et plus – en chaîne', 'value': '4'},\n",
    "            {'label': 'Trois véhicules et plus - collisions multiples', 'value': '5'},\n",
    "            {'label': ' Autre collision', 'value' : '6'},\n",
    "            {'label': 'Sans collision', 'value': '7'}\n",
    "        ],\n",
    "        placeholder=\"Type de collision\"\n",
    "    )]),\n",
    "             \n",
    "             html.Div([\n",
    "    dcc.Dropdown(\n",
    "        id='catr',\n",
    "        options=[\n",
    "            {'label': 'Autoroute', 'value': '1'},\n",
    "            {'label': 'Route nationale', 'value': '2'},\n",
    "            {'label': 'Route Départementale', 'value': '3'},\n",
    "            {'label': 'Voie Communales', 'value': '4'},\n",
    "            {'label': 'Hors réseau public', 'value': '5'},\n",
    "            {'label': 'Parc de stationnement ouvert à la circulation publique', 'value': '6'},\n",
    "            {'label': 'Routes de métropole urbaine', 'value': '7'},\n",
    "            {'label': 'autre', 'value': '9'}\n",
    "        ],\n",
    "        placeholder=\"Type de route\"\n",
    "    )]),\n",
    "             \n",
    "             html.Div([\n",
    "    dcc.Dropdown(\n",
    "        id='prof',\n",
    "        options=[\n",
    "            {'label': 'Non renseigné', 'value': '-1'},\n",
    "            {'label': 'Plat', 'value': '1'},\n",
    "            {'label': 'Pente', 'value': '2'},\n",
    "            {'label': 'Sommet de côte', 'value': '3'},\n",
    "            {'label': 'Bas de côte', 'value': '4'}\n",
    "        ],\n",
    "        placeholder=\"Profil (déclivité)\"\n",
    "    )]),\n",
    "             \n",
    "             html.Div([\n",
    "    dcc.Dropdown(\n",
    "        id='plan',\n",
    "        options=[\n",
    "            {'label': 'Non renseigné', 'value': '-1'},\n",
    "            {'label': 'Partie rectiligne', 'value': '1'},\n",
    "            {'label': 'En courbe à gauche', 'value': '2'},\n",
    "            {'label': 'En courbe à droite', 'value': '3'},\n",
    "            {'label': 'En S', 'value': '4'}\n",
    "        ],\n",
    "        placeholder=\"Tracé en plan\"\n",
    "    )]),\n",
    "             \n",
    "             html.Div([\n",
    "    dcc.Dropdown(\n",
    "        id='surf',\n",
    "        options=[\n",
    "            {'label': 'Non renseigné', 'value': '-1'},\n",
    "            {'label': 'Normale', 'value': '1'},\n",
    "            {'label': 'Mouillée', 'value': '2'},\n",
    "            {'label': 'Flaques', 'value': '3'},\n",
    "            {'label': 'Inondée', 'value': '4'},\n",
    "            {'label': 'Enneigée', 'value': '5'},\n",
    "            {'label': 'Boue', 'value' : '6'},\n",
    "            {'label': 'Verglacée', 'value': '7'},\n",
    "            {'label': 'Corps gras - huile', 'value': '8'},\n",
    "            {'label': 'Autre', 'value': '9'}\n",
    "        ],\n",
    "        placeholder=\"Surface de la chaussée\"\n",
    "    )]),\n",
    "             \n",
    "             html.Div([\n",
    "    dcc.Dropdown(\n",
    "        id='infra',\n",
    "        options=[\n",
    "            {'label': 'Non renseigné', 'value': '-1'},\n",
    "            {'label': 'Aucun', 'value': '0'},\n",
    "            {'label': 'Souterrain - tunnel', 'value': '1'},\n",
    "            {'label': 'Pont - autopont', 'value': '2'},\n",
    "            {'label': 'Bretelle d’échangeur ou de raccordement', 'value': '3'},\n",
    "            {'label': 'Voie ferrée', 'value': '4'},\n",
    "            {'label': 'Carrefour aménagé', 'value': '5'},\n",
    "            {'label': 'Zone piétonne', 'value' : '6'},\n",
    "            {'label': 'Zone de péage', 'value': '7'},\n",
    "            {'label': 'Chantier', 'value': '8'},\n",
    "            {'label': 'Autres', 'value': '9'}\n",
    "        ],\n",
    "        placeholder=\"Type d'infrastructures/aménagement\"\n",
    "    )]),\n",
    "             \n",
    "             html.Div([\n",
    "    dcc.Dropdown(\n",
    "        id='situ',\n",
    "        options=[\n",
    "            {'label': 'Non renseigné', 'value': '-1'},\n",
    "            {'label': 'Aucun', 'value': '0'},\n",
    "            {'label': 'Sur chaussée', 'value': '1'},\n",
    "            {'label': 'Sur bande d’arrêt d’urgence', 'value': '2'},\n",
    "            {'label': 'Sur accotement', 'value': '3'},\n",
    "            {'label': 'Sur trottoir', 'value': '4'},\n",
    "            {'label': 'Sur piste cyclable', 'value': '5'},\n",
    "            {'label': 'Sur autre voie spéciale', 'value' : '6'},\n",
    "            {'label': 'Autres', 'value': '8'}\n",
    "        ],\n",
    "        placeholder=\"Situation de l'accident\"\n",
    "    )]),\n",
    "             html.Div([\n",
    "    dcc.Dropdown(\n",
    "        id='obs',\n",
    "        options=[\n",
    "            {'label': 'Non renseigné', 'value': '-1'},\n",
    "            {'label': 'Sans objet', 'value': '0'},\n",
    "            {'label': 'Véhicule en stationnement', 'value': '1'},\n",
    "            {'label': 'Arbre', 'value': '2'},\n",
    "            {'label': 'Glissière métallique', 'value': '3'},\n",
    "            {'label': 'Glissière béton', 'value': '4'},\n",
    "            {'label': 'Autre glissière', 'value': '5'},\n",
    "            {'label': 'Bâtiment, mur, pile de pont', 'value' : '6'},\n",
    "            {'label': 'Support de signalisation verticale ou poste d’appel d’urgence', 'value': '7'},\n",
    "            {'label': 'Poteau', 'value': '8'},\n",
    "            {'label': 'Mobilier urbain', 'value': '9'},\n",
    "            {'label': 'Parapet', 'value': '10'},\n",
    "            {'label': 'Ilot, refuge, borne haute', 'value': '11'},\n",
    "            {'label': 'Bordure de trottoir', 'value': '12'},\n",
    "            {'label': 'Fossé, talus, paroi rocheuse', 'value': '13'},\n",
    "            {'label': 'Autre obstacle fixe sur chaussée', 'value': '14'},\n",
    "            {'label': 'Autre obstacle fixe sur trottoir ou accotement', 'value': '15'},\n",
    "            {'label': 'Sortie de chaussée sans obstacle', 'value': '16'},\n",
    "            {'label': 'Buse – tête d’aqueduc', 'value': '17'}\n",
    "        ],\n",
    "        placeholder=\"Obstacle fixe percuté\"\n",
    "    )]),\n",
    "             \n",
    "             html.Div([\n",
    "    dcc.Dropdown(\n",
    "        id='obsm',\n",
    "        options=[\n",
    "            {'label': 'Non renseigné', 'value': '-1'},\n",
    "            {'label': 'Aucun', 'value': '0'},\n",
    "            {'label': 'Piéton', 'value': '1'},\n",
    "            {'label': 'Véhicule', 'value': '2'},\n",
    "            {'label': 'Véhicule sur rail', 'value': '4'},\n",
    "            {'label': 'Animal domestique', 'value': '5'},\n",
    "            {'label': 'Animal sauvage', 'value' : '6'},\n",
    "            {'label': 'Autre', 'value': '9'}\n",
    "        ],\n",
    "        placeholder=\"Obstacle mobile percuté\"\n",
    "    )]),\n",
    "             \n",
    "             html.Div([\n",
    "    dcc.Dropdown(\n",
    "        id='choc',\n",
    "        options=[\n",
    "            {'label': 'Non renseigné', 'value': '-1'},\n",
    "            {'label': 'Aucun', 'value': '0'},\n",
    "            {'label': 'Avant', 'value': '1'},\n",
    "            {'label': 'Avant droit', 'value': '2'},\n",
    "            {'label': 'Avant gauche', 'value': '3'},\n",
    "            {'label': 'Arrière', 'value': '4'},\n",
    "            {'label': 'Arrière droit', 'value': '5'},\n",
    "            {'label': 'Arrière gauche', 'value' : '6'},\n",
    "            {'label': 'Côté droit', 'value': '7'},\n",
    "            {'label': 'Côté gauche', 'value': '8'},\n",
    "            {'label': 'Chocs multiples (tonneaux)', 'value': '9'}\n",
    "        ],\n",
    "        placeholder=\"Point de choc initial\"\n",
    "    )]),\n",
    "             \n",
    "             html.Div([\n",
    "    dcc.Dropdown(\n",
    "        id='catu',\n",
    "        options=[\n",
    "            {'label': 'Conducteur', 'value': '1'},\n",
    "            {'label': 'Passager', 'value': '2'},\n",
    "            {'label': 'Piéton', 'value': '3'}\n",
    "        ],\n",
    "        placeholder=\"L'individu est...\"\n",
    "    )]),\n",
    "             \n",
    "             html.Div([\n",
    "    dcc.Dropdown(\n",
    "        id='sexe',\n",
    "        options=[\n",
    "            {'label': 'Masculin', 'value': '1'},\n",
    "            {'label': 'Féminin', 'value': '2'}\n",
    "        ],\n",
    "        placeholder=\"Sexe de l'individu\"\n",
    "    )]),\n",
    "    html.Div(id=\"out-all-types\")\n",
    "])\n",
    "\n",
    "@app.callback(\n",
    "     Output(\"out-all-types\", \"children\"),\n",
    "     [Input(\"input_{}\".format(_), \"value\") for _ in NUMBER_VAR], # On lie les inputs affichés sur Dash et la fonction cb_render\n",
    "     Input(\"lum\", \"value\"),\n",
    "     Input(\"agg\", \"value\"),\n",
    "     Input(\"int\", \"value\"),\n",
    "     Input(\"atm\", \"value\"),\n",
    "     Input(\"col\", \"value\"),\n",
    "     Input(\"catr\", \"value\"),\n",
    "     Input(\"prof\", \"value\"),\n",
    "     Input(\"plan\", \"value\"),\n",
    "     Input(\"surf\", \"value\"),\n",
    "     Input(\"infra\", \"value\"),\n",
    "     Input(\"situ\", \"value\"),\n",
    "     Input(\"catv\", \"value\"),\n",
    "     Input(\"obs\", \"value\"),\n",
    "     Input(\"obsm\", \"value\"),\n",
    "     Input(\"choc\", \"value\"),\n",
    "     Input(\"catu\", \"value\"),\n",
    "     Input(\"sexe\", \"value\"),\n",
    ")\n",
    "def cb_render(*vals):\n",
    "    if not None in vals:\n",
    "        float_vals = []\n",
    "        for item in vals:\n",
    "            float_vals.append(float(item))\n",
    "        res = NN_Keras(vals)\n",
    "        return \"L'algorithme prédit : {}, avec une précision de {}\".format(res[1], res[0]) \n",
    "\n",
    "if __name__ == '__main__':\n",
    "    app.run_server(host='127.0.0.1', port='8050')"
   ]
  },
  {
   "cell_type": "code",
   "execution_count": null,
   "metadata": {},
   "outputs": [],
   "source": []
  }
 ],
 "metadata": {
  "kernelspec": {
   "display_name": "Python 3",
   "language": "python",
   "name": "python3"
  },
  "language_info": {
   "codemirror_mode": {
    "name": "ipython",
    "version": 3
   },
   "file_extension": ".py",
   "mimetype": "text/x-python",
   "name": "python",
   "nbconvert_exporter": "python",
   "pygments_lexer": "ipython3",
   "version": "3.8.3"
  }
 },
 "nbformat": 4,
 "nbformat_minor": 4
}
