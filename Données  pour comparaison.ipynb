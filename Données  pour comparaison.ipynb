{
 "cells": [
  {
   "cell_type": "code",
   "execution_count": null,
   "metadata": {},
   "outputs": [],
   "source": [
    "!jupyter nbconvert --to html your_notebook_name.ipynb"
   ]
  },
  {
   "cell_type": "code",
   "execution_count": 2,
   "metadata": {},
   "outputs": [
    {
     "name": "stdout",
     "output_type": "stream",
     "text": [
      "Collecting folium\n",
      "  Downloading https://files.pythonhosted.org/packages/b9/05/bb30dc97efa1b431c88deac7a77af3d62df1423574c4fe2d5a10a4932e85/folium-0.12.1.post1-py2.py3-none-any.whl (95kB)\n",
      "Requirement already satisfied (use --upgrade to upgrade): numpy in c:\\users\\avich\\anaconda3\\lib\\site-packages (from folium)\n",
      "Collecting branca>=0.3.0 (from folium)\n",
      "  Downloading https://files.pythonhosted.org/packages/61/1f/570b0615c452265d57e4114e633231d6cd9b9d275256778a675681e4f711/branca-0.4.2-py3-none-any.whl\n",
      "Requirement already satisfied (use --upgrade to upgrade): requests in c:\\users\\avich\\anaconda3\\lib\\site-packages (from folium)\n",
      "Requirement already satisfied (use --upgrade to upgrade): jinja2>=2.9 in c:\\users\\avich\\anaconda3\\lib\\site-packages (from folium)\n",
      "Requirement already satisfied (use --upgrade to upgrade): idna<3,>=2.5 in c:\\users\\avich\\anaconda3\\lib\\site-packages (from requests->folium)\n",
      "Requirement already satisfied (use --upgrade to upgrade): urllib3!=1.25.0,!=1.25.1,<1.26,>=1.21.1 in c:\\users\\avich\\anaconda3\\lib\\site-packages (from requests->folium)\n",
      "Requirement already satisfied (use --upgrade to upgrade): certifi>=2017.4.17 in c:\\users\\avich\\anaconda3\\lib\\site-packages (from requests->folium)\n",
      "Requirement already satisfied (use --upgrade to upgrade): chardet<4,>=3.0.2 in c:\\users\\avich\\anaconda3\\lib\\site-packages (from requests->folium)\n",
      "Requirement already satisfied (use --upgrade to upgrade): MarkupSafe>=0.23 in c:\\users\\avich\\anaconda3\\lib\\site-packages (from jinja2>=2.9->folium)\n",
      "Note: you may need to restart the kernel to use updated packages.Installing collected packages: branca, folium\n",
      "Successfully installed branca-0.4.2 folium-0.12.1.post1\n",
      "\n"
     ]
    }
   ],
   "source": [
    "pip install folium"
   ]
  },
  {
   "cell_type": "code",
   "execution_count": 1,
   "metadata": {},
   "outputs": [],
   "source": [
    "import folium\n",
    "coords = (46.539758, 2.430331)\n",
    "map = folium.Map(location=coords, tiles='OpenStreetMap', zoom_start=6)"
   ]
  },
  {
   "cell_type": "code",
   "execution_count": 2,
   "metadata": {},
   "outputs": [
    {
     "data": {
      "text/html": [
       "<div style=\"width:100%;\"><div style=\"position:relative;width:100%;height:0;padding-bottom:60%;\"><span style=\"color:#565656\">Make this Notebook Trusted to load map: File -> Trust Notebook</span><iframe src=\"about:blank\" style=\"position:absolute;width:100%;height:100%;left:0;top:0;border:none !important;\" data-html=%3C%21DOCTYPE%20html%3E%0A%3Chead%3E%20%20%20%20%0A%20%20%20%20%3Cmeta%20http-equiv%3D%22content-type%22%20content%3D%22text/html%3B%20charset%3DUTF-8%22%20/%3E%0A%20%20%20%20%0A%20%20%20%20%20%20%20%20%3Cscript%3E%0A%20%20%20%20%20%20%20%20%20%20%20%20L_NO_TOUCH%20%3D%20false%3B%0A%20%20%20%20%20%20%20%20%20%20%20%20L_DISABLE_3D%20%3D%20false%3B%0A%20%20%20%20%20%20%20%20%3C/script%3E%0A%20%20%20%20%0A%20%20%20%20%3Cstyle%3Ehtml%2C%20body%20%7Bwidth%3A%20100%25%3Bheight%3A%20100%25%3Bmargin%3A%200%3Bpadding%3A%200%3B%7D%3C/style%3E%0A%20%20%20%20%3Cstyle%3E%23map%20%7Bposition%3Aabsolute%3Btop%3A0%3Bbottom%3A0%3Bright%3A0%3Bleft%3A0%3B%7D%3C/style%3E%0A%20%20%20%20%3Cscript%20src%3D%22https%3A//cdn.jsdelivr.net/npm/leaflet%401.6.0/dist/leaflet.js%22%3E%3C/script%3E%0A%20%20%20%20%3Cscript%20src%3D%22https%3A//code.jquery.com/jquery-1.12.4.min.js%22%3E%3C/script%3E%0A%20%20%20%20%3Cscript%20src%3D%22https%3A//maxcdn.bootstrapcdn.com/bootstrap/3.2.0/js/bootstrap.min.js%22%3E%3C/script%3E%0A%20%20%20%20%3Cscript%20src%3D%22https%3A//cdnjs.cloudflare.com/ajax/libs/Leaflet.awesome-markers/2.0.2/leaflet.awesome-markers.js%22%3E%3C/script%3E%0A%20%20%20%20%3Clink%20rel%3D%22stylesheet%22%20href%3D%22https%3A//cdn.jsdelivr.net/npm/leaflet%401.6.0/dist/leaflet.css%22/%3E%0A%20%20%20%20%3Clink%20rel%3D%22stylesheet%22%20href%3D%22https%3A//maxcdn.bootstrapcdn.com/bootstrap/3.2.0/css/bootstrap.min.css%22/%3E%0A%20%20%20%20%3Clink%20rel%3D%22stylesheet%22%20href%3D%22https%3A//maxcdn.bootstrapcdn.com/bootstrap/3.2.0/css/bootstrap-theme.min.css%22/%3E%0A%20%20%20%20%3Clink%20rel%3D%22stylesheet%22%20href%3D%22https%3A//maxcdn.bootstrapcdn.com/font-awesome/4.6.3/css/font-awesome.min.css%22/%3E%0A%20%20%20%20%3Clink%20rel%3D%22stylesheet%22%20href%3D%22https%3A//cdnjs.cloudflare.com/ajax/libs/Leaflet.awesome-markers/2.0.2/leaflet.awesome-markers.css%22/%3E%0A%20%20%20%20%3Clink%20rel%3D%22stylesheet%22%20href%3D%22https%3A//cdn.jsdelivr.net/gh/python-visualization/folium/folium/templates/leaflet.awesome.rotate.min.css%22/%3E%0A%20%20%20%20%0A%20%20%20%20%20%20%20%20%20%20%20%20%3Cmeta%20name%3D%22viewport%22%20content%3D%22width%3Ddevice-width%2C%0A%20%20%20%20%20%20%20%20%20%20%20%20%20%20%20%20initial-scale%3D1.0%2C%20maximum-scale%3D1.0%2C%20user-scalable%3Dno%22%20/%3E%0A%20%20%20%20%20%20%20%20%20%20%20%20%3Cstyle%3E%0A%20%20%20%20%20%20%20%20%20%20%20%20%20%20%20%20%23map_0ac5cc4606934ff986b8172f5a76a4ec%20%7B%0A%20%20%20%20%20%20%20%20%20%20%20%20%20%20%20%20%20%20%20%20position%3A%20relative%3B%0A%20%20%20%20%20%20%20%20%20%20%20%20%20%20%20%20%20%20%20%20width%3A%20100.0%25%3B%0A%20%20%20%20%20%20%20%20%20%20%20%20%20%20%20%20%20%20%20%20height%3A%20100.0%25%3B%0A%20%20%20%20%20%20%20%20%20%20%20%20%20%20%20%20%20%20%20%20left%3A%200.0%25%3B%0A%20%20%20%20%20%20%20%20%20%20%20%20%20%20%20%20%20%20%20%20top%3A%200.0%25%3B%0A%20%20%20%20%20%20%20%20%20%20%20%20%20%20%20%20%7D%0A%20%20%20%20%20%20%20%20%20%20%20%20%3C/style%3E%0A%20%20%20%20%20%20%20%20%0A%3C/head%3E%0A%3Cbody%3E%20%20%20%20%0A%20%20%20%20%0A%20%20%20%20%20%20%20%20%20%20%20%20%3Cdiv%20class%3D%22folium-map%22%20id%3D%22map_0ac5cc4606934ff986b8172f5a76a4ec%22%20%3E%3C/div%3E%0A%20%20%20%20%20%20%20%20%0A%3C/body%3E%0A%3Cscript%3E%20%20%20%20%0A%20%20%20%20%0A%20%20%20%20%20%20%20%20%20%20%20%20var%20map_0ac5cc4606934ff986b8172f5a76a4ec%20%3D%20L.map%28%0A%20%20%20%20%20%20%20%20%20%20%20%20%20%20%20%20%22map_0ac5cc4606934ff986b8172f5a76a4ec%22%2C%0A%20%20%20%20%20%20%20%20%20%20%20%20%20%20%20%20%7B%0A%20%20%20%20%20%20%20%20%20%20%20%20%20%20%20%20%20%20%20%20center%3A%20%5B46.539758%2C%202.430331%5D%2C%0A%20%20%20%20%20%20%20%20%20%20%20%20%20%20%20%20%20%20%20%20crs%3A%20L.CRS.EPSG3857%2C%0A%20%20%20%20%20%20%20%20%20%20%20%20%20%20%20%20%20%20%20%20zoom%3A%206%2C%0A%20%20%20%20%20%20%20%20%20%20%20%20%20%20%20%20%20%20%20%20zoomControl%3A%20true%2C%0A%20%20%20%20%20%20%20%20%20%20%20%20%20%20%20%20%20%20%20%20preferCanvas%3A%20false%2C%0A%20%20%20%20%20%20%20%20%20%20%20%20%20%20%20%20%7D%0A%20%20%20%20%20%20%20%20%20%20%20%20%29%3B%0A%0A%20%20%20%20%20%20%20%20%20%20%20%20%0A%0A%20%20%20%20%20%20%20%20%0A%20%20%20%20%0A%20%20%20%20%20%20%20%20%20%20%20%20var%20tile_layer_3e3c06b5f6714a4fa3aea7c0462d19c7%20%3D%20L.tileLayer%28%0A%20%20%20%20%20%20%20%20%20%20%20%20%20%20%20%20%22https%3A//%7Bs%7D.tile.openstreetmap.org/%7Bz%7D/%7Bx%7D/%7By%7D.png%22%2C%0A%20%20%20%20%20%20%20%20%20%20%20%20%20%20%20%20%7B%22attribution%22%3A%20%22Data%20by%20%5Cu0026copy%3B%20%5Cu003ca%20href%3D%5C%22http%3A//openstreetmap.org%5C%22%5Cu003eOpenStreetMap%5Cu003c/a%5Cu003e%2C%20under%20%5Cu003ca%20href%3D%5C%22http%3A//www.openstreetmap.org/copyright%5C%22%5Cu003eODbL%5Cu003c/a%5Cu003e.%22%2C%20%22detectRetina%22%3A%20false%2C%20%22maxNativeZoom%22%3A%2018%2C%20%22maxZoom%22%3A%2018%2C%20%22minZoom%22%3A%200%2C%20%22noWrap%22%3A%20false%2C%20%22opacity%22%3A%201%2C%20%22subdomains%22%3A%20%22abc%22%2C%20%22tms%22%3A%20false%7D%0A%20%20%20%20%20%20%20%20%20%20%20%20%29.addTo%28map_0ac5cc4606934ff986b8172f5a76a4ec%29%3B%0A%20%20%20%20%20%20%20%20%0A%3C/script%3E onload=\"this.contentDocument.open();this.contentDocument.write(    decodeURIComponent(this.getAttribute('data-html')));this.contentDocument.close();\" allowfullscreen webkitallowfullscreen mozallowfullscreen></iframe></div></div>"
      ],
      "text/plain": [
       "<folium.folium.Map at 0x28b7001ef20>"
      ]
     },
     "execution_count": 2,
     "metadata": {},
     "output_type": "execute_result"
    }
   ],
   "source": [
    "map"
   ]
  },
  {
   "cell_type": "markdown",
   "metadata": {},
   "source": [
    "pour ajouter des cercles sur la cartes"
   ]
  },
  {
   "cell_type": "code",
   "execution_count": null,
   "metadata": {},
   "outputs": [],
   "source": [
    "for i in range(len(#ACCIDENT)):\n",
    "    folium.CircleMarker(\n",
    "        location = (LATS[i], LONGS[i]),\n",
    "        radius = TEMPS[i]*2,\n",
    "        color = 'crimson',\n",
    "        fill = True,\n",
    "        fill_color = 'crimson'\n",
    "    ).add_to(map)"
   ]
  },
  {
   "cell_type": "code",
   "execution_count": null,
   "metadata": {},
   "outputs": [],
   "source": [
    "pour colorer les cercles colormap"
   ]
  },
  {
   "cell_type": "code",
   "execution_count": null,
   "metadata": {},
   "outputs": [],
   "source": [
    "import folium, branca\n",
    "\n",
    "coords = (46.539758, 2.430331)\n",
    "map = folium.Map(location=coords, tiles='OpenStreetMap', zoom_start=6)\n",
    "\n",
    "cm = branca.colormap.LinearColormap(['blue', 'red'], vmin=min(#NB_ACCIDENT), vmax=max(#NB_ACCIDENT))\n",
    "map.add_child(cm) # add this colormap on the display\n",
    "\n",
    "for elem1,elem2,.. in zip(var1, var2,..):\n",
    "    folium.CircleMarker(\n",
    "        location=[lat, long],\n",
    "        radius=size,\n",
    "        color=cm(color),\n",
    "        fill=True,\n",
    "        fill_color=cm(color),\n",
    "        fill_opacity=0.6\n",
    "    ).add_to(map)\n",
    "\n",
    "map.save(outfile='map.html')"
   ]
  },
  {
   "cell_type": "code",
   "execution_count": null,
   "metadata": {},
   "outputs": [],
   "source": []
  },
  {
   "cell_type": "code",
   "execution_count": 4,
   "metadata": {},
   "outputs": [],
   "source": [
    "import pandas as pd"
   ]
  },
  {
   "cell_type": "code",
   "execution_count": 19,
   "metadata": {},
   "outputs": [],
   "source": [
    "df_utiles = pd.read_csv('df_utiles.csv')"
   ]
  },
  {
   "cell_type": "code",
   "execution_count": 21,
   "metadata": {},
   "outputs": [
    {
     "data": {
      "text/html": [
       "<div>\n",
       "<style scoped>\n",
       "    .dataframe tbody tr th:only-of-type {\n",
       "        vertical-align: middle;\n",
       "    }\n",
       "\n",
       "    .dataframe tbody tr th {\n",
       "        vertical-align: top;\n",
       "    }\n",
       "\n",
       "    .dataframe thead th {\n",
       "        text-align: right;\n",
       "    }\n",
       "</style>\n",
       "<table border=\"1\" class=\"dataframe\">\n",
       "  <thead>\n",
       "    <tr style=\"text-align: right;\">\n",
       "      <th></th>\n",
       "      <th>Unnamed: 0</th>\n",
       "      <th>jour</th>\n",
       "      <th>mois</th>\n",
       "      <th>an</th>\n",
       "      <th>hrmn</th>\n",
       "      <th>lum</th>\n",
       "      <th>dep</th>\n",
       "      <th>agg</th>\n",
       "      <th>int</th>\n",
       "      <th>atm</th>\n",
       "      <th>...</th>\n",
       "      <th>situ</th>\n",
       "      <th>vma</th>\n",
       "      <th>senc</th>\n",
       "      <th>catv</th>\n",
       "      <th>obs</th>\n",
       "      <th>obsm</th>\n",
       "      <th>choc</th>\n",
       "      <th>manv</th>\n",
       "      <th>motor</th>\n",
       "      <th>presence_deces</th>\n",
       "    </tr>\n",
       "  </thead>\n",
       "  <tbody>\n",
       "    <tr>\n",
       "      <th>0</th>\n",
       "      <td>0</td>\n",
       "      <td>30</td>\n",
       "      <td>11</td>\n",
       "      <td>2019</td>\n",
       "      <td>60</td>\n",
       "      <td>4</td>\n",
       "      <td>93</td>\n",
       "      <td>1</td>\n",
       "      <td>1</td>\n",
       "      <td>1</td>\n",
       "      <td>...</td>\n",
       "      <td>1</td>\n",
       "      <td>70</td>\n",
       "      <td>2</td>\n",
       "      <td>7</td>\n",
       "      <td>0</td>\n",
       "      <td>2</td>\n",
       "      <td>5</td>\n",
       "      <td>23</td>\n",
       "      <td>1</td>\n",
       "      <td>0</td>\n",
       "    </tr>\n",
       "    <tr>\n",
       "      <th>1</th>\n",
       "      <td>1</td>\n",
       "      <td>30</td>\n",
       "      <td>11</td>\n",
       "      <td>2019</td>\n",
       "      <td>60</td>\n",
       "      <td>4</td>\n",
       "      <td>93</td>\n",
       "      <td>1</td>\n",
       "      <td>1</td>\n",
       "      <td>1</td>\n",
       "      <td>...</td>\n",
       "      <td>1</td>\n",
       "      <td>70</td>\n",
       "      <td>2</td>\n",
       "      <td>7</td>\n",
       "      <td>0</td>\n",
       "      <td>2</td>\n",
       "      <td>5</td>\n",
       "      <td>23</td>\n",
       "      <td>1</td>\n",
       "      <td>0</td>\n",
       "    </tr>\n",
       "    <tr>\n",
       "      <th>2</th>\n",
       "      <td>2</td>\n",
       "      <td>30</td>\n",
       "      <td>11</td>\n",
       "      <td>2019</td>\n",
       "      <td>60</td>\n",
       "      <td>4</td>\n",
       "      <td>93</td>\n",
       "      <td>1</td>\n",
       "      <td>1</td>\n",
       "      <td>1</td>\n",
       "      <td>...</td>\n",
       "      <td>1</td>\n",
       "      <td>70</td>\n",
       "      <td>2</td>\n",
       "      <td>17</td>\n",
       "      <td>1</td>\n",
       "      <td>0</td>\n",
       "      <td>3</td>\n",
       "      <td>11</td>\n",
       "      <td>1</td>\n",
       "      <td>0</td>\n",
       "    </tr>\n",
       "    <tr>\n",
       "      <th>3</th>\n",
       "      <td>3</td>\n",
       "      <td>30</td>\n",
       "      <td>11</td>\n",
       "      <td>2019</td>\n",
       "      <td>120</td>\n",
       "      <td>3</td>\n",
       "      <td>93</td>\n",
       "      <td>1</td>\n",
       "      <td>1</td>\n",
       "      <td>1</td>\n",
       "      <td>...</td>\n",
       "      <td>1</td>\n",
       "      <td>70</td>\n",
       "      <td>1</td>\n",
       "      <td>7</td>\n",
       "      <td>4</td>\n",
       "      <td>0</td>\n",
       "      <td>1</td>\n",
       "      <td>0</td>\n",
       "      <td>1</td>\n",
       "      <td>0</td>\n",
       "    </tr>\n",
       "    <tr>\n",
       "      <th>4</th>\n",
       "      <td>4</td>\n",
       "      <td>28</td>\n",
       "      <td>11</td>\n",
       "      <td>2019</td>\n",
       "      <td>900</td>\n",
       "      <td>1</td>\n",
       "      <td>92</td>\n",
       "      <td>1</td>\n",
       "      <td>1</td>\n",
       "      <td>1</td>\n",
       "      <td>...</td>\n",
       "      <td>1</td>\n",
       "      <td>90</td>\n",
       "      <td>1</td>\n",
       "      <td>7</td>\n",
       "      <td>0</td>\n",
       "      <td>2</td>\n",
       "      <td>1</td>\n",
       "      <td>2</td>\n",
       "      <td>1</td>\n",
       "      <td>0</td>\n",
       "    </tr>\n",
       "  </tbody>\n",
       "</table>\n",
       "<p>5 rows × 45 columns</p>\n",
       "</div>"
      ],
      "text/plain": [
       "   Unnamed: 0  jour  mois    an  hrmn  lum  dep  agg  int  atm  ...  situ vma  \\\n",
       "0           0    30    11  2019    60    4   93    1    1    1  ...     1  70   \n",
       "1           1    30    11  2019    60    4   93    1    1    1  ...     1  70   \n",
       "2           2    30    11  2019    60    4   93    1    1    1  ...     1  70   \n",
       "3           3    30    11  2019   120    3   93    1    1    1  ...     1  70   \n",
       "4           4    28    11  2019   900    1   92    1    1    1  ...     1  90   \n",
       "\n",
       "  senc  catv  obs  obsm  choc  manv  motor  presence_deces  \n",
       "0    2     7    0     2     5    23      1               0  \n",
       "1    2     7    0     2     5    23      1               0  \n",
       "2    2    17    1     0     3    11      1               0  \n",
       "3    1     7    4     0     1     0      1               0  \n",
       "4    1     7    0     2     1     2      1               0  \n",
       "\n",
       "[5 rows x 45 columns]"
      ]
     },
     "execution_count": 21,
     "metadata": {},
     "output_type": "execute_result"
    }
   ],
   "source": [
    "df_utiles.head()"
   ]
  },
  {
   "cell_type": "code",
   "execution_count": 22,
   "metadata": {},
   "outputs": [
    {
     "data": {
      "text/html": [
       "<div>\n",
       "<style scoped>\n",
       "    .dataframe tbody tr th:only-of-type {\n",
       "        vertical-align: middle;\n",
       "    }\n",
       "\n",
       "    .dataframe tbody tr th {\n",
       "        vertical-align: top;\n",
       "    }\n",
       "\n",
       "    .dataframe thead th {\n",
       "        text-align: right;\n",
       "    }\n",
       "</style>\n",
       "<table border=\"1\" class=\"dataframe\">\n",
       "  <thead>\n",
       "    <tr style=\"text-align: right;\">\n",
       "      <th></th>\n",
       "      <th>Unnamed: 0</th>\n",
       "      <th>jour</th>\n",
       "      <th>mois</th>\n",
       "      <th>an</th>\n",
       "      <th>hrmn</th>\n",
       "      <th>lum</th>\n",
       "      <th>dep</th>\n",
       "      <th>agg</th>\n",
       "      <th>int</th>\n",
       "      <th>atm</th>\n",
       "      <th>...</th>\n",
       "      <th>situ</th>\n",
       "      <th>vma</th>\n",
       "      <th>senc</th>\n",
       "      <th>catv</th>\n",
       "      <th>obs</th>\n",
       "      <th>obsm</th>\n",
       "      <th>choc</th>\n",
       "      <th>manv</th>\n",
       "      <th>motor</th>\n",
       "      <th>presence_deces</th>\n",
       "    </tr>\n",
       "  </thead>\n",
       "  <tbody>\n",
       "    <tr>\n",
       "      <th>count</th>\n",
       "      <td>132977.00000</td>\n",
       "      <td>132977.000000</td>\n",
       "      <td>132977.000000</td>\n",
       "      <td>132977.0</td>\n",
       "      <td>132977.000000</td>\n",
       "      <td>132977.000000</td>\n",
       "      <td>132977.000000</td>\n",
       "      <td>132977.000000</td>\n",
       "      <td>132977.000000</td>\n",
       "      <td>132977.000000</td>\n",
       "      <td>...</td>\n",
       "      <td>132977.000000</td>\n",
       "      <td>132977.000000</td>\n",
       "      <td>132977.000000</td>\n",
       "      <td>132977.000000</td>\n",
       "      <td>132977.000000</td>\n",
       "      <td>132977.000000</td>\n",
       "      <td>132977.000000</td>\n",
       "      <td>132977.000000</td>\n",
       "      <td>132977.000000</td>\n",
       "      <td>132977.000000</td>\n",
       "    </tr>\n",
       "    <tr>\n",
       "      <th>mean</th>\n",
       "      <td>66488.00000</td>\n",
       "      <td>15.679546</td>\n",
       "      <td>6.701587</td>\n",
       "      <td>2019.0</td>\n",
       "      <td>811.744587</td>\n",
       "      <td>1.932710</td>\n",
       "      <td>113.289840</td>\n",
       "      <td>1.622596</td>\n",
       "      <td>2.016552</td>\n",
       "      <td>1.614279</td>\n",
       "      <td>...</td>\n",
       "      <td>1.328350</td>\n",
       "      <td>61.545861</td>\n",
       "      <td>1.560819</td>\n",
       "      <td>12.204983</td>\n",
       "      <td>1.120036</td>\n",
       "      <td>1.543244</td>\n",
       "      <td>2.912804</td>\n",
       "      <td>7.202343</td>\n",
       "      <td>1.149943</td>\n",
       "      <td>0.026305</td>\n",
       "    </tr>\n",
       "    <tr>\n",
       "      <th>std</th>\n",
       "      <td>38387.29771</td>\n",
       "      <td>8.746306</td>\n",
       "      <td>3.385577</td>\n",
       "      <td>0.0</td>\n",
       "      <td>329.302835</td>\n",
       "      <td>1.495194</td>\n",
       "      <td>221.949146</td>\n",
       "      <td>0.484739</td>\n",
       "      <td>1.982705</td>\n",
       "      <td>1.672985</td>\n",
       "      <td>...</td>\n",
       "      <td>1.135905</td>\n",
       "      <td>25.020834</td>\n",
       "      <td>0.832060</td>\n",
       "      <td>12.339295</td>\n",
       "      <td>3.263113</td>\n",
       "      <td>1.089174</td>\n",
       "      <td>2.391689</td>\n",
       "      <td>8.113968</td>\n",
       "      <td>1.054699</td>\n",
       "      <td>0.160042</td>\n",
       "    </tr>\n",
       "    <tr>\n",
       "      <th>min</th>\n",
       "      <td>0.00000</td>\n",
       "      <td>1.000000</td>\n",
       "      <td>1.000000</td>\n",
       "      <td>2019.0</td>\n",
       "      <td>0.000000</td>\n",
       "      <td>1.000000</td>\n",
       "      <td>1.000000</td>\n",
       "      <td>1.000000</td>\n",
       "      <td>1.000000</td>\n",
       "      <td>-1.000000</td>\n",
       "      <td>...</td>\n",
       "      <td>-1.000000</td>\n",
       "      <td>-1.000000</td>\n",
       "      <td>-1.000000</td>\n",
       "      <td>0.000000</td>\n",
       "      <td>-1.000000</td>\n",
       "      <td>-1.000000</td>\n",
       "      <td>-1.000000</td>\n",
       "      <td>-1.000000</td>\n",
       "      <td>-1.000000</td>\n",
       "      <td>0.000000</td>\n",
       "    </tr>\n",
       "    <tr>\n",
       "      <th>25%</th>\n",
       "      <td>33244.00000</td>\n",
       "      <td>8.000000</td>\n",
       "      <td>4.000000</td>\n",
       "      <td>2019.0</td>\n",
       "      <td>540.000000</td>\n",
       "      <td>1.000000</td>\n",
       "      <td>34.000000</td>\n",
       "      <td>1.000000</td>\n",
       "      <td>1.000000</td>\n",
       "      <td>1.000000</td>\n",
       "      <td>...</td>\n",
       "      <td>1.000000</td>\n",
       "      <td>50.000000</td>\n",
       "      <td>1.000000</td>\n",
       "      <td>7.000000</td>\n",
       "      <td>0.000000</td>\n",
       "      <td>1.000000</td>\n",
       "      <td>1.000000</td>\n",
       "      <td>1.000000</td>\n",
       "      <td>1.000000</td>\n",
       "      <td>0.000000</td>\n",
       "    </tr>\n",
       "    <tr>\n",
       "      <th>50%</th>\n",
       "      <td>66488.00000</td>\n",
       "      <td>16.000000</td>\n",
       "      <td>7.000000</td>\n",
       "      <td>2019.0</td>\n",
       "      <td>840.000000</td>\n",
       "      <td>1.000000</td>\n",
       "      <td>69.000000</td>\n",
       "      <td>2.000000</td>\n",
       "      <td>1.000000</td>\n",
       "      <td>1.000000</td>\n",
       "      <td>...</td>\n",
       "      <td>1.000000</td>\n",
       "      <td>50.000000</td>\n",
       "      <td>1.000000</td>\n",
       "      <td>7.000000</td>\n",
       "      <td>0.000000</td>\n",
       "      <td>2.000000</td>\n",
       "      <td>2.000000</td>\n",
       "      <td>2.000000</td>\n",
       "      <td>1.000000</td>\n",
       "      <td>0.000000</td>\n",
       "    </tr>\n",
       "    <tr>\n",
       "      <th>75%</th>\n",
       "      <td>99732.00000</td>\n",
       "      <td>23.000000</td>\n",
       "      <td>10.000000</td>\n",
       "      <td>2019.0</td>\n",
       "      <td>1080.000000</td>\n",
       "      <td>3.000000</td>\n",
       "      <td>87.000000</td>\n",
       "      <td>2.000000</td>\n",
       "      <td>2.000000</td>\n",
       "      <td>1.000000</td>\n",
       "      <td>...</td>\n",
       "      <td>1.000000</td>\n",
       "      <td>80.000000</td>\n",
       "      <td>2.000000</td>\n",
       "      <td>10.000000</td>\n",
       "      <td>0.000000</td>\n",
       "      <td>2.000000</td>\n",
       "      <td>4.000000</td>\n",
       "      <td>15.000000</td>\n",
       "      <td>1.000000</td>\n",
       "      <td>0.000000</td>\n",
       "    </tr>\n",
       "    <tr>\n",
       "      <th>max</th>\n",
       "      <td>132976.00000</td>\n",
       "      <td>31.000000</td>\n",
       "      <td>12.000000</td>\n",
       "      <td>2019.0</td>\n",
       "      <td>1380.000000</td>\n",
       "      <td>5.000000</td>\n",
       "      <td>999.000000</td>\n",
       "      <td>2.000000</td>\n",
       "      <td>9.000000</td>\n",
       "      <td>9.000000</td>\n",
       "      <td>...</td>\n",
       "      <td>8.000000</td>\n",
       "      <td>800.000000</td>\n",
       "      <td>3.000000</td>\n",
       "      <td>99.000000</td>\n",
       "      <td>17.000000</td>\n",
       "      <td>9.000000</td>\n",
       "      <td>9.000000</td>\n",
       "      <td>26.000000</td>\n",
       "      <td>6.000000</td>\n",
       "      <td>1.000000</td>\n",
       "    </tr>\n",
       "  </tbody>\n",
       "</table>\n",
       "<p>8 rows × 41 columns</p>\n",
       "</div>"
      ],
      "text/plain": [
       "         Unnamed: 0           jour           mois        an           hrmn  \\\n",
       "count  132977.00000  132977.000000  132977.000000  132977.0  132977.000000   \n",
       "mean    66488.00000      15.679546       6.701587    2019.0     811.744587   \n",
       "std     38387.29771       8.746306       3.385577       0.0     329.302835   \n",
       "min         0.00000       1.000000       1.000000    2019.0       0.000000   \n",
       "25%     33244.00000       8.000000       4.000000    2019.0     540.000000   \n",
       "50%     66488.00000      16.000000       7.000000    2019.0     840.000000   \n",
       "75%     99732.00000      23.000000      10.000000    2019.0    1080.000000   \n",
       "max    132976.00000      31.000000      12.000000    2019.0    1380.000000   \n",
       "\n",
       "                 lum            dep            agg            int  \\\n",
       "count  132977.000000  132977.000000  132977.000000  132977.000000   \n",
       "mean        1.932710     113.289840       1.622596       2.016552   \n",
       "std         1.495194     221.949146       0.484739       1.982705   \n",
       "min         1.000000       1.000000       1.000000       1.000000   \n",
       "25%         1.000000      34.000000       1.000000       1.000000   \n",
       "50%         1.000000      69.000000       2.000000       1.000000   \n",
       "75%         3.000000      87.000000       2.000000       2.000000   \n",
       "max         5.000000     999.000000       2.000000       9.000000   \n",
       "\n",
       "                 atm  ...           situ            vma           senc  \\\n",
       "count  132977.000000  ...  132977.000000  132977.000000  132977.000000   \n",
       "mean        1.614279  ...       1.328350      61.545861       1.560819   \n",
       "std         1.672985  ...       1.135905      25.020834       0.832060   \n",
       "min        -1.000000  ...      -1.000000      -1.000000      -1.000000   \n",
       "25%         1.000000  ...       1.000000      50.000000       1.000000   \n",
       "50%         1.000000  ...       1.000000      50.000000       1.000000   \n",
       "75%         1.000000  ...       1.000000      80.000000       2.000000   \n",
       "max         9.000000  ...       8.000000     800.000000       3.000000   \n",
       "\n",
       "                catv            obs           obsm           choc  \\\n",
       "count  132977.000000  132977.000000  132977.000000  132977.000000   \n",
       "mean       12.204983       1.120036       1.543244       2.912804   \n",
       "std        12.339295       3.263113       1.089174       2.391689   \n",
       "min         0.000000      -1.000000      -1.000000      -1.000000   \n",
       "25%         7.000000       0.000000       1.000000       1.000000   \n",
       "50%         7.000000       0.000000       2.000000       2.000000   \n",
       "75%        10.000000       0.000000       2.000000       4.000000   \n",
       "max        99.000000      17.000000       9.000000       9.000000   \n",
       "\n",
       "                manv          motor  presence_deces  \n",
       "count  132977.000000  132977.000000   132977.000000  \n",
       "mean        7.202343       1.149943        0.026305  \n",
       "std         8.113968       1.054699        0.160042  \n",
       "min        -1.000000      -1.000000        0.000000  \n",
       "25%         1.000000       1.000000        0.000000  \n",
       "50%         2.000000       1.000000        0.000000  \n",
       "75%        15.000000       1.000000        0.000000  \n",
       "max        26.000000       6.000000        1.000000  \n",
       "\n",
       "[8 rows x 41 columns]"
      ]
     },
     "execution_count": 22,
     "metadata": {},
     "output_type": "execute_result"
    }
   ],
   "source": [
    "df_utiles.describe()"
   ]
  },
  {
   "cell_type": "code",
   "execution_count": 26,
   "metadata": {},
   "outputs": [
    {
     "data": {
      "text/plain": [
       "count    132977.000000\n",
       "mean          0.026305\n",
       "std           0.160042\n",
       "min           0.000000\n",
       "25%           0.000000\n",
       "50%           0.000000\n",
       "75%           0.000000\n",
       "max           1.000000\n",
       "Name: presence_deces, dtype: float64"
      ]
     },
     "execution_count": 26,
     "metadata": {},
     "output_type": "execute_result"
    }
   ],
   "source": [
    "df_utiles[\"presence_deces\"].describe()"
   ]
  },
  {
   "cell_type": "markdown",
   "metadata": {},
   "source": [
    "2,6% des accidents ont causé un décès"
   ]
  },
  {
   "cell_type": "code",
   "execution_count": 28,
   "metadata": {},
   "outputs": [
    {
     "data": {
      "text/plain": [
       "count    132977.000000\n",
       "mean          2.542635\n",
       "std           1.371815\n",
       "min           1.000000\n",
       "25%           1.000000\n",
       "50%           3.000000\n",
       "75%           4.000000\n",
       "max           4.000000\n",
       "Name: grav, dtype: float64"
      ]
     },
     "execution_count": 28,
     "metadata": {},
     "output_type": "execute_result"
    }
   ],
   "source": [
    "df_utiles[\"grav\"].describe()"
   ]
  },
  {
   "cell_type": "code",
   "execution_count": 30,
   "metadata": {},
   "outputs": [
    {
     "data": {
      "text/plain": [
       "count    132977.000000\n",
       "mean          1.320304\n",
       "std           0.466595\n",
       "min           1.000000\n",
       "25%           1.000000\n",
       "50%           1.000000\n",
       "75%           2.000000\n",
       "max           2.000000\n",
       "Name: sexe, dtype: float64"
      ]
     },
     "execution_count": 30,
     "metadata": {},
     "output_type": "execute_result"
    }
   ],
   "source": [
    "df_utiles[\"sexe\"].describe()"
   ]
  },
  {
   "cell_type": "markdown",
   "metadata": {},
   "source": [
    "68% des accidents sont causés par des hommes"
   ]
  },
  {
   "cell_type": "code",
   "execution_count": 36,
   "metadata": {},
   "outputs": [
    {
     "data": {
      "text/plain": [
       "count    132977.000000\n",
       "mean         61.545861\n",
       "std          25.020834\n",
       "min          -1.000000\n",
       "25%          50.000000\n",
       "50%          50.000000\n",
       "75%          80.000000\n",
       "max         800.000000\n",
       "Name: vma, dtype: float64"
      ]
     },
     "execution_count": 36,
     "metadata": {},
     "output_type": "execute_result"
    }
   ],
   "source": [
    "df_utiles[\"vma\"].describe()"
   ]
  },
  {
   "cell_type": "code",
   "execution_count": null,
   "metadata": {},
   "outputs": [],
   "source": []
  },
  {
   "cell_type": "code",
   "execution_count": null,
   "metadata": {},
   "outputs": [],
   "source": []
  },
  {
   "cell_type": "code",
   "execution_count": 23,
   "metadata": {},
   "outputs": [],
   "source": [
    "import pandas as pd\n",
    "import matplotlib.pyplot as plt\n",
    "import seaborn as sns #Tableau des corrélations\n",
    "from datetime import date\n",
    "from statsmodels.graphics.tsaplots import plot_acf\n",
    "from statsmodels.tsa.statespace.sarimax import SARIMAX # SARIMAX = modèle de séries temp"
   ]
  },
  {
   "cell_type": "code",
   "execution_count": 3,
   "metadata": {},
   "outputs": [],
   "source": [
    "df_accidents2020 = pd.read_csv('caracteristiques-2020.csv', sep=\";\")\n",
    "df_usagers2020 = pd.read_csv('usagers-2020.csv', sep=\";\")\n",
    "df_lieux2020 = pd.read_csv('lieux-2020.csv', sep=\";\")\n",
    "df_vehicules2020 = pd.read_csv('vehicules-2020.csv', sep=\";\")\n",
    "df_test2020 = df_accidents2020.merge(df_usagers2020.merge(df_lieux2020.merge(df_vehicules2020))) #dataframe à traiter"
   ]
  },
  {
   "cell_type": "code",
   "execution_count": 4,
   "metadata": {},
   "outputs": [],
   "source": [
    "df_utiles2020 = df_test2020.drop(axis=1, labels=['Num_Acc', 'com', 'adr', 'v1', 'id_vehicule', 'num_veh', 'lartpc', 'larrout', 'occutc', 'v2', 'voie'])\n",
    "df_utiles2020 = df_utiles2020.dropna()\n",
    "df_utiles2020[\"hrmn\"] = pd.to_datetime(df_utiles2020[\"hrmn\"], format='%H:%S')\n",
    "df_utiles2020[\"hrmn\"] = df_utiles2020[\"hrmn\"].apply(lambda x: int(x.hour)*60 + int(x.minute))"
   ]
  },
  {
   "cell_type": "code",
   "execution_count": 6,
   "metadata": {},
   "outputs": [],
   "source": [
    "df_utiles2020[\"hrmn\"] = df_utiles2020[\"hrmn\"].astype('int64')\n",
    "df_utiles2020[\"dep\"] = df_utiles2020[\"dep\"].replace([\"2B\"], \"999\") #On remplace les codes des départements de la Corse par des int\n",
    "df_utiles2020[\"dep\"] = df_utiles2020[\"dep\"].replace([\"2A\"], \"998\")\n",
    "df_utiles2020[\"actp\"] = df_utiles2020[\"actp\"].replace([\"A\"], \"14\") #On remplace les actions du piéton non encodées par des chiffres\n",
    "df_utiles2020[\"actp\"] = df_utiles2020[\"actp\"].replace([\"B\"], \"15\")\n",
    "df_utiles2020[\"dep\"] = df_utiles2020[\"dep\"].astype('int64')\n",
    "df_utiles2020[\"grav\"] = df_utiles2020[\"grav\"].apply(lambda x: int(x==2)) # On recode la colonne \"grav\" : tué = 1, blessé léger/hospitalisé/indemne = 0"
   ]
  },
  {
   "cell_type": "code",
   "execution_count": 7,
   "metadata": {},
   "outputs": [],
   "source": [
    "df_utiles2020['lat'] = df_utiles2020['lat'].str.replace(',', '.').astype(float)\n",
    "df_utiles2020['long'] = df_utiles2020['long'].str.replace(',', '.').astype(float)\n",
    "\n",
    "# Pour avoir les coordonnées GPS en float, sinon plotly.express (px) ne peut pas les afficher sur la carte de France\n"
   ]
  },
  {
   "cell_type": "code",
   "execution_count": 9,
   "metadata": {},
   "outputs": [],
   "source": [
    "df_utiles2020.to_csv('df_utiles2020.csv')"
   ]
  },
  {
   "cell_type": "code",
   "execution_count": 14,
   "metadata": {},
   "outputs": [
    {
     "data": {
      "text/plain": [
       "<matplotlib.axes._subplots.AxesSubplot at 0x21702bec400>"
      ]
     },
     "execution_count": 14,
     "metadata": {},
     "output_type": "execute_result"
    },
    {
     "data": {
      "image/png": "[encoded data removed]",
      "text/plain": [
       "<Figure size 792x648 with 2 Axes>"
      ]
     },
     "metadata": {
      "needs_background": "light"
     },
     "output_type": "display_data"
    }
   ],
   "source": [
    "corr = df_utiles2020.drop(['an', 'grav'], axis=1).corr()\n",
    "f, ax = plt.subplots(figsize=(11, 9))\n",
    "cmap = sns.diverging_palette(230, 20, as_cmap=True)\n",
    "sns.heatmap(corr, cmap=cmap, vmax=.3, center=0, square=True, linewidths=.5, cbar_kws={\"shrink\": .5})\n"
   ]
  },
  {
   "cell_type": "code",
   "execution_count": 34,
   "metadata": {},
   "outputs": [],
   "source": [
    "df_utiles2020 = pd.read_csv('df_utiles2020.csv')\n",
    "# la colonne \"jour_format_normal\" contient la date au format standard dd/mm/yyyy\n",
    "df_utiles2020[\"jour_format_normal\"] = 0 # Initialisation de la colonne\n",
    "df_utiles2020[\"jour_format_normal\"] = df_utiles2020[\"jour\"].astype(str)+'/'+df_utiles2020[\"mois\"].astype(str)+'/'+df_utiles2020[\"an\"].astype(str)\n",
    "df_utiles2020[\"jour_format_normal\"] = pd.to_datetime(df_utiles2020[\"jour_format_normal\"], format=\"%d/%m/%Y\")\n",
    "df_utiles2020[\"colonne_soustraction\"] = date(df_utiles2020[\"an\"].iloc[0], 1, 1) # Création d'une colonne remplie avec la date du 01/01/2019\n",
    "df_utiles2020[\"colonne_soustraction\"] = pd.to_datetime(df_utiles2020[\"colonne_soustraction\"]) #Pour transformer en objet date \n",
    "df_utiles2020[\"nbre_j\"] = df_utiles2020[\"jour_format_normal\"] - df_utiles2020[\"colonne_soustraction\"] # Permet d'obtenir une colonne contenant, pour chaque accident,\n",
    "# Le nombre de jours écoulés depuis le 01/01/2019"
   ]
  },
  {
   "cell_type": "code",
   "execution_count": 35,
   "metadata": {},
   "outputs": [
    {
     "data": {
      "text/plain": [
       "<matplotlib.axes._subplots.AxesSubplot at 0x217034dcfa0>"
      ]
     },
     "execution_count": 35,
     "metadata": {},
     "output_type": "execute_result"
    },
    {
     "data": {
      "image/png": "[encoded data removed]",
      "text/plain": [
       "<Figure size 432x288 with 1 Axes>"
      ]
     },
     "metadata": {
      "needs_background": "light"
     },
     "output_type": "display_data"
    }
   ],
   "source": [
    "def datification(x):\n",
    "    return x.days # Permet d'obtenir l'entier contenu par l'objet \"date\" de Python\n",
    "df_utiles2020[\"nbre_j\"] = df_utiles2020[\"nbre_j\"].apply(datification) #Maintenant nbre_j est une colonne d'entiers\n",
    "nbre_acc_j = df_utiles2020.groupby(['nbre_j']).agg('count').jour.values #Nbre d'accidents (ou de victimes d'accidents jsp) par jour\n",
    "ts = pd.Series(nbre_acc_j, index=pd.date_range(\"1/1/2020\", periods=366)) # Objet Series de pandas, pour faire des graphes\n",
    "ts.plot()"
   ]
  },
  {
   "cell_type": "markdown",
   "metadata": {},
   "source": [
    "remarque sur le confinement en 2020 et la diminution des accidents aux mois de mars,avril,mai,juin"
   ]
  },
  {
   "cell_type": "code",
   "execution_count": 33,
   "metadata": {},
   "outputs": [
    {
     "data": {
      "text/html": [
       "<div>\n",
       "<style scoped>\n",
       "    .dataframe tbody tr th:only-of-type {\n",
       "        vertical-align: middle;\n",
       "    }\n",
       "\n",
       "    .dataframe tbody tr th {\n",
       "        vertical-align: top;\n",
       "    }\n",
       "\n",
       "    .dataframe thead th {\n",
       "        text-align: right;\n",
       "    }\n",
       "</style>\n",
       "<table border=\"1\" class=\"dataframe\">\n",
       "  <thead>\n",
       "    <tr style=\"text-align: right;\">\n",
       "      <th></th>\n",
       "      <th>0</th>\n",
       "    </tr>\n",
       "  </thead>\n",
       "  <tbody>\n",
       "    <tr>\n",
       "      <th>2020-01-01</th>\n",
       "      <td>324</td>\n",
       "    </tr>\n",
       "    <tr>\n",
       "      <th>2020-01-02</th>\n",
       "      <td>260</td>\n",
       "    </tr>\n",
       "    <tr>\n",
       "      <th>2020-01-03</th>\n",
       "      <td>276</td>\n",
       "    </tr>\n",
       "    <tr>\n",
       "      <th>2020-01-04</th>\n",
       "      <td>275</td>\n",
       "    </tr>\n",
       "    <tr>\n",
       "      <th>2020-01-05</th>\n",
       "      <td>261</td>\n",
       "    </tr>\n",
       "    <tr>\n",
       "      <th>...</th>\n",
       "      <td>...</td>\n",
       "    </tr>\n",
       "    <tr>\n",
       "      <th>2020-12-27</th>\n",
       "      <td>133</td>\n",
       "    </tr>\n",
       "    <tr>\n",
       "      <th>2020-12-28</th>\n",
       "      <td>276</td>\n",
       "    </tr>\n",
       "    <tr>\n",
       "      <th>2020-12-29</th>\n",
       "      <td>175</td>\n",
       "    </tr>\n",
       "    <tr>\n",
       "      <th>2020-12-30</th>\n",
       "      <td>252</td>\n",
       "    </tr>\n",
       "    <tr>\n",
       "      <th>2020-12-31</th>\n",
       "      <td>236</td>\n",
       "    </tr>\n",
       "  </tbody>\n",
       "</table>\n",
       "<p>366 rows × 1 columns</p>\n",
       "</div>"
      ],
      "text/plain": [
       "              0\n",
       "2020-01-01  324\n",
       "2020-01-02  260\n",
       "2020-01-03  276\n",
       "2020-01-04  275\n",
       "2020-01-05  261\n",
       "...         ...\n",
       "2020-12-27  133\n",
       "2020-12-28  276\n",
       "2020-12-29  175\n",
       "2020-12-30  252\n",
       "2020-12-31  236\n",
       "\n",
       "[366 rows x 1 columns]"
      ]
     },
     "execution_count": 33,
     "metadata": {},
     "output_type": "execute_result"
    }
   ],
   "source": [
    "datation = pd.date_range('1/1/2020', periods=366, freq='D')\n",
    "accident_jour = nbre_acc_j_dataframe\n",
    "accident_jour = accident_jour.set_index(date_index)\n",
    "accident_jour"
   ]
  },
  {
   "cell_type": "code",
   "execution_count": 47,
   "metadata": {},
   "outputs": [
    {
     "data": {
      "text/plain": [
       "2020-01-01    324\n",
       "2020-01-02    260\n",
       "2020-01-03    276\n",
       "2020-01-04    275\n",
       "2020-01-05    261\n",
       "2020-01-06    354\n",
       "2020-01-07    329\n",
       "2020-01-08    385\n",
       "2020-01-09    399\n",
       "2020-01-10    432\n",
       "2020-01-11    367\n",
       "2020-01-12    244\n",
       "2020-01-13    390\n",
       "2020-01-14    309\n",
       "2020-01-15    361\n",
       "2020-01-16    438\n",
       "2020-01-17    411\n",
       "2020-01-18    342\n",
       "2020-01-19    240\n",
       "2020-01-20    417\n",
       "2020-01-21    351\n",
       "2020-01-22    360\n",
       "2020-01-23    319\n",
       "2020-01-24    391\n",
       "2020-01-25    294\n",
       "2020-01-26    299\n",
       "2020-01-27    325\n",
       "2020-01-28    377\n",
       "2020-01-29    356\n",
       "2020-01-30    385\n",
       "2020-01-31    401\n",
       "Freq: D, Name: 0, dtype: int64"
      ]
     },
     "execution_count": 47,
     "metadata": {},
     "output_type": "execute_result"
    }
   ],
   "source": [
    "accident_jour[0][0:31]"
   ]
  },
  {
   "cell_type": "markdown",
   "metadata": {},
   "source": [
    "à ajouter avant la partie carte pour comparer avec les valeurs prédites"
   ]
  },
  {
   "cell_type": "markdown",
   "metadata": {},
   "source": [
    "les résultats sont assez proches faudrait que je les récupère pour pouvoir donner une distance entre les valeurs"
   ]
  }
 ],
 "metadata": {
  "kernelspec": {
   "display_name": "Python 3",
   "language": "python",
   "name": "python3"
  },
  "language_info": {
   "codemirror_mode": {
    "name": "ipython",
    "version": 3
   },
   "file_extension": ".py",
   "mimetype": "text/x-python",
   "name": "python",
   "nbconvert_exporter": "python",
   "pygments_lexer": "ipython3",
   "version": "3.8.3"
  }
 },
 "nbformat": 4,
 "nbformat_minor": 4
}
