{
  "nbformat": 4,
  "nbformat_minor": 0,
  "metadata": {
    "colab": {
      "name": "prep_df_utiles.ipynb",
      "provenance": [],
      "collapsed_sections": [],
      "authorship_tag": "ABX9TyOEzWPzGteawS66avudYVmd",
      "include_colab_link": true
    },
    "kernelspec": {
      "name": "python3",
      "display_name": "Python 3"
    },
    "language_info": {
      "name": "python"
    }
  },
  "cells": [
    {
      "cell_type": "markdown",
      "metadata": {
        "id": "view-in-github",
        "colab_type": "text"
      },
      "source": [
        "<a href=\"https://colab.research.google.com/github/helene-78/Accidents/blob/main/prep_df_utiles.ipynb\" target=\"_parent\"><img src=\"https://colab.research.google.com/assets/colab-badge.svg\" alt=\"Open In Colab\"/></a>"
      ]
    },
    {
      "cell_type": "code",
      "execution_count": null,
      "metadata": {
        "id": "mdttbn7CRv7P"
      },
      "outputs": [],
      "source": [
        "import pandas as pd\n",
        "import numpy as np\n",
        "from imblearn.over_sampling import SMOTE # Pour avoir 50 % de 0 et 50 % de 1 dans la colonne presence_accident\n",
        "from sklearn.linear_model import LogisticRegression # Regression logistique\n",
        "from sklearn import metrics\n",
        "from sklearn.model_selection import RepeatedKFold #KFold répété, pour \n",
        "from sklearn.model_selection import train_test_split"
      ]
    },
    {
      "cell_type": "markdown",
      "source": [
        "**Fusion des différents dataframes**"
      ],
      "metadata": {
        "id": "Bf-G2BD3R7TB"
      }
    },
    {
      "cell_type": "code",
      "source": [
        "df_accidents = pd.read_csv('caracteristiques-2019.csv', sep=\";\")\n",
        "df_usagers = pd.read_csv('usagers-2019.csv', sep=\";\")\n",
        "df_lieux = pd.read_csv('lieux-2019.csv', sep=\";\")\n",
        "df_vehicules = pd.read_csv('vehicules-2019.csv', sep=\";\")\n",
        "df_test = df_accidents.merge(df_usagers.merge(df_lieux.merge(df_vehicules))) #dataframe à traiter"
      ],
      "metadata": {
        "id": "YVQKJ_9iR22-"
      },
      "execution_count": null,
      "outputs": []
    },
    {
      "cell_type": "markdown",
      "source": [
        "**Pour supprimer les colonnes inutiles à l'analyse de données, supprimer les NaN et avoir une colonne heure au bon format**"
      ],
      "metadata": {
        "id": "CE2LNLkTR_Pm"
      }
    },
    {
      "cell_type": "code",
      "source": [
        "df_utiles = df_test.drop(axis=1, labels=['Num_Acc', 'com', 'adr', 'v1', 'id_vehicule', 'num_veh', 'lartpc', 'larrout', 'occutc', 'v2', 'voie'])\n",
        "df_utiles = df_utiles.dropna()\n",
        "df_utiles[\"hrmn\"] = pd.to_datetime(df_utiles[\"hrmn\"], format='%H:%S')\n",
        "for i in df_utiles.index:\n",
        "    df_utiles[\"hrmn\"][i] = (int(df_utiles[\"hrmn\"][i].hour))*60 + (int(df_utiles[\"hrmn\"][i].minute))\n",
        "df_utiles.dtypes"
      ],
      "metadata": {
        "id": "1dnj8rLaR3_v"
      },
      "execution_count": null,
      "outputs": []
    },
    {
      "cell_type": "markdown",
      "source": [
        "**Création et remplissage d'une colonne \"presence_deces\" qui vaut 1 en cas d'accident mortel, 0 sinon**"
      ],
      "metadata": {
        "id": "VvrVxM9JSB_t"
      }
    },
    {
      "cell_type": "code",
      "source": [
        "df_utiles[\"hrmn\"] = df_utiles[\"hrmn\"].astype('int64')\n",
        "df_utiles[\"dep\"] = df_utiles[\"dep\"].replace([\"2B\"], \"999\") #On remplace les codes des départements de la Corse par des int\n",
        "df_utiles[\"dep\"] = df_utiles[\"dep\"].replace([\"2A\"], \"998\")\n",
        "df_utiles[\"actp\"] = df_utiles[\"actp\"].replace([\"A\"], \"14\") #On remplace les actions du piéton non encodées par des chiffres\n",
        "df_utiles[\"actp\"] = df_utiles[\"actp\"].replace([\"B\"], \"15\")\n",
        "df_utiles[\"dep\"] = df_utiles[\"dep\"].astype('int64')\n",
        "df_utiles[\"presence_deces\"] = 0\n",
        "for i in df_utiles.index:\n",
        "    if df_utiles[\"grav\"][i] == 2:\n",
        "        df_utiles[\"presence_deces\"][i] = 1\n",
        "df_utiles.to_csv('df_utiles.csv')"
      ],
      "metadata": {
        "id": "WzozzbOpR5QT"
      },
      "execution_count": null,
      "outputs": []
    }
  ]
}
