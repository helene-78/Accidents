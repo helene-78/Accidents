{
 "cells": [
  {
   "cell_type": "code",
   "execution_count": 1,
   "metadata": {},
   "outputs": [],
   "source": [
    "#!pip install plotly"
   ]
  },
  {
   "cell_type": "code",
   "execution_count": 2,
   "metadata": {
    "id": "8-ZUrywWMjZH"
   },
   "outputs": [],
   "source": [
    "import pandas as pd\n",
    "import numpy as np\n",
    "from imblearn.over_sampling import SMOTE # Pour avoir 50 % de 0 et 50 % de 1 dans la colonne presence_accident\n",
    "from sklearn.linear_model import LogisticRegression # Regression logistique\n",
    "from sklearn import metrics\n",
    "from sklearn.model_selection import RepeatedKFold #KFold répété, pour \n",
    "from sklearn.model_selection import train_test_split\n",
    "import seaborn as sns\n",
    "import matplotlib.pyplot as plt\n",
    "import plotly.express as px"
   ]
  },
  {
   "cell_type": "markdown",
   "metadata": {
    "id": "e5phrpM9SL0O"
   },
   "source": [
    "**Importation du dataframe df_utiles traité dans prep_df_utiles.ipynb**"
   ]
  },
  {
   "cell_type": "code",
   "execution_count": 3,
   "metadata": {
    "id": "GpmsJOB1UVKz"
   },
   "outputs": [],
   "source": [
    "df_utiles = pd.read_csv(\"df_utiles.csv\")"
   ]
  },
  {
   "cell_type": "markdown",
   "metadata": {
    "id": "htnr-Kt2UjUi"
   },
   "source": [
    "**Traitement du csv df_utiles**"
   ]
  },
  {
   "cell_type": "code",
   "execution_count": 4,
   "metadata": {
    "colab": {
     "base_uri": "https://localhost:8080/",
     "height": 592
    },
    "id": "_YSDdqXrUmqy",
    "outputId": "9b625032-8613-4b56-fe20-c502200b21e6"
   },
   "outputs": [
    {
     "name": "stderr",
     "output_type": "stream",
     "text": [
      "<ipython-input-4-f0d269ee825c>:3: SettingWithCopyWarning: \n",
      "A value is trying to be set on a copy of a slice from a DataFrame\n",
      "\n",
      "See the caveats in the documentation: https://pandas.pydata.org/pandas-docs/stable/user_guide/indexing.html#returning-a-view-versus-a-copy\n",
      "  df_utiles[\"presence_deces\"][i] = 1\n"
     ]
    }
   ],
   "source": [
    "for i in df_utiles.index:\n",
    "    if df_utiles[\"grav\"][i] == 2:\n",
    "        df_utiles[\"presence_deces\"][i] = 1\n",
    "df_utiles\n",
    "\n",
    "df_utiles['lat'] = df_utiles['lat'].str.replace(',', '.').astype(float)\n",
    "df_utiles['long'] = df_utiles['long'].str.replace(',', '.').astype(float)"
   ]
  },
  {
   "cell_type": "code",
   "execution_count": 5,
   "metadata": {
    "colab": {
     "base_uri": "https://localhost:8080/"
    },
    "id": "5ZkoK0wWVyQj",
    "outputId": "b134f55f-14f3-4dbf-9bd9-047f7759268c"
   },
   "outputs": [
    {
     "data": {
      "text/plain": [
       "Index(['Unnamed: 0', 'jour', 'mois', 'an', 'hrmn', 'lum', 'dep', 'agg', 'int',\n",
       "       'atm', 'col', 'lat', 'long', 'place', 'catu', 'grav', 'sexe', 'an_nais',\n",
       "       'trajet', 'secu1', 'secu2', 'secu3', 'locp', 'actp', 'etatp', 'catr',\n",
       "       'circ', 'nbv', 'vosp', 'prof', 'pr', 'pr1', 'plan', 'surf', 'infra',\n",
       "       'situ', 'vma', 'senc', 'catv', 'obs', 'obsm', 'choc', 'manv', 'motor',\n",
       "       'presence_deces'],\n",
       "      dtype='object')"
      ]
     },
     "execution_count": 5,
     "metadata": {},
     "output_type": "execute_result"
    }
   ],
   "source": [
    "df_utiles.columns"
   ]
  },
  {
   "cell_type": "markdown",
   "metadata": {
    "id": "JoAxBCR2xwEq"
   },
   "source": [
    "**Analyse statistique des données de df_utiles.csv**"
   ]
  },
  {
   "cell_type": "code",
   "execution_count": 6,
   "metadata": {
    "colab": {
     "base_uri": "https://localhost:8080/",
     "height": 605
    },
    "id": "Wt_opqQix0Pm",
    "outputId": "09800f70-8d3f-4513-deab-14aeaa8a9856"
   },
   "outputs": [],
   "source": [
    "#corr = df_utiles.drop(['an', 'presence_deces'], axis=1).corr()\n",
    "#f, ax = plt.subplots(figsize=(11, 9))\n",
    "#cmap = sns.diverging_palette(230, 20, as_cmap=True)\n",
    "#sns.heatmap(corr, cmap=cmap, vmax=.3, center=0, square=True, linewidths=.5, cbar_kws={\"shrink\": .5})"
   ]
  },
  {
   "cell_type": "markdown",
   "metadata": {
    "id": "wpGdOx_FNOXN"
   },
   "source": [
    "**Avant les prédictions : fonction qui calcule la distance de Haversine entre deux points de coordonnées géographiques connues (lat, long) -> permet de déterminer les accidents ayant eu lieu dans un rayon de X km autour du lieu choisi**"
   ]
  },
  {
   "cell_type": "markdown",
   "metadata": {},
   "source": [
    "* Expliquer distance de Haversine"
   ]
  },
  {
   "cell_type": "markdown",
   "metadata": {
    "id": "TQls3nSQNmNA"
   },
   "source": [
    "**Prédictions à l'aide d'une régression logistique**"
   ]
  },
  {
   "cell_type": "code",
   "execution_count": 8,
   "metadata": {},
   "outputs": [
    {
     "name": "stdout",
     "output_type": "stream",
     "text": [
      "Collecting haversine\n",
      "  Downloading haversine-2.5.1-py2.py3-none-any.whl (6.1 kB)\n",
      "Installing collected packages: haversine\n",
      "Successfully installed haversine-2.5.1\n"
     ]
    }
   ],
   "source": [
    "#!pip install haversine"
   ]
  },
  {
   "cell_type": "code",
   "execution_count": 9,
   "metadata": {
    "colab": {
     "base_uri": "https://localhost:8080/"
    },
    "id": "XUXSmez9Nj8P",
    "outputId": "deec2624-99fc-4efe-aa08-cf97e5f55050"
   },
   "outputs": [
    {
     "data": {
      "text/plain": [
       "6.475320541239801"
      ]
     },
     "execution_count": 9,
     "metadata": {},
     "output_type": "execute_result"
    }
   ],
   "source": [
    "from haversine import haversine, Unit\n",
    "\n",
    "coord = [2.1620, 48.7089] # Gif-sur-Yvette\n",
    "coord2 = [2.1686, 48.7668]\n",
    "  \n",
    "haversine(coord, coord2)"
   ]
  },
  {
   "cell_type": "raw",
   "metadata": {
    "colab": {
     "base_uri": "https://localhost:8080/"
    },
    "id": "25BuqSTcNj4g",
    "outputId": "92daf33e-ae3c-4e3c-b503-04ed1049eb2b"
   },
   "source": [
    "df_regr_utiles = df_utiles.drop(['Unnamed: 0', 'jour', 'an', 'mois', 'pr', 'pr1'], axis=1)\n",
    "df_regr_utiles = df_regr_utiles.dropna(axis=1)\n",
    "print(df_regr_utiles)\n",
    "print(df_regr_utiles['lat'])\n",
    "\n",
    "# Récupération des accidents dans le rayon choisi\n",
    "\n",
    "df_rayon = []\n",
    "for i in df_regr_utiles.index:\n",
    "  if haversine((df_regr_utiles[\"long\"][i], df_regr_utiles[\"lat\"][i]), coord) <= 5:\n",
    "    df_rayon.append(df_regr_utiles.iloc[i])\n",
    "\n",
    "df_rayon = pd.DataFrame(df_rayon)\n",
    "print(df_rayon)\n",
    "\n",
    "X = df_regr_utiles.drop(['presence_deces'], axis=1).iloc[:, :38]\n",
    "y = df_regr_utiles.iloc[:, 38] #colonne \"presence_deces\"\n",
    "y = y.astype(int)\n",
    "os = SMOTE(random_state=0) #Initialisation de SMOTE, pour avoir 50 % de 0 et 50 % de 1 dans y (sans modifier la distribution de l'échantillon d'accidents)\n",
    "cv = RepeatedKFold(n_splits=3, n_repeats=3, random_state=1) #K-Fold répété, augmente la précision de l'algo de ~10 %\n",
    "for train_index, test_index in cv.split(X):\n",
    "    X_train, X_test = X.iloc[train_index], X.iloc[test_index]\n",
    "    y_train, y_test = y.iloc[train_index], y.iloc[test_index]\n",
    "#X_train, X_test, y_train, y_test = train_test_split(X, y, test_size=0.3, random_state=0)\n",
    "X_train,y_train=os.fit_resample(X_train, y_train) #On applique OS initialisé plus tôt\n",
    "#X_train = pd.DataFrame(data=X_train)\n",
    "#y_train= pd.DataFrame(data=y_train)\n",
    "logreg = LogisticRegression(solver='lbfgs') # Initialisation de la régression logistique\n",
    "logreg.fit(X_train, y_train) # Fitting sur l'ensemble de train\n",
    "y_pred = logreg.predict(X_test) # Prédictions\n",
    "print(y_pred)\n",
    "print(logreg.coef_)\n",
    "print('Précision de la classification par régression logistique : ',logreg.score(X_test, y_test)*100,\"%\")\n",
    "from sklearn.metrics import confusion_matrix\n",
    "cm = confusion_matrix(y_test, y_pred)\n",
    "print(cm)"
   ]
  },
  {
   "cell_type": "markdown",
   "metadata": {
    "id": "zdzSAkdxOhPx"
   },
   "source": [
    "**Test ARIMA pour anticiper nbre accidents**"
   ]
  },
  {
   "cell_type": "code",
   "execution_count": 10,
   "metadata": {
    "colab": {
     "base_uri": "https://localhost:8080/"
    },
    "id": "vwk0OEZcWQZy",
    "outputId": "2576afc4-9634-439e-914c-16656f2e2481"
   },
   "outputs": [],
   "source": [
    "#pip install statsmodels"
   ]
  },
  {
   "cell_type": "code",
   "execution_count": 11,
   "metadata": {
    "id": "chyVVfATOlhV"
   },
   "outputs": [],
   "source": [
    "# ARIMA\n",
    "import matplotlib\n",
    "import matplotlib.pyplot as plt\n",
    "import matplotlib.dates as mdates\n",
    "from statsmodels.tsa.statespace.sarimax import SARIMAX"
   ]
  },
  {
   "cell_type": "markdown",
   "metadata": {
    "id": "eRYIlFZxXxAn"
   },
   "source": [
    "**But : obtenir la colonne nbre_acc_j qui représente le nombre d'accidents par jour**"
   ]
  },
  {
   "cell_type": "code",
   "execution_count": 12,
   "metadata": {
    "colab": {
     "base_uri": "https://localhost:8080/",
     "height": 855
    },
    "id": "zaUxXbT0OpAA",
    "outputId": "11cfb892-12bf-4239-c32f-5e43d5b647c3",
    "scrolled": true
   },
   "outputs": [
    {
     "name": "stdout",
     "output_type": "stream",
     "text": [
      "[263 239 255 298 287 206 288 335 355 317 450 301 264 356 357 338 347 473\n",
      " 345 230 330 275 257 313 337 327 226 276 299 318 313 427 288 250 304 294\n",
      " 326 405 431 326 298 282 346 351 374 491 437 328 305 307 299 337 401 342\n",
      " 275 367 366 323 311 308 257 251 259 309 304 346 343 303 290 295 299 305\n",
      " 320 362 352 279 350 334 315 388 479 438 284 324 373 397 367 455 404 428\n",
      " 302 365 324 435 415 355 285 313 306 376 355 422 419 312 284 319 373 382\n",
      " 457 415 274 289 308 311 312 417 285 273 291 366 325 390 299 277 288 338\n",
      " 367 279 297 406 325 321 430 423 395 339 353 308 274 307 292 387 363 421\n",
      " 394 358 345 347 419 353 420 423 400 329 371 411 383 457 393 374 251 391\n",
      " 412 368 441 382 451 424 403 367 394 571 453 388 436 397 445 442 540 469\n",
      " 467 431 483 477 535 527 473 430 373 445 428 407 483 415 380 391 406 423\n",
      " 365 432 443 336 288 341 376 385 415 393 249 354 362 289 353 444 323 303\n",
      " 349 321 354 311 416 339 305 270 335 316 220 314 381 342 270 295 280 340\n",
      " 347 368 384 295 291 302 400 430 459 312 343 370 373 362 515 466 330 360\n",
      " 381 416 405 527 430 432 403 372 421 433 503 351 343 378 363 395 338 394\n",
      " 410 336 420 365 396 376 455 449 365 371 422 395 429 512 347 375 336 378\n",
      " 356 390 471 391 427 332 385 322 416 431 469 355 318 333 319 407 371 378\n",
      " 319 443 426 386 422 413 375 274 261 456 355 361 509 334 236 361 377 304\n",
      " 402 477 343 309 404 342 371 329 455 344 305 411 435 447 361 481 378 371\n",
      " 429 445 401 507 484 372 358 382 361 425 399 564 335 282 410 375 196 283\n",
      " 272 309 262 266 270]\n",
      "2019-01-01    263\n",
      "2019-01-02    239\n",
      "2019-01-03    255\n",
      "2019-01-04    298\n",
      "2019-01-05    287\n",
      "             ... \n",
      "2019-12-27    272\n",
      "2019-12-28    309\n",
      "2019-12-29    262\n",
      "2019-12-30    266\n",
      "2019-12-31    270\n",
      "Freq: D, Length: 365, dtype: int64\n"
     ]
    }
   ],
   "source": [
    "from datetime import date\n",
    "df_utiles = pd.read_csv('df_utiles.csv')\n",
    "# la colonne \"gigajour\" contient la date au format standard dd/mm/yyyy\n",
    "df_utiles[\"gigajour\"] = 0 # Initialisation de la colonne\n",
    "df_utiles[\"gigajour\"] = df_utiles[\"jour\"].astype(str)+'/'+df_utiles[\"mois\"].astype(str)+'/'+df_utiles[\"an\"].astype(str)\n",
    "df_utiles[\"gigajour\"] = pd.to_datetime(df_utiles[\"gigajour\"], format=\"%d/%m/%Y\")\n",
    "df_utiles[\"colonne_soustraction\"] = date(df_utiles[\"an\"].iloc[0], 1, 1) # Création d'une colonne remplie avec la date du 01/01/2019\n",
    "df_utiles[\"colonne_soustraction\"] = pd.to_datetime(df_utiles[\"colonne_soustraction\"])\n",
    "df_utiles[\"nbre_j\"] = df_utiles[\"gigajour\"] - df_utiles[\"colonne_soustraction\"] # Permet d'obtenir une colonne contenant, pour chaque accident,\n",
    "# Le nombre de jours écoulés depuis le 01/01/2019\n",
    "def datification(x):\n",
    "    return x.days\n",
    "df_utiles[\"nbre_j\"] = df_utiles[\"nbre_j\"].apply(datification)\n",
    "nbre_acc_j = df_utiles.groupby(['nbre_j']).agg('count').jour.values #Nbre d'accidents par jour\n",
    "print(nbre_acc_j)\n",
    "ts = pd.Series(nbre_acc_j, index=pd.date_range(\"1/1/2019\", periods=365))\n",
    "print(ts)\n",
    "#plt.plot([i for i in range(365)], nbre_acc_j)"
   ]
  },
  {
   "cell_type": "markdown",
   "metadata": {
    "id": "bltALNZJX70n"
   },
   "source": [
    "**SARIMAX : prédire nbre d'accidents en s'appuyant sur les données déjà enregistrées**"
   ]
  },
  {
   "cell_type": "markdown",
   "metadata": {
    "id": "qGSOF5ZeY4hn"
   },
   "source": [
    "**Graphe d'autocorrélation**"
   ]
  },
  {
   "cell_type": "code",
   "execution_count": 13,
   "metadata": {
    "colab": {
     "base_uri": "https://localhost:8080/",
     "height": 281
    },
    "id": "RcBVMkcAX7Z8",
    "outputId": "6366f251-4b29-4389-ae0f-a62bbc64c3d3"
   },
   "outputs": [],
   "source": [
    "from statsmodels.graphics.tsaplots import plot_acf\n",
    "\n",
    "# Subtract the rolling mean\n",
    "nbre_acc_j_dataframe = pd.DataFrame(nbre_acc_j)\n",
    "nbre_acc_rolling = nbre_acc_j_dataframe - nbre_acc_j_dataframe.rolling(15).mean()\n",
    "\n",
    "# Drop the NaN values\n",
    "nbre_acc_rolling = nbre_acc_rolling.dropna()\n",
    "\n",
    "# Create figure and subplots\n",
    "#fig, ax1 = plt.subplots()\n",
    "\n",
    "# Plot the ACF\n",
    "#plot_acf(nbre_acc_rolling, lags=25, zero=False, ax=ax1);"
   ]
  },
  {
   "cell_type": "markdown",
   "metadata": {
    "id": "nPePWfiJZCXp"
   },
   "source": [
    "Conclusion : la composante saisonale a pour période 7 (abscisse du max sur le plot ci-dessus)"
   ]
  },
  {
   "cell_type": "code",
   "execution_count": 14,
   "metadata": {
    "colab": {
     "base_uri": "https://localhost:8080/",
     "height": 1000
    },
    "id": "x3sRVwcrZSuh",
    "outputId": "67ed0764-cc55-4bfd-e749-b35c3c84fe32"
   },
   "outputs": [
    {
     "name": "stderr",
     "output_type": "stream",
     "text": [
      "D:\\anaconda3\\lib\\site-packages\\statsmodels\\base\\model.py:567: ConvergenceWarning: Maximum Likelihood optimization failed to converge. Check mle_retvals\n",
      "  warn(\"Maximum Likelihood optimization failed to converge. \"\n"
     ]
    },
    {
     "data": {
      "text/html": [
       "<table class=\"simpletable\">\n",
       "<caption>SARIMAX Results</caption>\n",
       "<tr>\n",
       "  <th>Dep. Variable:</th>                  <td>y</td>                <th>  No. Observations:  </th>    <td>365</td>   \n",
       "</tr>\n",
       "<tr>\n",
       "  <th>Model:</th>           <td>SARIMAX(31, 0, 0)x(1, 1, 0, 32)</td> <th>  Log Likelihood     </th> <td>-1799.521</td>\n",
       "</tr>\n",
       "<tr>\n",
       "  <th>Date:</th>                   <td>Tue, 21 Dec 2021</td>         <th>  AIC                </th> <td>3665.042</td> \n",
       "</tr>\n",
       "<tr>\n",
       "  <th>Time:</th>                       <td>22:51:48</td>             <th>  BIC                </th> <td>3790.711</td> \n",
       "</tr>\n",
       "<tr>\n",
       "  <th>Sample:</th>                         <td>0</td>                <th>  HQIC               </th> <td>3715.154</td> \n",
       "</tr>\n",
       "<tr>\n",
       "  <th></th>                             <td> - 365</td>              <th>                     </th>     <td> </td>    \n",
       "</tr>\n",
       "<tr>\n",
       "  <th>Covariance Type:</th>               <td>opg</td>               <th>                     </th>     <td> </td>    \n",
       "</tr>\n",
       "</table>\n",
       "<table class=\"simpletable\">\n",
       "<tr>\n",
       "      <td></td>        <th>coef</th>     <th>std err</th>      <th>z</th>      <th>P>|z|</th>  <th>[0.025</th>    <th>0.975]</th>  \n",
       "</tr>\n",
       "<tr>\n",
       "  <th>ar.L1</th>    <td>    0.2513</td> <td>    0.064</td> <td>    3.949</td> <td> 0.000</td> <td>    0.127</td> <td>    0.376</td>\n",
       "</tr>\n",
       "<tr>\n",
       "  <th>ar.L2</th>    <td>    0.0997</td> <td>    0.063</td> <td>    1.589</td> <td> 0.112</td> <td>   -0.023</td> <td>    0.223</td>\n",
       "</tr>\n",
       "<tr>\n",
       "  <th>ar.L3</th>    <td>    0.0917</td> <td>    0.068</td> <td>    1.353</td> <td> 0.176</td> <td>   -0.041</td> <td>    0.224</td>\n",
       "</tr>\n",
       "<tr>\n",
       "  <th>ar.L4</th>    <td>    0.0950</td> <td>    0.066</td> <td>    1.448</td> <td> 0.148</td> <td>   -0.034</td> <td>    0.224</td>\n",
       "</tr>\n",
       "<tr>\n",
       "  <th>ar.L5</th>    <td>    0.0278</td> <td>    0.062</td> <td>    0.447</td> <td> 0.655</td> <td>   -0.094</td> <td>    0.150</td>\n",
       "</tr>\n",
       "<tr>\n",
       "  <th>ar.L6</th>    <td>    0.0319</td> <td>    0.063</td> <td>    0.505</td> <td> 0.613</td> <td>   -0.092</td> <td>    0.156</td>\n",
       "</tr>\n",
       "<tr>\n",
       "  <th>ar.L7</th>    <td>    0.3545</td> <td>    0.060</td> <td>    5.892</td> <td> 0.000</td> <td>    0.237</td> <td>    0.472</td>\n",
       "</tr>\n",
       "<tr>\n",
       "  <th>ar.L8</th>    <td>   -0.0017</td> <td>    0.064</td> <td>   -0.026</td> <td> 0.979</td> <td>   -0.127</td> <td>    0.124</td>\n",
       "</tr>\n",
       "<tr>\n",
       "  <th>ar.L9</th>    <td>    0.0194</td> <td>    0.064</td> <td>    0.305</td> <td> 0.761</td> <td>   -0.105</td> <td>    0.144</td>\n",
       "</tr>\n",
       "<tr>\n",
       "  <th>ar.L10</th>   <td>    0.0074</td> <td>    0.068</td> <td>    0.109</td> <td> 0.913</td> <td>   -0.126</td> <td>    0.141</td>\n",
       "</tr>\n",
       "<tr>\n",
       "  <th>ar.L11</th>   <td>   -0.0633</td> <td>    0.066</td> <td>   -0.952</td> <td> 0.341</td> <td>   -0.193</td> <td>    0.067</td>\n",
       "</tr>\n",
       "<tr>\n",
       "  <th>ar.L12</th>   <td>   -0.0742</td> <td>    0.069</td> <td>   -1.082</td> <td> 0.279</td> <td>   -0.209</td> <td>    0.060</td>\n",
       "</tr>\n",
       "<tr>\n",
       "  <th>ar.L13</th>   <td>    0.0678</td> <td>    0.062</td> <td>    1.091</td> <td> 0.275</td> <td>   -0.054</td> <td>    0.190</td>\n",
       "</tr>\n",
       "<tr>\n",
       "  <th>ar.L14</th>   <td>   -0.0075</td> <td>    0.063</td> <td>   -0.119</td> <td> 0.906</td> <td>   -0.131</td> <td>    0.116</td>\n",
       "</tr>\n",
       "<tr>\n",
       "  <th>ar.L15</th>   <td>   -0.0385</td> <td>    0.066</td> <td>   -0.579</td> <td> 0.562</td> <td>   -0.169</td> <td>    0.092</td>\n",
       "</tr>\n",
       "<tr>\n",
       "  <th>ar.L16</th>   <td>   -0.0694</td> <td>    0.064</td> <td>   -1.083</td> <td> 0.279</td> <td>   -0.195</td> <td>    0.056</td>\n",
       "</tr>\n",
       "<tr>\n",
       "  <th>ar.L17</th>   <td>   -0.0514</td> <td>    0.066</td> <td>   -0.775</td> <td> 0.438</td> <td>   -0.181</td> <td>    0.079</td>\n",
       "</tr>\n",
       "<tr>\n",
       "  <th>ar.L18</th>   <td>    0.1220</td> <td>    0.065</td> <td>    1.892</td> <td> 0.059</td> <td>   -0.004</td> <td>    0.248</td>\n",
       "</tr>\n",
       "<tr>\n",
       "  <th>ar.L19</th>   <td>   -0.1309</td> <td>    0.076</td> <td>   -1.733</td> <td> 0.083</td> <td>   -0.279</td> <td>    0.017</td>\n",
       "</tr>\n",
       "<tr>\n",
       "  <th>ar.L20</th>   <td>    0.1133</td> <td>    0.075</td> <td>    1.513</td> <td> 0.130</td> <td>   -0.033</td> <td>    0.260</td>\n",
       "</tr>\n",
       "<tr>\n",
       "  <th>ar.L21</th>   <td>    0.1023</td> <td>    0.067</td> <td>    1.522</td> <td> 0.128</td> <td>   -0.029</td> <td>    0.234</td>\n",
       "</tr>\n",
       "<tr>\n",
       "  <th>ar.L22</th>   <td>   -0.1467</td> <td>    0.072</td> <td>   -2.028</td> <td> 0.043</td> <td>   -0.288</td> <td>   -0.005</td>\n",
       "</tr>\n",
       "<tr>\n",
       "  <th>ar.L23</th>   <td>   -0.1088</td> <td>    0.069</td> <td>   -1.582</td> <td> 0.114</td> <td>   -0.243</td> <td>    0.026</td>\n",
       "</tr>\n",
       "<tr>\n",
       "  <th>ar.L24</th>   <td>    0.1068</td> <td>    0.069</td> <td>    1.540</td> <td> 0.124</td> <td>   -0.029</td> <td>    0.243</td>\n",
       "</tr>\n",
       "<tr>\n",
       "  <th>ar.L25</th>   <td>   -0.0760</td> <td>    0.069</td> <td>   -1.095</td> <td> 0.273</td> <td>   -0.212</td> <td>    0.060</td>\n",
       "</tr>\n",
       "<tr>\n",
       "  <th>ar.L26</th>   <td>    0.0211</td> <td>    0.078</td> <td>    0.272</td> <td> 0.786</td> <td>   -0.131</td> <td>    0.174</td>\n",
       "</tr>\n",
       "<tr>\n",
       "  <th>ar.L27</th>   <td>   -0.0294</td> <td>    0.071</td> <td>   -0.415</td> <td> 0.678</td> <td>   -0.168</td> <td>    0.109</td>\n",
       "</tr>\n",
       "<tr>\n",
       "  <th>ar.L28</th>   <td>    0.1746</td> <td>    0.072</td> <td>    2.428</td> <td> 0.015</td> <td>    0.034</td> <td>    0.316</td>\n",
       "</tr>\n",
       "<tr>\n",
       "  <th>ar.L29</th>   <td>    0.0354</td> <td>    0.068</td> <td>    0.522</td> <td> 0.602</td> <td>   -0.098</td> <td>    0.169</td>\n",
       "</tr>\n",
       "<tr>\n",
       "  <th>ar.L30</th>   <td>    0.0121</td> <td>    0.067</td> <td>    0.179</td> <td> 0.858</td> <td>   -0.120</td> <td>    0.144</td>\n",
       "</tr>\n",
       "<tr>\n",
       "  <th>ar.L31</th>   <td>   -0.2217</td> <td>    0.064</td> <td>   -3.441</td> <td> 0.001</td> <td>   -0.348</td> <td>   -0.095</td>\n",
       "</tr>\n",
       "<tr>\n",
       "  <th>ar.S.L32</th> <td>   -0.4567</td> <td>    0.064</td> <td>   -7.176</td> <td> 0.000</td> <td>   -0.581</td> <td>   -0.332</td>\n",
       "</tr>\n",
       "<tr>\n",
       "  <th>sigma2</th>   <td> 2758.7861</td> <td>  217.777</td> <td>   12.668</td> <td> 0.000</td> <td> 2331.951</td> <td> 3185.621</td>\n",
       "</tr>\n",
       "</table>\n",
       "<table class=\"simpletable\">\n",
       "<tr>\n",
       "  <th>Ljung-Box (Q):</th>          <td>35.55</td> <th>  Jarque-Bera (JB):  </th> <td>4.23</td> \n",
       "</tr>\n",
       "<tr>\n",
       "  <th>Prob(Q):</th>                <td>0.67</td>  <th>  Prob(JB):          </th> <td>0.12</td> \n",
       "</tr>\n",
       "<tr>\n",
       "  <th>Heteroskedasticity (H):</th> <td>1.65</td>  <th>  Skew:              </th> <td>-0.03</td>\n",
       "</tr>\n",
       "<tr>\n",
       "  <th>Prob(H) (two-sided):</th>    <td>0.01</td>  <th>  Kurtosis:          </th> <td>3.55</td> \n",
       "</tr>\n",
       "</table><br/><br/>Warnings:<br/>[1] Covariance matrix calculated using the outer product of gradients (complex-step)."
      ],
      "text/plain": [
       "<class 'statsmodels.iolib.summary.Summary'>\n",
       "\"\"\"\n",
       "                                      SARIMAX Results                                      \n",
       "===========================================================================================\n",
       "Dep. Variable:                                   y   No. Observations:                  365\n",
       "Model:             SARIMAX(31, 0, 0)x(1, 1, 0, 32)   Log Likelihood               -1799.521\n",
       "Date:                             Tue, 21 Dec 2021   AIC                           3665.042\n",
       "Time:                                     22:51:48   BIC                           3790.711\n",
       "Sample:                                          0   HQIC                          3715.154\n",
       "                                             - 365                                         \n",
       "Covariance Type:                               opg                                         \n",
       "==============================================================================\n",
       "                 coef    std err          z      P>|z|      [0.025      0.975]\n",
       "------------------------------------------------------------------------------\n",
       "ar.L1          0.2513      0.064      3.949      0.000       0.127       0.376\n",
       "ar.L2          0.0997      0.063      1.589      0.112      -0.023       0.223\n",
       "ar.L3          0.0917      0.068      1.353      0.176      -0.041       0.224\n",
       "ar.L4          0.0950      0.066      1.448      0.148      -0.034       0.224\n",
       "ar.L5          0.0278      0.062      0.447      0.655      -0.094       0.150\n",
       "ar.L6          0.0319      0.063      0.505      0.613      -0.092       0.156\n",
       "ar.L7          0.3545      0.060      5.892      0.000       0.237       0.472\n",
       "ar.L8         -0.0017      0.064     -0.026      0.979      -0.127       0.124\n",
       "ar.L9          0.0194      0.064      0.305      0.761      -0.105       0.144\n",
       "ar.L10         0.0074      0.068      0.109      0.913      -0.126       0.141\n",
       "ar.L11        -0.0633      0.066     -0.952      0.341      -0.193       0.067\n",
       "ar.L12        -0.0742      0.069     -1.082      0.279      -0.209       0.060\n",
       "ar.L13         0.0678      0.062      1.091      0.275      -0.054       0.190\n",
       "ar.L14        -0.0075      0.063     -0.119      0.906      -0.131       0.116\n",
       "ar.L15        -0.0385      0.066     -0.579      0.562      -0.169       0.092\n",
       "ar.L16        -0.0694      0.064     -1.083      0.279      -0.195       0.056\n",
       "ar.L17        -0.0514      0.066     -0.775      0.438      -0.181       0.079\n",
       "ar.L18         0.1220      0.065      1.892      0.059      -0.004       0.248\n",
       "ar.L19        -0.1309      0.076     -1.733      0.083      -0.279       0.017\n",
       "ar.L20         0.1133      0.075      1.513      0.130      -0.033       0.260\n",
       "ar.L21         0.1023      0.067      1.522      0.128      -0.029       0.234\n",
       "ar.L22        -0.1467      0.072     -2.028      0.043      -0.288      -0.005\n",
       "ar.L23        -0.1088      0.069     -1.582      0.114      -0.243       0.026\n",
       "ar.L24         0.1068      0.069      1.540      0.124      -0.029       0.243\n",
       "ar.L25        -0.0760      0.069     -1.095      0.273      -0.212       0.060\n",
       "ar.L26         0.0211      0.078      0.272      0.786      -0.131       0.174\n",
       "ar.L27        -0.0294      0.071     -0.415      0.678      -0.168       0.109\n",
       "ar.L28         0.1746      0.072      2.428      0.015       0.034       0.316\n",
       "ar.L29         0.0354      0.068      0.522      0.602      -0.098       0.169\n",
       "ar.L30         0.0121      0.067      0.179      0.858      -0.120       0.144\n",
       "ar.L31        -0.2217      0.064     -3.441      0.001      -0.348      -0.095\n",
       "ar.S.L32      -0.4567      0.064     -7.176      0.000      -0.581      -0.332\n",
       "sigma2      2758.7861    217.777     12.668      0.000    2331.951    3185.621\n",
       "===================================================================================\n",
       "Ljung-Box (Q):                       35.55   Jarque-Bera (JB):                 4.23\n",
       "Prob(Q):                              0.67   Prob(JB):                         0.12\n",
       "Heteroskedasticity (H):               1.65   Skew:                            -0.03\n",
       "Prob(H) (two-sided):                  0.01   Kurtosis:                         3.55\n",
       "===================================================================================\n",
       "\n",
       "Warnings:\n",
       "[1] Covariance matrix calculated using the outer product of gradients (complex-step).\n",
       "\"\"\""
      ]
     },
     "execution_count": 14,
     "metadata": {},
     "output_type": "execute_result"
    }
   ],
   "source": [
    "from statsmodels.tsa.statespace.sarimax import SARIMAX\n",
    "\n",
    "# Create a SARIMAX model\n",
    "model = SARIMAX(nbre_acc_j, order=(31, 0, 0), seasonal_order=(1, 1, 0, 32)) # Le 7 correspond à la période déterminée ci-dessus\n",
    "\n",
    "# Fit the model\n",
    "results = model.fit()\n",
    "\n",
    "# Print the results summary\n",
    "results.summary()"
   ]
  },
  {
   "cell_type": "code",
   "execution_count": 15,
   "metadata": {
    "colab": {
     "base_uri": "https://localhost:8080/",
     "height": 283
    },
    "id": "kz1FboMAvQri",
    "outputId": "82c38d35-ebed-43c4-b65f-ab650219544c"
   },
   "outputs": [
    {
     "name": "stdout",
     "output_type": "stream",
     "text": [
      "DatetimeIndex(['2019-01-01', '2019-01-02', '2019-01-03', '2019-01-04',\n",
      "               '2019-01-05', '2019-01-06', '2019-01-07', '2019-01-08',\n",
      "               '2019-01-09', '2019-01-10',\n",
      "               ...\n",
      "               '2020-01-22', '2020-01-23', '2020-01-24', '2020-01-25',\n",
      "               '2020-01-26', '2020-01-27', '2020-01-28', '2020-01-29',\n",
      "               '2020-01-30', '2020-01-31'],\n",
      "              dtype='datetime64[ns]', length=396, freq='D')\n",
      "                     0\n",
      "2019-01-01  263.000000\n",
      "2019-01-02  239.000000\n",
      "2019-01-03  255.000000\n",
      "2019-01-04  298.000000\n",
      "2019-01-05  287.000000\n",
      "...                ...\n",
      "2020-01-27  300.293918\n",
      "2020-01-28  303.277727\n",
      "2020-01-29  323.448092\n",
      "2020-01-30  362.116787\n",
      "2020-01-31  305.975143\n",
      "\n",
      "[396 rows x 1 columns]\n"
     ]
    }
   ],
   "source": [
    "results_pred = results.get_forecast(31)\n",
    "results_mean = results_pred.predicted_mean\n",
    "results_mean = pd.DataFrame(results_mean)\n",
    "results_final = nbre_acc_j_dataframe.append(results_mean)\n",
    "results_final = results_final.reset_index()\n",
    "results_final = results_final.drop(\"index\", axis=1)\n",
    "date_index = pd.date_range('1/1/2019', periods=396, freq='D')\n",
    "print(date_index)\n",
    "results_final = results_final.set_index(date_index)\n",
    "print(results_final)\n",
    "#plt.plot([i for i in range(365,396)], results_mean, label='SARIMA sur 31 jours')\n",
    "#plt.plot(nbre_acc_j_dataframe, label='Valeurs réelles')\n",
    "#plt.legend()"
   ]
  },
  {
   "cell_type": "code",
   "execution_count": 21,
   "metadata": {},
   "outputs": [],
   "source": [
    "#règle le problème du fichier suivant sur l'ordi d'Hélène\n",
    "import ssl\n",
    "ssl._create_default_https_context = ssl._create_unverified_context"
   ]
  },
  {
   "cell_type": "code",
   "execution_count": 22,
   "metadata": {
    "colab": {
     "base_uri": "https://localhost:8080/"
    },
    "id": "dRiu7jxHlbkk",
    "outputId": "3ea7d739-543f-4515-dddb-4bb4b5e38d70"
   },
   "outputs": [],
   "source": [
    "fr_regions = pd.read_json('https://france-geojson.gregoiredavid.fr/repo/regions.geojson')\n"
   ]
  },
  {
   "cell_type": "code",
   "execution_count": 23,
   "metadata": {},
   "outputs": [
    {
     "name": "stdout",
     "output_type": "stream",
     "text": [
      "        Unnamed: 0  jour  mois    an  hrmn  lum  dep  agg  int  atm  ...  \\\n",
      "0                0    30    11  2019    60    4   93    1    1    1  ...   \n",
      "1                1    30    11  2019    60    4   93    1    1    1  ...   \n",
      "2                2    30    11  2019    60    4   93    1    1    1  ...   \n",
      "3                3    30    11  2019   120    3   93    1    1    1  ...   \n",
      "4                4    28    11  2019   900    1   92    1    1    1  ...   \n",
      "...            ...   ...   ...   ...   ...  ...  ...  ...  ...  ...  ...   \n",
      "132972      132972    27    11  2019   420    1   67    1    1    8  ...   \n",
      "132973      132973    30    11  2019   120    4   94    1    1    1  ...   \n",
      "132974      132974    30    11  2019   900    1   78    1    1    1  ...   \n",
      "132975      132975    29    11  2019  1200    3   92    1    1    1  ...   \n",
      "132976      132976    29    11  2019  1200    3   92    1    1    1  ...   \n",
      "\n",
      "        catv obs obsm  choc  manv  motor  presence_deces   gigajour  \\\n",
      "0          7   0    2     5    23      1               0 2019-11-30   \n",
      "1          7   0    2     5    23      1               0 2019-11-30   \n",
      "2         17   1    0     3    11      1               0 2019-11-30   \n",
      "3          7   4    0     1     0      1               0 2019-11-30   \n",
      "4          7   0    2     1     2      1               0 2019-11-28   \n",
      "...      ...  ..  ...   ...   ...    ...             ...        ...   \n",
      "132972     7   0    2     1     2      1               0 2019-11-27   \n",
      "132973     7   3    0     1    21      0               0 2019-11-30   \n",
      "132974    33   0    0     7     1      1               0 2019-11-30   \n",
      "132975    10   0    2     4     0      2               0 2019-11-29   \n",
      "132976    10   0    2     1     0      1               0 2019-11-29   \n",
      "\n",
      "        colonne_soustraction  nbre_j  \n",
      "0                 2019-01-01     333  \n",
      "1                 2019-01-01     333  \n",
      "2                 2019-01-01     333  \n",
      "3                 2019-01-01     333  \n",
      "4                 2019-01-01     331  \n",
      "...                      ...     ...  \n",
      "132972            2019-01-01     330  \n",
      "132973            2019-01-01     333  \n",
      "132974            2019-01-01     333  \n",
      "132975            2019-01-01     332  \n",
      "132976            2019-01-01     332  \n",
      "\n",
      "[132977 rows x 48 columns]\n"
     ]
    }
   ],
   "source": [
    "fr_regions = fr_regions.to_json()\n",
    "print(df_utiles)"
   ]
  },
  {
   "cell_type": "code",
   "execution_count": 24,
   "metadata": {},
   "outputs": [],
   "source": [
    "# Récupération des accidents dans le rayon choisi\n",
    "\n",
    "variables_utiles_regr = ['nbre_j', 'hrmn', 'lum', 'lat', 'long', 'agg', 'int', 'atm', 'col', 'catr', 'vosp', 'prof', 'plan', 'surf', 'infra', 'situ', 'catv', 'obs', 'obsm', 'choc', 'manv', 'catu', 'sexe', 'presence_deces']\n",
    "variables_utiles = ['nbre_j', 'hrmn', 'lum', 'lat', 'long', 'agg', 'col', 'prof', 'vma', 'catu', 'sexe']\n",
    "variables_utiles_utiles = ['nbre_j', 'hrmn', 'lum', 'lat', 'long', 'agg', 'col', 'prof', 'vma', 'catu', 'sexe', 'presence_deces']\n",
    "\n",
    "def regression_logistique(var_choisies, pred):\n",
    "    df_rayon = []\n",
    "    #df_regr_utiles = df_utiles[var_choisies]\n",
    "    df_rayon = df_utiles[variables_utiles_utiles]\n",
    "    #df_rayon['lat'] = df_rayon['lat'].str.replace(',', '.').astype(float)\n",
    "    #df_rayon['long'] = df_rayon['long'].str.replace(',', '.').astype(float)\n",
    "    #df_utiles['lat'] = df_utiles['lat'].str.replace(',', '.').astype(float)\n",
    "    #df_utiles['long'] = df_utiles['long'].str.replace(',', '.').astype(float)\n",
    "    #for i in df_regr_utiles.index:\n",
    "      #if haversine((df_utiles[\"long\"][i], df_utiles[\"lat\"][i]), coord) <= 1500:\n",
    "        #df_rayon.append(df_regr_utiles.iloc[i])\n",
    "\n",
    "    df_rayon = pd.DataFrame(df_rayon)\n",
    "    #print(df_rayon)\n",
    "    X = df_rayon[variables_utiles]\n",
    "    y = df_rayon.presence_deces #colonne \"presence_deces\"\n",
    "    #print(y)\n",
    "    y = y.astype(int)\n",
    "    os = SMOTE(random_state=0) #Initialisation de SMOTE, pour avoir 50 % de 0 et 50 % de 1 dans y (sans modifier la distribution de l'échantillon d'accidents)\n",
    "    cv = RepeatedKFold(n_splits=3, n_repeats=3, random_state=1) #K-Fold répété, augmente la précision de l'algo de ~10 %\n",
    "    for train_index, test_index in cv.split(X):\n",
    "        X_train, X_test = X.iloc[train_index], X.iloc[test_index]\n",
    "        y_train, y_test = y.iloc[train_index], y.iloc[test_index]\n",
    "    #X_train, X_test, y_train, y_test = train_test_split(X, y, test_size=0.3, random_state=0)\n",
    "    X_train,y_train=os.fit_resample(X_train, y_train) #On applique OS initialisé plus tôt\n",
    "    #X_train = pd.DataFrame(data=X_train)\n",
    "    #y_train= pd.DataFrame(data=y_train)\n",
    "    logreg = LogisticRegression(solver='lbfgs') # Initialisation de la régression logistique\n",
    "    logreg.fit(X_train, y_train) # Fitting sur l'ensemble de train\n",
    "    y_pred = logreg.predict(X_test) # Prédictions\n",
    "    #print(y_pred)\n",
    "    #print(logreg.coef_)\n",
    "    #print('Précision de la classification par régression logistique : ',logreg.score(X_test, y_test)*100,\"%\")\n",
    "    pred_pred = logreg.predict(pred)\n",
    "    precision_pred = max(logreg.predict_proba(pred)[0][0], logreg.predict_proba(pred)[0][1])*100\n",
    "    return [pred_pred, precision_pred, logreg.score(X_test, y_test)*100]"
   ]
  },
  {
   "cell_type": "code",
   "execution_count": null,
   "metadata": {},
   "outputs": [],
   "source": [
    "#!pip install dash"
   ]
  },
  {
   "cell_type": "code",
   "execution_count": null,
   "metadata": {
    "colab": {
     "base_uri": "https://localhost:8080/"
    },
    "id": "0Gy5nu_jrVIp",
    "outputId": "feccd22d-f4ae-4f6a-ef28-a762b1ebf4f2"
   },
   "outputs": [
    {
     "name": "stderr",
     "output_type": "stream",
     "text": [
      "<ipython-input-25-4f415cb9d6cb>:7: UserWarning: \n",
      "The dash_core_components package is deprecated. Please replace\n",
      "`import dash_core_components as dcc` with `from dash import dcc`\n",
      "  import dash_core_components as dcc\n",
      "<ipython-input-25-4f415cb9d6cb>:8: UserWarning: \n",
      "The dash_html_components package is deprecated. Please replace\n",
      "`import dash_html_components as html` with `from dash import html`\n",
      "  import dash_html_components as html\n"
     ]
    },
    {
     "name": "stdout",
     "output_type": "stream",
     "text": [
      "Dash is running on http://127.0.0.1:8050/\n",
      "\n",
      " * Serving Flask app \"__main__\" (lazy loading)\n",
      " * Environment: production\n",
      "   WARNING: This is a development server. Do not use it in a production deployment.\n",
      "   Use a production WSGI server instead.\n",
      " * Debug mode: off\n"
     ]
    },
    {
     "name": "stderr",
     "output_type": "stream",
     "text": [
      " * Running on http://127.0.0.1:8050/ (Press CTRL+C to quit)\n",
      "127.0.0.1 - - [21/Dec/2021 23:06:27] \"\u001b[37mGET / HTTP/1.1\u001b[0m\" 200 -\n",
      "127.0.0.1 - - [21/Dec/2021 23:06:27] \"\u001b[37mGET /_dash-component-suites/dash/deps/polyfill@7.v2_0_0m1640123271.12.1.min.js HTTP/1.1\u001b[0m\" 200 -\n",
      "127.0.0.1 - - [21/Dec/2021 23:06:28] \"\u001b[37mGET /_dash-component-suites/dash/deps/react@16.v2_0_0m1640123271.14.0.min.js HTTP/1.1\u001b[0m\" 200 -\n",
      "127.0.0.1 - - [21/Dec/2021 23:06:28] \"\u001b[37mGET /_dash-component-suites/dash/deps/react-dom@16.v2_0_0m1640123271.14.0.min.js HTTP/1.1\u001b[0m\" 200 -\n",
      "127.0.0.1 - - [21/Dec/2021 23:06:28] \"\u001b[37mGET /_dash-component-suites/dash/deps/prop-types@15.v2_0_0m1640123271.7.2.min.js HTTP/1.1\u001b[0m\" 200 -\n",
      "127.0.0.1 - - [21/Dec/2021 23:06:28] \"\u001b[37mGET /_dash-component-suites/dash/dash-renderer/build/dash_renderer.v2_0_0m1640123271.min.js HTTP/1.1\u001b[0m\" 200 -\n",
      "127.0.0.1 - - [21/Dec/2021 23:06:28] \"\u001b[37mGET /_dash-component-suites/dash/dcc/dash_core_components-shared.v2_0_0m1640123271.js HTTP/1.1\u001b[0m\" 200 -\n",
      "127.0.0.1 - - [21/Dec/2021 23:06:28] \"\u001b[37mGET /_dash-component-suites/dash/dcc/dash_core_components.v2_0_0m1640123271.js HTTP/1.1\u001b[0m\" 200 -\n",
      "127.0.0.1 - - [21/Dec/2021 23:06:28] \"\u001b[37mGET /_dash-component-suites/dash/dash_table/bundle.v5_0_0m1640123271.js HTTP/1.1\u001b[0m\" 200 -\n",
      "127.0.0.1 - - [21/Dec/2021 23:06:28] \"\u001b[37mGET /_dash-component-suites/dash/html/dash_html_components.v2_0_0m1640123271.min.js HTTP/1.1\u001b[0m\" 200 -\n",
      "127.0.0.1 - - [21/Dec/2021 23:06:29] \"\u001b[37mGET /_dash-dependencies HTTP/1.1\u001b[0m\" 200 -\n",
      "127.0.0.1 - - [21/Dec/2021 23:06:29] \"\u001b[37mGET /_dash-layout HTTP/1.1\u001b[0m\" 200 -\n",
      "127.0.0.1 - - [21/Dec/2021 23:06:29] \"\u001b[37mGET /_favicon.ico?v=2.0.0 HTTP/1.1\u001b[0m\" 200 -\n",
      "127.0.0.1 - - [21/Dec/2021 23:06:29] \"\u001b[37mGET /_dash-component-suites/dash/dcc/async-graph.js HTTP/1.1\u001b[0m\" 200 -\n",
      "127.0.0.1 - - [21/Dec/2021 23:06:29] \"\u001b[37mGET /_dash-component-suites/dash/dcc/async-plotlyjs.js HTTP/1.1\u001b[0m\" 200 -\n",
      "127.0.0.1 - - [21/Dec/2021 23:06:29] \"\u001b[37mPOST /_dash-update-component HTTP/1.1\u001b[0m\" 200 -\n",
      "127.0.0.1 - - [21/Dec/2021 23:06:35] \"\u001b[37mPOST /_dash-update-component HTTP/1.1\u001b[0m\" 200 -\n",
      "127.0.0.1 - - [21/Dec/2021 23:06:36] \"\u001b[37mPOST /_dash-update-component HTTP/1.1\u001b[0m\" 200 -\n",
      "127.0.0.1 - - [21/Dec/2021 23:06:37] \"\u001b[37mPOST /_dash-update-component HTTP/1.1\u001b[0m\" 200 -\n",
      "127.0.0.1 - - [21/Dec/2021 23:06:37] \"\u001b[37mPOST /_dash-update-component HTTP/1.1\u001b[0m\" 200 -\n",
      "127.0.0.1 - - [21/Dec/2021 23:06:37] \"\u001b[37mPOST /_dash-update-component HTTP/1.1\u001b[0m\" 200 -\n",
      "127.0.0.1 - - [21/Dec/2021 23:06:38] \"\u001b[37mPOST /_dash-update-component HTTP/1.1\u001b[0m\" 200 -\n",
      "127.0.0.1 - - [21/Dec/2021 23:06:38] \"\u001b[37mPOST /_dash-update-component HTTP/1.1\u001b[0m\" 200 -\n",
      "127.0.0.1 - - [21/Dec/2021 23:06:39] \"\u001b[37mPOST /_dash-update-component HTTP/1.1\u001b[0m\" 200 -\n",
      "127.0.0.1 - - [21/Dec/2021 23:06:41] \"\u001b[37mPOST /_dash-update-component HTTP/1.1\u001b[0m\" 200 -\n",
      "127.0.0.1 - - [21/Dec/2021 23:06:43] \"\u001b[37mPOST /_dash-update-component HTTP/1.1\u001b[0m\" 200 -\n",
      "127.0.0.1 - - [21/Dec/2021 23:06:44] \"\u001b[37mPOST /_dash-update-component HTTP/1.1\u001b[0m\" 200 -\n",
      "127.0.0.1 - - [21/Dec/2021 23:06:45] \"\u001b[37mPOST /_dash-update-component HTTP/1.1\u001b[0m\" 200 -\n",
      "127.0.0.1 - - [21/Dec/2021 23:06:46] \"\u001b[37mPOST /_dash-update-component HTTP/1.1\u001b[0m\" 200 -\n",
      "127.0.0.1 - - [21/Dec/2021 23:06:47] \"\u001b[37mPOST /_dash-update-component HTTP/1.1\u001b[0m\" 200 -\n",
      "127.0.0.1 - - [21/Dec/2021 23:06:50] \"\u001b[37mPOST /_dash-update-component HTTP/1.1\u001b[0m\" 200 -\n"
     ]
    }
   ],
   "source": [
    "## Dash app (https://dash.plot.ly/getting-started)\n",
    "\n",
    "import numpy as np\n",
    "\n",
    "### Save file with Dash app on the Google Colab machine\n",
    "import dash\n",
    "import dash_core_components as dcc\n",
    "import dash_html_components as html\n",
    "from dash.dependencies import Input, Output, State, MATCH, ALL\n",
    "\n",
    "external_stylesheets = ['https://codepen.io/chriddyp/pen/bWLwgP.css']\n",
    "\n",
    "def generate_input_boxes(i):\n",
    "    return dcc.Input(id=\"\" + str(i), value='initial value', type='number')\n",
    "\n",
    "def generate_input(i):\n",
    "    return Input({'type': 'filter-dropdown', 'index': ALL}, component_property='value')\n",
    "\n",
    "app = dash.Dash(__name__, external_stylesheets=external_stylesheets)\n",
    "ALLOWED_VAR = (\n",
    "    'nbre_j', 'hrmn', 'lum', 'lat', 'long', 'agg', 'col', 'prof', 'vma', 'catu', 'sexe'\n",
    ")\n",
    "\n",
    "app.layout = html.Div(children=[\n",
    "    html.H1(children='Prédictions'),\n",
    "    html.Div([\n",
    "        dcc.Graph(id=\"Carte\",figure=px.scatter_geo(df_utiles.head(1000), lat=\"lat\", lon=\"long\", geojson=fr_regions))]\n",
    "    ,style={'columnCount': 1}), \n",
    "    html.Div([\n",
    "        dcc.Graph(id=\"Prédictions\",figure=px.line(results_final, labels={'x': 'jour', 'y': 'nombre d\\'accidentés'}))]\n",
    "    ,style={'columnCount': 1}), \n",
    "    html.Div(children='''\n",
    "        Remplir les variables\n",
    "    '''),\n",
    "            html.Div(\n",
    "    [\n",
    "        dcc.Input(\n",
    "            id=\"input_{}\".format(_),\n",
    "            type=\"number\",\n",
    "            placeholder=\"variable {}\".format(_),\n",
    "        )\n",
    "        for _ in ALLOWED_VAR\n",
    "    ]\n",
    "    + [html.Div(id=\"out-all-types\")]\n",
    ")\n",
    "])\n",
    "\n",
    "@app.callback(\n",
    "     Output(\"out-all-types\", \"children\"),\n",
    "     [Input(\"input_{}\".format(_), \"value\") for _ in ALLOWED_VAR],\n",
    ")\n",
    "    \n",
    "#def display_output(*vals):\n",
    "    #return 'Test {}'.format(regression_logistique(variables_utiles, *vals))\n",
    "def cb_render(*vals):\n",
    "    if not None in vals:\n",
    "        float_vals = []\n",
    "        for item in vals:\n",
    "            float_vals.append(float(item))\n",
    "        res = regression_logistique(variables_utiles, (np.reshape(vals, (1, -1))))\n",
    "        return \"L'algorithme prédit : {} avec une probabilité de {} et une précision de : {}\".format(res[0], res[1], res[2]) \n",
    "\n",
    "if __name__ == '__main__':\n",
    "    app.run_server(host='127.0.0.1', port='8050')"
   ]
  },
  {
   "cell_type": "code",
   "execution_count": null,
   "metadata": {},
   "outputs": [],
   "source": []
  },
  {
   "cell_type": "code",
   "execution_count": null,
   "metadata": {},
   "outputs": [],
   "source": []
  },
  {
   "cell_type": "code",
   "execution_count": null,
   "metadata": {},
   "outputs": [],
   "source": []
  },
  {
   "cell_type": "code",
   "execution_count": null,
   "metadata": {},
   "outputs": [],
   "source": []
  },
  {
   "cell_type": "code",
   "execution_count": null,
   "metadata": {},
   "outputs": [],
   "source": []
  }
 ],
 "metadata": {
  "colab": {
   "collapsed_sections": [],
   "name": "regression_arima.ipynb",
   "provenance": []
  },
  "kernelspec": {
   "display_name": "Python 3",
   "language": "python",
   "name": "python3"
  },
  "language_info": {
   "codemirror_mode": {
    "name": "ipython",
    "version": 3
   },
   "file_extension": ".py",
   "mimetype": "text/x-python",
   "name": "python",
   "nbconvert_exporter": "python",
   "pygments_lexer": "ipython3",
   "version": "3.8.3"
  }
 },
 "nbformat": 4,
 "nbformat_minor": 4
}
