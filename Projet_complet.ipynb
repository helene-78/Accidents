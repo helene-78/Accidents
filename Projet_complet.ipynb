{
 "cells": [
  {
   "cell_type": "markdown",
   "metadata": {},
   "source": [
    "# Projet de Python pour le data scientist (2021-2022)\n",
    "# \"Prédire la mortalité et le nombre d'accidents corporels de la route\"\n",
    "### DUJARDIN Thomas, RONDEY Hélène, ROSUNEE Avichaï"
   ]
  },
  {
   "cell_type": "markdown",
   "metadata": {},
   "source": [
    "# Installation et chargement des modules"
   ]
  },
  {
   "cell_type": "code",
   "execution_count": 1,
   "metadata": {},
   "outputs": [],
   "source": [
    "#!pip install imblearn\n",
    "#!pip install plotly\n",
    "#!pip install haversine\n",
    "# !pip install statsmodels #statsmodels, pour utiliser le module de séries temp SARIMAX\n",
    "#!pip install keras\n",
    "#!pip install tensorflow\n",
    "#!pip install dash\n",
    "#!pip install folium"
   ]
  },
  {
   "cell_type": "code",
   "execution_count": 2,
   "metadata": {
    "id": "mdttbn7CRv7P"
   },
   "outputs": [],
   "source": [
    "import pandas as pd\n",
    "import numpy as np\n",
    "import matplotlib\n",
    "import matplotlib.pyplot as plt \n",
    "import seaborn as sns #Tableau des corrélations\n",
    "import datetime\n",
    "from datetime import date\n",
    "\n",
    "\n",
    "from imblearn.over_sampling import SMOTE # Pour avoir 50 % de 0 et 50 % de 1 dans la colonne presence_accident\n",
    "from sklearn.linear_model import LogisticRegression # Regression logistique\n",
    "from sklearn import metrics\n",
    "from sklearn.model_selection import RepeatedKFold #KFold répété, pour mieux entraîner le modèle\n",
    "from sklearn.model_selection import train_test_split\n",
    "\n",
    "\n",
    "from sklearn import model_selection # Pour utiliser RandomForestClassifier\n",
    "from sklearn.ensemble import RandomForestClassifier #\n",
    "from sklearn.model_selection import cross_val_score #Pour mesurer la précision de l'algorithme\n",
    "from sklearn.metrics import classification_report, confusion_matrix #\n",
    "from sklearn.utils import shuffle # Pour que le scoring \"roc_auc\" fonctionne\n",
    "from sklearn.preprocessing import label_binarize # Transformer y en variable catégorique\n",
    "from sklearn.metrics import accuracy_score\n",
    "\n",
    "from sklearn import preprocessing\n",
    "from sklearn.preprocessing import OneHotEncoder\n",
    "\n",
    "\n",
    "# ARIMA\n",
    "import matplotlib.dates as mdates\n",
    "from statsmodels.tsa.statespace.sarimax import SARIMAX # SARIMAX = modèle de séries temporelles\n",
    "from statsmodels.graphics.tsaplots import plot_acf\n",
    "from statsmodels.tsa.arima.model import ARIMA\n",
    "\n",
    "# Carte\n",
    "import folium\n",
    "import  branca\n",
    "\n",
    "\n",
    "#Réseau de neurones\n",
    "from sklearn import preprocessing\n",
    "from sklearn.preprocessing import OneHotEncoder\n",
    "from sklearn.preprocessing import StandardScaler\n",
    "from imblearn.pipeline import Pipeline\n",
    "from imblearn.under_sampling import RandomUnderSampler\n",
    "from keras.models import Sequential\n",
    "from keras.layers import Dense\n",
    "from keras.layers import Flatten\n",
    "from keras.layers import Dropout\n",
    "import pickle # Pour sauvegarder le modèle de OneHotEncoding\n",
    "\n",
    "#Interface Dash\n",
    "import dash \n",
    "from dash import dcc # import dash_core_components as dcc # Pour utiliser dcc.Input (ce qui permet d'inclure les inputs dans le HTML)\n",
    "from dash import html #import dash_html_components as html # L'interface Dash est en HTML\n",
    "from dash.dependencies import Input, Output, State, MATCH, ALL # Pour les callbacks\n",
    "import plotly.express as px # Pour faire des graphes dans l'interface Dash"
   ]
  },
  {
   "cell_type": "markdown",
   "metadata": {},
   "source": [
    "# I) Fusion des bases, sélection et reformatage des variables"
   ]
  },
  {
   "cell_type": "markdown",
   "metadata": {
    "id": "Bf-G2BD3R7TB"
   },
   "source": [
    "**Fusion des 4 dataframes de l'ONISR pour l'année 2019**"
   ]
  },
  {
   "cell_type": "code",
   "execution_count": 3,
   "metadata": {
    "id": "YVQKJ_9iR22-"
   },
   "outputs": [],
   "source": [
    "df_accidents = pd.read_csv('Bases de données/caracteristiques-2019.csv', sep=\";\")\n",
    "df_usagers = pd.read_csv('Bases de données/usagers-2019.csv', sep=\";\")\n",
    "df_lieux = pd.read_csv('Bases de données/lieux-2019.csv', sep=\";\")\n",
    "df_vehicules = pd.read_csv('Bases de données/vehicules-2019.csv', sep=\";\")\n",
    "df_merge = df_accidents.merge(df_usagers.merge(df_lieux.merge(df_vehicules))) #dataframe à traiter"
   ]
  },
  {
   "cell_type": "markdown",
   "metadata": {},
   "source": [
    "Pour illustrer la richesse des informations de la base globale, on va afficher les premiers accidents, et en décrire un avec quelques colonnes venant de chaque base."
   ]
  },
  {
   "cell_type": "markdown",
   "metadata": {},
   "source": [
    "Vu que tous les usagers (conducteurs, passagers, piétons heurtés) sont reliés à un véhicule, on peut lire ci-dessous combien de personnes sont impliquées dans un accident donné. "
   ]
  },
  {
   "cell_type": "code",
   "execution_count": 4,
   "metadata": {},
   "outputs": [
    {
     "data": {
      "text/plain": [
       "Num_Acc\n",
       "201900000001    3\n",
       "201900000002    1\n",
       "201900000003    4\n",
       "201900000004    4\n",
       "201900000005    3\n",
       "               ..\n",
       "201900058836    3\n",
       "201900058837    3\n",
       "201900058838    1\n",
       "201900058839    1\n",
       "201900058840    2\n",
       "Name: id_vehicule, Length: 58840, dtype: int64"
      ]
     },
     "execution_count": 4,
     "metadata": {},
     "output_type": "execute_result"
    }
   ],
   "source": [
    "df_merge.groupby(['Num_Acc'] )['id_vehicule'].count()"
   ]
  },
  {
   "cell_type": "code",
   "execution_count": 5,
   "metadata": {},
   "outputs": [
    {
     "data": {
      "text/html": [
       "<div>\n",
       "<style scoped>\n",
       "    .dataframe tbody tr th:only-of-type {\n",
       "        vertical-align: middle;\n",
       "    }\n",
       "\n",
       "    .dataframe tbody tr th {\n",
       "        vertical-align: top;\n",
       "    }\n",
       "\n",
       "    .dataframe thead th {\n",
       "        text-align: right;\n",
       "    }\n",
       "</style>\n",
       "<table border=\"1\" class=\"dataframe\">\n",
       "  <thead>\n",
       "    <tr style=\"text-align: right;\">\n",
       "      <th></th>\n",
       "      <th>Num_Acc</th>\n",
       "      <th>id_vehicule</th>\n",
       "      <th>jour</th>\n",
       "      <th>vma</th>\n",
       "      <th>choc</th>\n",
       "      <th>place</th>\n",
       "      <th>sexe</th>\n",
       "      <th>an_nais</th>\n",
       "      <th>grav</th>\n",
       "    </tr>\n",
       "  </thead>\n",
       "  <tbody>\n",
       "    <tr>\n",
       "      <th>0</th>\n",
       "      <td>201900000001</td>\n",
       "      <td>138 306 524</td>\n",
       "      <td>30</td>\n",
       "      <td>70</td>\n",
       "      <td>5</td>\n",
       "      <td>2</td>\n",
       "      <td>2</td>\n",
       "      <td>2002</td>\n",
       "      <td>4</td>\n",
       "    </tr>\n",
       "    <tr>\n",
       "      <th>1</th>\n",
       "      <td>201900000001</td>\n",
       "      <td>138 306 524</td>\n",
       "      <td>30</td>\n",
       "      <td>70</td>\n",
       "      <td>5</td>\n",
       "      <td>1</td>\n",
       "      <td>2</td>\n",
       "      <td>1993</td>\n",
       "      <td>4</td>\n",
       "    </tr>\n",
       "    <tr>\n",
       "      <th>2</th>\n",
       "      <td>201900000001</td>\n",
       "      <td>138 306 525</td>\n",
       "      <td>30</td>\n",
       "      <td>70</td>\n",
       "      <td>3</td>\n",
       "      <td>1</td>\n",
       "      <td>1</td>\n",
       "      <td>1959</td>\n",
       "      <td>1</td>\n",
       "    </tr>\n",
       "    <tr>\n",
       "      <th>3</th>\n",
       "      <td>201900000002</td>\n",
       "      <td>138 306 523</td>\n",
       "      <td>30</td>\n",
       "      <td>70</td>\n",
       "      <td>1</td>\n",
       "      <td>1</td>\n",
       "      <td>2</td>\n",
       "      <td>1994</td>\n",
       "      <td>4</td>\n",
       "    </tr>\n",
       "    <tr>\n",
       "      <th>4</th>\n",
       "      <td>201900000003</td>\n",
       "      <td>138 306 520</td>\n",
       "      <td>28</td>\n",
       "      <td>90</td>\n",
       "      <td>1</td>\n",
       "      <td>1</td>\n",
       "      <td>1</td>\n",
       "      <td>1996</td>\n",
       "      <td>1</td>\n",
       "    </tr>\n",
       "    <tr>\n",
       "      <th>5</th>\n",
       "      <td>201900000003</td>\n",
       "      <td>138 306 520</td>\n",
       "      <td>28</td>\n",
       "      <td>90</td>\n",
       "      <td>1</td>\n",
       "      <td>2</td>\n",
       "      <td>2</td>\n",
       "      <td>1930</td>\n",
       "      <td>4</td>\n",
       "    </tr>\n",
       "    <tr>\n",
       "      <th>6</th>\n",
       "      <td>201900000003</td>\n",
       "      <td>138 306 521</td>\n",
       "      <td>28</td>\n",
       "      <td>90</td>\n",
       "      <td>4</td>\n",
       "      <td>1</td>\n",
       "      <td>1</td>\n",
       "      <td>1995</td>\n",
       "      <td>4</td>\n",
       "    </tr>\n",
       "    <tr>\n",
       "      <th>7</th>\n",
       "      <td>201900000003</td>\n",
       "      <td>138 306 522</td>\n",
       "      <td>28</td>\n",
       "      <td>90</td>\n",
       "      <td>4</td>\n",
       "      <td>1</td>\n",
       "      <td>1</td>\n",
       "      <td>1966</td>\n",
       "      <td>1</td>\n",
       "    </tr>\n",
       "  </tbody>\n",
       "</table>\n",
       "</div>"
      ],
      "text/plain": [
       "        Num_Acc  id_vehicule  jour  vma  choc  place  sexe  an_nais  grav\n",
       "0  201900000001  138 306 524    30   70     5      2     2     2002     4\n",
       "1  201900000001  138 306 524    30   70     5      1     2     1993     4\n",
       "2  201900000001  138 306 525    30   70     3      1     1     1959     1\n",
       "3  201900000002  138 306 523    30   70     1      1     2     1994     4\n",
       "4  201900000003  138 306 520    28   90     1      1     1     1996     1\n",
       "5  201900000003  138 306 520    28   90     1      2     2     1930     4\n",
       "6  201900000003  138 306 521    28   90     4      1     1     1995     4\n",
       "7  201900000003  138 306 522    28   90     4      1     1     1966     1"
      ]
     },
     "execution_count": 5,
     "metadata": {},
     "output_type": "execute_result"
    }
   ],
   "source": [
    "df_merge[[\"Num_Acc\",\"id_vehicule\", 'jour', 'vma' ,'choc', 'place', 'sexe', 'an_nais',\"grav\"]].head(8)"
   ]
  },
  {
   "cell_type": "markdown",
   "metadata": {},
   "source": [
    "Par exemple, le premier accident de la base est numéroté 201900000001, a fait intervenir deux véhicules, identifiés par les numéros 138 306 524 et 138 306 525.\n",
    "\n",
    "* **Rubrique Lieux** : L'accident a eu lieu le 30e jour du mois et dans une zone où la vitesse maximale autorisée était 70 km/h .\n",
    "* **Rubrique Véhicules** :Le premier véhicule a subi un choc sur l'arrière droit et le deuxième sur l'avant gauche \n",
    "* **Rubrique Usagers** : Le premier véhicule contenait un conducteur et un  passager à l'avant, le deuxième juste le conducteur. Les occupants de la première voiture étaient des femmes (nées en 1993 et 2002), et le conducteur de la deuxième était un homme (né en 1959). Les deux femmes ont été légèrement blessées** , et l'homme était indemne. <br />\n",
    " Un blessé léger est défini par l'ONISR comme \"une victime ayant fait l'objet de soins médicaux mais n'ayant pas été admise comme patient à l'hôpital plus de 24 heures\". "
   ]
  },
  {
   "cell_type": "markdown",
   "metadata": {
    "id": "CE2LNLkTR_Pm"
   },
   "source": [
    "**Suppression des colonnes inutiles à l'analyse de données, et des NaN**"
   ]
  },
  {
   "cell_type": "markdown",
   "metadata": {},
   "source": [
    "On a choisi d'éliminer les variables : \n",
    "- *Num_Acc*, *id_vehicule* et *num_veh* : l'identifiant des accidents et des véhicules étaient utiles pour l'illustration mais ne servent pas à l'explication de la gravité des accidents. <br />\n",
    "<br />\n",
    "- *com*: le numéro de commune (INSEE), car on utilisera les données de département, de longitude et de latitude pour travailler sur la localisation des accidents\n",
    "- *adr*: l'adresse postale, pour la même raison que com\n",
    "- *v1*, *v2* et *voie* : des indices désignant la route, de même \n",
    "- *pr*, *pr1* , *senc*: des repères par rapport à la route, de même <br />\n",
    "\n",
    "\n",
    "- *lartpc* et *larrout* : la largeur du terre-plein central et de la chaussée, que l'on choisit de ne pas inclure dans l'étude\n",
    "- *occutc*: le nombre d'occupants dans le transport en commun, car cela concerne peu d'accidents dans la base\n"
   ]
  },
  {
   "cell_type": "code",
   "execution_count": 6,
   "metadata": {
    "id": "1dnj8rLaR3_v"
   },
   "outputs": [
    {
     "data": {
      "text/plain": [
       "Index(['jour', 'mois', 'an', 'hrmn', 'lum', 'dep', 'agg', 'int', 'atm', 'col',\n",
       "       'lat', 'long', 'place', 'catu', 'grav', 'sexe', 'an_nais', 'trajet',\n",
       "       'secu1', 'secu2', 'secu3', 'locp', 'actp', 'etatp', 'catr', 'circ',\n",
       "       'nbv', 'vosp', 'prof', 'plan', 'surf', 'infra', 'situ', 'vma', 'catv',\n",
       "       'obs', 'obsm', 'choc', 'manv', 'motor'],\n",
       "      dtype='object')"
      ]
     },
     "execution_count": 6,
     "metadata": {},
     "output_type": "execute_result"
    }
   ],
   "source": [
    "df_utiles = df_merge.drop(axis=1, labels=['Num_Acc', 'com', 'adr', 'v1', 'id_vehicule', 'num_veh', 'lartpc', 'larrout', 'occutc', 'pr', 'pr1','senc', 'v2', 'voie'])\n",
    "df_utiles.columns # Liste des colonnes"
   ]
  },
  {
   "cell_type": "markdown",
   "metadata": {},
   "source": [
    "**Elimination des valeurs aberrantes ou manquantes**"
   ]
  },
  {
   "cell_type": "code",
   "execution_count": 7,
   "metadata": {},
   "outputs": [],
   "source": [
    "df_utiles.loc[(df_utiles['vma'] > 130), 'vma']=np.nan\n",
    "df_utiles.loc[(df_utiles['vma'] < 0), 'vma']=np.nan\n",
    "df_utiles.loc[(df_utiles['atm'] < 0), 'atm']=np.nan\n",
    "df_utiles.loc[(df_utiles['nbv'] < 0), 'nbv']=np.nan\n",
    "df_utiles.loc[(df_utiles['prof'] < 0), 'prof']=np.nan\n",
    "df_utiles.loc[(df_utiles['surf'] < 0), 'surf']=np.nan\n",
    "df_utiles.loc[(df_utiles['infra'] < 0), 'infra']=np.nan\n",
    "df_utiles.loc[(df_utiles['situ'] < 0), 'situ']=np.nan\n",
    "df_utiles.loc[(df_utiles['obs'] < 0), 'obs']=np.nan\n",
    "df_utiles.loc[(df_utiles['obsm'] < 0), 'obsm']=np.nan\n",
    "df_utiles.loc[(df_utiles['choc'] < 0), 'choc']=np.nan\n",
    "df_utiles.loc[(df_utiles['an_nais'] < 1902), 'an_nais']=np.nan"
   ]
  },
  {
   "cell_type": "code",
   "execution_count": 8,
   "metadata": {},
   "outputs": [],
   "source": [
    "df_utiles = df_utiles.dropna()"
   ]
  },
  {
   "cell_type": "markdown",
   "metadata": {},
   "source": [
    "**Recodage de plusieurs variables : heures et jours des accidents, entrées de type alphanumérique, données géographiques, catégories de véhicules** "
   ]
  },
  {
   "cell_type": "code",
   "execution_count": 9,
   "metadata": {},
   "outputs": [],
   "source": [
    "#Recodage de la colonne \"hrmn\" pour exprimer l'heure des accidents en minutes\n",
    "df_utiles[\"hrmn\"] = pd.to_datetime(df_utiles[\"hrmn\"], format='%H:%S')\n",
    "df_utiles[\"hrmn\"] = df_utiles[\"hrmn\"].apply(lambda x: int(x.hour)*60 + int(x.minute))\n",
    "df_utiles[\"hrmn\"] = df_utiles[\"hrmn\"].astype('int64')"
   ]
  },
  {
   "cell_type": "code",
   "execution_count": 10,
   "metadata": {},
   "outputs": [],
   "source": [
    "#Formatage de la colonne \"jour_format_normal\" pour contenir la date au format standard dd/mm/yyyy\n",
    "df_utiles[\"jour_format_normal\"] = df_utiles[\"jour\"].astype(str)+'/'+df_utiles[\"mois\"].astype(str)+'/'+df_utiles[\"an\"].astype(str)\n",
    "df_utiles[\"jour_format_normal\"] = pd.to_datetime(df_utiles[\"jour_format_normal\"], format=\"%d/%m/%Y\")\n",
    "\n",
    "# Création d'une colonne remplie avec la date du 01/01/2019\n",
    "df_utiles[\"colonne_soustraction\"] = date(df_utiles[\"an\"].iloc[0], 1, 1) \n",
    "df_utiles[\"colonne_soustraction\"] = pd.to_datetime(df_utiles[\"colonne_soustraction\"]) #Pour transformer en objet date \n",
    "\n",
    "# Permet d'obtenir une colonne contenant, pour chaque accident,\n",
    "# Le nombre de jours écoulés depuis le 01/01/2019\n",
    "df_utiles[\"nbre_j\"] = df_utiles[\"jour_format_normal\"] - df_utiles[\"colonne_soustraction\"] \n",
    "\n",
    "#x.days permet d'obtenir l'entier contenu par l'objet \"date\" de Python\n",
    "df_utiles[\"nbre_j\"] = df_utiles[\"nbre_j\"].apply(lambda x: x.days) #Maintenant nbre_j est une colonne d'entiers\n",
    "df_utiles = df_utiles.drop(axis=1, labels = ['colonne_soustraction'])"
   ]
  },
  {
   "cell_type": "code",
   "execution_count": 11,
   "metadata": {
    "id": "WzozzbOpR5QT"
   },
   "outputs": [],
   "source": [
    "#On remplace les codes des départements de la Corse par des int\n",
    "df_utiles[\"dep\"] = df_utiles[\"dep\"].replace([\"2B\"], \"999\")\n",
    "df_utiles[\"dep\"] = df_utiles[\"dep\"].replace([\"2A\"], \"998\")\n",
    "df_utiles[\"dep\"] = df_utiles[\"dep\"].astype('int64')\n",
    "#On remplace les actions du piéton non encodées par des chiffres\n",
    "df_utiles[\"actp\"] = df_utiles[\"actp\"].replace([\"A\"], \"14\") \n",
    "df_utiles[\"actp\"] = df_utiles[\"actp\"].replace([\"B\"], \"15\")"
   ]
  },
  {
   "cell_type": "code",
   "execution_count": 12,
   "metadata": {},
   "outputs": [],
   "source": [
    "# Pour avoir les coordonnées GPS en float, sinon plotly.express (px) ne peut pas les afficher sur la carte de France\n",
    "df_utiles['lat'] = df_utiles['lat'].str.replace(',', '.').astype(float)\n",
    "df_utiles['long'] = df_utiles['long'].str.replace(',', '.').astype(float)"
   ]
  },
  {
   "cell_type": "code",
   "execution_count": 13,
   "metadata": {},
   "outputs": [],
   "source": [
    "# On recode catv pour regrouper les véhicules en un plus petit nombre de catégories:\n",
    "# 1 : véhicules légers (VL, VU)\n",
    "# 2 : Sans permis (< 125 cm3)\n",
    "# 3 : Poids lourds\n",
    "# 4 : transports en commun\n",
    "# 5 : > 125 cm3\n",
    "\n",
    "def func(x):\n",
    "    if x in [7,10]:\n",
    "        x=1; \n",
    "    elif (x in [1, 2, 3, 30, 31, 32, 50, 60, 80, 99, 35, 41, 42]):\n",
    "        x=2; \n",
    "    elif (x in [13, 14, 15, 16, 17, 20, 21]) :\n",
    "        x=3 \n",
    "    elif (x in  [37, 38, 39, 40])  :\n",
    "        x= 4 \n",
    "    elif (x in [33, 34, 36, 43]) : #voir dans la description si on peut mettre un else à la place\n",
    "        x= 5 \n",
    "    return x\n",
    "\n",
    "        \n",
    "df_utiles['catv'] = df_utiles['catv'].apply(func)\n"
   ]
  },
  {
   "cell_type": "markdown",
   "metadata": {
    "id": "VvrVxM9JSB_t"
   },
   "source": [
    "**Recodage de la colonne \"grav\", qui vaudra 1 en cas d'accident mortel, 0 sinon. Autrement dit, on étudie la mortalité de l'accident.**"
   ]
  },
  {
   "cell_type": "markdown",
   "metadata": {},
   "source": [
    "La variable \"grav\" est catégorielle: Indemne, Tué (au moins un mort), Blessé hospitalisé (au moins un, sans aucun tué), Blessé léger (au moins un, sans aucun blessé hospitalisé ni mort). \n",
    "**Pour étudier la gravité des accidents, on fait le choix de passer d'une variable catégorielle à une variable binaire : accident mortel  ou non.** "
   ]
  },
  {
   "cell_type": "code",
   "execution_count": 14,
   "metadata": {},
   "outputs": [],
   "source": [
    "df_utiles[\"grav\"] = df_utiles[\"grav\"].apply(lambda x: int(x==2)) # On recode la colonne \"grav\" : tué = 1, blessé léger/hospitalisé/indemne = 0"
   ]
  },
  {
   "cell_type": "code",
   "execution_count": 15,
   "metadata": {},
   "outputs": [
    {
     "data": {
      "text/plain": [
       "0         4008004.0\n",
       "1         3972049.0\n",
       "2         3837681.0\n",
       "3         3976036.0\n",
       "4         3984016.0\n",
       "            ...    \n",
       "132972    3952144.0\n",
       "132973    3992004.0\n",
       "132974    3916441.0\n",
       "132975    3896676.0\n",
       "132976    3884841.0\n",
       "Name: an_nais_carre, Length: 129525, dtype: float64"
      ]
     },
     "execution_count": 15,
     "metadata": {},
     "output_type": "execute_result"
    }
   ],
   "source": [
    "# La dépendance de \"grav\" en \"an_nais\" (mortalité en fct de l'année de naissance) est a priori non linéaire, on utilise alors\n",
    "# an_nais²\n",
    "\n",
    "df_utiles['an_nais_carre'] = df_utiles['an_nais'].apply(lambda x: x*x)\n",
    "df_utiles['an_nais_carre']"
   ]
  },
  {
   "cell_type": "code",
   "execution_count": 16,
   "metadata": {},
   "outputs": [],
   "source": [
    "df_utiles.to_csv('df_utiles.csv')"
   ]
  },
  {
   "cell_type": "code",
   "execution_count": 17,
   "metadata": {},
   "outputs": [
    {
     "data": {
      "text/html": [
       "<div>\n",
       "<style scoped>\n",
       "    .dataframe tbody tr th:only-of-type {\n",
       "        vertical-align: middle;\n",
       "    }\n",
       "\n",
       "    .dataframe tbody tr th {\n",
       "        vertical-align: top;\n",
       "    }\n",
       "\n",
       "    .dataframe thead th {\n",
       "        text-align: right;\n",
       "    }\n",
       "</style>\n",
       "<table border=\"1\" class=\"dataframe\">\n",
       "  <thead>\n",
       "    <tr style=\"text-align: right;\">\n",
       "      <th></th>\n",
       "      <th>jour</th>\n",
       "      <th>mois</th>\n",
       "      <th>an</th>\n",
       "      <th>hrmn</th>\n",
       "      <th>lum</th>\n",
       "      <th>dep</th>\n",
       "      <th>agg</th>\n",
       "      <th>int</th>\n",
       "      <th>atm</th>\n",
       "      <th>col</th>\n",
       "      <th>...</th>\n",
       "      <th>vma</th>\n",
       "      <th>catv</th>\n",
       "      <th>obs</th>\n",
       "      <th>obsm</th>\n",
       "      <th>choc</th>\n",
       "      <th>manv</th>\n",
       "      <th>motor</th>\n",
       "      <th>jour_format_normal</th>\n",
       "      <th>nbre_j</th>\n",
       "      <th>an_nais_carre</th>\n",
       "    </tr>\n",
       "  </thead>\n",
       "  <tbody>\n",
       "    <tr>\n",
       "      <th>0</th>\n",
       "      <td>30</td>\n",
       "      <td>11</td>\n",
       "      <td>2019</td>\n",
       "      <td>60</td>\n",
       "      <td>4</td>\n",
       "      <td>93</td>\n",
       "      <td>1</td>\n",
       "      <td>1</td>\n",
       "      <td>1.0</td>\n",
       "      <td>2</td>\n",
       "      <td>...</td>\n",
       "      <td>70.0</td>\n",
       "      <td>1</td>\n",
       "      <td>0.0</td>\n",
       "      <td>2.0</td>\n",
       "      <td>5.0</td>\n",
       "      <td>23</td>\n",
       "      <td>1</td>\n",
       "      <td>2019-11-30</td>\n",
       "      <td>333</td>\n",
       "      <td>4008004.0</td>\n",
       "    </tr>\n",
       "    <tr>\n",
       "      <th>1</th>\n",
       "      <td>30</td>\n",
       "      <td>11</td>\n",
       "      <td>2019</td>\n",
       "      <td>60</td>\n",
       "      <td>4</td>\n",
       "      <td>93</td>\n",
       "      <td>1</td>\n",
       "      <td>1</td>\n",
       "      <td>1.0</td>\n",
       "      <td>2</td>\n",
       "      <td>...</td>\n",
       "      <td>70.0</td>\n",
       "      <td>1</td>\n",
       "      <td>0.0</td>\n",
       "      <td>2.0</td>\n",
       "      <td>5.0</td>\n",
       "      <td>23</td>\n",
       "      <td>1</td>\n",
       "      <td>2019-11-30</td>\n",
       "      <td>333</td>\n",
       "      <td>3972049.0</td>\n",
       "    </tr>\n",
       "    <tr>\n",
       "      <th>2</th>\n",
       "      <td>30</td>\n",
       "      <td>11</td>\n",
       "      <td>2019</td>\n",
       "      <td>60</td>\n",
       "      <td>4</td>\n",
       "      <td>93</td>\n",
       "      <td>1</td>\n",
       "      <td>1</td>\n",
       "      <td>1.0</td>\n",
       "      <td>2</td>\n",
       "      <td>...</td>\n",
       "      <td>70.0</td>\n",
       "      <td>3</td>\n",
       "      <td>1.0</td>\n",
       "      <td>0.0</td>\n",
       "      <td>3.0</td>\n",
       "      <td>11</td>\n",
       "      <td>1</td>\n",
       "      <td>2019-11-30</td>\n",
       "      <td>333</td>\n",
       "      <td>3837681.0</td>\n",
       "    </tr>\n",
       "    <tr>\n",
       "      <th>3</th>\n",
       "      <td>30</td>\n",
       "      <td>11</td>\n",
       "      <td>2019</td>\n",
       "      <td>120</td>\n",
       "      <td>3</td>\n",
       "      <td>93</td>\n",
       "      <td>1</td>\n",
       "      <td>1</td>\n",
       "      <td>1.0</td>\n",
       "      <td>6</td>\n",
       "      <td>...</td>\n",
       "      <td>70.0</td>\n",
       "      <td>1</td>\n",
       "      <td>4.0</td>\n",
       "      <td>0.0</td>\n",
       "      <td>1.0</td>\n",
       "      <td>0</td>\n",
       "      <td>1</td>\n",
       "      <td>2019-11-30</td>\n",
       "      <td>333</td>\n",
       "      <td>3976036.0</td>\n",
       "    </tr>\n",
       "    <tr>\n",
       "      <th>4</th>\n",
       "      <td>28</td>\n",
       "      <td>11</td>\n",
       "      <td>2019</td>\n",
       "      <td>900</td>\n",
       "      <td>1</td>\n",
       "      <td>92</td>\n",
       "      <td>1</td>\n",
       "      <td>1</td>\n",
       "      <td>1.0</td>\n",
       "      <td>4</td>\n",
       "      <td>...</td>\n",
       "      <td>90.0</td>\n",
       "      <td>1</td>\n",
       "      <td>0.0</td>\n",
       "      <td>2.0</td>\n",
       "      <td>1.0</td>\n",
       "      <td>2</td>\n",
       "      <td>1</td>\n",
       "      <td>2019-11-28</td>\n",
       "      <td>331</td>\n",
       "      <td>3984016.0</td>\n",
       "    </tr>\n",
       "  </tbody>\n",
       "</table>\n",
       "<p>5 rows × 43 columns</p>\n",
       "</div>"
      ],
      "text/plain": [
       "   jour  mois    an  hrmn  lum  dep  agg  int  atm  col  ...   vma  catv  obs  \\\n",
       "0    30    11  2019    60    4   93    1    1  1.0    2  ...  70.0     1  0.0   \n",
       "1    30    11  2019    60    4   93    1    1  1.0    2  ...  70.0     1  0.0   \n",
       "2    30    11  2019    60    4   93    1    1  1.0    2  ...  70.0     3  1.0   \n",
       "3    30    11  2019   120    3   93    1    1  1.0    6  ...  70.0     1  4.0   \n",
       "4    28    11  2019   900    1   92    1    1  1.0    4  ...  90.0     1  0.0   \n",
       "\n",
       "   obsm  choc  manv  motor  jour_format_normal  nbre_j  an_nais_carre  \n",
       "0   2.0   5.0    23      1          2019-11-30     333      4008004.0  \n",
       "1   2.0   5.0    23      1          2019-11-30     333      3972049.0  \n",
       "2   0.0   3.0    11      1          2019-11-30     333      3837681.0  \n",
       "3   0.0   1.0     0      1          2019-11-30     333      3976036.0  \n",
       "4   2.0   1.0     2      1          2019-11-28     331      3984016.0  \n",
       "\n",
       "[5 rows x 43 columns]"
      ]
     },
     "execution_count": 17,
     "metadata": {},
     "output_type": "execute_result"
    }
   ],
   "source": [
    "df_utiles.head()"
   ]
  },
  {
   "cell_type": "markdown",
   "metadata": {},
   "source": [
    "# II) Analyse descriptive"
   ]
  },
  {
   "cell_type": "markdown",
   "metadata": {},
   "source": [
    "### Description de quelques variables"
   ]
  },
  {
   "cell_type": "code",
   "execution_count": 18,
   "metadata": {},
   "outputs": [
    {
     "data": {
      "text/plain": [
       "Index(['jour', 'mois', 'an', 'hrmn', 'lum', 'dep', 'agg', 'int', 'atm', 'col',\n",
       "       'lat', 'long', 'place', 'catu', 'grav', 'sexe', 'an_nais', 'trajet',\n",
       "       'secu1', 'secu2', 'secu3', 'locp', 'actp', 'etatp', 'catr', 'circ',\n",
       "       'nbv', 'vosp', 'prof', 'plan', 'surf', 'infra', 'situ', 'vma', 'catv',\n",
       "       'obs', 'obsm', 'choc', 'manv', 'motor', 'jour_format_normal', 'nbre_j',\n",
       "       'an_nais_carre'],\n",
       "      dtype='object')"
      ]
     },
     "execution_count": 18,
     "metadata": {},
     "output_type": "execute_result"
    }
   ],
   "source": [
    "df_utiles.columns # Liste des colonnes"
   ]
  },
  {
   "cell_type": "code",
   "execution_count": 19,
   "metadata": {},
   "outputs": [],
   "source": [
    "#On a repéré les variables réelles, catégorielles ordonnées et non ordonnées\n",
    "var_num = ['jour', 'mois', 'an', 'hrmn', 'lat', 'long','an_nais', 'nbv', 'vma', 'jour_format_normal', 'nbre_j', 'an_nais_carre' ]\n",
    "var_cat_ord = ['lum', 'agg', 'grav', 'sexe']\n",
    "var_cat_non_ord = ['dep', 'int', 'atm', 'col', 'place', 'catu', 'trajet','secu1', 'secu2', 'secu3', 'locp', 'actp', 'etatp', 'catr', 'circ', 'vosp', 'prof', 'plan', 'surf', 'infra', 'situ', 'catv', 'obs', 'obsm', 'choc', 'manv', 'motor']   "
   ]
  },
  {
   "cell_type": "code",
   "execution_count": 20,
   "metadata": {},
   "outputs": [
    {
     "data": {
      "text/html": [
       "<div>\n",
       "<style scoped>\n",
       "    .dataframe tbody tr th:only-of-type {\n",
       "        vertical-align: middle;\n",
       "    }\n",
       "\n",
       "    .dataframe tbody tr th {\n",
       "        vertical-align: top;\n",
       "    }\n",
       "\n",
       "    .dataframe thead th {\n",
       "        text-align: right;\n",
       "    }\n",
       "</style>\n",
       "<table border=\"1\" class=\"dataframe\">\n",
       "  <thead>\n",
       "    <tr style=\"text-align: right;\">\n",
       "      <th></th>\n",
       "      <th>jour</th>\n",
       "      <th>mois</th>\n",
       "      <th>an_nais</th>\n",
       "      <th>nbv</th>\n",
       "      <th>vma</th>\n",
       "      <th>lum</th>\n",
       "      <th>agg</th>\n",
       "      <th>grav</th>\n",
       "      <th>sexe</th>\n",
       "    </tr>\n",
       "  </thead>\n",
       "  <tbody>\n",
       "    <tr>\n",
       "      <th>count</th>\n",
       "      <td>129525.000000</td>\n",
       "      <td>129525.000000</td>\n",
       "      <td>129525.000000</td>\n",
       "      <td>129525.000000</td>\n",
       "      <td>129525.000000</td>\n",
       "      <td>129525.000000</td>\n",
       "      <td>129525.000000</td>\n",
       "      <td>129525.000000</td>\n",
       "      <td>129525.000000</td>\n",
       "    </tr>\n",
       "    <tr>\n",
       "      <th>mean</th>\n",
       "      <td>15.673839</td>\n",
       "      <td>6.696916</td>\n",
       "      <td>1980.222945</td>\n",
       "      <td>2.522525</td>\n",
       "      <td>62.422343</td>\n",
       "      <td>1.935626</td>\n",
       "      <td>1.623385</td>\n",
       "      <td>0.026203</td>\n",
       "      <td>1.320417</td>\n",
       "    </tr>\n",
       "    <tr>\n",
       "      <th>std</th>\n",
       "      <td>8.747585</td>\n",
       "      <td>3.385978</td>\n",
       "      <td>18.919533</td>\n",
       "      <td>1.454066</td>\n",
       "      <td>22.332412</td>\n",
       "      <td>1.497183</td>\n",
       "      <td>0.484539</td>\n",
       "      <td>0.159740</td>\n",
       "      <td>0.466639</td>\n",
       "    </tr>\n",
       "    <tr>\n",
       "      <th>min</th>\n",
       "      <td>1.000000</td>\n",
       "      <td>1.000000</td>\n",
       "      <td>1911.000000</td>\n",
       "      <td>0.000000</td>\n",
       "      <td>0.000000</td>\n",
       "      <td>1.000000</td>\n",
       "      <td>1.000000</td>\n",
       "      <td>0.000000</td>\n",
       "      <td>1.000000</td>\n",
       "    </tr>\n",
       "    <tr>\n",
       "      <th>25%</th>\n",
       "      <td>8.000000</td>\n",
       "      <td>4.000000</td>\n",
       "      <td>1967.000000</td>\n",
       "      <td>2.000000</td>\n",
       "      <td>50.000000</td>\n",
       "      <td>1.000000</td>\n",
       "      <td>1.000000</td>\n",
       "      <td>0.000000</td>\n",
       "      <td>1.000000</td>\n",
       "    </tr>\n",
       "    <tr>\n",
       "      <th>50%</th>\n",
       "      <td>16.000000</td>\n",
       "      <td>7.000000</td>\n",
       "      <td>1983.000000</td>\n",
       "      <td>2.000000</td>\n",
       "      <td>50.000000</td>\n",
       "      <td>1.000000</td>\n",
       "      <td>2.000000</td>\n",
       "      <td>0.000000</td>\n",
       "      <td>1.000000</td>\n",
       "    </tr>\n",
       "    <tr>\n",
       "      <th>75%</th>\n",
       "      <td>23.000000</td>\n",
       "      <td>10.000000</td>\n",
       "      <td>1995.000000</td>\n",
       "      <td>3.000000</td>\n",
       "      <td>80.000000</td>\n",
       "      <td>3.000000</td>\n",
       "      <td>2.000000</td>\n",
       "      <td>0.000000</td>\n",
       "      <td>2.000000</td>\n",
       "    </tr>\n",
       "    <tr>\n",
       "      <th>max</th>\n",
       "      <td>31.000000</td>\n",
       "      <td>12.000000</td>\n",
       "      <td>2019.000000</td>\n",
       "      <td>12.000000</td>\n",
       "      <td>130.000000</td>\n",
       "      <td>5.000000</td>\n",
       "      <td>2.000000</td>\n",
       "      <td>1.000000</td>\n",
       "      <td>2.000000</td>\n",
       "    </tr>\n",
       "  </tbody>\n",
       "</table>\n",
       "</div>"
      ],
      "text/plain": [
       "                jour           mois        an_nais            nbv  \\\n",
       "count  129525.000000  129525.000000  129525.000000  129525.000000   \n",
       "mean       15.673839       6.696916    1980.222945       2.522525   \n",
       "std         8.747585       3.385978      18.919533       1.454066   \n",
       "min         1.000000       1.000000    1911.000000       0.000000   \n",
       "25%         8.000000       4.000000    1967.000000       2.000000   \n",
       "50%        16.000000       7.000000    1983.000000       2.000000   \n",
       "75%        23.000000      10.000000    1995.000000       3.000000   \n",
       "max        31.000000      12.000000    2019.000000      12.000000   \n",
       "\n",
       "                 vma            lum            agg           grav  \\\n",
       "count  129525.000000  129525.000000  129525.000000  129525.000000   \n",
       "mean       62.422343       1.935626       1.623385       0.026203   \n",
       "std        22.332412       1.497183       0.484539       0.159740   \n",
       "min         0.000000       1.000000       1.000000       0.000000   \n",
       "25%        50.000000       1.000000       1.000000       0.000000   \n",
       "50%        50.000000       1.000000       2.000000       0.000000   \n",
       "75%        80.000000       3.000000       2.000000       0.000000   \n",
       "max       130.000000       5.000000       2.000000       1.000000   \n",
       "\n",
       "                sexe  \n",
       "count  129525.000000  \n",
       "mean        1.320417  \n",
       "std         0.466639  \n",
       "min         1.000000  \n",
       "25%         1.000000  \n",
       "50%         1.000000  \n",
       "75%         2.000000  \n",
       "max         2.000000  "
      ]
     },
     "execution_count": 20,
     "metadata": {},
     "output_type": "execute_result"
    }
   ],
   "source": [
    "df_utiles[['jour', 'mois','an_nais', 'nbv', 'vma', 'lum', 'agg', 'grav', 'sexe' ]].describe()"
   ]
  },
  {
   "cell_type": "code",
   "execution_count": 21,
   "metadata": {},
   "outputs": [
    {
     "data": {
      "text/plain": [
       "Homme    88023\n",
       "Femme    41502\n",
       "dtype: int64"
      ]
     },
     "execution_count": 21,
     "metadata": {},
     "output_type": "execute_result"
    }
   ],
   "source": [
    "df_sexe = df_utiles.groupby('sexe').size()\n",
    "df_sexe.index = [\"Homme\", \"Femme\"]\n",
    "df_sexe"
   ]
  },
  {
   "cell_type": "code",
   "execution_count": 22,
   "metadata": {},
   "outputs": [
    {
     "data": {
      "text/plain": [
       "<matplotlib.axes._subplots.AxesSubplot at 0x1c4e9ef7bb0>"
      ]
     },
     "execution_count": 22,
     "metadata": {},
     "output_type": "execute_result"
    },
    {
     "data": {
      "image/png": "[encoded data removed]",
      "text/plain": [
       "<Figure size 432x288 with 1 Axes>"
      ]
     },
     "metadata": {},
     "output_type": "display_data"
    }
   ],
   "source": [
    "df_sexe.plot.pie(label = \"\", title = \"Diagramme circulaire des usagers impliqués dans les accidents selon le sexe \", autopct='%1.2f%%')"
   ]
  },
  {
   "cell_type": "markdown",
   "metadata": {},
   "source": [
    "Les usagers impliqués dans les accidents de la route en 2019 sont à 68% des hommes. "
   ]
  },
  {
   "cell_type": "code",
   "execution_count": 23,
   "metadata": {},
   "outputs": [
    {
     "data": {
      "text/plain": [
       "<matplotlib.axes._subplots.AxesSubplot at 0x1c4ee7d85e0>"
      ]
     },
     "execution_count": 23,
     "metadata": {},
     "output_type": "execute_result"
    },
    {
     "data": {
      "image/png": "[encoded data removed]",
      "text/plain": [
       "<Figure size 432x288 with 1 Axes>"
      ]
     },
     "metadata": {
      "needs_background": "light"
     },
     "output_type": "display_data"
    }
   ],
   "source": [
    "df_utiles.groupby('choc').size().plot.bar(title = \"Effectif de chaque type de choc (point de choc initial) \")"
   ]
  },
  {
   "cell_type": "markdown",
   "metadata": {},
   "source": [
    "Les chocs par l'avant (1) sont les plus représentés, suivis par les chocs par un côté avant (droit : 2, gauche :3). Les chocs par l'arrière (4 à 6) et sur le côté (7 et 8) sont moins représentés."
   ]
  },
  {
   "cell_type": "markdown",
   "metadata": {},
   "source": [
    "En traçant ce même type de graphe pour d'autres variables catégorielles, on observe souvent qu'une seule modalité est très représentée par rapport aux autres. Dans plusieurs cas on peut se dire qu'il s'agit simplement de la modalité la plus rencontrée par les automobilistes, donc celle que l'on relève le plus souvent quand un accident se produit."
   ]
  },
  {
   "cell_type": "code",
   "execution_count": 24,
   "metadata": {},
   "outputs": [
    {
     "data": {
      "text/plain": [
       "0.6233854468249374"
      ]
     },
     "execution_count": 24,
     "metadata": {},
     "output_type": "execute_result"
    }
   ],
   "source": [
    "df_utiles[\"agg\"].mean()-1"
   ]
  },
  {
   "cell_type": "markdown",
   "metadata": {},
   "source": [
    "Environ 62% des accidents ont lieu en agglomération, on peut penser que cela vient du fait que la circulation est plus dense en agglomération."
   ]
  },
  {
   "cell_type": "code",
   "execution_count": 25,
   "metadata": {},
   "outputs": [
    {
     "data": {
      "text/plain": [
       "0.026203435630187222"
      ]
     },
     "execution_count": 25,
     "metadata": {},
     "output_type": "execute_result"
    }
   ],
   "source": [
    "df_utiles[\"grav\"].mean()"
   ]
  },
  {
   "cell_type": "markdown",
   "metadata": {},
   "source": [
    "La donnée qui va nous intéresser dans notre travail : 2,6% des usagers impliquées dans un accident sont morts en 2019."
   ]
  },
  {
   "cell_type": "markdown",
   "metadata": {
    "id": "JoAxBCR2xwEq"
   },
   "source": [
    "### Matrice des corrélations \n"
   ]
  },
  {
   "cell_type": "markdown",
   "metadata": {},
   "source": [
    "On a conservé quelques variables réelles et multinomiales ordonnées pour la matrice des corrélations.\n"
   ]
  },
  {
   "cell_type": "code",
   "execution_count": 26,
   "metadata": {
    "colab": {
     "base_uri": "https://localhost:8080/",
     "height": 605
    },
    "id": "Wt_opqQix0Pm",
    "outputId": "09800f70-8d3f-4513-deab-14aeaa8a9856",
    "tags": []
   },
   "outputs": [
    {
     "data": {
      "text/plain": [
       "<matplotlib.axes._subplots.AxesSubplot at 0x1c4e886a7c0>"
      ]
     },
     "execution_count": 26,
     "metadata": {},
     "output_type": "execute_result"
    },
    {
     "data": {
      "image/png": "[encoded data removed]",
      "text/plain": [
       "<Figure size 792x648 with 2 Axes>"
      ]
     },
     "metadata": {
      "needs_background": "light"
     },
     "output_type": "display_data"
    }
   ],
   "source": [
    "variables_observees = ['nbre_j','vma', 'nbv', 'hrmn', 'lum', 'lat', 'long', 'agg', 'sexe', 'grav', 'an_nais']\n",
    "correl = df_utiles[variables_observees].corr()\n",
    "f, ax = plt.subplots(figsize=(11, 9))\n",
    "cmap = sns.diverging_palette(230, 20, as_cmap=True)\n",
    "sns.heatmap(correl, cmap=cmap, center=0, square=True, linewidths=.5, cbar_kws={\"shrink\": .5})"
   ]
  },
  {
   "cell_type": "markdown",
   "metadata": {},
   "source": [
    "On observe par exemple que la vitesse maximale autorisée sur le lieu et au moment de l’accident (vma) est postivement corrélée au nombre total de voies de circulation (nbv) et négativement corrélée au fait d'être en agglomération ou non (agg). Cela est pertinent, vis-à-vis du code de la route : la circulation en agglomération est limitée à 30km/h ou 50 km/h, et hors-agglomération, la vitesse autorisée est plus élevée et le nombre de voies y est adapté.\n",
    "\n",
    "On observe de plus une légère corrélation positive entre la mortalité \"grav\" et \"vma\", ce qui est logique car la vitesse est un facteur aggravant dans les accidents. La mortalité est aussi négativement corrélée avec \"agg\", donc on peut supposer que même si plus d'accidents se produisent en agglomération, ils sont moins mortels car la vitesse y est réduite.\n"
   ]
  },
  {
   "cell_type": "markdown",
   "metadata": {
    "id": "zdzSAkdxOhPx"
   },
   "source": [
    "## Test des séries temporelles ARIMA pour anticiper le nombre d'accidentés"
   ]
  },
  {
   "cell_type": "markdown",
   "metadata": {
    "id": "eRYIlFZxXxAn"
   },
   "source": [
    "**But : obtenir la colonne nbre_acc_j qui représente le nombre d'accidentés par jour**"
   ]
  },
  {
   "cell_type": "code",
   "execution_count": 27,
   "metadata": {
    "colab": {
     "base_uri": "https://localhost:8080/",
     "height": 855
    },
    "id": "zaUxXbT0OpAA",
    "outputId": "11cfb892-12bf-4239-c32f-5e43d5b647c3",
    "scrolled": true
   },
   "outputs": [
    {
     "data": {
      "text/plain": [
       "2019-01-01    255\n",
       "2019-01-02    231\n",
       "2019-01-03    251\n",
       "2019-01-04    285\n",
       "2019-01-05    284\n",
       "             ... \n",
       "2019-12-27    264\n",
       "2019-12-28    297\n",
       "2019-12-29    254\n",
       "2019-12-30    260\n",
       "2019-12-31    267\n",
       "Freq: D, Length: 365, dtype: int64"
      ]
     },
     "execution_count": 27,
     "metadata": {},
     "output_type": "execute_result"
    }
   ],
   "source": [
    "nbre_acc_j = df_utiles.groupby(['nbre_j']).agg('count').jour.values #Nbre de victimes d'accidents par jour (car une ligne du dataframe symbolise un usager, rattaché à un véhicule et à un accident)\n",
    "ts = pd.Series(nbre_acc_j, index=pd.date_range(\"1/1/2019\", periods=365)) # Objet Series de pandas, pour faire des graphes\n",
    "ts"
   ]
  },
  {
   "cell_type": "code",
   "execution_count": 28,
   "metadata": {},
   "outputs": [
    {
     "data": {
      "text/plain": [
       "<matplotlib.axes._subplots.AxesSubplot at 0x1c4d84c9e80>"
      ]
     },
     "execution_count": 28,
     "metadata": {},
     "output_type": "execute_result"
    },
    {
     "data": {
      "image/png": "[encoded data removed]",
      "text/plain": [
       "<Figure size 432x288 with 1 Axes>"
      ]
     },
     "metadata": {
      "needs_background": "light"
     },
     "output_type": "display_data"
    }
   ],
   "source": [
    "plt.title(\"Nombre d'accidentés par jour en 2019\")\n",
    "plt.xlabel('Mois')\n",
    "plt.ylabel(\"Nombre d'accidents\")\n",
    "ts.plot()"
   ]
  },
  {
   "cell_type": "markdown",
   "metadata": {},
   "source": [
    "Le nombre d'accidentés dans l'année semble très variable, et on observe en particulier deux pics significatifs : le premier vers mi-juin qui pourrait correspondre aux départs massifs en vacances ce qui entraîne inévitablement un plus grand nombre d'accidents, et le deuxième vers mi-décembre qui pourrait être lié aux intempéries et à la météo moins favorable en hiver."
   ]
  },
  {
   "cell_type": "markdown",
   "metadata": {
    "id": "qGSOF5ZeY4hn"
   },
   "source": [
    "#### Graphe d'autocorrélation "
   ]
  },
  {
   "cell_type": "code",
   "execution_count": 29,
   "metadata": {
    "colab": {
     "base_uri": "https://localhost:8080/",
     "height": 281
    },
    "id": "RcBVMkcAX7Z8",
    "outputId": "6366f251-4b29-4389-ae0f-a62bbc64c3d3"
   },
   "outputs": [
    {
     "data": {
      "image/png": "[encoded data removed]",
      "text/plain": [
       "<Figure size 432x288 with 1 Axes>"
      ]
     },
     "metadata": {
      "needs_background": "light"
     },
     "output_type": "display_data"
    }
   ],
   "source": [
    "# On retire la moyenne glissante\n",
    "nbre_acc_j_dataframe = pd.DataFrame(nbre_acc_j)\n",
    "nbre_acc_rolling = nbre_acc_j_dataframe - nbre_acc_j_dataframe.rolling(15).mean()\n",
    "\n",
    "# On retire les valeurs NaN\n",
    "nbre_acc_rolling = nbre_acc_rolling.dropna() \n",
    "\n",
    "# On dessine le graphe\n",
    "fig, ax1 = plt.subplots() \n",
    "plot_acf(nbre_acc_rolling, lags=25, zero=False, ax=ax1);"
   ]
  },
  {
   "cell_type": "markdown",
   "metadata": {
    "id": "nPePWfiJZCXp"
   },
   "source": [
    "Conclusion : la composante saisonale a pour période 7 (abscisse du max sur le plot ci-dessus)"
   ]
  },
  {
   "cell_type": "markdown",
   "metadata": {
    "id": "bltALNZJX70n"
   },
   "source": [
    "**SARIMAX : prédire le nombre d'accidents en s'appuyant sur les données déjà enregistrées**"
   ]
  },
  {
   "cell_type": "code",
   "execution_count": 30,
   "metadata": {
    "colab": {
     "base_uri": "https://localhost:8080/",
     "height": 1000
    },
    "id": "x3sRVwcrZSuh",
    "outputId": "67ed0764-cc55-4bfd-e749-b35c3c84fe32"
   },
   "outputs": [
    {
     "name": "stderr",
     "output_type": "stream",
     "text": [
      "D:\\anaconda3\\lib\\site-packages\\statsmodels\\base\\model.py:567: ConvergenceWarning: Maximum Likelihood optimization failed to converge. Check mle_retvals\n",
      "  warn(\"Maximum Likelihood optimization failed to converge. \"\n"
     ]
    },
    {
     "data": {
      "text/html": [
       "<table class=\"simpletable\">\n",
       "<caption>SARIMAX Results</caption>\n",
       "<tr>\n",
       "  <th>Dep. Variable:</th>                  <td>y</td>                <th>  No. Observations:  </th>    <td>365</td>   \n",
       "</tr>\n",
       "<tr>\n",
       "  <th>Model:</th>           <td>SARIMAX(31, 0, 0)x(1, 1, 0, 32)</td> <th>  Log Likelihood     </th> <td>-1796.534</td>\n",
       "</tr>\n",
       "<tr>\n",
       "  <th>Date:</th>                   <td>Fri, 07 Jan 2022</td>         <th>  AIC                </th> <td>3659.068</td> \n",
       "</tr>\n",
       "<tr>\n",
       "  <th>Time:</th>                       <td>00:53:52</td>             <th>  BIC                </th> <td>3784.737</td> \n",
       "</tr>\n",
       "<tr>\n",
       "  <th>Sample:</th>                         <td>0</td>                <th>  HQIC               </th> <td>3709.180</td> \n",
       "</tr>\n",
       "<tr>\n",
       "  <th></th>                             <td> - 365</td>              <th>                     </th>     <td> </td>    \n",
       "</tr>\n",
       "<tr>\n",
       "  <th>Covariance Type:</th>               <td>opg</td>               <th>                     </th>     <td> </td>    \n",
       "</tr>\n",
       "</table>\n",
       "<table class=\"simpletable\">\n",
       "<tr>\n",
       "      <td></td>        <th>coef</th>     <th>std err</th>      <th>z</th>      <th>P>|z|</th>  <th>[0.025</th>    <th>0.975]</th>  \n",
       "</tr>\n",
       "<tr>\n",
       "  <th>ar.L1</th>    <td>    0.2512</td> <td>    0.064</td> <td>    3.911</td> <td> 0.000</td> <td>    0.125</td> <td>    0.377</td>\n",
       "</tr>\n",
       "<tr>\n",
       "  <th>ar.L2</th>    <td>    0.0801</td> <td>    0.064</td> <td>    1.255</td> <td> 0.209</td> <td>   -0.045</td> <td>    0.205</td>\n",
       "</tr>\n",
       "<tr>\n",
       "  <th>ar.L3</th>    <td>    0.0942</td> <td>    0.066</td> <td>    1.433</td> <td> 0.152</td> <td>   -0.035</td> <td>    0.223</td>\n",
       "</tr>\n",
       "<tr>\n",
       "  <th>ar.L4</th>    <td>    0.0970</td> <td>    0.064</td> <td>    1.513</td> <td> 0.130</td> <td>   -0.029</td> <td>    0.223</td>\n",
       "</tr>\n",
       "<tr>\n",
       "  <th>ar.L5</th>    <td>    0.0289</td> <td>    0.060</td> <td>    0.480</td> <td> 0.631</td> <td>   -0.089</td> <td>    0.147</td>\n",
       "</tr>\n",
       "<tr>\n",
       "  <th>ar.L6</th>    <td>    0.0448</td> <td>    0.064</td> <td>    0.699</td> <td> 0.485</td> <td>   -0.081</td> <td>    0.171</td>\n",
       "</tr>\n",
       "<tr>\n",
       "  <th>ar.L7</th>    <td>    0.3360</td> <td>    0.058</td> <td>    5.790</td> <td> 0.000</td> <td>    0.222</td> <td>    0.450</td>\n",
       "</tr>\n",
       "<tr>\n",
       "  <th>ar.L8</th>    <td>    0.0063</td> <td>    0.062</td> <td>    0.100</td> <td> 0.920</td> <td>   -0.116</td> <td>    0.129</td>\n",
       "</tr>\n",
       "<tr>\n",
       "  <th>ar.L9</th>    <td>    0.0096</td> <td>    0.064</td> <td>    0.151</td> <td> 0.880</td> <td>   -0.115</td> <td>    0.135</td>\n",
       "</tr>\n",
       "<tr>\n",
       "  <th>ar.L10</th>   <td>    0.0200</td> <td>    0.067</td> <td>    0.300</td> <td> 0.764</td> <td>   -0.111</td> <td>    0.151</td>\n",
       "</tr>\n",
       "<tr>\n",
       "  <th>ar.L11</th>   <td>   -0.0634</td> <td>    0.064</td> <td>   -0.989</td> <td> 0.323</td> <td>   -0.189</td> <td>    0.062</td>\n",
       "</tr>\n",
       "<tr>\n",
       "  <th>ar.L12</th>   <td>   -0.0724</td> <td>    0.070</td> <td>   -1.033</td> <td> 0.302</td> <td>   -0.210</td> <td>    0.065</td>\n",
       "</tr>\n",
       "<tr>\n",
       "  <th>ar.L13</th>   <td>    0.0366</td> <td>    0.061</td> <td>    0.599</td> <td> 0.549</td> <td>   -0.083</td> <td>    0.156</td>\n",
       "</tr>\n",
       "<tr>\n",
       "  <th>ar.L14</th>   <td>   -0.0022</td> <td>    0.062</td> <td>   -0.035</td> <td> 0.972</td> <td>   -0.124</td> <td>    0.120</td>\n",
       "</tr>\n",
       "<tr>\n",
       "  <th>ar.L15</th>   <td>   -0.0161</td> <td>    0.066</td> <td>   -0.245</td> <td> 0.807</td> <td>   -0.145</td> <td>    0.113</td>\n",
       "</tr>\n",
       "<tr>\n",
       "  <th>ar.L16</th>   <td>   -0.0625</td> <td>    0.063</td> <td>   -0.996</td> <td> 0.319</td> <td>   -0.186</td> <td>    0.060</td>\n",
       "</tr>\n",
       "<tr>\n",
       "  <th>ar.L17</th>   <td>   -0.0606</td> <td>    0.068</td> <td>   -0.895</td> <td> 0.371</td> <td>   -0.193</td> <td>    0.072</td>\n",
       "</tr>\n",
       "<tr>\n",
       "  <th>ar.L18</th>   <td>    0.1199</td> <td>    0.063</td> <td>    1.914</td> <td> 0.056</td> <td>   -0.003</td> <td>    0.243</td>\n",
       "</tr>\n",
       "<tr>\n",
       "  <th>ar.L19</th>   <td>   -0.1189</td> <td>    0.075</td> <td>   -1.588</td> <td> 0.112</td> <td>   -0.266</td> <td>    0.028</td>\n",
       "</tr>\n",
       "<tr>\n",
       "  <th>ar.L20</th>   <td>    0.1470</td> <td>    0.074</td> <td>    1.979</td> <td> 0.048</td> <td>    0.001</td> <td>    0.293</td>\n",
       "</tr>\n",
       "<tr>\n",
       "  <th>ar.L21</th>   <td>    0.0885</td> <td>    0.069</td> <td>    1.288</td> <td> 0.198</td> <td>   -0.046</td> <td>    0.223</td>\n",
       "</tr>\n",
       "<tr>\n",
       "  <th>ar.L22</th>   <td>   -0.1430</td> <td>    0.073</td> <td>   -1.946</td> <td> 0.052</td> <td>   -0.287</td> <td>    0.001</td>\n",
       "</tr>\n",
       "<tr>\n",
       "  <th>ar.L23</th>   <td>   -0.1069</td> <td>    0.069</td> <td>   -1.553</td> <td> 0.120</td> <td>   -0.242</td> <td>    0.028</td>\n",
       "</tr>\n",
       "<tr>\n",
       "  <th>ar.L24</th>   <td>    0.0893</td> <td>    0.072</td> <td>    1.248</td> <td> 0.212</td> <td>   -0.051</td> <td>    0.230</td>\n",
       "</tr>\n",
       "<tr>\n",
       "  <th>ar.L25</th>   <td>   -0.0693</td> <td>    0.069</td> <td>   -1.009</td> <td> 0.313</td> <td>   -0.204</td> <td>    0.065</td>\n",
       "</tr>\n",
       "<tr>\n",
       "  <th>ar.L26</th>   <td>   -0.0057</td> <td>    0.075</td> <td>   -0.076</td> <td> 0.939</td> <td>   -0.152</td> <td>    0.141</td>\n",
       "</tr>\n",
       "<tr>\n",
       "  <th>ar.L27</th>   <td>   -0.0296</td> <td>    0.068</td> <td>   -0.433</td> <td> 0.665</td> <td>   -0.164</td> <td>    0.104</td>\n",
       "</tr>\n",
       "<tr>\n",
       "  <th>ar.L28</th>   <td>    0.1760</td> <td>    0.071</td> <td>    2.465</td> <td> 0.014</td> <td>    0.036</td> <td>    0.316</td>\n",
       "</tr>\n",
       "<tr>\n",
       "  <th>ar.L29</th>   <td>    0.0231</td> <td>    0.070</td> <td>    0.333</td> <td> 0.739</td> <td>   -0.113</td> <td>    0.159</td>\n",
       "</tr>\n",
       "<tr>\n",
       "  <th>ar.L30</th>   <td>    0.0117</td> <td>    0.068</td> <td>    0.173</td> <td> 0.863</td> <td>   -0.121</td> <td>    0.144</td>\n",
       "</tr>\n",
       "<tr>\n",
       "  <th>ar.L31</th>   <td>   -0.2050</td> <td>    0.063</td> <td>   -3.249</td> <td> 0.001</td> <td>   -0.329</td> <td>   -0.081</td>\n",
       "</tr>\n",
       "<tr>\n",
       "  <th>ar.S.L32</th> <td>   -0.4529</td> <td>    0.064</td> <td>   -7.057</td> <td> 0.000</td> <td>   -0.579</td> <td>   -0.327</td>\n",
       "</tr>\n",
       "<tr>\n",
       "  <th>sigma2</th>   <td> 2705.4792</td> <td>  217.708</td> <td>   12.427</td> <td> 0.000</td> <td> 2278.779</td> <td> 3132.179</td>\n",
       "</tr>\n",
       "</table>\n",
       "<table class=\"simpletable\">\n",
       "<tr>\n",
       "  <th>Ljung-Box (Q):</th>          <td>34.04</td> <th>  Jarque-Bera (JB):  </th> <td>3.16</td>\n",
       "</tr>\n",
       "<tr>\n",
       "  <th>Prob(Q):</th>                <td>0.73</td>  <th>  Prob(JB):          </th> <td>0.21</td>\n",
       "</tr>\n",
       "<tr>\n",
       "  <th>Heteroskedasticity (H):</th> <td>1.59</td>  <th>  Skew:              </th> <td>0.05</td>\n",
       "</tr>\n",
       "<tr>\n",
       "  <th>Prob(H) (two-sided):</th>    <td>0.02</td>  <th>  Kurtosis:          </th> <td>3.47</td>\n",
       "</tr>\n",
       "</table><br/><br/>Warnings:<br/>[1] Covariance matrix calculated using the outer product of gradients (complex-step)."
      ],
      "text/plain": [
       "<class 'statsmodels.iolib.summary.Summary'>\n",
       "\"\"\"\n",
       "                                      SARIMAX Results                                      \n",
       "===========================================================================================\n",
       "Dep. Variable:                                   y   No. Observations:                  365\n",
       "Model:             SARIMAX(31, 0, 0)x(1, 1, 0, 32)   Log Likelihood               -1796.534\n",
       "Date:                             Fri, 07 Jan 2022   AIC                           3659.068\n",
       "Time:                                     00:53:52   BIC                           3784.737\n",
       "Sample:                                          0   HQIC                          3709.180\n",
       "                                             - 365                                         \n",
       "Covariance Type:                               opg                                         \n",
       "==============================================================================\n",
       "                 coef    std err          z      P>|z|      [0.025      0.975]\n",
       "------------------------------------------------------------------------------\n",
       "ar.L1          0.2512      0.064      3.911      0.000       0.125       0.377\n",
       "ar.L2          0.0801      0.064      1.255      0.209      -0.045       0.205\n",
       "ar.L3          0.0942      0.066      1.433      0.152      -0.035       0.223\n",
       "ar.L4          0.0970      0.064      1.513      0.130      -0.029       0.223\n",
       "ar.L5          0.0289      0.060      0.480      0.631      -0.089       0.147\n",
       "ar.L6          0.0448      0.064      0.699      0.485      -0.081       0.171\n",
       "ar.L7          0.3360      0.058      5.790      0.000       0.222       0.450\n",
       "ar.L8          0.0063      0.062      0.100      0.920      -0.116       0.129\n",
       "ar.L9          0.0096      0.064      0.151      0.880      -0.115       0.135\n",
       "ar.L10         0.0200      0.067      0.300      0.764      -0.111       0.151\n",
       "ar.L11        -0.0634      0.064     -0.989      0.323      -0.189       0.062\n",
       "ar.L12        -0.0724      0.070     -1.033      0.302      -0.210       0.065\n",
       "ar.L13         0.0366      0.061      0.599      0.549      -0.083       0.156\n",
       "ar.L14        -0.0022      0.062     -0.035      0.972      -0.124       0.120\n",
       "ar.L15        -0.0161      0.066     -0.245      0.807      -0.145       0.113\n",
       "ar.L16        -0.0625      0.063     -0.996      0.319      -0.186       0.060\n",
       "ar.L17        -0.0606      0.068     -0.895      0.371      -0.193       0.072\n",
       "ar.L18         0.1199      0.063      1.914      0.056      -0.003       0.243\n",
       "ar.L19        -0.1189      0.075     -1.588      0.112      -0.266       0.028\n",
       "ar.L20         0.1470      0.074      1.979      0.048       0.001       0.293\n",
       "ar.L21         0.0885      0.069      1.288      0.198      -0.046       0.223\n",
       "ar.L22        -0.1430      0.073     -1.946      0.052      -0.287       0.001\n",
       "ar.L23        -0.1069      0.069     -1.553      0.120      -0.242       0.028\n",
       "ar.L24         0.0893      0.072      1.248      0.212      -0.051       0.230\n",
       "ar.L25        -0.0693      0.069     -1.009      0.313      -0.204       0.065\n",
       "ar.L26        -0.0057      0.075     -0.076      0.939      -0.152       0.141\n",
       "ar.L27        -0.0296      0.068     -0.433      0.665      -0.164       0.104\n",
       "ar.L28         0.1760      0.071      2.465      0.014       0.036       0.316\n",
       "ar.L29         0.0231      0.070      0.333      0.739      -0.113       0.159\n",
       "ar.L30         0.0117      0.068      0.173      0.863      -0.121       0.144\n",
       "ar.L31        -0.2050      0.063     -3.249      0.001      -0.329      -0.081\n",
       "ar.S.L32      -0.4529      0.064     -7.057      0.000      -0.579      -0.327\n",
       "sigma2      2705.4792    217.708     12.427      0.000    2278.779    3132.179\n",
       "===================================================================================\n",
       "Ljung-Box (Q):                       34.04   Jarque-Bera (JB):                 3.16\n",
       "Prob(Q):                              0.73   Prob(JB):                         0.21\n",
       "Heteroskedasticity (H):               1.59   Skew:                             0.05\n",
       "Prob(H) (two-sided):                  0.02   Kurtosis:                         3.47\n",
       "===================================================================================\n",
       "\n",
       "Warnings:\n",
       "[1] Covariance matrix calculated using the outer product of gradients (complex-step).\n",
       "\"\"\""
      ]
     },
     "execution_count": 30,
     "metadata": {},
     "output_type": "execute_result"
    }
   ],
   "source": [
    "# Création du modèle Sarimax\n",
    "model = SARIMAX(nbre_acc_j, order=(31, 0, 0), seasonal_order=(1, 1, 0, 32)) # Le 7 correspond à la période déterminée ci-dessus\n",
    "\n",
    "# Fit du modèle\n",
    "results = model.fit()\n",
    "\n",
    "# Affichage du résumé des résultats\n",
    "results.summary()"
   ]
  },
  {
   "cell_type": "markdown",
   "metadata": {},
   "source": [
    "**On utilise le modèle précédent afin de prédire 31 nouvelles valeurs (mois de janvier 2020)**"
   ]
  },
  {
   "cell_type": "code",
   "execution_count": 31,
   "metadata": {
    "colab": {
     "base_uri": "https://localhost:8080/",
     "height": 283
    },
    "id": "kz1FboMAvQri",
    "outputId": "82c38d35-ebed-43c4-b65f-ab650219544c"
   },
   "outputs": [
    {
     "name": "stdout",
     "output_type": "stream",
     "text": [
      "                     0\n",
      "2019-01-01  255.000000\n",
      "2019-01-02  231.000000\n",
      "2019-01-03  251.000000\n",
      "2019-01-04  285.000000\n",
      "2019-01-05  284.000000\n",
      "...                ...\n",
      "2020-01-27  298.635328\n",
      "2020-01-28  293.774928\n",
      "2020-01-29  312.435917\n",
      "2020-01-30  349.652538\n",
      "2020-01-31  301.451749\n",
      "\n",
      "[396 rows x 1 columns]\n"
     ]
    }
   ],
   "source": [
    "results_pred = results.get_forecast(31) \n",
    "results_mean = results_pred.predicted_mean \n",
    "results_mean = pd.DataFrame(results_mean) #En objet dataframe\n",
    "results_final = nbre_acc_j_dataframe.append(results_mean) #On adjoint les 31 prédictions aux valeurs réelles afin de tout afficher\n",
    "results_final = results_final.reset_index() #Après cette fusion de dataframe, l'index est cassé, on le réinitialise donc\n",
    "results_final = results_final.drop(\"index\", axis=1) #La commande précédent ajoute une colonne \"index\" inutile dans le DataFrame, on la supprime\n",
    "date_index = pd.date_range('1/1/2019', periods=396, freq='D') #Pour avoir les dates en abscisse (365 + 31 = 396 jours)\n",
    "results_final = results_final.set_index(date_index)\n",
    "print(results_final)"
   ]
  },
  {
   "cell_type": "markdown",
   "metadata": {},
   "source": [
    "### Comparaison des données de 2020 avec notre prédiction"
   ]
  },
  {
   "cell_type": "markdown",
   "metadata": {},
   "source": [
    "**Traitement des données de 2020**"
   ]
  },
  {
   "cell_type": "code",
   "execution_count": 32,
   "metadata": {},
   "outputs": [],
   "source": [
    "df_accidents2020 = pd.read_csv('Bases de données/caracteristiques-2020.csv', sep=\";\")\n",
    "df_usagers2020 = pd.read_csv('Bases de données/usagers-2020.csv', sep=\";\")\n",
    "df_lieux2020 = pd.read_csv('Bases de données/lieux-2020.csv', sep=\";\")\n",
    "df_vehicules2020 = pd.read_csv('Bases de données/vehicules-2020.csv', sep=\";\")\n",
    "df_merge2020 = df_accidents2020.merge(df_usagers2020.merge(df_lieux2020.merge(df_vehicules2020))) "
   ]
  },
  {
   "cell_type": "code",
   "execution_count": 33,
   "metadata": {},
   "outputs": [],
   "source": [
    "df_utiles2020 = df_merge2020.drop(axis=1, labels=['Num_Acc', 'com', 'adr', 'v1', 'id_vehicule', 'num_veh', 'lartpc', 'larrout', 'occutc', 'pr', 'pr1','senc', 'v2', 'voie'])\n"
   ]
  },
  {
   "cell_type": "code",
   "execution_count": 34,
   "metadata": {},
   "outputs": [],
   "source": [
    "df_utiles2020.loc[(df_utiles2020['vma'] > 130), 'vma']=np.nan\n",
    "df_utiles2020.loc[(df_utiles2020['vma'] < 0), 'vma']=np.nan\n",
    "df_utiles2020.loc[(df_utiles2020['atm'] < 0), 'atm']=np.nan\n",
    "df_utiles2020.loc[(df_utiles2020['nbv'] < 0), 'nbv']=np.nan\n",
    "df_utiles2020.loc[(df_utiles2020['prof'] < 0), 'prof']=np.nan\n",
    "df_utiles2020.loc[(df_utiles2020['surf'] < 0), 'surf']=np.nan\n",
    "df_utiles2020.loc[(df_utiles2020['infra'] < 0), 'infra']=np.nan\n",
    "df_utiles2020.loc[(df_utiles2020['situ'] < 0), 'situ']=np.nan\n",
    "df_utiles2020.loc[(df_utiles2020['obs'] < 0), 'obs']=np.nan\n",
    "df_utiles2020.loc[(df_utiles2020['obsm'] < 0), 'obsm']=np.nan\n",
    "df_utiles2020.loc[(df_utiles2020['choc'] < 0), 'choc']=np.nan\n",
    "df_utiles2020.loc[(df_utiles2020['an_nais'] < 1902), 'an_nais']=np.nan"
   ]
  },
  {
   "cell_type": "code",
   "execution_count": 35,
   "metadata": {},
   "outputs": [],
   "source": [
    "df_utiles2020 = df_utiles2020.dropna()"
   ]
  },
  {
   "cell_type": "code",
   "execution_count": 36,
   "metadata": {},
   "outputs": [],
   "source": [
    "df_utiles2020[\"hrmn\"] = pd.to_datetime(df_utiles2020[\"hrmn\"], format='%H:%S')\n",
    "df_utiles2020[\"hrmn\"] = df_utiles2020[\"hrmn\"].apply(lambda x: int(x.hour)*60 + int(x.minute))\n",
    "df_utiles2020[\"hrmn\"] = df_utiles2020[\"hrmn\"].astype('int64')"
   ]
  },
  {
   "cell_type": "code",
   "execution_count": 37,
   "metadata": {},
   "outputs": [],
   "source": [
    "#Formatage de la colonne \"jour_format_normal\" pour contenir la date au format standard dd/mm/yyyy\n",
    "df_utiles2020[\"jour_format_normal\"] = df_utiles2020[\"jour\"].astype(str)+'/'+df_utiles2020[\"mois\"].astype(str)+'/'+df_utiles2020[\"an\"].astype(str)\n",
    "df_utiles2020[\"jour_format_normal\"] = pd.to_datetime(df_utiles2020[\"jour_format_normal\"], format=\"%d/%m/%Y\")\n",
    "\n",
    "# Création d'une colonne remplie avec la date du 01/01/2020\n",
    "df_utiles2020[\"colonne_soustraction\"] = date(df_utiles2020[\"an\"].iloc[0], 1, 1) \n",
    "df_utiles2020[\"colonne_soustraction\"] = pd.to_datetime(df_utiles2020[\"colonne_soustraction\"]) #Pour transformer en objet date \n",
    "\n",
    "# Permet d'obtenir une colonne contenant, pour chaque accident,\n",
    "# Le nombre de jours écoulés depuis le 01/01/2020\n",
    "df_utiles2020[\"nbre_j\"] = df_utiles2020[\"jour_format_normal\"] - df_utiles2020[\"colonne_soustraction\"] \n",
    "\n",
    "#x.days permet d'obtenir l'entier contenu par l'objet \"date\" de Python\n",
    "df_utiles2020[\"nbre_j\"] = df_utiles2020[\"nbre_j\"].apply(lambda x: x.days) #Maintenant nbre_j est une colonne d'entiers\n",
    "df_utiles2020 = df_utiles2020.drop(axis=1, labels = ['colonne_soustraction'])"
   ]
  },
  {
   "cell_type": "code",
   "execution_count": 38,
   "metadata": {},
   "outputs": [],
   "source": [
    "\n",
    "df_utiles2020[\"dep\"] = df_utiles2020[\"dep\"].replace([\"2B\"], \"999\") #On remplace les codes des départements de la Corse par des int\n",
    "df_utiles2020[\"dep\"] = df_utiles2020[\"dep\"].replace([\"2A\"], \"998\")\n",
    "df_utiles2020[\"dep\"] = df_utiles2020[\"dep\"].astype('int64')\n",
    "\n",
    "df_utiles2020[\"actp\"] = df_utiles2020[\"actp\"].replace([\"A\"], \"14\") #On remplace les actions du piéton non encodées par des chiffres\n",
    "df_utiles2020[\"actp\"] = df_utiles2020[\"actp\"].replace([\"B\"], \"15\")"
   ]
  },
  {
   "cell_type": "code",
   "execution_count": 39,
   "metadata": {},
   "outputs": [],
   "source": [
    "df_utiles2020['lat'] = df_utiles2020['lat'].str.replace(',', '.').astype(float)\n",
    "df_utiles2020['long'] = df_utiles2020['long'].str.replace(',', '.').astype(float)\n"
   ]
  },
  {
   "cell_type": "code",
   "execution_count": 40,
   "metadata": {},
   "outputs": [],
   "source": [
    "df_utiles2020['catv'] = df_utiles2020['catv'].apply(func)"
   ]
  },
  {
   "cell_type": "code",
   "execution_count": 41,
   "metadata": {},
   "outputs": [],
   "source": [
    "df_utiles2020[\"grav\"] = df_utiles2020[\"grav\"].apply(lambda x: int(x==2)) # On recode la colonne \"grav\" : tué = 1, blessé léger/hospitalisé/indemne = 0"
   ]
  },
  {
   "cell_type": "markdown",
   "metadata": {},
   "source": [
    "**On peut afficher les données de 2020**"
   ]
  },
  {
   "cell_type": "code",
   "execution_count": 43,
   "metadata": {},
   "outputs": [],
   "source": [
    "df_utiles2020.to_csv('df_utiles2020.csv')"
   ]
  },
  {
   "cell_type": "code",
   "execution_count": 50,
   "metadata": {},
   "outputs": [
    {
     "data": {
      "text/plain": [
       "<matplotlib.axes._subplots.AxesSubplot at 0x1c4e8f2b9a0>"
      ]
     },
     "execution_count": 50,
     "metadata": {},
     "output_type": "execute_result"
    },
    {
     "data": {
      "image/png": "[encoded data removed]",
      "text/plain": [
       "<Figure size 432x288 with 1 Axes>"
      ]
     },
     "metadata": {
      "needs_background": "light"
     },
     "output_type": "display_data"
    }
   ],
   "source": [
    "nbre_acc_j2020 = df_utiles2020.groupby(['nbre_j']).agg('count').jour.values #Nbre d'accidents (ou de victimes d'accidents jsp) par jour\n",
    "ts2020 = pd.Series(nbre_acc_j2020, index=pd.date_range(\"1/1/2020\", periods=366)) # Objet Series de pandas, pour faire des graphes\n",
    "ts2020.plot()"
   ]
  },
  {
   "cell_type": "markdown",
   "metadata": {},
   "source": [
    "Par rapport à 2019, on remarque que dans l'année 2020, le nombre d'accidents a chuté en mars et "
   ]
  },
  {
   "cell_type": "code",
   "execution_count": 51,
   "metadata": {},
   "outputs": [],
   "source": [
    "nbre_acc_j_dataframe2020 = pd.DataFrame(nbre_acc_j2020)"
   ]
  },
  {
   "cell_type": "code",
   "execution_count": 52,
   "metadata": {},
   "outputs": [
    {
     "data": {
      "text/html": [
       "<div>\n",
       "<style scoped>\n",
       "    .dataframe tbody tr th:only-of-type {\n",
       "        vertical-align: middle;\n",
       "    }\n",
       "\n",
       "    .dataframe tbody tr th {\n",
       "        vertical-align: top;\n",
       "    }\n",
       "\n",
       "    .dataframe thead th {\n",
       "        text-align: right;\n",
       "    }\n",
       "</style>\n",
       "<table border=\"1\" class=\"dataframe\">\n",
       "  <thead>\n",
       "    <tr style=\"text-align: right;\">\n",
       "      <th></th>\n",
       "      <th>0</th>\n",
       "    </tr>\n",
       "  </thead>\n",
       "  <tbody>\n",
       "    <tr>\n",
       "      <th>2020-01-01</th>\n",
       "      <td>313</td>\n",
       "    </tr>\n",
       "    <tr>\n",
       "      <th>2020-01-02</th>\n",
       "      <td>247</td>\n",
       "    </tr>\n",
       "    <tr>\n",
       "      <th>2020-01-03</th>\n",
       "      <td>271</td>\n",
       "    </tr>\n",
       "    <tr>\n",
       "      <th>2020-01-04</th>\n",
       "      <td>263</td>\n",
       "    </tr>\n",
       "    <tr>\n",
       "      <th>2020-01-05</th>\n",
       "      <td>239</td>\n",
       "    </tr>\n",
       "    <tr>\n",
       "      <th>...</th>\n",
       "      <td>...</td>\n",
       "    </tr>\n",
       "    <tr>\n",
       "      <th>2020-12-27</th>\n",
       "      <td>131</td>\n",
       "    </tr>\n",
       "    <tr>\n",
       "      <th>2020-12-28</th>\n",
       "      <td>258</td>\n",
       "    </tr>\n",
       "    <tr>\n",
       "      <th>2020-12-29</th>\n",
       "      <td>170</td>\n",
       "    </tr>\n",
       "    <tr>\n",
       "      <th>2020-12-30</th>\n",
       "      <td>245</td>\n",
       "    </tr>\n",
       "    <tr>\n",
       "      <th>2020-12-31</th>\n",
       "      <td>231</td>\n",
       "    </tr>\n",
       "  </tbody>\n",
       "</table>\n",
       "<p>366 rows × 1 columns</p>\n",
       "</div>"
      ],
      "text/plain": [
       "              0\n",
       "2020-01-01  313\n",
       "2020-01-02  247\n",
       "2020-01-03  271\n",
       "2020-01-04  263\n",
       "2020-01-05  239\n",
       "...         ...\n",
       "2020-12-27  131\n",
       "2020-12-28  258\n",
       "2020-12-29  170\n",
       "2020-12-30  245\n",
       "2020-12-31  231\n",
       "\n",
       "[366 rows x 1 columns]"
      ]
     },
     "execution_count": 52,
     "metadata": {},
     "output_type": "execute_result"
    }
   ],
   "source": [
    "datation = pd.date_range('1/1/2020', periods=366, freq='D')\n",
    "accident_jour2020 = nbre_acc_j_dataframe2020\n",
    "accident_jour2020 = accident_jour2020.set_index(datation)\n",
    "accident_jour2020"
   ]
  },
  {
   "cell_type": "code",
   "execution_count": 53,
   "metadata": {},
   "outputs": [
    {
     "data": {
      "text/plain": [
       "2020-01-01    313\n",
       "2020-01-02    247\n",
       "2020-01-03    271\n",
       "2020-01-04    263\n",
       "2020-01-05    239\n",
       "2020-01-06    347\n",
       "2020-01-07    320\n",
       "2020-01-08    355\n",
       "2020-01-09    381\n",
       "2020-01-10    417\n",
       "2020-01-11    355\n",
       "2020-01-12    241\n",
       "2020-01-13    369\n",
       "2020-01-14    287\n",
       "2020-01-15    349\n",
       "2020-01-16    421\n",
       "2020-01-17    393\n",
       "2020-01-18    339\n",
       "2020-01-19    231\n",
       "2020-01-20    400\n",
       "2020-01-21    334\n",
       "2020-01-22    348\n",
       "2020-01-23    307\n",
       "2020-01-24    384\n",
       "2020-01-25    290\n",
       "2020-01-26    281\n",
       "2020-01-27    315\n",
       "2020-01-28    361\n",
       "2020-01-29    338\n",
       "2020-01-30    366\n",
       "2020-01-31    375\n",
       "Freq: D, Name: 0, dtype: int64"
      ]
     },
     "execution_count": 53,
     "metadata": {},
     "output_type": "execute_result"
    }
   ],
   "source": [
    "accident_jour2020[0][0:31]"
   ]
  },
  {
   "cell_type": "markdown",
   "metadata": {},
   "source": [
    "# III) Carte interactive"
   ]
  },
  {
   "cell_type": "code",
   "execution_count": null,
   "metadata": {},
   "outputs": [],
   "source": [
    "#Au cas où la cellule suivante ne marche pas\n",
    "import ssl\n",
    "ssl._create_default_https_context = ssl._create_unverified_context"
   ]
  },
  {
   "cell_type": "code",
   "execution_count": null,
   "metadata": {},
   "outputs": [],
   "source": [
    "coords = (46.539758, 2.430331)\n",
    "map = folium.Map(location=coords, tiles='OpenStreetMap', zoom_start=6)"
   ]
  },
  {
   "cell_type": "code",
   "execution_count": null,
   "metadata": {},
   "outputs": [],
   "source": [
    "map"
   ]
  },
  {
   "cell_type": "markdown",
   "metadata": {},
   "source": [
    "pour ajouter des cercles sur la cartes"
   ]
  },
  {
   "cell_type": "code",
   "execution_count": null,
   "metadata": {},
   "outputs": [],
   "source": [
    "for i in range(len(#ACCIDENT)) :\n",
    "    folium.CircleMarker(location = (LATS[i], LONGS[i]),radius = TEMPS[i]*2,color = 'crimson',fill = True,fill_color = 'crimson').add_to(map)"
   ]
  },
  {
   "cell_type": "code",
   "execution_count": null,
   "metadata": {},
   "outputs": [],
   "source": [
    "pour colorer les cercles colormap"
   ]
  },
  {
   "cell_type": "code",
   "execution_count": null,
   "metadata": {},
   "outputs": [],
   "source": [
    "\n",
    "\n",
    "coords = (46.539758, 2.430331)\n",
    "map = folium.Map(location=coords, tiles='OpenStreetMap', zoom_start=6)\n",
    "\n",
    "cm = branca.colormap.LinearColormap(['blue', 'red'], vmin=min(#NB_ACCIDENT), vmax=max(#NB_ACCIDENT))\n",
    "map.add_child(cm) # add this colormap on the display\n",
    "\n",
    "for elem1,elem2,.. in zip(var1, var2,..):\n",
    "    folium.CircleMarker(\n",
    "        location=[lat, long],\n",
    "        radius=size,\n",
    "        color=cm(color),\n",
    "        fill=True,\n",
    "        fill_color=cm(color),\n",
    "        fill_opacity=0.6\n",
    "    ).add_to(map)\n",
    "\n",
    "map.save(outfile='map.html')"
   ]
  },
  {
   "cell_type": "markdown",
   "metadata": {},
   "source": [
    "# IV) Entraînement d'un réseau de neurones"
   ]
  },
  {
   "cell_type": "code",
   "execution_count": 54,
   "metadata": {},
   "outputs": [
    {
     "name": "stdout",
     "output_type": "stream",
     "text": [
      "Epoch 1/5\n",
      "533/533 [==============================] - 1s 2ms/step - loss: 0.5177 - accuracy: 0.7419\n",
      "Epoch 2/5\n",
      "533/533 [==============================] - 1s 2ms/step - loss: 0.4831 - accuracy: 0.7617\n",
      "Epoch 3/5\n",
      "533/533 [==============================] - 1s 2ms/step - loss: 0.4737 - accuracy: 0.7712\n",
      "Epoch 4/5\n",
      "533/533 [==============================] - 1s 2ms/step - loss: 0.4695 - accuracy: 0.7731\n",
      "Epoch 5/5\n",
      "533/533 [==============================] - 1s 2ms/step - loss: 0.4634 - accuracy: 0.7782\n",
      "119/119 [==============================] - 0s 747us/step - loss: 0.4554 - accuracy: 0.7817\n",
      "Accuracy: 78.17\n"
     ]
    }
   ],
   "source": [
    "variables_utiles_regr = ['an_nais_carre', 'nbre_j', 'hrmn', 'lum', 'lat', 'long', 'agg', 'int', 'atm', 'catr', 'prof', 'surf', 'infra', 'situ', 'catv', 'obs', 'obsm', 'choc', 'catu', 'sexe', 'grav', 'an_nais']\n",
    "variables_utiles_regr_sans_grav = ['an_nais_carre', 'nbre_j', 'hrmn', 'lum', 'lat', 'long', 'agg', 'int', 'atm', 'catr', 'prof', 'surf', 'infra', 'situ', 'catv', 'obs', 'obsm', 'choc', 'catu', 'sexe', 'an_nais']\n",
    "variables_utiles_cat = ['lum', 'agg', 'int', 'atm', 'catr', 'prof', 'surf', 'infra', 'situ', 'catv', 'obs', 'obsm', 'choc', 'catu', 'sexe']\n",
    "variables_utiles_num = ['nbre_j', 'hrmn', 'lat', 'long', 'an_nais', 'an_nais_carre']\n",
    "   \n",
    "df_keras = df_utiles[variables_utiles_regr] # On ne retient que les variables utiles\n",
    "df_keras = pd.DataFrame(df_keras)\n",
    "enc = OneHotEncoder(handle_unknown='ignore') #OneHotEncoder pour les variables catégorielles\n",
    "ss = StandardScaler() #Permet de rendre les variables numériques centrées et réduites\n",
    "\n",
    "for var in variables_utiles_cat: # On parcourt les variables utiles catégorielles\n",
    "    df_keras[var] = enc.fit_transform(df_keras[var].values.reshape(-1, 1)).todense()\n",
    "pickle.dump(enc, open('onehot.pickle', 'wb')) #Permet de transformer et sauvegarder les entrées en vecteurs encodés de la même manière que les variables catégorielles avec l'Encoder\n",
    "\n",
    "for var in variables_utiles_num:\n",
    "    df_keras[var] = ss.fit_transform(df_keras[var].values.reshape(-1, 1))\n",
    "pickle.dump(ss, open('standardscaler.pickle', 'wb')) #idem que variables catégorielles et l'encodeur\n",
    "\n",
    "#On chercher à prédire y (grav) à partir des variables explicatives X\n",
    "X = df_keras[variables_utiles_regr_sans_grav] # Tout le dataframe sans la colonne \"grav\" qu'on cherche à prédire\n",
    "y = df_keras.grav #colonne \"grav\"\n",
    "y = y.astype(int) #Pour s'assurer que y est une colonne d'int\n",
    "y = label_binarize(y, classes=[0, 1]) #Pour faire du one-hot encoding sur y\n",
    "y = pd.DataFrame(y) #car y est devenu un np.array \n",
    "\n",
    "cv = RepeatedKFold(n_splits=10, n_repeats=3, random_state=1) #K-Fold répété, augmente la précision de l'algo de ~10 %\n",
    "\n",
    "os = SMOTE(sampling_strategy=0.1) # Pour rééqulibrer l'échantillon (2,63 % d'accidents mortels), crée artificiellement des données\n",
    "under = RandomUnderSampler(sampling_strategy=0.5)\n",
    "steps = [('o', os), ('u', under)]\n",
    "pipeline = Pipeline(steps=steps)\n",
    "# Appliquer la pipeline précédente aux données\n",
    "columns = X.columns\n",
    "X, y = pipeline.fit_resample(X, y)\n",
    "X = pd.DataFrame(data=X,columns=columns)\n",
    "y= pd.DataFrame(data=y)\n",
    "\n",
    "for train_index, test_index in cv.split(X): #On remplit X_train, X_test, Y_train et Y_test pour fitter et tester l'algo\n",
    "    X_train, X_test = X.iloc[train_index], X.iloc[test_index]\n",
    "    y_train, y_test = y.iloc[train_index], y.iloc[test_index]\n",
    "    \n",
    "# Réseaux de neurones\n",
    "    \n",
    "model = Sequential()  #Création du modèle, neurone à neurone. fonction d'activation \"relu \" = partie positive (x -> max(x, 0))\n",
    "model.add(Dense(256, input_dim=21, activation='relu'))  # variables_utiles_regr_sans_grav contient 22 variables #Il y a 256 neurones sur la couche\n",
    "model.add(Dropout(0.5))\n",
    "model.add(Dense(128, activation='relu')) #128 neurones sur la deuxième couche\n",
    "model.add(Dropout(0.5))\n",
    "model.add(Dense(1, activation='sigmoid')) \n",
    "model.add(Flatten())\n",
    "model.compile(loss='binary_crossentropy', optimizer='rmsprop', metrics=['accuracy'])\n",
    "model.fit(X_train, y_train, epochs=5, batch_size=64)\n",
    "predictions = model.predict(X_test)\n",
    "_, accuracy = model.evaluate(X_test, y_test)\n",
    "print('Accuracy: %.2f' % (accuracy*100))"
   ]
  },
  {
   "cell_type": "markdown",
   "metadata": {},
   "source": [
    "## On obtient environ 75% de précision avec le réseau de neurones"
   ]
  },
  {
   "cell_type": "code",
   "execution_count": 55,
   "metadata": {},
   "outputs": [],
   "source": [
    "def output_NN_Keras(output):\n",
    "    if output[0][0] > 0.5:\n",
    "        return 'Décès'\n",
    "    else:\n",
    "        return 'Survie'\n",
    "\n",
    "def NN_Keras(pred):\n",
    "    pred = np.asarray(pred).astype('float32')\n",
    "    pred = pd.DataFrame(np.reshape(pred, (1, -1)), columns=[['nbre_j', 'hrmn', 'lat', 'long', 'an_nais', 'lum', 'agg', 'int', 'atm', 'catr', 'prof', 'surf', 'infra', 'situ', 'catv', 'obs', 'obsm', 'choc', 'catu', 'sexe']])\n",
    "    pred['an_nais_carre'] = pred['an_nais']*pred['an_nais']\n",
    "    loaded_enc = pickle.load(open(\"onehot.pickle\", \"rb\"))\n",
    "    loaded_ss = pickle.load(open(\"standardscaler.pickle\", \"rb\"))\n",
    "    for var in variables_utiles_cat: # On parcourt les variables utiles catégorielles\n",
    "        pred[var] = np.array(loaded_enc.fit_transform(pred[var].values.reshape(-1, 1)).todense())\n",
    "    for var in variables_utiles_num: # On parcourt les variables utiles catégorielles\n",
    "        pred[var] = loaded_ss.fit_transform(pred[var].values.reshape(-1, 1))\n",
    "    return [accuracy*100, output_NN_Keras(model.predict(pred))]"
   ]
  },
  {
   "cell_type": "markdown",
   "metadata": {},
   "source": [
    "## On obtient 80 % de précision avec un RandomForestClassifier"
   ]
  },
  {
   "cell_type": "markdown",
   "metadata": {},
   "source": [
    "# V) Interface Dash"
   ]
  },
  {
   "cell_type": "code",
   "execution_count": 56,
   "metadata": {},
   "outputs": [
    {
     "ename": "NameError",
     "evalue": "name 'fr_regions' is not defined",
     "output_type": "error",
     "traceback": [
      "\u001b[1;31m---------------------------------------------------------------------------\u001b[0m",
      "\u001b[1;31mNameError\u001b[0m                                 Traceback (most recent call last)",
      "\u001b[1;32m<ipython-input-56-7a388b1b8442>\u001b[0m in \u001b[0;36m<module>\u001b[1;34m\u001b[0m\n\u001b[0;32m     10\u001b[0m     \u001b[0mhtml\u001b[0m\u001b[1;33m.\u001b[0m\u001b[0mH1\u001b[0m\u001b[1;33m(\u001b[0m\u001b[0mchildren\u001b[0m\u001b[1;33m=\u001b[0m\u001b[1;34m'Prédictions'\u001b[0m\u001b[1;33m)\u001b[0m\u001b[1;33m,\u001b[0m\u001b[1;33m\u001b[0m\u001b[1;33m\u001b[0m\u001b[0m\n\u001b[0;32m     11\u001b[0m     html.Div([\n\u001b[1;32m---> 12\u001b[1;33m         dcc.Graph(id=\"Carte\",figure=px.scatter_geo(df_utiles.head(1000), lat=\"lat\", lon=\"long\", geojson=fr_regions))] # Carte affichant les accidents sur une carte de France\n\u001b[0m\u001b[0;32m     13\u001b[0m     ,style={'columnCount': 1}), \n\u001b[0;32m     14\u001b[0m     html.Div([\n",
      "\u001b[1;31mNameError\u001b[0m: name 'fr_regions' is not defined"
     ]
    }
   ],
   "source": [
    "\n",
    "external_stylesheets = ['https://codepen.io/chriddyp/pen/bWLwgP.css'] # Feuille CSS externe, pour mettre en forme la dashboard\n",
    "\n",
    "app = dash.Dash(__name__, external_stylesheets=external_stylesheets)\n",
    "\n",
    "NUMBER_VAR = (\n",
    "    'nbre_j', 'hrmn', 'lat', 'long', 'an_nais'\n",
    ") # Liste des variables sur lesquelles on utilise l'algo\n",
    "\n",
    "app.layout = html.Div(children=[ #Toute l'app est une balise div, qui contient des balises H1, ..., H6 (pour les titres) et des balises Div pour tous les contenus interactifs\n",
    "    html.H1(children='Prédictions'),\n",
    "    html.Div([\n",
    "        dcc.Graph(id=\"Carte\",figure=px.scatter_geo(df_utiles.head(1000), lat=\"lat\", lon=\"long\", geojson=fr_regions))] # Carte affichant les accidents sur une carte de France\n",
    "    ,style={'columnCount': 1}), \n",
    "    html.Div([\n",
    "        dcc.Graph(id=\"Prédictions\",figure=px.line(results_final, labels={'x': 'jour', 'y': 'nombre d\\'accidentés'}))] #Prédictions SARIMAX\n",
    "    ,style={'columnCount': 1}), \n",
    "    html.Div(children='''\n",
    "        Remplir les variables\n",
    "    '''),\n",
    "            html.Div( # Cette balise Div permet d'afficher les inputs sur l'interface Dash, pour qu'on puisse les remplir\n",
    "    [\n",
    "        dcc.Input(\n",
    "            id=\"input_{}\".format(_), # On identifie chaque Input par un ID \"input_nomdelavariable\", utile pour les callbacks\n",
    "            type=\"number\",\n",
    "            placeholder=\"variable {}\".format(_),\n",
    "        )\n",
    "        for _ in NUMBER_VAR # On affiche les inputs pour les variables quantitatives (non catégorielles)\n",
    "    ]),\n",
    "            html.Div([\n",
    "    dcc.Dropdown(\n",
    "        id='lum',\n",
    "        options=[\n",
    "            {'label': 'Plein jour', 'value': '1'},\n",
    "            {'label': 'Crépuscule ou aube', 'value': '2'},\n",
    "            {'label': 'Nuit sans éclairage public', 'value': '3'},\n",
    "            {'label': 'Nuit avec éclairage public non allumé', 'value': '4'},\n",
    "            {'label': 'Nuit avec éclairage public allumé', 'value': '5'}\n",
    "        ],\n",
    "        placeholder=\"Conditions d'éclairage\"\n",
    "    )]),\n",
    "    \n",
    "            html.Div([\n",
    "    dcc.Dropdown(\n",
    "        id='catv',\n",
    "        options=[\n",
    "            {'label': 'Indéterminable/piéton', 'value': '0'},\n",
    "            {'label': 'Véhicule léger (voiture, utilitaire)', 'value': '1'},\n",
    "            {'label': 'Sans permis (< 125 cm3) (vélo, scooter, ...)', 'value': '2'},\n",
    "            {'label': 'Poids lourd', 'value': '3'},\n",
    "            {'label': 'Transport en commun', 'value': '4'},\n",
    "            {'label': '> 125 cm3 à 2/3 roues', 'value': '5'}\n",
    "        ],\n",
    "        placeholder=\"Type de véhicule de l'individu\"\n",
    "    )]),\n",
    "    \n",
    "    \n",
    "             html.Div([\n",
    "    dcc.Dropdown(\n",
    "        id='agg',\n",
    "        options=[\n",
    "            {'label': 'Hors agglomération', 'value': '1'},\n",
    "            {'label': 'En agglomération', 'value': '2'}\n",
    "        ],\n",
    "        placeholder=\"En agglo ou non\"\n",
    "    )]),\n",
    "             \n",
    "             html.Div([\n",
    "    dcc.Dropdown(\n",
    "        id='int',\n",
    "        options=[\n",
    "            {'label': 'Hors intersection', 'value': '1'},\n",
    "            {'label': 'Intersection en X', 'value': '2'},\n",
    "            {'label': 'Intersection en T', 'value': '3'},\n",
    "            {'label': 'Intersection en Y ', 'value': '4'},\n",
    "            {'label': 'Intersection à plus de 4 branches', 'value': '5'},\n",
    "            {'label': 'Giratoire', 'value': '6'},\n",
    "            {'label': 'Place ', 'value': '7'},\n",
    "            {'label': 'Passage à niveau ', 'value': '8'},\n",
    "            {'label': 'Autre intersection', 'value': '9'}\n",
    "        ],\n",
    "        placeholder=\"Type d'intersection\"\n",
    "    )]),\n",
    "             \n",
    "             html.Div([\n",
    "    dcc.Dropdown(\n",
    "        id='atm',\n",
    "        options=[\n",
    "            {'label': 'Non renseigné', 'value': '-1'},\n",
    "            {'label': 'Normale', 'value': '1'},\n",
    "            {'label': 'Pluie légère', 'value': '2'},\n",
    "            {'label': 'Pluie forte', 'value': '3'},\n",
    "            {'label': 'Neige - grêle', 'value': '4'},\n",
    "            {'label': 'Brouillard - fumée', 'value': '5'},\n",
    "            {'label': 'Vent fort - tempête', 'value' : '6'},\n",
    "            {'label': 'Temps éblouissant', 'value': '7'},\n",
    "            {'label': 'Temps couvert', 'value': '8'},\n",
    "            {'label': 'Autre', 'value': '9'}\n",
    "        ],\n",
    "        placeholder=\"Conditions météorologiques au moment de l'accident\"\n",
    "    )]),\n",
    "             \n",
    "             html.Div([\n",
    "    dcc.Dropdown(\n",
    "        id='catr',\n",
    "        options=[\n",
    "            {'label': 'Autoroute', 'value': '1'},\n",
    "            {'label': 'Route nationale', 'value': '2'},\n",
    "            {'label': 'Route Départementale', 'value': '3'},\n",
    "            {'label': 'Voie Communales', 'value': '4'},\n",
    "            {'label': 'Hors réseau public', 'value': '5'},\n",
    "            {'label': 'Parc de stationnement ouvert à la circulation publique', 'value': '6'},\n",
    "            {'label': 'Routes de métropole urbaine', 'value': '7'},\n",
    "            {'label': 'autre', 'value': '9'}\n",
    "        ],\n",
    "        placeholder=\"Type de route\"\n",
    "    )]),\n",
    "             \n",
    "             html.Div([\n",
    "    dcc.Dropdown(\n",
    "        id='prof',\n",
    "        options=[\n",
    "            {'label': 'Non renseigné', 'value': '-1'},\n",
    "            {'label': 'Plat', 'value': '1'},\n",
    "            {'label': 'Pente', 'value': '2'},\n",
    "            {'label': 'Sommet de côte', 'value': '3'},\n",
    "            {'label': 'Bas de côte', 'value': '4'}\n",
    "        ],\n",
    "        placeholder=\"Profil (déclivité)\"\n",
    "    )]),\n",
    "             \n",
    "             html.Div([\n",
    "    dcc.Dropdown(\n",
    "        id='surf',\n",
    "        options=[\n",
    "            {'label': 'Non renseigné', 'value': '-1'},\n",
    "            {'label': 'Normale', 'value': '1'},\n",
    "            {'label': 'Mouillée', 'value': '2'},\n",
    "            {'label': 'Flaques', 'value': '3'},\n",
    "            {'label': 'Inondée', 'value': '4'},\n",
    "            {'label': 'Enneigée', 'value': '5'},\n",
    "            {'label': 'Boue', 'value' : '6'},\n",
    "            {'label': 'Verglacée', 'value': '7'},\n",
    "            {'label': 'Corps gras - huile', 'value': '8'},\n",
    "            {'label': 'Autre', 'value': '9'}\n",
    "        ],\n",
    "        placeholder=\"Surface de la chaussée\"\n",
    "    )]),\n",
    "             \n",
    "             html.Div([\n",
    "    dcc.Dropdown(\n",
    "        id='infra',\n",
    "        options=[\n",
    "            {'label': 'Non renseigné', 'value': '-1'},\n",
    "            {'label': 'Aucun', 'value': '0'},\n",
    "            {'label': 'Souterrain - tunnel', 'value': '1'},\n",
    "            {'label': 'Pont - autopont', 'value': '2'},\n",
    "            {'label': 'Bretelle d’échangeur ou de raccordement', 'value': '3'},\n",
    "            {'label': 'Voie ferrée', 'value': '4'},\n",
    "            {'label': 'Carrefour aménagé', 'value': '5'},\n",
    "            {'label': 'Zone piétonne', 'value' : '6'},\n",
    "            {'label': 'Zone de péage', 'value': '7'},\n",
    "            {'label': 'Chantier', 'value': '8'},\n",
    "            {'label': 'Autres', 'value': '9'}\n",
    "        ],\n",
    "        placeholder=\"Type d'infrastructures/aménagement\"\n",
    "    )]),\n",
    "             \n",
    "             html.Div([\n",
    "    dcc.Dropdown(\n",
    "        id='situ',\n",
    "        options=[\n",
    "            {'label': 'Non renseigné', 'value': '-1'},\n",
    "            {'label': 'Aucun', 'value': '0'},\n",
    "            {'label': 'Sur chaussée', 'value': '1'},\n",
    "            {'label': 'Sur bande d’arrêt d’urgence', 'value': '2'},\n",
    "            {'label': 'Sur accotement', 'value': '3'},\n",
    "            {'label': 'Sur trottoir', 'value': '4'},\n",
    "            {'label': 'Sur piste cyclable', 'value': '5'},\n",
    "            {'label': 'Sur autre voie spéciale', 'value' : '6'},\n",
    "            {'label': 'Autres', 'value': '8'}\n",
    "        ],\n",
    "        placeholder=\"Situation de l'accident\"\n",
    "    )]),\n",
    "             html.Div([\n",
    "    dcc.Dropdown(\n",
    "        id='obs',\n",
    "        options=[\n",
    "            {'label': 'Non renseigné', 'value': '-1'},\n",
    "            {'label': 'Sans objet', 'value': '0'},\n",
    "            {'label': 'Véhicule en stationnement', 'value': '1'},\n",
    "            {'label': 'Arbre', 'value': '2'},\n",
    "            {'label': 'Glissière métallique', 'value': '3'},\n",
    "            {'label': 'Glissière béton', 'value': '4'},\n",
    "            {'label': 'Autre glissière', 'value': '5'},\n",
    "            {'label': 'Bâtiment, mur, pile de pont', 'value' : '6'},\n",
    "            {'label': 'Support de signalisation verticale ou poste d’appel d’urgence', 'value': '7'},\n",
    "            {'label': 'Poteau', 'value': '8'},\n",
    "            {'label': 'Mobilier urbain', 'value': '9'},\n",
    "            {'label': 'Parapet', 'value': '10'},\n",
    "            {'label': 'Ilot, refuge, borne haute', 'value': '11'},\n",
    "            {'label': 'Bordure de trottoir', 'value': '12'},\n",
    "            {'label': 'Fossé, talus, paroi rocheuse', 'value': '13'},\n",
    "            {'label': 'Autre obstacle fixe sur chaussée', 'value': '14'},\n",
    "            {'label': 'Autre obstacle fixe sur trottoir ou accotement', 'value': '15'},\n",
    "            {'label': 'Sortie de chaussée sans obstacle', 'value': '16'},\n",
    "            {'label': 'Buse – tête d’aqueduc', 'value': '17'}\n",
    "        ],\n",
    "        placeholder=\"Obstacle fixe percuté\"\n",
    "    )]),\n",
    "             \n",
    "             html.Div([\n",
    "    dcc.Dropdown(\n",
    "        id='obsm',\n",
    "        options=[\n",
    "            {'label': 'Non renseigné', 'value': '-1'},\n",
    "            {'label': 'Aucun', 'value': '0'},\n",
    "            {'label': 'Piéton', 'value': '1'},\n",
    "            {'label': 'Véhicule', 'value': '2'},\n",
    "            {'label': 'Véhicule sur rail', 'value': '4'},\n",
    "            {'label': 'Animal domestique', 'value': '5'},\n",
    "            {'label': 'Animal sauvage', 'value' : '6'},\n",
    "            {'label': 'Autre', 'value': '9'}\n",
    "        ],\n",
    "        placeholder=\"Obstacle mobile percuté\"\n",
    "    )]),\n",
    "             \n",
    "             html.Div([\n",
    "    dcc.Dropdown(\n",
    "        id='choc',\n",
    "        options=[\n",
    "            {'label': 'Non renseigné', 'value': '-1'},\n",
    "            {'label': 'Aucun', 'value': '0'},\n",
    "            {'label': 'Avant', 'value': '1'},\n",
    "            {'label': 'Avant droit', 'value': '2'},\n",
    "            {'label': 'Avant gauche', 'value': '3'},\n",
    "            {'label': 'Arrière', 'value': '4'},\n",
    "            {'label': 'Arrière droit', 'value': '5'},\n",
    "            {'label': 'Arrière gauche', 'value' : '6'},\n",
    "            {'label': 'Côté droit', 'value': '7'},\n",
    "            {'label': 'Côté gauche', 'value': '8'},\n",
    "            {'label': 'Chocs multiples (tonneaux)', 'value': '9'}\n",
    "        ],\n",
    "        placeholder=\"Point de choc initial\"\n",
    "    )]),\n",
    "             \n",
    "             html.Div([\n",
    "    dcc.Dropdown(\n",
    "        id='catu',\n",
    "        options=[\n",
    "            {'label': 'Conducteur', 'value': '1'},\n",
    "            {'label': 'Passager', 'value': '2'},\n",
    "            {'label': 'Piéton', 'value': '3'}\n",
    "        ],\n",
    "        placeholder=\"L'individu est...\"\n",
    "    )]),\n",
    "             \n",
    "             html.Div([\n",
    "    dcc.Dropdown(\n",
    "        id='sexe',\n",
    "        options=[\n",
    "            {'label': 'Masculin', 'value': '1'},\n",
    "            {'label': 'Féminin', 'value': '2'}\n",
    "        ],\n",
    "        placeholder=\"Sexe de l'individu\"\n",
    "    )]),\n",
    "    html.Div(id=\"out-all-types\")\n",
    "])\n",
    "\n",
    "@app.callback(\n",
    "     Output(\"out-all-types\", \"children\"),\n",
    "     [Input(\"input_{}\".format(_), \"value\") for _ in NUMBER_VAR], # On lie les inputs affichés sur Dash et la fonction cb_render\n",
    "     Input(\"lum\", \"value\"),\n",
    "     Input(\"agg\", \"value\"),\n",
    "     Input(\"int\", \"value\"),\n",
    "     Input(\"atm\", \"value\"),\n",
    "     Input(\"catr\", \"value\"),\n",
    "     Input(\"prof\", \"value\"),\n",
    "     Input(\"surf\", \"value\"),\n",
    "     Input(\"infra\", \"value\"),\n",
    "     Input(\"situ\", \"value\"),\n",
    "     Input(\"catv\", \"value\"),\n",
    "     Input(\"obs\", \"value\"),\n",
    "     Input(\"obsm\", \"value\"),\n",
    "     Input(\"choc\", \"value\"),\n",
    "     Input(\"catu\", \"value\"),\n",
    "     Input(\"sexe\", \"value\"),\n",
    ")\n",
    "def cb_render(*vals):\n",
    "    if not None in vals:\n",
    "        float_vals = []\n",
    "        for item in vals:\n",
    "            float_vals.append(float(item))\n",
    "        res = NN_Keras(vals)\n",
    "        return \"L'algorithme prédit : {}, avec une précision de {}\".format(res[1], res[0]) \n",
    "\n",
    "if __name__ == '__main__':\n",
    "    app.run_server(host='127.0.0.1', port='8050')"
   ]
  },
  {
   "cell_type": "code",
   "execution_count": null,
   "metadata": {},
   "outputs": [],
   "source": []
  }
 ],
 "metadata": {
  "kernelspec": {
   "display_name": "Python 3",
   "language": "python",
   "name": "python3"
  },
  "language_info": {
   "codemirror_mode": {
    "name": "ipython",
    "version": 3
   },
   "file_extension": ".py",
   "mimetype": "text/x-python",
   "name": "python",
   "nbconvert_exporter": "python",
   "pygments_lexer": "ipython3",
   "version": "3.8.3"
  }
 },
 "nbformat": 4,
 "nbformat_minor": 4
}
