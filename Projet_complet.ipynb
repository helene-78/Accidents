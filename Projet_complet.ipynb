{
 "cells": [
  {
   "cell_type": "markdown",
   "metadata": {},
   "source": [
    "## Projet de Python pour le data scientist (2021-2022)\n",
    "## \"Prédire la gravité des accidents corporels de la route\"\n",
    "### DUJARDIN Thomas, RONDEY Hélène, ROSUNEE Avichaï"
   ]
  },
  {
   "cell_type": "markdown",
   "metadata": {
    "colab_type": "text",
    "id": "view-in-github"
   },
   "source": [
    "<a href=\"https://colab.research.google.com/github/helene-78/Accidents/blob/main/prep_df_utiles.ipynb\" target=\"_parent\"><img src=\"https://colab.research.google.com/assets/colab-badge.svg\" alt=\"Open In Colab\"/></a>"
   ]
  },
  {
   "cell_type": "markdown",
   "metadata": {},
   "source": [
    "## Installation et chargement des modules"
   ]
  },
  {
   "cell_type": "code",
   "execution_count": 1,
   "metadata": {},
   "outputs": [],
   "source": [
    "#!pip install imblearn\n",
    "#!pip install plotly\n",
    "#!pip install haversine\n",
    "# !pip install statsmodels #statsmodels, pour utiliser le module de séries temp SARIMAX\n",
    "#!pip install keras\n",
    "#!pip install tensorflow\n",
    "#!pip install dash\n",
    "#!pip install folium"
   ]
  },
  {
   "cell_type": "code",
   "execution_count": 2,
   "metadata": {
    "id": "mdttbn7CRv7P"
   },
   "outputs": [],
   "source": [
    "import pandas as pd\n",
    "import numpy as np\n",
    "import matplotlib\n",
    "import matplotlib.pyplot as plt \n",
    "import seaborn as sns #Tableau des corrélations\n",
    "from datetime import date\n",
    "\n",
    "\n",
    "from imblearn.over_sampling import SMOTE # Pour avoir 50 % de 0 et 50 % de 1 dans la colonne presence_accident\n",
    "from sklearn.linear_model import LogisticRegression # Regression logistique\n",
    "from sklearn import metrics\n",
    "from sklearn.model_selection import RepeatedKFold #KFold répété, pour mieux entraîner le modèle\n",
    "from sklearn.model_selection import train_test_split\n",
    "\n",
    "\n",
    "from sklearn import model_selection # Pour utiliser RandomForestClassifier\n",
    "from sklearn.ensemble import RandomForestClassifier #\n",
    "from sklearn.model_selection import cross_val_score #Pour mesurer la précision de l'algorithme\n",
    "from sklearn.metrics import classification_report, confusion_matrix #\n",
    "from sklearn.utils import shuffle # Pour que le scoring \"roc_auc\" fonctionne\n",
    "from sklearn.preprocessing import label_binarize # Transformer y en variable catégorique\n",
    "from sklearn.metrics import accuracy_score\n",
    "\n",
    "from sklearn import preprocessing\n",
    "from sklearn.preprocessing import OneHotEncoder\n",
    "\n",
    "\n",
    "# ARIMA\n",
    "import matplotlib.dates as mdates\n",
    "from statsmodels.tsa.statespace.sarimax import SARIMAX # SARIMAX = modèle de séries temporelles\n",
    "from statsmodels.graphics.tsaplots import plot_acf\n",
    "from statsmodels.tsa.arima.model import ARIMA\n",
    "\n",
    "# Carte\n",
    "import folium\n",
    "import  branca\n",
    "\n",
    "\n",
    "#Réseau de neurones\n",
    "from sklearn import preprocessing\n",
    "from sklearn.preprocessing import OneHotEncoder\n",
    "from sklearn.preprocessing import StandardScaler\n",
    "from imblearn.pipeline import Pipeline\n",
    "from imblearn.under_sampling import RandomUnderSampler\n",
    "from keras.models import Sequential\n",
    "from keras.layers import Dense\n",
    "from keras.layers import Flatten\n",
    "from keras.layers import Dropout\n",
    "import pickle # Pour sauvegarder le modèle de OneHotEncoding\n",
    "\n",
    "#Interface Dash\n",
    "import dash \n",
    "from dash import dcc # import dash_core_components as dcc # Pour utiliser dcc.Input (ce qui permet d'inclure les inputs dans le HTML)\n",
    "from dash import html #import dash_html_components as html # L'interface Dash est en HTML\n",
    "from dash.dependencies import Input, Output, State, MATCH, ALL # Pour les callbacks\n",
    "import plotly.express as px # Pour faire des graphes dans l'interface Dash"
   ]
  },
  {
   "cell_type": "markdown",
   "metadata": {},
   "source": [
    "## Fusion des bases, sélection et reformatage des variables"
   ]
  },
  {
   "cell_type": "markdown",
   "metadata": {
    "id": "Bf-G2BD3R7TB"
   },
   "source": [
    "**Fusion des 4 dataframes de l'ONISR pour l'année 2019**"
   ]
  },
  {
   "cell_type": "code",
   "execution_count": 3,
   "metadata": {
    "id": "YVQKJ_9iR22-"
   },
   "outputs": [],
   "source": [
    "df_accidents = pd.read_csv('Bases de données/caracteristiques-2019.csv', sep=\";\")\n",
    "df_usagers = pd.read_csv('Bases de données/usagers-2019.csv', sep=\";\")\n",
    "df_lieux = pd.read_csv('Bases de données/lieux-2019.csv', sep=\";\")\n",
    "df_vehicules = pd.read_csv('Bases de données/vehicules-2019.csv', sep=\";\")\n",
    "df_merge = df_accidents.merge(df_usagers.merge(df_lieux.merge(df_vehicules))) #dataframe à traiter"
   ]
  },
  {
   "cell_type": "markdown",
   "metadata": {},
   "source": [
    "Pour illustrer la richesse des informations de la base globale, on va afficher les premiers accidents, et en décrire un avec quelques colonnes venant de chaque base."
   ]
  },
  {
   "cell_type": "markdown",
   "metadata": {},
   "source": [
    "Vu que tous les usagers (conducteurs, passagers, piétons heurtés) sont reliés à un véhicule, on peut lire ci-dessous combien de personnes sont impliquées dans un accident donné. "
   ]
  },
  {
   "cell_type": "code",
   "execution_count": 4,
   "metadata": {},
   "outputs": [
    {
     "data": {
      "text/plain": [
       "Num_Acc\n",
       "201900000001    3\n",
       "201900000002    1\n",
       "201900000003    4\n",
       "201900000004    4\n",
       "201900000005    3\n",
       "               ..\n",
       "201900058836    3\n",
       "201900058837    3\n",
       "201900058838    1\n",
       "201900058839    1\n",
       "201900058840    2\n",
       "Name: id_vehicule, Length: 58840, dtype: int64"
      ]
     },
     "execution_count": 4,
     "metadata": {},
     "output_type": "execute_result"
    }
   ],
   "source": [
    "df_merge.groupby(['Num_Acc'] )['id_vehicule'].count()"
   ]
  },
  {
   "cell_type": "code",
   "execution_count": 5,
   "metadata": {},
   "outputs": [
    {
     "data": {
      "text/html": [
       "<div>\n",
       "<style scoped>\n",
       "    .dataframe tbody tr th:only-of-type {\n",
       "        vertical-align: middle;\n",
       "    }\n",
       "\n",
       "    .dataframe tbody tr th {\n",
       "        vertical-align: top;\n",
       "    }\n",
       "\n",
       "    .dataframe thead th {\n",
       "        text-align: right;\n",
       "    }\n",
       "</style>\n",
       "<table border=\"1\" class=\"dataframe\">\n",
       "  <thead>\n",
       "    <tr style=\"text-align: right;\">\n",
       "      <th></th>\n",
       "      <th>Num_Acc</th>\n",
       "      <th>id_vehicule</th>\n",
       "      <th>jour</th>\n",
       "      <th>vma</th>\n",
       "      <th>choc</th>\n",
       "      <th>place</th>\n",
       "      <th>sexe</th>\n",
       "      <th>an_nais</th>\n",
       "      <th>grav</th>\n",
       "    </tr>\n",
       "  </thead>\n",
       "  <tbody>\n",
       "    <tr>\n",
       "      <th>0</th>\n",
       "      <td>201900000001</td>\n",
       "      <td>138 306 524</td>\n",
       "      <td>30</td>\n",
       "      <td>70</td>\n",
       "      <td>5</td>\n",
       "      <td>2</td>\n",
       "      <td>2</td>\n",
       "      <td>2002</td>\n",
       "      <td>4</td>\n",
       "    </tr>\n",
       "    <tr>\n",
       "      <th>1</th>\n",
       "      <td>201900000001</td>\n",
       "      <td>138 306 524</td>\n",
       "      <td>30</td>\n",
       "      <td>70</td>\n",
       "      <td>5</td>\n",
       "      <td>1</td>\n",
       "      <td>2</td>\n",
       "      <td>1993</td>\n",
       "      <td>4</td>\n",
       "    </tr>\n",
       "    <tr>\n",
       "      <th>2</th>\n",
       "      <td>201900000001</td>\n",
       "      <td>138 306 525</td>\n",
       "      <td>30</td>\n",
       "      <td>70</td>\n",
       "      <td>3</td>\n",
       "      <td>1</td>\n",
       "      <td>1</td>\n",
       "      <td>1959</td>\n",
       "      <td>1</td>\n",
       "    </tr>\n",
       "    <tr>\n",
       "      <th>3</th>\n",
       "      <td>201900000002</td>\n",
       "      <td>138 306 523</td>\n",
       "      <td>30</td>\n",
       "      <td>70</td>\n",
       "      <td>1</td>\n",
       "      <td>1</td>\n",
       "      <td>2</td>\n",
       "      <td>1994</td>\n",
       "      <td>4</td>\n",
       "    </tr>\n",
       "    <tr>\n",
       "      <th>4</th>\n",
       "      <td>201900000003</td>\n",
       "      <td>138 306 520</td>\n",
       "      <td>28</td>\n",
       "      <td>90</td>\n",
       "      <td>1</td>\n",
       "      <td>1</td>\n",
       "      <td>1</td>\n",
       "      <td>1996</td>\n",
       "      <td>1</td>\n",
       "    </tr>\n",
       "    <tr>\n",
       "      <th>5</th>\n",
       "      <td>201900000003</td>\n",
       "      <td>138 306 520</td>\n",
       "      <td>28</td>\n",
       "      <td>90</td>\n",
       "      <td>1</td>\n",
       "      <td>2</td>\n",
       "      <td>2</td>\n",
       "      <td>1930</td>\n",
       "      <td>4</td>\n",
       "    </tr>\n",
       "    <tr>\n",
       "      <th>6</th>\n",
       "      <td>201900000003</td>\n",
       "      <td>138 306 521</td>\n",
       "      <td>28</td>\n",
       "      <td>90</td>\n",
       "      <td>4</td>\n",
       "      <td>1</td>\n",
       "      <td>1</td>\n",
       "      <td>1995</td>\n",
       "      <td>4</td>\n",
       "    </tr>\n",
       "    <tr>\n",
       "      <th>7</th>\n",
       "      <td>201900000003</td>\n",
       "      <td>138 306 522</td>\n",
       "      <td>28</td>\n",
       "      <td>90</td>\n",
       "      <td>4</td>\n",
       "      <td>1</td>\n",
       "      <td>1</td>\n",
       "      <td>1966</td>\n",
       "      <td>1</td>\n",
       "    </tr>\n",
       "  </tbody>\n",
       "</table>\n",
       "</div>"
      ],
      "text/plain": [
       "        Num_Acc  id_vehicule  jour  vma  choc  place  sexe  an_nais  grav\n",
       "0  201900000001  138 306 524    30   70     5      2     2     2002     4\n",
       "1  201900000001  138 306 524    30   70     5      1     2     1993     4\n",
       "2  201900000001  138 306 525    30   70     3      1     1     1959     1\n",
       "3  201900000002  138 306 523    30   70     1      1     2     1994     4\n",
       "4  201900000003  138 306 520    28   90     1      1     1     1996     1\n",
       "5  201900000003  138 306 520    28   90     1      2     2     1930     4\n",
       "6  201900000003  138 306 521    28   90     4      1     1     1995     4\n",
       "7  201900000003  138 306 522    28   90     4      1     1     1966     1"
      ]
     },
     "execution_count": 5,
     "metadata": {},
     "output_type": "execute_result"
    }
   ],
   "source": [
    "df_merge[[\"Num_Acc\",\"id_vehicule\", 'jour', 'vma' ,'choc', 'place', 'sexe', 'an_nais',\"grav\"]].head(8)"
   ]
  },
  {
   "cell_type": "markdown",
   "metadata": {},
   "source": [
    "Par exemple, le premier accident de la base est numéroté 201900000001, a fait intervenir deux véhicules, identifiés par les numéros 138 306 524 et 138 306 525.\n",
    "\n",
    "* **Rubrique Lieux** : L'accident a eu lieu le 30e jour du mois et dans une zone où la vitesse maximale autorisée était 70 km/h .\n",
    "* **Rubrique Véhicules** :Le premier véhicule a subi un choc sur l'arrière droit et le deuxième sur l'avant gauche \n",
    "* **Rubrique Usagers** : Le premier véhicule contenait un conducteur et un  passager à l'avant, le deuxième juste le conducteur. Les occupants de la première voiture étaient des femmes (nées en 1993 et 2002), et le conducteur de la deuxième était un homme (né en 1959). Les deux femmes ont été légèrement blessées** , et l'homme était indemne. <br />\n",
    " Un blessé léger est défini par l'ONISR comme \"une victime ayant fait l'objet de soins médicaux mais n'ayant pas été admise comme patient à l'hôpital plus de 24 heures\". "
   ]
  },
  {
   "cell_type": "markdown",
   "metadata": {
    "id": "CE2LNLkTR_Pm"
   },
   "source": [
    "**Suppression des colonnes inutiles à l'analyse de données, et des NaN**"
   ]
  },
  {
   "cell_type": "markdown",
   "metadata": {},
   "source": [
    "On a choisi d'éliminer les variables : \n",
    "- *Num_Acc*, *id_vehicule* et *num_veh* : l'identifiant des accidents et des véhicules étaient utiles pour l'illustration mais ne servent pas à l'explication de la gravité des accidents. <br />\n",
    "<br />\n",
    "- *com*: le numéro de commune (INSEE), car on utilisera les données de département, de longitude et de latitude pour travailler sur la localisation des accidents\n",
    "- *adr*: l'adresse postale, pour la même raison que com\n",
    "- *v1*, *v2* et *voie* : des indices désignant la route, idem <br />\n",
    "\n",
    "\n",
    "- *lartpc* et *larrout* : la largeur du terre-plein central et de la chaussée, que l'on choisit de ne pas inclure dans l'étude\n",
    "- *occutc*: le nombre d'occupants dans le transport en commun, car cela concerne peu d'accidents dans la base\n"
   ]
  },
  {
   "cell_type": "code",
   "execution_count": 6,
   "metadata": {
    "id": "1dnj8rLaR3_v"
   },
   "outputs": [],
   "source": [
    "df_utiles = df_merge.drop(axis=1, labels=['Num_Acc', 'com', 'adr', 'v1', 'id_vehicule', 'num_veh', 'lartpc', 'larrout', 'occutc', 'v2', 'voie'])\n",
    "df_utiles = df_utiles.dropna()\n"
   ]
  },
  {
   "cell_type": "markdown",
   "metadata": {},
   "source": [
    "**Recodage de plusieurs variables : heures et joursdes accidents, entrées de type alphanumérique, données géographiques, catégories de véhicules** "
   ]
  },
  {
   "cell_type": "code",
   "execution_count": 7,
   "metadata": {},
   "outputs": [],
   "source": [
    "#Recodage de la colonne \"hrmn\" pour exprimer l'heure des accidents en minutes\n",
    "df_utiles[\"hrmn\"] = pd.to_datetime(df_utiles[\"hrmn\"], format='%H:%S')\n",
    "df_utiles[\"hrmn\"] = df_utiles[\"hrmn\"].apply(lambda x: int(x.hour)*60 + int(x.minute))\n",
    "df_utiles[\"hrmn\"] = df_utiles[\"hrmn\"].astype('int64')"
   ]
  },
  {
   "cell_type": "code",
   "execution_count": 8,
   "metadata": {},
   "outputs": [],
   "source": [
    "#Formatage de la colonne \"jour_format_normal\" pour contenir la date au format standard dd/mm/yyyy\n",
    "df_utiles[\"jour_format_normal\"] = df_utiles[\"jour\"].astype(str)+'/'+df_utiles[\"mois\"].astype(str)+'/'+df_utiles[\"an\"].astype(str)\n",
    "df_utiles[\"jour_format_normal\"] = pd.to_datetime(df_utiles[\"jour_format_normal\"], format=\"%d/%m/%Y\")\n",
    "df_utiles[\"colonne_soustraction\"] = date(df_utiles[\"an\"].iloc[0], 1, 1) # Création d'une colonne remplie avec la date du 01/01/2019\n",
    "df_utiles[\"colonne_soustraction\"] = pd.to_datetime(df_utiles[\"colonne_soustraction\"]) #Pour transformer en objet date \n",
    "df_utiles[\"nbre_j\"] = df_utiles[\"jour_format_normal\"] - df_utiles[\"colonne_soustraction\"] # Permet d'obtenir une colonne contenant, pour chaque accident,\n",
    "# Le nombre de jours écoulés depuis le 01/01/2019\n",
    "def datification(x):\n",
    "    return x.days # Permet d'obtenir l'entier contenu par l'objet \"date\" de Python\n",
    "df_utiles[\"nbre_j\"] = df_utiles[\"nbre_j\"].apply(datification) #Maintenant nbre_j est une colonne d'entiers"
   ]
  },
  {
   "cell_type": "code",
   "execution_count": 9,
   "metadata": {
    "id": "WzozzbOpR5QT"
   },
   "outputs": [],
   "source": [
    "#On remplace les codes des départements de la Corse par des int\n",
    "df_utiles[\"dep\"] = df_utiles[\"dep\"].replace([\"2B\"], \"999\")\n",
    "df_utiles[\"dep\"] = df_utiles[\"dep\"].replace([\"2A\"], \"998\")\n",
    "df_utiles[\"dep\"] = df_utiles[\"dep\"].astype('int64')\n",
    "#On remplace les actions du piéton non encodées par des chiffres\n",
    "df_utiles[\"actp\"] = df_utiles[\"actp\"].replace([\"A\"], \"14\") \n",
    "df_utiles[\"actp\"] = df_utiles[\"actp\"].replace([\"B\"], \"15\")"
   ]
  },
  {
   "cell_type": "code",
   "execution_count": 10,
   "metadata": {},
   "outputs": [],
   "source": [
    "# Pour avoir les coordonnées GPS en float, sinon plotly.express (px) ne peut pas les afficher sur la carte de France\n",
    "df_utiles['lat'] = df_utiles['lat'].str.replace(',', '.').astype(float)\n",
    "df_utiles['long'] = df_utiles['long'].str.replace(',', '.').astype(float)"
   ]
  },
  {
   "cell_type": "code",
   "execution_count": 11,
   "metadata": {},
   "outputs": [],
   "source": [
    "# On recode catv pour regrouper les véhicules en un plus petit nombre de catégories:\n",
    "# 1 : véhicules légers (VL, VU)\n",
    "# 2 : Sans permis (< 125 cm3)\n",
    "# 3 : Poids lourds\n",
    "# 4 : transports en commun\n",
    "# 5 : > 125 cm3\n",
    "\n",
    "def func(x):\n",
    "    if x in [7,10]:\n",
    "        x=1; \n",
    "    elif (x in [1, 2, 3, 30, 31, 32, 50, 60, 80, 99, 35, 41, 42]):\n",
    "        x=2; \n",
    "    elif (x in [13, 14, 15, 16, 17, 20, 21]) :\n",
    "        x=3 \n",
    "    elif (x in  [37, 38, 39, 40])  :\n",
    "        x= 4 \n",
    "    elif (x in [33, 34, 36, 43]) : #voir dans la description si on peut mettre un else à la place\n",
    "        x= 5 \n",
    "    return x\n",
    "\n",
    "        \n",
    "df_utiles['catv'] = df_utiles['catv'].apply(func)\n"
   ]
  },
  {
   "cell_type": "markdown",
   "metadata": {
    "id": "VvrVxM9JSB_t"
   },
   "source": [
    "**Recodage de la colonne \"grav\", qui vaudra 1 en cas d'accident mortel, 0 sinon**"
   ]
  },
  {
   "cell_type": "markdown",
   "metadata": {},
   "source": [
    "La variable \"grav\" est catégorielle: Indemne, Tué (au moins un mort), Blessé hospitalisé (au moins un, sans aucun tué), Blessé léger (au moins un, sans aucun blessé hospitalisé ni mort). \n",
    "Pour étudier la gravité des accidents, on fait le choix de passer d'une variable catégorielle à une variable binaire : accident mortel  ou non. "
   ]
  },
  {
   "cell_type": "code",
   "execution_count": 12,
   "metadata": {},
   "outputs": [],
   "source": [
    "df_utiles[\"grav\"] = df_utiles[\"grav\"].apply(lambda x: int(x==2)) # On recode la colonne \"grav\" : tué = 1, blessé léger/hospitalisé/indemne = 0"
   ]
  },
  {
   "cell_type": "code",
   "execution_count": 13,
   "metadata": {},
   "outputs": [
    {
     "data": {
      "text/plain": [
       "0         4008004\n",
       "1         3972049\n",
       "2         3837681\n",
       "3         3976036\n",
       "4         3984016\n",
       "           ...   \n",
       "132972    3952144\n",
       "132973    3992004\n",
       "132974    3916441\n",
       "132975    3896676\n",
       "132976    3884841\n",
       "Name: an_nais_carre, Length: 132977, dtype: int64"
      ]
     },
     "execution_count": 13,
     "metadata": {},
     "output_type": "execute_result"
    }
   ],
   "source": [
    "# La dépendance de \"grav\" en \"an_nais\" (mortalité en fct de l'année de naissance) est a priori non linéaire, on utilise alors\n",
    "# an_nais²\n",
    "\n",
    "df_utiles['an_nais_carre'] = df_utiles['an_nais'].apply(lambda x: x*x)\n",
    "df_utiles['an_nais_carre']"
   ]
  },
  {
   "cell_type": "code",
   "execution_count": 14,
   "metadata": {},
   "outputs": [],
   "source": [
    "df_utiles.to_csv('df_utiles.csv')"
   ]
  },
  {
   "cell_type": "code",
   "execution_count": 15,
   "metadata": {},
   "outputs": [
    {
     "data": {
      "text/html": [
       "<div>\n",
       "<style scoped>\n",
       "    .dataframe tbody tr th:only-of-type {\n",
       "        vertical-align: middle;\n",
       "    }\n",
       "\n",
       "    .dataframe tbody tr th {\n",
       "        vertical-align: top;\n",
       "    }\n",
       "\n",
       "    .dataframe thead th {\n",
       "        text-align: right;\n",
       "    }\n",
       "</style>\n",
       "<table border=\"1\" class=\"dataframe\">\n",
       "  <thead>\n",
       "    <tr style=\"text-align: right;\">\n",
       "      <th></th>\n",
       "      <th>jour</th>\n",
       "      <th>mois</th>\n",
       "      <th>an</th>\n",
       "      <th>hrmn</th>\n",
       "      <th>lum</th>\n",
       "      <th>dep</th>\n",
       "      <th>agg</th>\n",
       "      <th>int</th>\n",
       "      <th>atm</th>\n",
       "      <th>col</th>\n",
       "      <th>...</th>\n",
       "      <th>catv</th>\n",
       "      <th>obs</th>\n",
       "      <th>obsm</th>\n",
       "      <th>choc</th>\n",
       "      <th>manv</th>\n",
       "      <th>motor</th>\n",
       "      <th>jour_format_normal</th>\n",
       "      <th>colonne_soustraction</th>\n",
       "      <th>nbre_j</th>\n",
       "      <th>an_nais_carre</th>\n",
       "    </tr>\n",
       "  </thead>\n",
       "  <tbody>\n",
       "    <tr>\n",
       "      <th>0</th>\n",
       "      <td>30</td>\n",
       "      <td>11</td>\n",
       "      <td>2019</td>\n",
       "      <td>60</td>\n",
       "      <td>4</td>\n",
       "      <td>93</td>\n",
       "      <td>1</td>\n",
       "      <td>1</td>\n",
       "      <td>1</td>\n",
       "      <td>2</td>\n",
       "      <td>...</td>\n",
       "      <td>1</td>\n",
       "      <td>0</td>\n",
       "      <td>2</td>\n",
       "      <td>5</td>\n",
       "      <td>23</td>\n",
       "      <td>1</td>\n",
       "      <td>2019-11-30</td>\n",
       "      <td>2019-01-01</td>\n",
       "      <td>333</td>\n",
       "      <td>4008004</td>\n",
       "    </tr>\n",
       "    <tr>\n",
       "      <th>1</th>\n",
       "      <td>30</td>\n",
       "      <td>11</td>\n",
       "      <td>2019</td>\n",
       "      <td>60</td>\n",
       "      <td>4</td>\n",
       "      <td>93</td>\n",
       "      <td>1</td>\n",
       "      <td>1</td>\n",
       "      <td>1</td>\n",
       "      <td>2</td>\n",
       "      <td>...</td>\n",
       "      <td>1</td>\n",
       "      <td>0</td>\n",
       "      <td>2</td>\n",
       "      <td>5</td>\n",
       "      <td>23</td>\n",
       "      <td>1</td>\n",
       "      <td>2019-11-30</td>\n",
       "      <td>2019-01-01</td>\n",
       "      <td>333</td>\n",
       "      <td>3972049</td>\n",
       "    </tr>\n",
       "    <tr>\n",
       "      <th>2</th>\n",
       "      <td>30</td>\n",
       "      <td>11</td>\n",
       "      <td>2019</td>\n",
       "      <td>60</td>\n",
       "      <td>4</td>\n",
       "      <td>93</td>\n",
       "      <td>1</td>\n",
       "      <td>1</td>\n",
       "      <td>1</td>\n",
       "      <td>2</td>\n",
       "      <td>...</td>\n",
       "      <td>3</td>\n",
       "      <td>1</td>\n",
       "      <td>0</td>\n",
       "      <td>3</td>\n",
       "      <td>11</td>\n",
       "      <td>1</td>\n",
       "      <td>2019-11-30</td>\n",
       "      <td>2019-01-01</td>\n",
       "      <td>333</td>\n",
       "      <td>3837681</td>\n",
       "    </tr>\n",
       "    <tr>\n",
       "      <th>3</th>\n",
       "      <td>30</td>\n",
       "      <td>11</td>\n",
       "      <td>2019</td>\n",
       "      <td>120</td>\n",
       "      <td>3</td>\n",
       "      <td>93</td>\n",
       "      <td>1</td>\n",
       "      <td>1</td>\n",
       "      <td>1</td>\n",
       "      <td>6</td>\n",
       "      <td>...</td>\n",
       "      <td>1</td>\n",
       "      <td>4</td>\n",
       "      <td>0</td>\n",
       "      <td>1</td>\n",
       "      <td>0</td>\n",
       "      <td>1</td>\n",
       "      <td>2019-11-30</td>\n",
       "      <td>2019-01-01</td>\n",
       "      <td>333</td>\n",
       "      <td>3976036</td>\n",
       "    </tr>\n",
       "    <tr>\n",
       "      <th>4</th>\n",
       "      <td>28</td>\n",
       "      <td>11</td>\n",
       "      <td>2019</td>\n",
       "      <td>900</td>\n",
       "      <td>1</td>\n",
       "      <td>92</td>\n",
       "      <td>1</td>\n",
       "      <td>1</td>\n",
       "      <td>1</td>\n",
       "      <td>4</td>\n",
       "      <td>...</td>\n",
       "      <td>1</td>\n",
       "      <td>0</td>\n",
       "      <td>2</td>\n",
       "      <td>1</td>\n",
       "      <td>2</td>\n",
       "      <td>1</td>\n",
       "      <td>2019-11-28</td>\n",
       "      <td>2019-01-01</td>\n",
       "      <td>331</td>\n",
       "      <td>3984016</td>\n",
       "    </tr>\n",
       "  </tbody>\n",
       "</table>\n",
       "<p>5 rows × 47 columns</p>\n",
       "</div>"
      ],
      "text/plain": [
       "   jour  mois    an  hrmn  lum  dep  agg  int  atm  col  ...  catv  obs  obsm  \\\n",
       "0    30    11  2019    60    4   93    1    1    1    2  ...     1    0     2   \n",
       "1    30    11  2019    60    4   93    1    1    1    2  ...     1    0     2   \n",
       "2    30    11  2019    60    4   93    1    1    1    2  ...     3    1     0   \n",
       "3    30    11  2019   120    3   93    1    1    1    6  ...     1    4     0   \n",
       "4    28    11  2019   900    1   92    1    1    1    4  ...     1    0     2   \n",
       "\n",
       "   choc  manv  motor  jour_format_normal  colonne_soustraction  nbre_j  \\\n",
       "0     5    23      1          2019-11-30            2019-01-01     333   \n",
       "1     5    23      1          2019-11-30            2019-01-01     333   \n",
       "2     3    11      1          2019-11-30            2019-01-01     333   \n",
       "3     1     0      1          2019-11-30            2019-01-01     333   \n",
       "4     1     2      1          2019-11-28            2019-01-01     331   \n",
       "\n",
       "   an_nais_carre  \n",
       "0        4008004  \n",
       "1        3972049  \n",
       "2        3837681  \n",
       "3        3976036  \n",
       "4        3984016  \n",
       "\n",
       "[5 rows x 47 columns]"
      ]
     },
     "execution_count": 15,
     "metadata": {},
     "output_type": "execute_result"
    }
   ],
   "source": [
    "df_utiles.head()"
   ]
  },
  {
   "cell_type": "code",
   "execution_count": 16,
   "metadata": {},
   "outputs": [
    {
     "data": {
      "text/plain": [
       "jour    int64\n",
       "mois    int64\n",
       "an      int64\n",
       "hrmn    int64\n",
       "lum     int64\n",
       "dtype: object"
      ]
     },
     "execution_count": 16,
     "metadata": {},
     "output_type": "execute_result"
    }
   ],
   "source": [
    "df_utiles.dtypes.head()"
   ]
  },
  {
   "cell_type": "code",
   "execution_count": 17,
   "metadata": {},
   "outputs": [
    {
     "data": {
      "text/plain": [
       "Index(['jour', 'mois', 'an', 'hrmn', 'lum', 'dep', 'agg', 'int', 'atm', 'col',\n",
       "       'lat', 'long', 'place', 'catu', 'grav', 'sexe', 'an_nais', 'trajet',\n",
       "       'secu1', 'secu2', 'secu3', 'locp', 'actp', 'etatp', 'catr', 'circ',\n",
       "       'nbv', 'vosp', 'prof', 'pr', 'pr1', 'plan', 'surf', 'infra', 'situ',\n",
       "       'vma', 'senc', 'catv', 'obs', 'obsm', 'choc', 'manv', 'motor',\n",
       "       'jour_format_normal', 'colonne_soustraction', 'nbre_j',\n",
       "       'an_nais_carre'],\n",
       "      dtype='object')"
      ]
     },
     "execution_count": 17,
     "metadata": {},
     "output_type": "execute_result"
    }
   ],
   "source": [
    "df_utiles.columns # Liste des colonnes"
   ]
  },
  {
   "cell_type": "code",
   "execution_count": 18,
   "metadata": {},
   "outputs": [
    {
     "data": {
      "text/html": [
       "<div>\n",
       "<style scoped>\n",
       "    .dataframe tbody tr th:only-of-type {\n",
       "        vertical-align: middle;\n",
       "    }\n",
       "\n",
       "    .dataframe tbody tr th {\n",
       "        vertical-align: top;\n",
       "    }\n",
       "\n",
       "    .dataframe thead th {\n",
       "        text-align: right;\n",
       "    }\n",
       "</style>\n",
       "<table border=\"1\" class=\"dataframe\">\n",
       "  <thead>\n",
       "    <tr style=\"text-align: right;\">\n",
       "      <th></th>\n",
       "      <th>jour</th>\n",
       "      <th>mois</th>\n",
       "      <th>an</th>\n",
       "      <th>hrmn</th>\n",
       "      <th>lum</th>\n",
       "      <th>dep</th>\n",
       "      <th>agg</th>\n",
       "      <th>int</th>\n",
       "      <th>atm</th>\n",
       "      <th>col</th>\n",
       "      <th>...</th>\n",
       "      <th>vma</th>\n",
       "      <th>senc</th>\n",
       "      <th>catv</th>\n",
       "      <th>obs</th>\n",
       "      <th>obsm</th>\n",
       "      <th>choc</th>\n",
       "      <th>manv</th>\n",
       "      <th>motor</th>\n",
       "      <th>nbre_j</th>\n",
       "      <th>an_nais_carre</th>\n",
       "    </tr>\n",
       "  </thead>\n",
       "  <tbody>\n",
       "    <tr>\n",
       "      <th>count</th>\n",
       "      <td>132977.000000</td>\n",
       "      <td>132977.000000</td>\n",
       "      <td>132977.0</td>\n",
       "      <td>132977.000000</td>\n",
       "      <td>132977.000000</td>\n",
       "      <td>132977.000000</td>\n",
       "      <td>132977.000000</td>\n",
       "      <td>132977.000000</td>\n",
       "      <td>132977.000000</td>\n",
       "      <td>132977.000000</td>\n",
       "      <td>...</td>\n",
       "      <td>132977.000000</td>\n",
       "      <td>132977.000000</td>\n",
       "      <td>132977.000000</td>\n",
       "      <td>132977.000000</td>\n",
       "      <td>132977.000000</td>\n",
       "      <td>132977.000000</td>\n",
       "      <td>132977.000000</td>\n",
       "      <td>132977.000000</td>\n",
       "      <td>132977.000000</td>\n",
       "      <td>1.329770e+05</td>\n",
       "    </tr>\n",
       "    <tr>\n",
       "      <th>mean</th>\n",
       "      <td>15.679546</td>\n",
       "      <td>6.701587</td>\n",
       "      <td>2019.0</td>\n",
       "      <td>811.744587</td>\n",
       "      <td>1.932710</td>\n",
       "      <td>113.289840</td>\n",
       "      <td>1.622596</td>\n",
       "      <td>2.016552</td>\n",
       "      <td>1.614279</td>\n",
       "      <td>3.890071</td>\n",
       "      <td>...</td>\n",
       "      <td>61.545861</td>\n",
       "      <td>1.560819</td>\n",
       "      <td>1.612497</td>\n",
       "      <td>1.120036</td>\n",
       "      <td>1.543244</td>\n",
       "      <td>2.912804</td>\n",
       "      <td>7.202343</td>\n",
       "      <td>1.149943</td>\n",
       "      <td>187.289336</td>\n",
       "      <td>3.921083e+06</td>\n",
       "    </tr>\n",
       "    <tr>\n",
       "      <th>std</th>\n",
       "      <td>8.746306</td>\n",
       "      <td>3.385577</td>\n",
       "      <td>0.0</td>\n",
       "      <td>329.302835</td>\n",
       "      <td>1.495194</td>\n",
       "      <td>221.949146</td>\n",
       "      <td>0.484739</td>\n",
       "      <td>1.982705</td>\n",
       "      <td>1.672985</td>\n",
       "      <td>1.862988</td>\n",
       "      <td>...</td>\n",
       "      <td>25.020834</td>\n",
       "      <td>0.832060</td>\n",
       "      <td>1.201753</td>\n",
       "      <td>3.263113</td>\n",
       "      <td>1.089174</td>\n",
       "      <td>2.391689</td>\n",
       "      <td>8.113968</td>\n",
       "      <td>1.054699</td>\n",
       "      <td>103.185027</td>\n",
       "      <td>7.567956e+04</td>\n",
       "    </tr>\n",
       "    <tr>\n",
       "      <th>min</th>\n",
       "      <td>1.000000</td>\n",
       "      <td>1.000000</td>\n",
       "      <td>2019.0</td>\n",
       "      <td>0.000000</td>\n",
       "      <td>1.000000</td>\n",
       "      <td>1.000000</td>\n",
       "      <td>1.000000</td>\n",
       "      <td>1.000000</td>\n",
       "      <td>-1.000000</td>\n",
       "      <td>-1.000000</td>\n",
       "      <td>...</td>\n",
       "      <td>-1.000000</td>\n",
       "      <td>-1.000000</td>\n",
       "      <td>0.000000</td>\n",
       "      <td>-1.000000</td>\n",
       "      <td>-1.000000</td>\n",
       "      <td>-1.000000</td>\n",
       "      <td>-1.000000</td>\n",
       "      <td>-1.000000</td>\n",
       "      <td>0.000000</td>\n",
       "      <td>3.610000e+06</td>\n",
       "    </tr>\n",
       "    <tr>\n",
       "      <th>25%</th>\n",
       "      <td>8.000000</td>\n",
       "      <td>4.000000</td>\n",
       "      <td>2019.0</td>\n",
       "      <td>540.000000</td>\n",
       "      <td>1.000000</td>\n",
       "      <td>34.000000</td>\n",
       "      <td>1.000000</td>\n",
       "      <td>1.000000</td>\n",
       "      <td>1.000000</td>\n",
       "      <td>3.000000</td>\n",
       "      <td>...</td>\n",
       "      <td>50.000000</td>\n",
       "      <td>1.000000</td>\n",
       "      <td>1.000000</td>\n",
       "      <td>0.000000</td>\n",
       "      <td>1.000000</td>\n",
       "      <td>1.000000</td>\n",
       "      <td>1.000000</td>\n",
       "      <td>1.000000</td>\n",
       "      <td>100.000000</td>\n",
       "      <td>3.869089e+06</td>\n",
       "    </tr>\n",
       "    <tr>\n",
       "      <th>50%</th>\n",
       "      <td>16.000000</td>\n",
       "      <td>7.000000</td>\n",
       "      <td>2019.0</td>\n",
       "      <td>840.000000</td>\n",
       "      <td>1.000000</td>\n",
       "      <td>69.000000</td>\n",
       "      <td>2.000000</td>\n",
       "      <td>1.000000</td>\n",
       "      <td>1.000000</td>\n",
       "      <td>3.000000</td>\n",
       "      <td>...</td>\n",
       "      <td>50.000000</td>\n",
       "      <td>1.000000</td>\n",
       "      <td>1.000000</td>\n",
       "      <td>0.000000</td>\n",
       "      <td>2.000000</td>\n",
       "      <td>2.000000</td>\n",
       "      <td>2.000000</td>\n",
       "      <td>1.000000</td>\n",
       "      <td>187.000000</td>\n",
       "      <td>3.932289e+06</td>\n",
       "    </tr>\n",
       "    <tr>\n",
       "      <th>75%</th>\n",
       "      <td>23.000000</td>\n",
       "      <td>10.000000</td>\n",
       "      <td>2019.0</td>\n",
       "      <td>1080.000000</td>\n",
       "      <td>3.000000</td>\n",
       "      <td>87.000000</td>\n",
       "      <td>2.000000</td>\n",
       "      <td>2.000000</td>\n",
       "      <td>1.000000</td>\n",
       "      <td>6.000000</td>\n",
       "      <td>...</td>\n",
       "      <td>80.000000</td>\n",
       "      <td>2.000000</td>\n",
       "      <td>2.000000</td>\n",
       "      <td>0.000000</td>\n",
       "      <td>2.000000</td>\n",
       "      <td>4.000000</td>\n",
       "      <td>15.000000</td>\n",
       "      <td>1.000000</td>\n",
       "      <td>276.000000</td>\n",
       "      <td>3.980025e+06</td>\n",
       "    </tr>\n",
       "    <tr>\n",
       "      <th>max</th>\n",
       "      <td>31.000000</td>\n",
       "      <td>12.000000</td>\n",
       "      <td>2019.0</td>\n",
       "      <td>1380.000000</td>\n",
       "      <td>5.000000</td>\n",
       "      <td>999.000000</td>\n",
       "      <td>2.000000</td>\n",
       "      <td>9.000000</td>\n",
       "      <td>9.000000</td>\n",
       "      <td>7.000000</td>\n",
       "      <td>...</td>\n",
       "      <td>800.000000</td>\n",
       "      <td>3.000000</td>\n",
       "      <td>5.000000</td>\n",
       "      <td>17.000000</td>\n",
       "      <td>9.000000</td>\n",
       "      <td>9.000000</td>\n",
       "      <td>26.000000</td>\n",
       "      <td>6.000000</td>\n",
       "      <td>364.000000</td>\n",
       "      <td>4.076361e+06</td>\n",
       "    </tr>\n",
       "  </tbody>\n",
       "</table>\n",
       "<p>8 rows × 42 columns</p>\n",
       "</div>"
      ],
      "text/plain": [
       "                jour           mois        an           hrmn            lum  \\\n",
       "count  132977.000000  132977.000000  132977.0  132977.000000  132977.000000   \n",
       "mean       15.679546       6.701587    2019.0     811.744587       1.932710   \n",
       "std         8.746306       3.385577       0.0     329.302835       1.495194   \n",
       "min         1.000000       1.000000    2019.0       0.000000       1.000000   \n",
       "25%         8.000000       4.000000    2019.0     540.000000       1.000000   \n",
       "50%        16.000000       7.000000    2019.0     840.000000       1.000000   \n",
       "75%        23.000000      10.000000    2019.0    1080.000000       3.000000   \n",
       "max        31.000000      12.000000    2019.0    1380.000000       5.000000   \n",
       "\n",
       "                 dep            agg            int            atm  \\\n",
       "count  132977.000000  132977.000000  132977.000000  132977.000000   \n",
       "mean      113.289840       1.622596       2.016552       1.614279   \n",
       "std       221.949146       0.484739       1.982705       1.672985   \n",
       "min         1.000000       1.000000       1.000000      -1.000000   \n",
       "25%        34.000000       1.000000       1.000000       1.000000   \n",
       "50%        69.000000       2.000000       1.000000       1.000000   \n",
       "75%        87.000000       2.000000       2.000000       1.000000   \n",
       "max       999.000000       2.000000       9.000000       9.000000   \n",
       "\n",
       "                 col  ...            vma           senc           catv  \\\n",
       "count  132977.000000  ...  132977.000000  132977.000000  132977.000000   \n",
       "mean        3.890071  ...      61.545861       1.560819       1.612497   \n",
       "std         1.862988  ...      25.020834       0.832060       1.201753   \n",
       "min        -1.000000  ...      -1.000000      -1.000000       0.000000   \n",
       "25%         3.000000  ...      50.000000       1.000000       1.000000   \n",
       "50%         3.000000  ...      50.000000       1.000000       1.000000   \n",
       "75%         6.000000  ...      80.000000       2.000000       2.000000   \n",
       "max         7.000000  ...     800.000000       3.000000       5.000000   \n",
       "\n",
       "                 obs           obsm           choc           manv  \\\n",
       "count  132977.000000  132977.000000  132977.000000  132977.000000   \n",
       "mean        1.120036       1.543244       2.912804       7.202343   \n",
       "std         3.263113       1.089174       2.391689       8.113968   \n",
       "min        -1.000000      -1.000000      -1.000000      -1.000000   \n",
       "25%         0.000000       1.000000       1.000000       1.000000   \n",
       "50%         0.000000       2.000000       2.000000       2.000000   \n",
       "75%         0.000000       2.000000       4.000000      15.000000   \n",
       "max        17.000000       9.000000       9.000000      26.000000   \n",
       "\n",
       "               motor         nbre_j  an_nais_carre  \n",
       "count  132977.000000  132977.000000   1.329770e+05  \n",
       "mean        1.149943     187.289336   3.921083e+06  \n",
       "std         1.054699     103.185027   7.567956e+04  \n",
       "min        -1.000000       0.000000   3.610000e+06  \n",
       "25%         1.000000     100.000000   3.869089e+06  \n",
       "50%         1.000000     187.000000   3.932289e+06  \n",
       "75%         1.000000     276.000000   3.980025e+06  \n",
       "max         6.000000     364.000000   4.076361e+06  \n",
       "\n",
       "[8 rows x 42 columns]"
      ]
     },
     "execution_count": 18,
     "metadata": {},
     "output_type": "execute_result"
    }
   ],
   "source": [
    "df_utiles.describe()"
   ]
  },
  {
   "cell_type": "code",
   "execution_count": 19,
   "metadata": {},
   "outputs": [
    {
     "data": {
      "text/plain": [
       "Homme    90384\n",
       "Femme    42593\n",
       "dtype: int64"
      ]
     },
     "execution_count": 19,
     "metadata": {},
     "output_type": "execute_result"
    }
   ],
   "source": [
    "df_sexe = df_utiles.groupby('sexe').size()\n",
    "df_sexe.index = [\"Homme\", \"Femme\"]\n",
    "df_sexe"
   ]
  },
  {
   "cell_type": "code",
   "execution_count": 20,
   "metadata": {},
   "outputs": [
    {
     "data": {
      "text/plain": [
       "<matplotlib.axes._subplots.AxesSubplot at 0x1d282e38610>"
      ]
     },
     "execution_count": 20,
     "metadata": {},
     "output_type": "execute_result"
    },
    {
     "data": {
      "image/png": "[encoded data removed]",
      "text/plain": [
       "<Figure size 432x288 with 1 Axes>"
      ]
     },
     "metadata": {},
     "output_type": "display_data"
    }
   ],
   "source": [
    "df_sexe.plot.pie(label = \"\", title = \"Diagramme circulaire des usagers impliqués dans les accidents selon le sexe \", autopct='%1.2f%%')"
   ]
  },
  {
   "cell_type": "markdown",
   "metadata": {},
   "source": [
    "Les usagers impliqués dans les accidents de la route en 2019 sont à 68% des hommes. "
   ]
  },
  {
   "cell_type": "code",
   "execution_count": 21,
   "metadata": {},
   "outputs": [
    {
     "data": {
      "text/plain": [
       "0.02630530091669988"
      ]
     },
     "execution_count": 21,
     "metadata": {},
     "output_type": "execute_result"
    }
   ],
   "source": [
    "df_utiles[\"grav\"].mean()"
   ]
  },
  {
   "cell_type": "markdown",
   "metadata": {},
   "source": [
    "2,6% des usagers impliquées dans un accident sont mortes en 2019."
   ]
  },
  {
   "cell_type": "code",
   "execution_count": 22,
   "metadata": {},
   "outputs": [
    {
     "data": {
      "text/plain": [
       "count    132977.000000\n",
       "mean         61.545861\n",
       "std          25.020834\n",
       "min          -1.000000\n",
       "25%          50.000000\n",
       "50%          50.000000\n",
       "75%          80.000000\n",
       "max         800.000000\n",
       "Name: vma, dtype: float64"
      ]
     },
     "execution_count": 22,
     "metadata": {},
     "output_type": "execute_result"
    }
   ],
   "source": [
    "df_utiles[\"vma\"].describe()"
   ]
  },
  {
   "cell_type": "markdown",
   "metadata": {},
   "source": [
    "## Partie descriptive"
   ]
  },
  {
   "cell_type": "markdown",
   "metadata": {
    "id": "JoAxBCR2xwEq"
   },
   "source": [
    "#### Analyse statistique des données de df_utiles.csv : matrice des corrélations \n"
   ]
  },
  {
   "cell_type": "code",
   "execution_count": 23,
   "metadata": {
    "colab": {
     "base_uri": "https://localhost:8080/",
     "height": 605
    },
    "id": "Wt_opqQix0Pm",
    "outputId": "09800f70-8d3f-4513-deab-14aeaa8a9856",
    "tags": []
   },
   "outputs": [
    {
     "data": {
      "text/plain": [
       "<matplotlib.axes._subplots.AxesSubplot at 0x1d2845f9070>"
      ]
     },
     "execution_count": 23,
     "metadata": {},
     "output_type": "execute_result"
    },
    {
     "data": {
      "image/png": "[encoded data removed]",
      "text/plain": [
       "<Figure size 792x648 with 2 Axes>"
      ]
     },
     "metadata": {
      "needs_background": "light"
     },
     "output_type": "display_data"
    }
   ],
   "source": [
    "variables_observees = ['nbre_j','col','vma', 'nbv', 'hrmn','plan', 'lum', 'lat', 'long', 'agg', 'int', 'atm', 'catr', 'prof', 'surf', 'infra', 'situ', 'catv', 'choc', 'catu', 'sexe', 'grav', 'an_nais']\n",
    "\n",
    "correl = df_utiles[variables_observees].corr()\n",
    "f, ax = plt.subplots(figsize=(11, 9))\n",
    "cmap = sns.diverging_palette(230, 20, as_cmap=True)\n",
    "sns.heatmap(correl, cmap=cmap, center=0, square=True, linewidths=.5, cbar_kws={\"shrink\": .5})"
   ]
  },
  {
   "cell_type": "markdown",
   "metadata": {},
   "source": [
    "on observe par exemple que la vitesse maximale autorisée sur le lieu et au moment de l’accident (vma) est postivement corrélée au nombre total de voies de circulation (nbv)"
   ]
  },
  {
   "cell_type": "markdown",
   "metadata": {
    "id": "zdzSAkdxOhPx"
   },
   "source": [
    "**Test des séries temporelles ARIMA pour anticiper le nombre d'accidents**"
   ]
  },
  {
   "cell_type": "markdown",
   "metadata": {
    "id": "eRYIlFZxXxAn"
   },
   "source": [
    "**But : obtenir la colonne nbre_acc_j qui représente le nombre d'accidents par jour**"
   ]
  },
  {
   "cell_type": "code",
   "execution_count": 24,
   "metadata": {
    "colab": {
     "base_uri": "https://localhost:8080/",
     "height": 855
    },
    "id": "zaUxXbT0OpAA",
    "outputId": "11cfb892-12bf-4239-c32f-5e43d5b647c3",
    "scrolled": true
   },
   "outputs": [
    {
     "data": {
      "text/plain": [
       "2019-01-01    263\n",
       "2019-01-02    239\n",
       "2019-01-03    255\n",
       "2019-01-04    298\n",
       "2019-01-05    287\n",
       "             ... \n",
       "2019-12-27    272\n",
       "2019-12-28    309\n",
       "2019-12-29    262\n",
       "2019-12-30    266\n",
       "2019-12-31    270\n",
       "Freq: D, Length: 365, dtype: int64"
      ]
     },
     "execution_count": 24,
     "metadata": {},
     "output_type": "execute_result"
    }
   ],
   "source": [
    "nbre_acc_j = df_utiles.groupby(['nbre_j']).agg('count').jour.values #Nbre d'accidents (ou de victimes d'accidents jsp) par jour\n",
    "ts = pd.Series(nbre_acc_j, index=pd.date_range(\"1/1/2019\", periods=365)) # Objet Series de pandas, pour faire des graphes\n",
    "ts"
   ]
  },
  {
   "cell_type": "code",
   "execution_count": 25,
   "metadata": {},
   "outputs": [
    {
     "data": {
      "text/plain": [
       "<matplotlib.axes._subplots.AxesSubplot at 0x1d2830932b0>"
      ]
     },
     "execution_count": 25,
     "metadata": {},
     "output_type": "execute_result"
    },
    {
     "data": {
      "image/png": "[encoded data removed]",
      "text/plain": [
       "<Figure size 432x288 with 1 Axes>"
      ]
     },
     "metadata": {
      "needs_background": "light"
     },
     "output_type": "display_data"
    }
   ],
   "source": [
    "plt.title(\"Nombre d'accidentés par jour en 2019\")\n",
    "plt.xlabel('Mois')\n",
    "plt.ylabel(\"Nombre d'accidents\")\n",
    "ts.plot()"
   ]
  },
  {
   "cell_type": "markdown",
   "metadata": {},
   "source": [
    "On observe de pics significatifs : le premier vers mi-juin qui pourrait correspondre aux départs massifs en vacances ce qui entraîne inévitablement un plus grand nombre d'accident, et le deuxième vers mi-décembre qui pourrait être lié aux intempéries et à la météo moins favorable en hiver."
   ]
  },
  {
   "cell_type": "markdown",
   "metadata": {
    "id": "qGSOF5ZeY4hn"
   },
   "source": [
    "#### Graphe d'autocorrélation "
   ]
  },
  {
   "cell_type": "code",
   "execution_count": 26,
   "metadata": {
    "colab": {
     "base_uri": "https://localhost:8080/",
     "height": 281
    },
    "id": "RcBVMkcAX7Z8",
    "outputId": "6366f251-4b29-4389-ae0f-a62bbc64c3d3"
   },
   "outputs": [
    {
     "data": {
      "image/png": "[encoded data removed]",
      "text/plain": [
       "<Figure size 432x288 with 1 Axes>"
      ]
     },
     "metadata": {
      "needs_background": "light"
     },
     "output_type": "display_data"
    }
   ],
   "source": [
    "# On retire la moyenne glissante\n",
    "nbre_acc_j_dataframe = pd.DataFrame(nbre_acc_j)\n",
    "nbre_acc_rolling = nbre_acc_j_dataframe - nbre_acc_j_dataframe.rolling(15).mean()\n",
    "\n",
    "# On retire les valeurs NaN\n",
    "nbre_acc_rolling = nbre_acc_rolling.dropna() \n",
    "\n",
    "# On dessine le graphe\n",
    "fig, ax1 = plt.subplots() \n",
    "plot_acf(nbre_acc_rolling, lags=25, zero=False, ax=ax1);"
   ]
  },
  {
   "cell_type": "markdown",
   "metadata": {
    "id": "nPePWfiJZCXp"
   },
   "source": [
    "Conclusion : la composante saisonale a pour période 7 (abscisse du max sur le plot ci-dessus)"
   ]
  },
  {
   "cell_type": "markdown",
   "metadata": {
    "id": "bltALNZJX70n"
   },
   "source": [
    "**SARIMAX : prédire le nombre d'accidents en s'appuyant sur les données déjà enregistrées**"
   ]
  },
  {
   "cell_type": "code",
   "execution_count": 27,
   "metadata": {
    "colab": {
     "base_uri": "https://localhost:8080/",
     "height": 1000
    },
    "id": "x3sRVwcrZSuh",
    "outputId": "67ed0764-cc55-4bfd-e749-b35c3c84fe32"
   },
   "outputs": [
    {
     "name": "stderr",
     "output_type": "stream",
     "text": [
      "D:\\anaconda3\\lib\\site-packages\\statsmodels\\base\\model.py:567: ConvergenceWarning: Maximum Likelihood optimization failed to converge. Check mle_retvals\n",
      "  warn(\"Maximum Likelihood optimization failed to converge. \"\n"
     ]
    },
    {
     "data": {
      "text/html": [
       "<table class=\"simpletable\">\n",
       "<caption>SARIMAX Results</caption>\n",
       "<tr>\n",
       "  <th>Dep. Variable:</th>                  <td>y</td>                <th>  No. Observations:  </th>    <td>365</td>   \n",
       "</tr>\n",
       "<tr>\n",
       "  <th>Model:</th>           <td>SARIMAX(31, 0, 0)x(1, 1, 0, 32)</td> <th>  Log Likelihood     </th> <td>-1799.521</td>\n",
       "</tr>\n",
       "<tr>\n",
       "  <th>Date:</th>                   <td>Thu, 06 Jan 2022</td>         <th>  AIC                </th> <td>3665.042</td> \n",
       "</tr>\n",
       "<tr>\n",
       "  <th>Time:</th>                       <td>19:52:50</td>             <th>  BIC                </th> <td>3790.711</td> \n",
       "</tr>\n",
       "<tr>\n",
       "  <th>Sample:</th>                         <td>0</td>                <th>  HQIC               </th> <td>3715.154</td> \n",
       "</tr>\n",
       "<tr>\n",
       "  <th></th>                             <td> - 365</td>              <th>                     </th>     <td> </td>    \n",
       "</tr>\n",
       "<tr>\n",
       "  <th>Covariance Type:</th>               <td>opg</td>               <th>                     </th>     <td> </td>    \n",
       "</tr>\n",
       "</table>\n",
       "<table class=\"simpletable\">\n",
       "<tr>\n",
       "      <td></td>        <th>coef</th>     <th>std err</th>      <th>z</th>      <th>P>|z|</th>  <th>[0.025</th>    <th>0.975]</th>  \n",
       "</tr>\n",
       "<tr>\n",
       "  <th>ar.L1</th>    <td>    0.2513</td> <td>    0.064</td> <td>    3.949</td> <td> 0.000</td> <td>    0.127</td> <td>    0.376</td>\n",
       "</tr>\n",
       "<tr>\n",
       "  <th>ar.L2</th>    <td>    0.0997</td> <td>    0.063</td> <td>    1.589</td> <td> 0.112</td> <td>   -0.023</td> <td>    0.223</td>\n",
       "</tr>\n",
       "<tr>\n",
       "  <th>ar.L3</th>    <td>    0.0917</td> <td>    0.068</td> <td>    1.353</td> <td> 0.176</td> <td>   -0.041</td> <td>    0.224</td>\n",
       "</tr>\n",
       "<tr>\n",
       "  <th>ar.L4</th>    <td>    0.0950</td> <td>    0.066</td> <td>    1.448</td> <td> 0.148</td> <td>   -0.034</td> <td>    0.224</td>\n",
       "</tr>\n",
       "<tr>\n",
       "  <th>ar.L5</th>    <td>    0.0278</td> <td>    0.062</td> <td>    0.447</td> <td> 0.655</td> <td>   -0.094</td> <td>    0.150</td>\n",
       "</tr>\n",
       "<tr>\n",
       "  <th>ar.L6</th>    <td>    0.0319</td> <td>    0.063</td> <td>    0.505</td> <td> 0.613</td> <td>   -0.092</td> <td>    0.156</td>\n",
       "</tr>\n",
       "<tr>\n",
       "  <th>ar.L7</th>    <td>    0.3545</td> <td>    0.060</td> <td>    5.892</td> <td> 0.000</td> <td>    0.237</td> <td>    0.472</td>\n",
       "</tr>\n",
       "<tr>\n",
       "  <th>ar.L8</th>    <td>   -0.0017</td> <td>    0.064</td> <td>   -0.026</td> <td> 0.979</td> <td>   -0.127</td> <td>    0.124</td>\n",
       "</tr>\n",
       "<tr>\n",
       "  <th>ar.L9</th>    <td>    0.0194</td> <td>    0.064</td> <td>    0.305</td> <td> 0.761</td> <td>   -0.105</td> <td>    0.144</td>\n",
       "</tr>\n",
       "<tr>\n",
       "  <th>ar.L10</th>   <td>    0.0074</td> <td>    0.068</td> <td>    0.109</td> <td> 0.913</td> <td>   -0.126</td> <td>    0.141</td>\n",
       "</tr>\n",
       "<tr>\n",
       "  <th>ar.L11</th>   <td>   -0.0633</td> <td>    0.066</td> <td>   -0.952</td> <td> 0.341</td> <td>   -0.193</td> <td>    0.067</td>\n",
       "</tr>\n",
       "<tr>\n",
       "  <th>ar.L12</th>   <td>   -0.0742</td> <td>    0.069</td> <td>   -1.082</td> <td> 0.279</td> <td>   -0.209</td> <td>    0.060</td>\n",
       "</tr>\n",
       "<tr>\n",
       "  <th>ar.L13</th>   <td>    0.0678</td> <td>    0.062</td> <td>    1.091</td> <td> 0.275</td> <td>   -0.054</td> <td>    0.190</td>\n",
       "</tr>\n",
       "<tr>\n",
       "  <th>ar.L14</th>   <td>   -0.0075</td> <td>    0.063</td> <td>   -0.119</td> <td> 0.906</td> <td>   -0.131</td> <td>    0.116</td>\n",
       "</tr>\n",
       "<tr>\n",
       "  <th>ar.L15</th>   <td>   -0.0385</td> <td>    0.066</td> <td>   -0.579</td> <td> 0.562</td> <td>   -0.169</td> <td>    0.092</td>\n",
       "</tr>\n",
       "<tr>\n",
       "  <th>ar.L16</th>   <td>   -0.0694</td> <td>    0.064</td> <td>   -1.083</td> <td> 0.279</td> <td>   -0.195</td> <td>    0.056</td>\n",
       "</tr>\n",
       "<tr>\n",
       "  <th>ar.L17</th>   <td>   -0.0514</td> <td>    0.066</td> <td>   -0.775</td> <td> 0.438</td> <td>   -0.181</td> <td>    0.079</td>\n",
       "</tr>\n",
       "<tr>\n",
       "  <th>ar.L18</th>   <td>    0.1220</td> <td>    0.065</td> <td>    1.892</td> <td> 0.059</td> <td>   -0.004</td> <td>    0.248</td>\n",
       "</tr>\n",
       "<tr>\n",
       "  <th>ar.L19</th>   <td>   -0.1309</td> <td>    0.076</td> <td>   -1.733</td> <td> 0.083</td> <td>   -0.279</td> <td>    0.017</td>\n",
       "</tr>\n",
       "<tr>\n",
       "  <th>ar.L20</th>   <td>    0.1133</td> <td>    0.075</td> <td>    1.513</td> <td> 0.130</td> <td>   -0.033</td> <td>    0.260</td>\n",
       "</tr>\n",
       "<tr>\n",
       "  <th>ar.L21</th>   <td>    0.1023</td> <td>    0.067</td> <td>    1.522</td> <td> 0.128</td> <td>   -0.029</td> <td>    0.234</td>\n",
       "</tr>\n",
       "<tr>\n",
       "  <th>ar.L22</th>   <td>   -0.1467</td> <td>    0.072</td> <td>   -2.028</td> <td> 0.043</td> <td>   -0.288</td> <td>   -0.005</td>\n",
       "</tr>\n",
       "<tr>\n",
       "  <th>ar.L23</th>   <td>   -0.1088</td> <td>    0.069</td> <td>   -1.582</td> <td> 0.114</td> <td>   -0.243</td> <td>    0.026</td>\n",
       "</tr>\n",
       "<tr>\n",
       "  <th>ar.L24</th>   <td>    0.1068</td> <td>    0.069</td> <td>    1.540</td> <td> 0.124</td> <td>   -0.029</td> <td>    0.243</td>\n",
       "</tr>\n",
       "<tr>\n",
       "  <th>ar.L25</th>   <td>   -0.0760</td> <td>    0.069</td> <td>   -1.095</td> <td> 0.273</td> <td>   -0.212</td> <td>    0.060</td>\n",
       "</tr>\n",
       "<tr>\n",
       "  <th>ar.L26</th>   <td>    0.0211</td> <td>    0.078</td> <td>    0.272</td> <td> 0.786</td> <td>   -0.131</td> <td>    0.174</td>\n",
       "</tr>\n",
       "<tr>\n",
       "  <th>ar.L27</th>   <td>   -0.0294</td> <td>    0.071</td> <td>   -0.415</td> <td> 0.678</td> <td>   -0.168</td> <td>    0.109</td>\n",
       "</tr>\n",
       "<tr>\n",
       "  <th>ar.L28</th>   <td>    0.1746</td> <td>    0.072</td> <td>    2.428</td> <td> 0.015</td> <td>    0.034</td> <td>    0.316</td>\n",
       "</tr>\n",
       "<tr>\n",
       "  <th>ar.L29</th>   <td>    0.0354</td> <td>    0.068</td> <td>    0.522</td> <td> 0.602</td> <td>   -0.098</td> <td>    0.169</td>\n",
       "</tr>\n",
       "<tr>\n",
       "  <th>ar.L30</th>   <td>    0.0121</td> <td>    0.067</td> <td>    0.179</td> <td> 0.858</td> <td>   -0.120</td> <td>    0.144</td>\n",
       "</tr>\n",
       "<tr>\n",
       "  <th>ar.L31</th>   <td>   -0.2217</td> <td>    0.064</td> <td>   -3.441</td> <td> 0.001</td> <td>   -0.348</td> <td>   -0.095</td>\n",
       "</tr>\n",
       "<tr>\n",
       "  <th>ar.S.L32</th> <td>   -0.4567</td> <td>    0.064</td> <td>   -7.176</td> <td> 0.000</td> <td>   -0.581</td> <td>   -0.332</td>\n",
       "</tr>\n",
       "<tr>\n",
       "  <th>sigma2</th>   <td> 2758.7861</td> <td>  217.777</td> <td>   12.668</td> <td> 0.000</td> <td> 2331.951</td> <td> 3185.621</td>\n",
       "</tr>\n",
       "</table>\n",
       "<table class=\"simpletable\">\n",
       "<tr>\n",
       "  <th>Ljung-Box (Q):</th>          <td>35.55</td> <th>  Jarque-Bera (JB):  </th> <td>4.23</td> \n",
       "</tr>\n",
       "<tr>\n",
       "  <th>Prob(Q):</th>                <td>0.67</td>  <th>  Prob(JB):          </th> <td>0.12</td> \n",
       "</tr>\n",
       "<tr>\n",
       "  <th>Heteroskedasticity (H):</th> <td>1.65</td>  <th>  Skew:              </th> <td>-0.03</td>\n",
       "</tr>\n",
       "<tr>\n",
       "  <th>Prob(H) (two-sided):</th>    <td>0.01</td>  <th>  Kurtosis:          </th> <td>3.55</td> \n",
       "</tr>\n",
       "</table><br/><br/>Warnings:<br/>[1] Covariance matrix calculated using the outer product of gradients (complex-step)."
      ],
      "text/plain": [
       "<class 'statsmodels.iolib.summary.Summary'>\n",
       "\"\"\"\n",
       "                                      SARIMAX Results                                      \n",
       "===========================================================================================\n",
       "Dep. Variable:                                   y   No. Observations:                  365\n",
       "Model:             SARIMAX(31, 0, 0)x(1, 1, 0, 32)   Log Likelihood               -1799.521\n",
       "Date:                             Thu, 06 Jan 2022   AIC                           3665.042\n",
       "Time:                                     19:52:50   BIC                           3790.711\n",
       "Sample:                                          0   HQIC                          3715.154\n",
       "                                             - 365                                         \n",
       "Covariance Type:                               opg                                         \n",
       "==============================================================================\n",
       "                 coef    std err          z      P>|z|      [0.025      0.975]\n",
       "------------------------------------------------------------------------------\n",
       "ar.L1          0.2513      0.064      3.949      0.000       0.127       0.376\n",
       "ar.L2          0.0997      0.063      1.589      0.112      -0.023       0.223\n",
       "ar.L3          0.0917      0.068      1.353      0.176      -0.041       0.224\n",
       "ar.L4          0.0950      0.066      1.448      0.148      -0.034       0.224\n",
       "ar.L5          0.0278      0.062      0.447      0.655      -0.094       0.150\n",
       "ar.L6          0.0319      0.063      0.505      0.613      -0.092       0.156\n",
       "ar.L7          0.3545      0.060      5.892      0.000       0.237       0.472\n",
       "ar.L8         -0.0017      0.064     -0.026      0.979      -0.127       0.124\n",
       "ar.L9          0.0194      0.064      0.305      0.761      -0.105       0.144\n",
       "ar.L10         0.0074      0.068      0.109      0.913      -0.126       0.141\n",
       "ar.L11        -0.0633      0.066     -0.952      0.341      -0.193       0.067\n",
       "ar.L12        -0.0742      0.069     -1.082      0.279      -0.209       0.060\n",
       "ar.L13         0.0678      0.062      1.091      0.275      -0.054       0.190\n",
       "ar.L14        -0.0075      0.063     -0.119      0.906      -0.131       0.116\n",
       "ar.L15        -0.0385      0.066     -0.579      0.562      -0.169       0.092\n",
       "ar.L16        -0.0694      0.064     -1.083      0.279      -0.195       0.056\n",
       "ar.L17        -0.0514      0.066     -0.775      0.438      -0.181       0.079\n",
       "ar.L18         0.1220      0.065      1.892      0.059      -0.004       0.248\n",
       "ar.L19        -0.1309      0.076     -1.733      0.083      -0.279       0.017\n",
       "ar.L20         0.1133      0.075      1.513      0.130      -0.033       0.260\n",
       "ar.L21         0.1023      0.067      1.522      0.128      -0.029       0.234\n",
       "ar.L22        -0.1467      0.072     -2.028      0.043      -0.288      -0.005\n",
       "ar.L23        -0.1088      0.069     -1.582      0.114      -0.243       0.026\n",
       "ar.L24         0.1068      0.069      1.540      0.124      -0.029       0.243\n",
       "ar.L25        -0.0760      0.069     -1.095      0.273      -0.212       0.060\n",
       "ar.L26         0.0211      0.078      0.272      0.786      -0.131       0.174\n",
       "ar.L27        -0.0294      0.071     -0.415      0.678      -0.168       0.109\n",
       "ar.L28         0.1746      0.072      2.428      0.015       0.034       0.316\n",
       "ar.L29         0.0354      0.068      0.522      0.602      -0.098       0.169\n",
       "ar.L30         0.0121      0.067      0.179      0.858      -0.120       0.144\n",
       "ar.L31        -0.2217      0.064     -3.441      0.001      -0.348      -0.095\n",
       "ar.S.L32      -0.4567      0.064     -7.176      0.000      -0.581      -0.332\n",
       "sigma2      2758.7861    217.777     12.668      0.000    2331.951    3185.621\n",
       "===================================================================================\n",
       "Ljung-Box (Q):                       35.55   Jarque-Bera (JB):                 4.23\n",
       "Prob(Q):                              0.67   Prob(JB):                         0.12\n",
       "Heteroskedasticity (H):               1.65   Skew:                            -0.03\n",
       "Prob(H) (two-sided):                  0.01   Kurtosis:                         3.55\n",
       "===================================================================================\n",
       "\n",
       "Warnings:\n",
       "[1] Covariance matrix calculated using the outer product of gradients (complex-step).\n",
       "\"\"\""
      ]
     },
     "execution_count": 27,
     "metadata": {},
     "output_type": "execute_result"
    }
   ],
   "source": [
    "# Création du modèle Sarimax\n",
    "model = SARIMAX(nbre_acc_j, order=(31, 0, 0), seasonal_order=(1, 1, 0, 32)) # Le 7 correspond à la période déterminée ci-dessus\n",
    "\n",
    "# Fit du modèle\n",
    "results = model.fit()\n",
    "\n",
    "# Affichage du résumé des résultats\n",
    "results.summary()"
   ]
  },
  {
   "cell_type": "code",
   "execution_count": 28,
   "metadata": {
    "colab": {
     "base_uri": "https://localhost:8080/",
     "height": 283
    },
    "id": "kz1FboMAvQri",
    "outputId": "82c38d35-ebed-43c4-b65f-ab650219544c"
   },
   "outputs": [
    {
     "name": "stdout",
     "output_type": "stream",
     "text": [
      "                     0\n",
      "2019-01-01  263.000000\n",
      "2019-01-02  239.000000\n",
      "2019-01-03  255.000000\n",
      "2019-01-04  298.000000\n",
      "2019-01-05  287.000000\n",
      "...                ...\n",
      "2020-01-27  300.293918\n",
      "2020-01-28  303.277727\n",
      "2020-01-29  323.448092\n",
      "2020-01-30  362.116787\n",
      "2020-01-31  305.975143\n",
      "\n",
      "[396 rows x 1 columns]\n"
     ]
    }
   ],
   "source": [
    "results_pred = results.get_forecast(31) #Utilise le modèle précédent afin de prédire 31 nouvelles valeurs (mois de janvier 2020)\n",
    "results_mean = results_pred.predicted_mean #Je ne sais pas trop\n",
    "results_mean = pd.DataFrame(results_mean) #En objet dataframe\n",
    "results_final = nbre_acc_j_dataframe.append(results_mean) #On adjoint les 31 prédictions aux valeurs réelles afin de tout afficher\n",
    "results_final = results_final.reset_index() #Après cette fusion de dataframe, l'index est cassé, on le réinitialise donc\n",
    "results_final = results_final.drop(\"index\", axis=1) #La commande précédent ajoute une colonne \"index\" inutile dans le DataFrame, on la supprime\n",
    "date_index = pd.date_range('1/1/2019', periods=396, freq='D') #Pour avoir les dates en abscisse (365 + 31 = 396 jours)\n",
    "results_final = results_final.set_index(date_index)\n",
    "print(results_final)"
   ]
  },
  {
   "cell_type": "markdown",
   "metadata": {},
   "source": [
    "### Traitement des données de 2020 afin de les comparer à notre prédiction"
   ]
  },
  {
   "cell_type": "code",
   "execution_count": 29,
   "metadata": {},
   "outputs": [],
   "source": [
    "df_accidents2020 = pd.read_csv('Bases de données/caracteristiques-2020.csv', sep=\";\")\n",
    "df_usagers2020 = pd.read_csv('Bases de données/usagers-2020.csv', sep=\";\")\n",
    "df_lieux2020 = pd.read_csv('Bases de données/lieux-2020.csv', sep=\";\")\n",
    "df_vehicules2020 = pd.read_csv('Bases de données/vehicules-2020.csv', sep=\";\")\n",
    "df_merge2020 = df_accidents2020.merge(df_usagers2020.merge(df_lieux2020.merge(df_vehicules2020))) "
   ]
  },
  {
   "cell_type": "code",
   "execution_count": 30,
   "metadata": {},
   "outputs": [],
   "source": [
    "df_utiles2020 = df_merge2020.drop(axis=1, labels=['Num_Acc', 'com', 'adr', 'v1', 'id_vehicule', 'num_veh', 'lartpc', 'larrout', 'occutc', 'v2', 'voie'])\n",
    "df_utiles2020 = df_utiles2020.dropna()"
   ]
  },
  {
   "cell_type": "code",
   "execution_count": 31,
   "metadata": {},
   "outputs": [],
   "source": [
    "df_utiles2020[\"hrmn\"] = pd.to_datetime(df_utiles2020[\"hrmn\"], format='%H:%S')\n",
    "df_utiles2020[\"hrmn\"] = df_utiles2020[\"hrmn\"].apply(lambda x: int(x.hour)*60 + int(x.minute))\n",
    "df_utiles2020[\"hrmn\"] = df_utiles2020[\"hrmn\"].astype('int64')"
   ]
  },
  {
   "cell_type": "code",
   "execution_count": 32,
   "metadata": {},
   "outputs": [],
   "source": [
    "# la colonne \"jour_format_normal\" contient la date au format standard dd/mm/yyyy\n",
    "df_utiles2020[\"jour_format_normal\"] = df_utiles2020[\"jour\"].astype(str)+'/'+df_utiles2020[\"mois\"].astype(str)+'/'+df_utiles2020[\"an\"].astype(str)\n",
    "df_utiles2020[\"jour_format_normal\"] = pd.to_datetime(df_utiles2020[\"jour_format_normal\"], format=\"%d/%m/%Y\")\n",
    "df_utiles2020[\"colonne_soustraction\"] = date(df_utiles2020[\"an\"].iloc[0], 1, 1) # Création d'une colonne remplie avec la date du 01/01/2019\n",
    "df_utiles2020[\"colonne_soustraction\"] = pd.to_datetime(df_utiles2020[\"colonne_soustraction\"]) #Pour transformer en objet date \n",
    "df_utiles2020[\"nbre_j\"] = df_utiles2020[\"jour_format_normal\"] - df_utiles2020[\"colonne_soustraction\"] # Permet d'obtenir une colonne contenant, pour chaque accident,\n",
    "# Le nombre de jours écoulés depuis le 01/01/2019"
   ]
  },
  {
   "cell_type": "code",
   "execution_count": 33,
   "metadata": {},
   "outputs": [],
   "source": [
    "\n",
    "df_utiles2020[\"dep\"] = df_utiles2020[\"dep\"].replace([\"2B\"], \"999\") #On remplace les codes des départements de la Corse par des int\n",
    "df_utiles2020[\"dep\"] = df_utiles2020[\"dep\"].replace([\"2A\"], \"998\")\n",
    "df_utiles2020[\"actp\"] = df_utiles2020[\"actp\"].replace([\"A\"], \"14\") #On remplace les actions du piéton non encodées par des chiffres\n",
    "df_utiles2020[\"actp\"] = df_utiles2020[\"actp\"].replace([\"B\"], \"15\")\n",
    "df_utiles2020[\"dep\"] = df_utiles2020[\"dep\"].astype('int64')\n",
    "df_utiles2020[\"grav\"] = df_utiles2020[\"grav\"].apply(lambda x: int(x==2)) # On recode la colonne \"grav\" : tué = 1, blessé léger/hospitalisé/indemne = 0"
   ]
  },
  {
   "cell_type": "code",
   "execution_count": 34,
   "metadata": {},
   "outputs": [],
   "source": [
    "df_utiles2020['lat'] = df_utiles2020['lat'].str.replace(',', '.').astype(float)\n",
    "df_utiles2020['long'] = df_utiles2020['long'].str.replace(',', '.').astype(float)\n"
   ]
  },
  {
   "cell_type": "code",
   "execution_count": 35,
   "metadata": {},
   "outputs": [],
   "source": [
    "df_utiles2020['catv'] = df_utiles2020['catv'].apply(func)"
   ]
  },
  {
   "cell_type": "code",
   "execution_count": 36,
   "metadata": {},
   "outputs": [],
   "source": [
    "df_utiles2020.to_csv('df_utiles2020.csv')"
   ]
  },
  {
   "cell_type": "code",
   "execution_count": 38,
   "metadata": {},
   "outputs": [
    {
     "data": {
      "text/plain": [
       "<matplotlib.axes._subplots.AxesSubplot at 0x1d2a84aa400>"
      ]
     },
     "execution_count": 38,
     "metadata": {},
     "output_type": "execute_result"
    },
    {
     "data": {
      "image/png": "[encoded data removed]",
      "text/plain": [
       "<Figure size 432x288 with 1 Axes>"
      ]
     },
     "metadata": {
      "needs_background": "light"
     },
     "output_type": "display_data"
    }
   ],
   "source": [
    "df_utiles2020[\"nbre_j\"] = df_utiles2020[\"nbre_j\"].apply(datification) #Maintenant nbre_j est une colonne d'entiers\n",
    "nbre_acc_j2020 = df_utiles2020.groupby(['nbre_j']).agg('count').jour.values #Nbre d'accidents (ou de victimes d'accidents jsp) par jour\n",
    "ts2020 = pd.Series(nbre_acc_j2020, index=pd.date_range(\"1/1/2020\", periods=366)) # Objet Series de pandas, pour faire des graphes\n",
    "ts2020.plot()"
   ]
  },
  {
   "cell_type": "code",
   "execution_count": 41,
   "metadata": {},
   "outputs": [],
   "source": [
    "nbre_acc_j_dataframe2020 = pd.DataFrame(nbre_acc_j2020)"
   ]
  },
  {
   "cell_type": "markdown",
   "metadata": {},
   "source": [
    "remarque sur le confinement en 2020 et la diminution des accidents aux mois de mars,avril,mai,juin"
   ]
  },
  {
   "cell_type": "code",
   "execution_count": 43,
   "metadata": {},
   "outputs": [
    {
     "data": {
      "text/html": [
       "<div>\n",
       "<style scoped>\n",
       "    .dataframe tbody tr th:only-of-type {\n",
       "        vertical-align: middle;\n",
       "    }\n",
       "\n",
       "    .dataframe tbody tr th {\n",
       "        vertical-align: top;\n",
       "    }\n",
       "\n",
       "    .dataframe thead th {\n",
       "        text-align: right;\n",
       "    }\n",
       "</style>\n",
       "<table border=\"1\" class=\"dataframe\">\n",
       "  <thead>\n",
       "    <tr style=\"text-align: right;\">\n",
       "      <th></th>\n",
       "      <th>0</th>\n",
       "    </tr>\n",
       "  </thead>\n",
       "  <tbody>\n",
       "    <tr>\n",
       "      <th>2020-01-01</th>\n",
       "      <td>324</td>\n",
       "    </tr>\n",
       "    <tr>\n",
       "      <th>2020-01-02</th>\n",
       "      <td>260</td>\n",
       "    </tr>\n",
       "    <tr>\n",
       "      <th>2020-01-03</th>\n",
       "      <td>276</td>\n",
       "    </tr>\n",
       "    <tr>\n",
       "      <th>2020-01-04</th>\n",
       "      <td>275</td>\n",
       "    </tr>\n",
       "    <tr>\n",
       "      <th>2020-01-05</th>\n",
       "      <td>261</td>\n",
       "    </tr>\n",
       "    <tr>\n",
       "      <th>...</th>\n",
       "      <td>...</td>\n",
       "    </tr>\n",
       "    <tr>\n",
       "      <th>2020-12-27</th>\n",
       "      <td>133</td>\n",
       "    </tr>\n",
       "    <tr>\n",
       "      <th>2020-12-28</th>\n",
       "      <td>276</td>\n",
       "    </tr>\n",
       "    <tr>\n",
       "      <th>2020-12-29</th>\n",
       "      <td>175</td>\n",
       "    </tr>\n",
       "    <tr>\n",
       "      <th>2020-12-30</th>\n",
       "      <td>252</td>\n",
       "    </tr>\n",
       "    <tr>\n",
       "      <th>2020-12-31</th>\n",
       "      <td>236</td>\n",
       "    </tr>\n",
       "  </tbody>\n",
       "</table>\n",
       "<p>366 rows × 1 columns</p>\n",
       "</div>"
      ],
      "text/plain": [
       "              0\n",
       "2020-01-01  324\n",
       "2020-01-02  260\n",
       "2020-01-03  276\n",
       "2020-01-04  275\n",
       "2020-01-05  261\n",
       "...         ...\n",
       "2020-12-27  133\n",
       "2020-12-28  276\n",
       "2020-12-29  175\n",
       "2020-12-30  252\n",
       "2020-12-31  236\n",
       "\n",
       "[366 rows x 1 columns]"
      ]
     },
     "execution_count": 43,
     "metadata": {},
     "output_type": "execute_result"
    }
   ],
   "source": [
    "datation = pd.date_range('1/1/2020', periods=366, freq='D')\n",
    "accident_jour2020 = nbre_acc_j_dataframe2020\n",
    "accident_jour2020 = accident_jour2020.set_index(datation)\n",
    "accident_jour2020"
   ]
  },
  {
   "cell_type": "code",
   "execution_count": 44,
   "metadata": {},
   "outputs": [
    {
     "data": {
      "text/plain": [
       "2020-01-01    324\n",
       "2020-01-02    260\n",
       "2020-01-03    276\n",
       "2020-01-04    275\n",
       "2020-01-05    261\n",
       "2020-01-06    354\n",
       "2020-01-07    329\n",
       "2020-01-08    385\n",
       "2020-01-09    399\n",
       "2020-01-10    432\n",
       "2020-01-11    367\n",
       "2020-01-12    244\n",
       "2020-01-13    390\n",
       "2020-01-14    309\n",
       "2020-01-15    361\n",
       "2020-01-16    438\n",
       "2020-01-17    411\n",
       "2020-01-18    342\n",
       "2020-01-19    240\n",
       "2020-01-20    417\n",
       "2020-01-21    351\n",
       "2020-01-22    360\n",
       "2020-01-23    319\n",
       "2020-01-24    391\n",
       "2020-01-25    294\n",
       "2020-01-26    299\n",
       "2020-01-27    325\n",
       "2020-01-28    377\n",
       "2020-01-29    356\n",
       "2020-01-30    385\n",
       "2020-01-31    401\n",
       "Freq: D, Name: 0, dtype: int64"
      ]
     },
     "execution_count": 44,
     "metadata": {},
     "output_type": "execute_result"
    }
   ],
   "source": [
    "accident_jour2020[0][0:31]"
   ]
  },
  {
   "cell_type": "markdown",
   "metadata": {},
   "source": [
    "## Partie carte"
   ]
  },
  {
   "cell_type": "markdown",
   "metadata": {},
   "source": [
    "# Récupération des frontières des régions françaises"
   ]
  },
  {
   "cell_type": "code",
   "execution_count": null,
   "metadata": {},
   "outputs": [],
   "source": [
    "#Au cas où la cellule suivante ne marche pas\n",
    "import ssl\n",
    "ssl._create_default_https_context = ssl._create_unverified_context"
   ]
  },
  {
   "cell_type": "code",
   "execution_count": null,
   "metadata": {
    "colab": {
     "base_uri": "https://localhost:8080/"
    },
    "id": "dRiu7jxHlbkk",
    "outputId": "3ea7d739-543f-4515-dddb-4bb4b5e38d70"
   },
   "outputs": [],
   "source": [
    "fr_regions = pd.read_json('https://france-geojson.gregoiredavid.fr/repo/regions.geojson')\n",
    "fr_regions = fr_regions.to_json()\n",
    "\n",
    " # Les frontières des régions françaises (en geojson) sont stockées dans fr_regions"
   ]
  },
  {
   "cell_type": "code",
   "execution_count": null,
   "metadata": {},
   "outputs": [],
   "source": [
    "coords = (46.539758, 2.430331)\n",
    "map = folium.Map(location=coords, tiles='OpenStreetMap', zoom_start=6)"
   ]
  },
  {
   "cell_type": "code",
   "execution_count": null,
   "metadata": {},
   "outputs": [],
   "source": [
    "map"
   ]
  },
  {
   "cell_type": "markdown",
   "metadata": {},
   "source": [
    "pour ajouter des cercles sur la cartes"
   ]
  },
  {
   "cell_type": "code",
   "execution_count": null,
   "metadata": {},
   "outputs": [],
   "source": [
    "for i in range(len(#ACCIDENT)) :\n",
    "    folium.CircleMarker(location = (LATS[i], LONGS[i]),radius = TEMPS[i]*2,color = 'crimson',fill = True,fill_color = 'crimson').add_to(map)"
   ]
  },
  {
   "cell_type": "code",
   "execution_count": null,
   "metadata": {},
   "outputs": [],
   "source": [
    "pour colorer les cercles colormap"
   ]
  },
  {
   "cell_type": "code",
   "execution_count": null,
   "metadata": {},
   "outputs": [],
   "source": [
    "\n",
    "\n",
    "coords = (46.539758, 2.430331)\n",
    "map = folium.Map(location=coords, tiles='OpenStreetMap', zoom_start=6)\n",
    "\n",
    "cm = branca.colormap.LinearColormap(['blue', 'red'], vmin=min(#NB_ACCIDENT), vmax=max(#NB_ACCIDENT))\n",
    "map.add_child(cm) # add this colormap on the display\n",
    "\n",
    "for elem1,elem2,.. in zip(var1, var2,..):\n",
    "    folium.CircleMarker(\n",
    "        location=[lat, long],\n",
    "        radius=size,\n",
    "        color=cm(color),\n",
    "        fill=True,\n",
    "        fill_color=cm(color),\n",
    "        fill_opacity=0.6\n",
    "    ).add_to(map)\n",
    "\n",
    "map.save(outfile='map.html')"
   ]
  },
  {
   "cell_type": "markdown",
   "metadata": {},
   "source": [
    "## Partie prédiction"
   ]
  },
  {
   "cell_type": "markdown",
   "metadata": {},
   "source": [
    "Virer les lignes redondantes"
   ]
  },
  {
   "cell_type": "code",
   "execution_count": null,
   "metadata": {},
   "outputs": [],
   "source": [
    "variables_utiles_regr = ['an_nais_carre', 'nbre_j', 'hrmn', 'lum', 'lat', 'long', 'agg', 'int', 'atm', 'catr', 'prof', 'surf', 'infra', 'situ', 'catv', 'obs', 'obsm', 'choc', 'catu', 'sexe', 'grav', 'an_nais']\n",
    "variables_utiles_regr_sans_grav = ['an_nais_carre', 'nbre_j', 'hrmn', 'lum', 'lat', 'long', 'agg', 'int', 'atm', 'catr', 'prof', 'surf', 'infra', 'situ', 'catv', 'obs', 'obsm', 'choc', 'catu', 'sexe', 'an_nais']\n",
    "variables_utiles_cat = ['lum', 'agg', 'int', 'atm', 'catr', 'prof', 'surf', 'infra', 'situ', 'catv', 'obs', 'obsm', 'choc', 'catu', 'sexe']\n",
    "variables_utiles_num = ['nbre_j', 'hrmn', 'lat', 'long', 'an_nais', 'an_nais_carre']\n",
    "   \n",
    "df_keras = df_utiles[variables_utiles_regr] # On ne retient que les variables utiles\n",
    "df_keras = pd.DataFrame(df_keras)\n",
    "enc = OneHotEncoder(handle_unknown='ignore') #OneHotEncoder pour les variables catégorielles\n",
    "ss = StandardScaler() #Permet de rendre les variables numériques centrées et réduites\n",
    "\n",
    "for var in variables_utiles_cat: # On parcourt les variables utiles catégorielles\n",
    "    df_keras[var] = enc.fit_transform(df_keras[var].values.reshape(-1, 1)).todense()\n",
    "pickle.dump(enc, open('onehot.pickle', 'wb')) #Permet de transformer et sauvegarder les entrées en vecteurs encodés de la même manière que les variables catégorielles avec l'Encoder\n",
    "\n",
    "for var in variables_utiles_num:\n",
    "    df_keras[var] = ss.fit_transform(df_keras[var].values.reshape(-1, 1))\n",
    "pickle.dump(ss, open('standardscaler.pickle', 'wb')) #idem que variables catégorielles et l'encodeur\n",
    "\n",
    "#On chercher à prédire y (grav) à partir des variables explicatives X\n",
    "X = df_keras[variables_utiles_regr_sans_grav] # Tout le dataframe sans la colonne \"grav\" qu'on cherche à prédire\n",
    "y = df_keras.grav #colonne \"grav\"\n",
    "y = y.astype(int) #Pour s'assurer que y est une colonne d'int\n",
    "y = label_binarize(y, classes=[0, 1]) #Pour faire du one-hot encoding sur y\n",
    "y = pd.DataFrame(y) #car y est devenu un np.array \n",
    "\n",
    "cv = RepeatedKFold(n_splits=10, n_repeats=3, random_state=1) #K-Fold répété, augmente la précision de l'algo de ~10 %\n",
    "\n",
    "os = SMOTE(sampling_strategy=0.1) # Pour rééqulibrer l'échantillon (2,63 % d'accidents mortels), crée artificiellement des données\n",
    "under = RandomUnderSampler(sampling_strategy=0.5)\n",
    "steps = [('o', os), ('u', under)]\n",
    "pipeline = Pipeline(steps=steps)\n",
    "# Appliquer la pipeline précédente aux données\n",
    "columns = X.columns\n",
    "X, y = pipeline.fit_resample(X, y)\n",
    "X = pd.DataFrame(data=X,columns=columns)\n",
    "y= pd.DataFrame(data=y)\n",
    "\n",
    "for train_index, test_index in cv.split(X): #On remplit X_train, X_test, Y_train et Y_test pour fitter et tester l'algo\n",
    "    X_train, X_test = X.iloc[train_index], X.iloc[test_index]\n",
    "    y_train, y_test = y.iloc[train_index], y.iloc[test_index]\n",
    "    \n",
    "# Réseaux de neurones\n",
    "    \n",
    "model = Sequential()  #Création du modèle, neurone à neurone. fonction d'activation \"relu \" = partie positive (x -> max(x, 0))\n",
    "model.add(Dense(256, input_dim=21, activation='relu'))  # variables_utiles_regr_sans_grav contient 22 variables #Il y a 256 neurones sur la couche\n",
    "model.add(Dropout(0.5))\n",
    "model.add(Dense(128, activation='relu')) #128 neurones sur la deuxième couche\n",
    "model.add(Dropout(0.5))\n",
    "model.add(Dense(1, activation='sigmoid')) \n",
    "model.add(Flatten())\n",
    "model.compile(loss='binary_crossentropy', optimizer='rmsprop', metrics=['accuracy'])\n",
    "model.fit(X_train, y_train, epochs=5, batch_size=64)\n",
    "predictions = model.predict(X_test)\n",
    "_, accuracy = model.evaluate(X_test, y_test)\n",
    "print('Accuracy: %.2f' % (accuracy*100))"
   ]
  },
  {
   "cell_type": "markdown",
   "metadata": {},
   "source": [
    "## On obtient environ 75% de précision avec le réseau de neurones"
   ]
  },
  {
   "cell_type": "code",
   "execution_count": null,
   "metadata": {},
   "outputs": [],
   "source": [
    "def output_NN_Keras(output):\n",
    "    if output[0][0] > 0.5:\n",
    "        return 'Décès'\n",
    "    else:\n",
    "        return 'Survie'\n",
    "\n",
    "def NN_Keras(pred):\n",
    "    pred = np.asarray(pred).astype('float32')\n",
    "    pred = pd.DataFrame(np.reshape(pred, (1, -1)), columns=[['nbre_j', 'hrmn', 'lat', 'long', 'an_nais', 'lum', 'agg', 'int', 'atm', 'catr', 'prof', 'surf', 'infra', 'situ', 'catv', 'obs', 'obsm', 'choc', 'catu', 'sexe']])\n",
    "    pred['an_nais_carre'] = pred['an_nais']*pred['an_nais']\n",
    "    loaded_enc = pickle.load(open(\"onehot.pickle\", \"rb\"))\n",
    "    loaded_ss = pickle.load(open(\"standardscaler.pickle\", \"rb\"))\n",
    "    for var in variables_utiles_cat: # On parcourt les variables utiles catégorielles\n",
    "        pred[var] = np.array(loaded_enc.fit_transform(pred[var].values.reshape(-1, 1)).todense())\n",
    "    for var in variables_utiles_num: # On parcourt les variables utiles catégorielles\n",
    "        pred[var] = loaded_ss.fit_transform(pred[var].values.reshape(-1, 1))\n",
    "    return [accuracy*100, output_NN_Keras(model.predict(pred))]"
   ]
  },
  {
   "cell_type": "markdown",
   "metadata": {},
   "source": [
    "## On obtient 80 % de précision avec un RandomForestClassifier"
   ]
  },
  {
   "cell_type": "markdown",
   "metadata": {},
   "source": [
    "# Interface Dash"
   ]
  },
  {
   "cell_type": "raw",
   "metadata": {},
   "source": [
    "Préciser la carte avec les régions\n",
    "Mettre des titres dans l'interface\n"
   ]
  },
  {
   "cell_type": "code",
   "execution_count": null,
   "metadata": {},
   "outputs": [],
   "source": [
    "\n",
    "external_stylesheets = ['https://codepen.io/chriddyp/pen/bWLwgP.css'] # Feuille CSS externe, pour mettre en forme la dashboard\n",
    "\n",
    "app = dash.Dash(__name__, external_stylesheets=external_stylesheets)\n",
    "\n",
    "NUMBER_VAR = (\n",
    "    'nbre_j', 'hrmn', 'lat', 'long', 'an_nais'\n",
    ") # Liste des variables sur lesquelles on utilise l'algo\n",
    "\n",
    "app.layout = html.Div(children=[ #Toute l'app est une balise div, qui contient des balises H1, ..., H6 (pour les titres) et des balises Div pour tous les contenus interactifs\n",
    "    html.H1(children='Prédictions'),\n",
    "    html.Div([\n",
    "        dcc.Graph(id=\"Carte\",figure=px.scatter_geo(df_utiles.head(1000), lat=\"lat\", lon=\"long\", geojson=fr_regions))] # Carte affichant les accidents sur une carte de France\n",
    "    ,style={'columnCount': 1}), \n",
    "    html.Div([\n",
    "        dcc.Graph(id=\"Prédictions\",figure=px.line(results_final, labels={'x': 'jour', 'y': 'nombre d\\'accidentés'}))] #Prédictions SARIMAX\n",
    "    ,style={'columnCount': 1}), \n",
    "    html.Div(children='''\n",
    "        Remplir les variables\n",
    "    '''),\n",
    "            html.Div( # Cette balise Div permet d'afficher les inputs sur l'interface Dash, pour qu'on puisse les remplir\n",
    "    [\n",
    "        dcc.Input(\n",
    "            id=\"input_{}\".format(_), # On identifie chaque Input par un ID \"input_nomdelavariable\", utile pour les callbacks\n",
    "            type=\"number\",\n",
    "            placeholder=\"variable {}\".format(_),\n",
    "        )\n",
    "        for _ in NUMBER_VAR # On affiche les inputs pour les variables quantitatives (non catégorielles)\n",
    "    ]),\n",
    "            html.Div([\n",
    "    dcc.Dropdown(\n",
    "        id='lum',\n",
    "        options=[\n",
    "            {'label': 'Plein jour', 'value': '1'},\n",
    "            {'label': 'Crépuscule ou aube', 'value': '2'},\n",
    "            {'label': 'Nuit sans éclairage public', 'value': '3'},\n",
    "            {'label': 'Nuit avec éclairage public non allumé', 'value': '4'},\n",
    "            {'label': 'Nuit avec éclairage public allumé', 'value': '5'}\n",
    "        ],\n",
    "        placeholder=\"Conditions d'éclairage\"\n",
    "    )]),\n",
    "    \n",
    "            html.Div([\n",
    "    dcc.Dropdown(\n",
    "        id='catv',\n",
    "        options=[\n",
    "            {'label': 'Indéterminable/piéton', 'value': '0'},\n",
    "            {'label': 'Véhicule léger (voiture, utilitaire)', 'value': '1'},\n",
    "            {'label': 'Sans permis (< 125 cm3) (vélo, scooter, ...)', 'value': '2'},\n",
    "            {'label': 'Poids lourd', 'value': '3'},\n",
    "            {'label': 'Transport en commun', 'value': '4'},\n",
    "            {'label': '> 125 cm3 à 2/3 roues', 'value': '5'}\n",
    "        ],\n",
    "        placeholder=\"Type de véhicule de l'individu\"\n",
    "    )]),\n",
    "    \n",
    "    \n",
    "             html.Div([\n",
    "    dcc.Dropdown(\n",
    "        id='agg',\n",
    "        options=[\n",
    "            {'label': 'Hors agglomération', 'value': '1'},\n",
    "            {'label': 'En agglomération', 'value': '2'}\n",
    "        ],\n",
    "        placeholder=\"En agglo ou non\"\n",
    "    )]),\n",
    "             \n",
    "             html.Div([\n",
    "    dcc.Dropdown(\n",
    "        id='int',\n",
    "        options=[\n",
    "            {'label': 'Hors intersection', 'value': '1'},\n",
    "            {'label': 'Intersection en X', 'value': '2'},\n",
    "            {'label': 'Intersection en T', 'value': '3'},\n",
    "            {'label': 'Intersection en Y ', 'value': '4'},\n",
    "            {'label': 'Intersection à plus de 4 branches', 'value': '5'},\n",
    "            {'label': 'Giratoire', 'value': '6'},\n",
    "            {'label': 'Place ', 'value': '7'},\n",
    "            {'label': 'Passage à niveau ', 'value': '8'},\n",
    "            {'label': 'Autre intersection', 'value': '9'}\n",
    "        ],\n",
    "        placeholder=\"Type d'intersection\"\n",
    "    )]),\n",
    "             \n",
    "             html.Div([\n",
    "    dcc.Dropdown(\n",
    "        id='atm',\n",
    "        options=[\n",
    "            {'label': 'Non renseigné', 'value': '-1'},\n",
    "            {'label': 'Normale', 'value': '1'},\n",
    "            {'label': 'Pluie légère', 'value': '2'},\n",
    "            {'label': 'Pluie forte', 'value': '3'},\n",
    "            {'label': 'Neige - grêle', 'value': '4'},\n",
    "            {'label': 'Brouillard - fumée', 'value': '5'},\n",
    "            {'label': 'Vent fort - tempête', 'value' : '6'},\n",
    "            {'label': 'Temps éblouissant', 'value': '7'},\n",
    "            {'label': 'Temps couvert', 'value': '8'},\n",
    "            {'label': 'Autre', 'value': '9'}\n",
    "        ],\n",
    "        placeholder=\"Conditions météorologiques au moment de l'accident\"\n",
    "    )]),\n",
    "             \n",
    "             html.Div([\n",
    "    dcc.Dropdown(\n",
    "        id='catr',\n",
    "        options=[\n",
    "            {'label': 'Autoroute', 'value': '1'},\n",
    "            {'label': 'Route nationale', 'value': '2'},\n",
    "            {'label': 'Route Départementale', 'value': '3'},\n",
    "            {'label': 'Voie Communales', 'value': '4'},\n",
    "            {'label': 'Hors réseau public', 'value': '5'},\n",
    "            {'label': 'Parc de stationnement ouvert à la circulation publique', 'value': '6'},\n",
    "            {'label': 'Routes de métropole urbaine', 'value': '7'},\n",
    "            {'label': 'autre', 'value': '9'}\n",
    "        ],\n",
    "        placeholder=\"Type de route\"\n",
    "    )]),\n",
    "             \n",
    "             html.Div([\n",
    "    dcc.Dropdown(\n",
    "        id='prof',\n",
    "        options=[\n",
    "            {'label': 'Non renseigné', 'value': '-1'},\n",
    "            {'label': 'Plat', 'value': '1'},\n",
    "            {'label': 'Pente', 'value': '2'},\n",
    "            {'label': 'Sommet de côte', 'value': '3'},\n",
    "            {'label': 'Bas de côte', 'value': '4'}\n",
    "        ],\n",
    "        placeholder=\"Profil (déclivité)\"\n",
    "    )]),\n",
    "             \n",
    "             html.Div([\n",
    "    dcc.Dropdown(\n",
    "        id='surf',\n",
    "        options=[\n",
    "            {'label': 'Non renseigné', 'value': '-1'},\n",
    "            {'label': 'Normale', 'value': '1'},\n",
    "            {'label': 'Mouillée', 'value': '2'},\n",
    "            {'label': 'Flaques', 'value': '3'},\n",
    "            {'label': 'Inondée', 'value': '4'},\n",
    "            {'label': 'Enneigée', 'value': '5'},\n",
    "            {'label': 'Boue', 'value' : '6'},\n",
    "            {'label': 'Verglacée', 'value': '7'},\n",
    "            {'label': 'Corps gras - huile', 'value': '8'},\n",
    "            {'label': 'Autre', 'value': '9'}\n",
    "        ],\n",
    "        placeholder=\"Surface de la chaussée\"\n",
    "    )]),\n",
    "             \n",
    "             html.Div([\n",
    "    dcc.Dropdown(\n",
    "        id='infra',\n",
    "        options=[\n",
    "            {'label': 'Non renseigné', 'value': '-1'},\n",
    "            {'label': 'Aucun', 'value': '0'},\n",
    "            {'label': 'Souterrain - tunnel', 'value': '1'},\n",
    "            {'label': 'Pont - autopont', 'value': '2'},\n",
    "            {'label': 'Bretelle d’échangeur ou de raccordement', 'value': '3'},\n",
    "            {'label': 'Voie ferrée', 'value': '4'},\n",
    "            {'label': 'Carrefour aménagé', 'value': '5'},\n",
    "            {'label': 'Zone piétonne', 'value' : '6'},\n",
    "            {'label': 'Zone de péage', 'value': '7'},\n",
    "            {'label': 'Chantier', 'value': '8'},\n",
    "            {'label': 'Autres', 'value': '9'}\n",
    "        ],\n",
    "        placeholder=\"Type d'infrastructures/aménagement\"\n",
    "    )]),\n",
    "             \n",
    "             html.Div([\n",
    "    dcc.Dropdown(\n",
    "        id='situ',\n",
    "        options=[\n",
    "            {'label': 'Non renseigné', 'value': '-1'},\n",
    "            {'label': 'Aucun', 'value': '0'},\n",
    "            {'label': 'Sur chaussée', 'value': '1'},\n",
    "            {'label': 'Sur bande d’arrêt d’urgence', 'value': '2'},\n",
    "            {'label': 'Sur accotement', 'value': '3'},\n",
    "            {'label': 'Sur trottoir', 'value': '4'},\n",
    "            {'label': 'Sur piste cyclable', 'value': '5'},\n",
    "            {'label': 'Sur autre voie spéciale', 'value' : '6'},\n",
    "            {'label': 'Autres', 'value': '8'}\n",
    "        ],\n",
    "        placeholder=\"Situation de l'accident\"\n",
    "    )]),\n",
    "             html.Div([\n",
    "    dcc.Dropdown(\n",
    "        id='obs',\n",
    "        options=[\n",
    "            {'label': 'Non renseigné', 'value': '-1'},\n",
    "            {'label': 'Sans objet', 'value': '0'},\n",
    "            {'label': 'Véhicule en stationnement', 'value': '1'},\n",
    "            {'label': 'Arbre', 'value': '2'},\n",
    "            {'label': 'Glissière métallique', 'value': '3'},\n",
    "            {'label': 'Glissière béton', 'value': '4'},\n",
    "            {'label': 'Autre glissière', 'value': '5'},\n",
    "            {'label': 'Bâtiment, mur, pile de pont', 'value' : '6'},\n",
    "            {'label': 'Support de signalisation verticale ou poste d’appel d’urgence', 'value': '7'},\n",
    "            {'label': 'Poteau', 'value': '8'},\n",
    "            {'label': 'Mobilier urbain', 'value': '9'},\n",
    "            {'label': 'Parapet', 'value': '10'},\n",
    "            {'label': 'Ilot, refuge, borne haute', 'value': '11'},\n",
    "            {'label': 'Bordure de trottoir', 'value': '12'},\n",
    "            {'label': 'Fossé, talus, paroi rocheuse', 'value': '13'},\n",
    "            {'label': 'Autre obstacle fixe sur chaussée', 'value': '14'},\n",
    "            {'label': 'Autre obstacle fixe sur trottoir ou accotement', 'value': '15'},\n",
    "            {'label': 'Sortie de chaussée sans obstacle', 'value': '16'},\n",
    "            {'label': 'Buse – tête d’aqueduc', 'value': '17'}\n",
    "        ],\n",
    "        placeholder=\"Obstacle fixe percuté\"\n",
    "    )]),\n",
    "             \n",
    "             html.Div([\n",
    "    dcc.Dropdown(\n",
    "        id='obsm',\n",
    "        options=[\n",
    "            {'label': 'Non renseigné', 'value': '-1'},\n",
    "            {'label': 'Aucun', 'value': '0'},\n",
    "            {'label': 'Piéton', 'value': '1'},\n",
    "            {'label': 'Véhicule', 'value': '2'},\n",
    "            {'label': 'Véhicule sur rail', 'value': '4'},\n",
    "            {'label': 'Animal domestique', 'value': '5'},\n",
    "            {'label': 'Animal sauvage', 'value' : '6'},\n",
    "            {'label': 'Autre', 'value': '9'}\n",
    "        ],\n",
    "        placeholder=\"Obstacle mobile percuté\"\n",
    "    )]),\n",
    "             \n",
    "             html.Div([\n",
    "    dcc.Dropdown(\n",
    "        id='choc',\n",
    "        options=[\n",
    "            {'label': 'Non renseigné', 'value': '-1'},\n",
    "            {'label': 'Aucun', 'value': '0'},\n",
    "            {'label': 'Avant', 'value': '1'},\n",
    "            {'label': 'Avant droit', 'value': '2'},\n",
    "            {'label': 'Avant gauche', 'value': '3'},\n",
    "            {'label': 'Arrière', 'value': '4'},\n",
    "            {'label': 'Arrière droit', 'value': '5'},\n",
    "            {'label': 'Arrière gauche', 'value' : '6'},\n",
    "            {'label': 'Côté droit', 'value': '7'},\n",
    "            {'label': 'Côté gauche', 'value': '8'},\n",
    "            {'label': 'Chocs multiples (tonneaux)', 'value': '9'}\n",
    "        ],\n",
    "        placeholder=\"Point de choc initial\"\n",
    "    )]),\n",
    "             \n",
    "             html.Div([\n",
    "    dcc.Dropdown(\n",
    "        id='catu',\n",
    "        options=[\n",
    "            {'label': 'Conducteur', 'value': '1'},\n",
    "            {'label': 'Passager', 'value': '2'},\n",
    "            {'label': 'Piéton', 'value': '3'}\n",
    "        ],\n",
    "        placeholder=\"L'individu est...\"\n",
    "    )]),\n",
    "             \n",
    "             html.Div([\n",
    "    dcc.Dropdown(\n",
    "        id='sexe',\n",
    "        options=[\n",
    "            {'label': 'Masculin', 'value': '1'},\n",
    "            {'label': 'Féminin', 'value': '2'}\n",
    "        ],\n",
    "        placeholder=\"Sexe de l'individu\"\n",
    "    )]),\n",
    "    html.Div(id=\"out-all-types\")\n",
    "])\n",
    "\n",
    "@app.callback(\n",
    "     Output(\"out-all-types\", \"children\"),\n",
    "     [Input(\"input_{}\".format(_), \"value\") for _ in NUMBER_VAR], # On lie les inputs affichés sur Dash et la fonction cb_render\n",
    "     Input(\"lum\", \"value\"),\n",
    "     Input(\"agg\", \"value\"),\n",
    "     Input(\"int\", \"value\"),\n",
    "     Input(\"atm\", \"value\"),\n",
    "     Input(\"catr\", \"value\"),\n",
    "     Input(\"prof\", \"value\"),\n",
    "     Input(\"surf\", \"value\"),\n",
    "     Input(\"infra\", \"value\"),\n",
    "     Input(\"situ\", \"value\"),\n",
    "     Input(\"catv\", \"value\"),\n",
    "     Input(\"obs\", \"value\"),\n",
    "     Input(\"obsm\", \"value\"),\n",
    "     Input(\"choc\", \"value\"),\n",
    "     Input(\"catu\", \"value\"),\n",
    "     Input(\"sexe\", \"value\"),\n",
    ")\n",
    "def cb_render(*vals):\n",
    "    if not None in vals:\n",
    "        float_vals = []\n",
    "        for item in vals:\n",
    "            float_vals.append(float(item))\n",
    "        res = NN_Keras(vals)\n",
    "        return \"L'algorithme prédit : {}, avec une précision de {}\".format(res[1], res[0]) \n",
    "\n",
    "if __name__ == '__main__':\n",
    "    app.run_server(host='127.0.0.1', port='8050')"
   ]
  },
  {
   "cell_type": "code",
   "execution_count": null,
   "metadata": {},
   "outputs": [],
   "source": []
  }
 ],
 "metadata": {
  "kernelspec": {
   "display_name": "Python 3",
   "language": "python",
   "name": "python3"
  },
  "language_info": {
   "codemirror_mode": {
    "name": "ipython",
    "version": 3
   },
   "file_extension": ".py",
   "mimetype": "text/x-python",
   "name": "python",
   "nbconvert_exporter": "python",
   "pygments_lexer": "ipython3",
   "version": "3.8.3"
  }
 },
 "nbformat": 4,
 "nbformat_minor": 4
}
